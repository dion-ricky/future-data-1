{
 "cells": [
  {
   "cell_type": "markdown",
   "id": "2f59b231",
   "metadata": {},
   "source": [
    "# Sales Prediction"
   ]
  },
  {
   "cell_type": "markdown",
   "id": "378ad48e",
   "metadata": {},
   "source": [
    "Using machine learning to help organization prepare to handle dynamic market demand. Organization may infer the prediction to establish rule, plan, or strategy to further strengthen market position."
   ]
  },
  {
   "cell_type": "markdown",
   "id": "f2bc9360",
   "metadata": {},
   "source": [
    "## Library Import and Configuration"
   ]
  },
  {
   "cell_type": "code",
   "execution_count": 1,
   "id": "4162df4e",
   "metadata": {},
   "outputs": [],
   "source": [
    "import json\n",
    "import numpy as np\n",
    "import pandas as pd\n",
    "import matplotlib.pyplot as plt\n",
    "from sklearn.pipeline import make_pipeline\n",
    "from sklearn.model_selection import GridSearchCV\n",
    "from sklearn.pipeline import Pipeline\n",
    "\n",
    "from util.dbconn import DbConn"
   ]
  },
  {
   "cell_type": "code",
   "execution_count": 2,
   "id": "4d971065",
   "metadata": {},
   "outputs": [],
   "source": [
    "WAREHOUSE_CONN = {\n",
    "    'user': 'postgres',\n",
    "    'password': 'qshOke46RvOg0',\n",
    "    'host': '10.128.0.2',\n",
    "    'port': '8084',\n",
    "    'dbname': 'postgres'\n",
    "}"
   ]
  },
  {
   "cell_type": "code",
   "execution_count": 3,
   "id": "456040ae",
   "metadata": {},
   "outputs": [],
   "source": [
    "postgres_conn = DbConn(WAREHOUSE_CONN).get_conn()"
   ]
  },
  {
   "cell_type": "markdown",
   "id": "2951678d",
   "metadata": {},
   "source": [
    "## Data Overview"
   ]
  },
  {
   "cell_type": "code",
   "execution_count": 4,
   "id": "adf8c03e",
   "metadata": {},
   "outputs": [],
   "source": [
    "sql = \"\"\"SELECT \n",
    "\tdd.\"year\",\n",
    "\tdd.\"month\",\n",
    "\tdd.week_num_in_year,\n",
    "\tdd.\"date\",\n",
    "\tcount(DISTINCT fo.order_legacy_id) as count_order\n",
    "FROM \n",
    "\twarehouse.fact_order fo\n",
    "LEFT JOIN warehouse.date_dim dd ON\n",
    "\tfo.order_date = dd.date_id\n",
    "GROUP BY 1,2,3,4;\n",
    "\"\"\""
   ]
  },
  {
   "cell_type": "code",
   "execution_count": 5,
   "id": "39cde94d",
   "metadata": {},
   "outputs": [
    {
     "name": "stdout",
     "output_type": "stream",
     "text": [
      "<class 'pandas.core.frame.DataFrame'>\n",
      "RangeIndex: 634 entries, 0 to 633\n",
      "Data columns (total 5 columns):\n",
      " #   Column            Non-Null Count  Dtype\n",
      "---  ------            --------------  -----\n",
      " 0   year              634 non-null    int64\n",
      " 1   month             634 non-null    int64\n",
      " 2   week_num_in_year  634 non-null    int64\n",
      " 3   date              634 non-null    int64\n",
      " 4   count_order       634 non-null    int64\n",
      "dtypes: int64(5)\n",
      "memory usage: 24.9 KB\n"
     ]
    },
    {
     "data": {
      "text/plain": [
       "None"
      ]
     },
     "metadata": {},
     "output_type": "display_data"
    },
    {
     "data": {
      "text/html": [
       "<div>\n",
       "<style scoped>\n",
       "    .dataframe tbody tr th:only-of-type {\n",
       "        vertical-align: middle;\n",
       "    }\n",
       "\n",
       "    .dataframe tbody tr th {\n",
       "        vertical-align: top;\n",
       "    }\n",
       "\n",
       "    .dataframe thead th {\n",
       "        text-align: right;\n",
       "    }\n",
       "</style>\n",
       "<table border=\"1\" class=\"dataframe\">\n",
       "  <thead>\n",
       "    <tr style=\"text-align: right;\">\n",
       "      <th></th>\n",
       "      <th>year</th>\n",
       "      <th>month</th>\n",
       "      <th>week_num_in_year</th>\n",
       "      <th>date</th>\n",
       "      <th>count_order</th>\n",
       "    </tr>\n",
       "  </thead>\n",
       "  <tbody>\n",
       "    <tr>\n",
       "      <th>count</th>\n",
       "      <td>634.000000</td>\n",
       "      <td>634.000000</td>\n",
       "      <td>634.000000</td>\n",
       "      <td>634.000000</td>\n",
       "      <td>634.000000</td>\n",
       "    </tr>\n",
       "    <tr>\n",
       "      <th>mean</th>\n",
       "      <td>2017.383281</td>\n",
       "      <td>5.938486</td>\n",
       "      <td>24.501577</td>\n",
       "      <td>15.597792</td>\n",
       "      <td>156.847003</td>\n",
       "    </tr>\n",
       "    <tr>\n",
       "      <th>std</th>\n",
       "      <td>0.533051</td>\n",
       "      <td>3.214452</td>\n",
       "      <td>14.111411</td>\n",
       "      <td>8.768610</td>\n",
       "      <td>94.224817</td>\n",
       "    </tr>\n",
       "    <tr>\n",
       "      <th>min</th>\n",
       "      <td>2016.000000</td>\n",
       "      <td>1.000000</td>\n",
       "      <td>1.000000</td>\n",
       "      <td>1.000000</td>\n",
       "      <td>1.000000</td>\n",
       "    </tr>\n",
       "    <tr>\n",
       "      <th>25%</th>\n",
       "      <td>2017.000000</td>\n",
       "      <td>3.000000</td>\n",
       "      <td>13.000000</td>\n",
       "      <td>8.000000</td>\n",
       "      <td>96.000000</td>\n",
       "    </tr>\n",
       "    <tr>\n",
       "      <th>50%</th>\n",
       "      <td>2017.000000</td>\n",
       "      <td>6.000000</td>\n",
       "      <td>24.000000</td>\n",
       "      <td>15.500000</td>\n",
       "      <td>148.000000</td>\n",
       "    </tr>\n",
       "    <tr>\n",
       "      <th>75%</th>\n",
       "      <td>2018.000000</td>\n",
       "      <td>8.000000</td>\n",
       "      <td>35.000000</td>\n",
       "      <td>23.000000</td>\n",
       "      <td>215.750000</td>\n",
       "    </tr>\n",
       "    <tr>\n",
       "      <th>max</th>\n",
       "      <td>2018.000000</td>\n",
       "      <td>12.000000</td>\n",
       "      <td>53.000000</td>\n",
       "      <td>31.000000</td>\n",
       "      <td>1176.000000</td>\n",
       "    </tr>\n",
       "  </tbody>\n",
       "</table>\n",
       "</div>"
      ],
      "text/plain": [
       "              year       month  week_num_in_year        date  count_order\n",
       "count   634.000000  634.000000        634.000000  634.000000   634.000000\n",
       "mean   2017.383281    5.938486         24.501577   15.597792   156.847003\n",
       "std       0.533051    3.214452         14.111411    8.768610    94.224817\n",
       "min    2016.000000    1.000000          1.000000    1.000000     1.000000\n",
       "25%    2017.000000    3.000000         13.000000    8.000000    96.000000\n",
       "50%    2017.000000    6.000000         24.000000   15.500000   148.000000\n",
       "75%    2018.000000    8.000000         35.000000   23.000000   215.750000\n",
       "max    2018.000000   12.000000         53.000000   31.000000  1176.000000"
      ]
     },
     "metadata": {},
     "output_type": "display_data"
    },
    {
     "data": {
      "text/html": [
       "<div>\n",
       "<style scoped>\n",
       "    .dataframe tbody tr th:only-of-type {\n",
       "        vertical-align: middle;\n",
       "    }\n",
       "\n",
       "    .dataframe tbody tr th {\n",
       "        vertical-align: top;\n",
       "    }\n",
       "\n",
       "    .dataframe thead th {\n",
       "        text-align: right;\n",
       "    }\n",
       "</style>\n",
       "<table border=\"1\" class=\"dataframe\">\n",
       "  <thead>\n",
       "    <tr style=\"text-align: right;\">\n",
       "      <th></th>\n",
       "      <th>year</th>\n",
       "      <th>month</th>\n",
       "      <th>week_num_in_year</th>\n",
       "      <th>date</th>\n",
       "      <th>count_order</th>\n",
       "    </tr>\n",
       "  </thead>\n",
       "  <tbody>\n",
       "    <tr>\n",
       "      <th>0</th>\n",
       "      <td>2016</td>\n",
       "      <td>9</td>\n",
       "      <td>36</td>\n",
       "      <td>4</td>\n",
       "      <td>1</td>\n",
       "    </tr>\n",
       "    <tr>\n",
       "      <th>1</th>\n",
       "      <td>2016</td>\n",
       "      <td>9</td>\n",
       "      <td>37</td>\n",
       "      <td>5</td>\n",
       "      <td>1</td>\n",
       "    </tr>\n",
       "    <tr>\n",
       "      <th>2</th>\n",
       "      <td>2016</td>\n",
       "      <td>9</td>\n",
       "      <td>38</td>\n",
       "      <td>13</td>\n",
       "      <td>1</td>\n",
       "    </tr>\n",
       "    <tr>\n",
       "      <th>3</th>\n",
       "      <td>2016</td>\n",
       "      <td>9</td>\n",
       "      <td>38</td>\n",
       "      <td>15</td>\n",
       "      <td>1</td>\n",
       "    </tr>\n",
       "    <tr>\n",
       "      <th>4</th>\n",
       "      <td>2016</td>\n",
       "      <td>10</td>\n",
       "      <td>40</td>\n",
       "      <td>2</td>\n",
       "      <td>1</td>\n",
       "    </tr>\n",
       "  </tbody>\n",
       "</table>\n",
       "</div>"
      ],
      "text/plain": [
       "   year  month  week_num_in_year  date  count_order\n",
       "0  2016      9                36     4            1\n",
       "1  2016      9                37     5            1\n",
       "2  2016      9                38    13            1\n",
       "3  2016      9                38    15            1\n",
       "4  2016     10                40     2            1"
      ]
     },
     "metadata": {},
     "output_type": "display_data"
    }
   ],
   "source": [
    "df = pd.read_sql(sql=sql, con=postgres_conn)\n",
    "\n",
    "display(df.info())\n",
    "display(df.describe())\n",
    "display(df.head(5))"
   ]
  },
  {
   "cell_type": "markdown",
   "id": "47a70ac5",
   "metadata": {
    "toc-hr-collapsed": true,
    "toc-nb-collapsed": true
   },
   "source": [
    "### Check Null Values"
   ]
  },
  {
   "cell_type": "code",
   "execution_count": 6,
   "id": "77fbfc32",
   "metadata": {},
   "outputs": [
    {
     "data": {
      "text/plain": [
       "year                0\n",
       "month               0\n",
       "week_num_in_year    0\n",
       "date                0\n",
       "count_order         0\n",
       "dtype: int64"
      ]
     },
     "execution_count": 6,
     "metadata": {},
     "output_type": "execute_result"
    }
   ],
   "source": [
    "df.isnull().sum()"
   ]
  },
  {
   "cell_type": "markdown",
   "id": "257b4ef6",
   "metadata": {
    "toc-hr-collapsed": true,
    "toc-nb-collapsed": true
   },
   "source": [
    "## Exploratory Data Analysis"
   ]
  },
  {
   "cell_type": "code",
   "execution_count": 7,
   "id": "93c35e2d",
   "metadata": {},
   "outputs": [
    {
     "data": {
      "image/png": "[encoded data removed]",
      "text/plain": [
       "<Figure size 432x288 with 1 Axes>"
      ]
     },
     "metadata": {
      "needs_background": "light"
     },
     "output_type": "display_data"
    },
    {
     "data": {
      "text/html": [
       "<div>\n",
       "<style scoped>\n",
       "    .dataframe tbody tr th:only-of-type {\n",
       "        vertical-align: middle;\n",
       "    }\n",
       "\n",
       "    .dataframe tbody tr th {\n",
       "        vertical-align: top;\n",
       "    }\n",
       "\n",
       "    .dataframe thead th {\n",
       "        text-align: right;\n",
       "    }\n",
       "</style>\n",
       "<table border=\"1\" class=\"dataframe\">\n",
       "  <thead>\n",
       "    <tr style=\"text-align: right;\">\n",
       "      <th></th>\n",
       "      <th>year</th>\n",
       "      <th>count_order</th>\n",
       "    </tr>\n",
       "  </thead>\n",
       "  <tbody>\n",
       "    <tr>\n",
       "      <th>0</th>\n",
       "      <td>2016</td>\n",
       "      <td>329</td>\n",
       "    </tr>\n",
       "    <tr>\n",
       "      <th>1</th>\n",
       "      <td>2017</td>\n",
       "      <td>45101</td>\n",
       "    </tr>\n",
       "    <tr>\n",
       "      <th>2</th>\n",
       "      <td>2018</td>\n",
       "      <td>54011</td>\n",
       "    </tr>\n",
       "  </tbody>\n",
       "</table>\n",
       "</div>"
      ],
      "text/plain": [
       "   year  count_order\n",
       "0  2016          329\n",
       "1  2017        45101\n",
       "2  2018        54011"
      ]
     },
     "metadata": {},
     "output_type": "display_data"
    }
   ],
   "source": [
    "fig, ax = plt.subplots()\n",
    "\n",
    "_df_temp = df.loc[:, ['year', 'count_order']].groupby('year', as_index=False).sum()\n",
    "\n",
    "ax.bar(_df_temp['year'], _df_temp['count_order'])\n",
    "ax.set_title('Order by Year')\n",
    "ax.set_xlabel('Year')\n",
    "ax.set_ylabel('Order Frequency')\n",
    "\n",
    "plt.show()\n",
    "display(_df_temp.head(15))"
   ]
  },
  {
   "cell_type": "code",
   "execution_count": 8,
   "id": "0ff07d27",
   "metadata": {},
   "outputs": [
    {
     "data": {
      "image/png": "[encoded data removed]",
      "text/plain": [
       "<Figure size 432x288 with 1 Axes>"
      ]
     },
     "metadata": {
      "needs_background": "light"
     },
     "output_type": "display_data"
    },
    {
     "data": {
      "text/html": [
       "<div>\n",
       "<style scoped>\n",
       "    .dataframe tbody tr th:only-of-type {\n",
       "        vertical-align: middle;\n",
       "    }\n",
       "\n",
       "    .dataframe tbody tr th {\n",
       "        vertical-align: top;\n",
       "    }\n",
       "\n",
       "    .dataframe thead th {\n",
       "        text-align: right;\n",
       "    }\n",
       "</style>\n",
       "<table border=\"1\" class=\"dataframe\">\n",
       "  <thead>\n",
       "    <tr style=\"text-align: right;\">\n",
       "      <th></th>\n",
       "      <th>year</th>\n",
       "      <th>month</th>\n",
       "      <th>count_order</th>\n",
       "    </tr>\n",
       "  </thead>\n",
       "  <tbody>\n",
       "    <tr>\n",
       "      <th>0</th>\n",
       "      <td>2016</td>\n",
       "      <td>9</td>\n",
       "      <td>4</td>\n",
       "    </tr>\n",
       "    <tr>\n",
       "      <th>1</th>\n",
       "      <td>2016</td>\n",
       "      <td>10</td>\n",
       "      <td>324</td>\n",
       "    </tr>\n",
       "    <tr>\n",
       "      <th>2</th>\n",
       "      <td>2016</td>\n",
       "      <td>12</td>\n",
       "      <td>1</td>\n",
       "    </tr>\n",
       "    <tr>\n",
       "      <th>3</th>\n",
       "      <td>2017</td>\n",
       "      <td>1</td>\n",
       "      <td>800</td>\n",
       "    </tr>\n",
       "    <tr>\n",
       "      <th>4</th>\n",
       "      <td>2017</td>\n",
       "      <td>2</td>\n",
       "      <td>1780</td>\n",
       "    </tr>\n",
       "    <tr>\n",
       "      <th>5</th>\n",
       "      <td>2017</td>\n",
       "      <td>3</td>\n",
       "      <td>2682</td>\n",
       "    </tr>\n",
       "    <tr>\n",
       "      <th>6</th>\n",
       "      <td>2017</td>\n",
       "      <td>4</td>\n",
       "      <td>2404</td>\n",
       "    </tr>\n",
       "    <tr>\n",
       "      <th>7</th>\n",
       "      <td>2017</td>\n",
       "      <td>5</td>\n",
       "      <td>3700</td>\n",
       "    </tr>\n",
       "    <tr>\n",
       "      <th>8</th>\n",
       "      <td>2017</td>\n",
       "      <td>6</td>\n",
       "      <td>3245</td>\n",
       "    </tr>\n",
       "    <tr>\n",
       "      <th>9</th>\n",
       "      <td>2017</td>\n",
       "      <td>7</td>\n",
       "      <td>4026</td>\n",
       "    </tr>\n",
       "    <tr>\n",
       "      <th>10</th>\n",
       "      <td>2017</td>\n",
       "      <td>8</td>\n",
       "      <td>4331</td>\n",
       "    </tr>\n",
       "    <tr>\n",
       "      <th>11</th>\n",
       "      <td>2017</td>\n",
       "      <td>9</td>\n",
       "      <td>4285</td>\n",
       "    </tr>\n",
       "    <tr>\n",
       "      <th>12</th>\n",
       "      <td>2017</td>\n",
       "      <td>10</td>\n",
       "      <td>4631</td>\n",
       "    </tr>\n",
       "    <tr>\n",
       "      <th>13</th>\n",
       "      <td>2017</td>\n",
       "      <td>11</td>\n",
       "      <td>7544</td>\n",
       "    </tr>\n",
       "    <tr>\n",
       "      <th>14</th>\n",
       "      <td>2017</td>\n",
       "      <td>12</td>\n",
       "      <td>5673</td>\n",
       "    </tr>\n",
       "  </tbody>\n",
       "</table>\n",
       "</div>"
      ],
      "text/plain": [
       "    year  month  count_order\n",
       "0   2016      9            4\n",
       "1   2016     10          324\n",
       "2   2016     12            1\n",
       "3   2017      1          800\n",
       "4   2017      2         1780\n",
       "5   2017      3         2682\n",
       "6   2017      4         2404\n",
       "7   2017      5         3700\n",
       "8   2017      6         3245\n",
       "9   2017      7         4026\n",
       "10  2017      8         4331\n",
       "11  2017      9         4285\n",
       "12  2017     10         4631\n",
       "13  2017     11         7544\n",
       "14  2017     12         5673"
      ]
     },
     "metadata": {},
     "output_type": "display_data"
    }
   ],
   "source": [
    "fig, ax = plt.subplots()\n",
    "\n",
    "_df_temp = df.loc[:, ['year', 'month', 'count_order']] \\\n",
    "            .groupby(by=['year', 'month'], as_index=False) \\\n",
    "            .sum()\n",
    "\n",
    "ax.bar(_df_temp['month'], _df_temp['count_order'])\n",
    "ax.set_title('Order by Month')\n",
    "ax.set_xlabel('Month')\n",
    "ax.set_ylabel('Order Frequency')\n",
    "\n",
    "plt.show()\n",
    "display(_df_temp.head(15))"
   ]
  },
  {
   "cell_type": "code",
   "execution_count": 9,
   "id": "2525ec95",
   "metadata": {},
   "outputs": [
    {
     "data": {
      "image/png": "[encoded data removed]",
      "text/plain": [
       "<Figure size 432x288 with 1 Axes>"
      ]
     },
     "metadata": {
      "needs_background": "light"
     },
     "output_type": "display_data"
    },
    {
     "data": {
      "text/html": [
       "<div>\n",
       "<style scoped>\n",
       "    .dataframe tbody tr th:only-of-type {\n",
       "        vertical-align: middle;\n",
       "    }\n",
       "\n",
       "    .dataframe tbody tr th {\n",
       "        vertical-align: top;\n",
       "    }\n",
       "\n",
       "    .dataframe thead th {\n",
       "        text-align: right;\n",
       "    }\n",
       "</style>\n",
       "<table border=\"1\" class=\"dataframe\">\n",
       "  <thead>\n",
       "    <tr style=\"text-align: right;\">\n",
       "      <th></th>\n",
       "      <th>week_num_in_year</th>\n",
       "      <th>count_order</th>\n",
       "    </tr>\n",
       "  </thead>\n",
       "  <tbody>\n",
       "    <tr>\n",
       "      <th>0</th>\n",
       "      <td>1</td>\n",
       "      <td>1383</td>\n",
       "    </tr>\n",
       "    <tr>\n",
       "      <th>1</th>\n",
       "      <td>2</td>\n",
       "      <td>1831</td>\n",
       "    </tr>\n",
       "    <tr>\n",
       "      <th>2</th>\n",
       "      <td>3</td>\n",
       "      <td>1830</td>\n",
       "    </tr>\n",
       "    <tr>\n",
       "      <th>3</th>\n",
       "      <td>4</td>\n",
       "      <td>1788</td>\n",
       "    </tr>\n",
       "    <tr>\n",
       "      <th>4</th>\n",
       "      <td>5</td>\n",
       "      <td>1952</td>\n",
       "    </tr>\n",
       "    <tr>\n",
       "      <th>5</th>\n",
       "      <td>6</td>\n",
       "      <td>2051</td>\n",
       "    </tr>\n",
       "    <tr>\n",
       "      <th>6</th>\n",
       "      <td>7</td>\n",
       "      <td>2188</td>\n",
       "    </tr>\n",
       "    <tr>\n",
       "      <th>7</th>\n",
       "      <td>8</td>\n",
       "      <td>2167</td>\n",
       "    </tr>\n",
       "    <tr>\n",
       "      <th>8</th>\n",
       "      <td>9</td>\n",
       "      <td>2282</td>\n",
       "    </tr>\n",
       "    <tr>\n",
       "      <th>9</th>\n",
       "      <td>10</td>\n",
       "      <td>2140</td>\n",
       "    </tr>\n",
       "    <tr>\n",
       "      <th>10</th>\n",
       "      <td>11</td>\n",
       "      <td>2177</td>\n",
       "    </tr>\n",
       "    <tr>\n",
       "      <th>11</th>\n",
       "      <td>12</td>\n",
       "      <td>2331</td>\n",
       "    </tr>\n",
       "    <tr>\n",
       "      <th>12</th>\n",
       "      <td>13</td>\n",
       "      <td>2125</td>\n",
       "    </tr>\n",
       "    <tr>\n",
       "      <th>13</th>\n",
       "      <td>14</td>\n",
       "      <td>2155</td>\n",
       "    </tr>\n",
       "    <tr>\n",
       "      <th>14</th>\n",
       "      <td>15</td>\n",
       "      <td>2140</td>\n",
       "    </tr>\n",
       "  </tbody>\n",
       "</table>\n",
       "</div>"
      ],
      "text/plain": [
       "    week_num_in_year  count_order\n",
       "0                  1         1383\n",
       "1                  2         1831\n",
       "2                  3         1830\n",
       "3                  4         1788\n",
       "4                  5         1952\n",
       "5                  6         2051\n",
       "6                  7         2188\n",
       "7                  8         2167\n",
       "8                  9         2282\n",
       "9                 10         2140\n",
       "10                11         2177\n",
       "11                12         2331\n",
       "12                13         2125\n",
       "13                14         2155\n",
       "14                15         2140"
      ]
     },
     "metadata": {},
     "output_type": "display_data"
    }
   ],
   "source": [
    "fig, ax = plt.subplots()\n",
    "\n",
    "_df_temp = df.loc[:, ['week_num_in_year', 'count_order']] \\\n",
    "            .groupby(by='week_num_in_year', as_index=False) \\\n",
    "            .sum()\n",
    "\n",
    "ax.bar(_df_temp['week_num_in_year'], _df_temp['count_order'])\n",
    "ax.set_title('Order by Week in Year')\n",
    "ax.set_xlabel('Week in Year')\n",
    "ax.set_ylabel('Order Frequency')\n",
    "\n",
    "plt.show()\n",
    "display(_df_temp.head(15))"
   ]
  },
  {
   "cell_type": "code",
   "execution_count": 10,
   "id": "7ac73dab",
   "metadata": {},
   "outputs": [],
   "source": [
    "model_df = df.copy()"
   ]
  },
  {
   "cell_type": "markdown",
   "id": "be31fe20",
   "metadata": {},
   "source": [
    "## Data Preprocessing"
   ]
  },
  {
   "cell_type": "code",
   "execution_count": 11,
   "id": "b3a697d0",
   "metadata": {},
   "outputs": [],
   "source": [
    "from sklearn.preprocessing import Normalizer\n",
    "from sklearn.preprocessing import StandardScaler\n",
    "normalizer = Normalizer(norm='l2')\n",
    "standardize = StandardScaler()"
   ]
  },
  {
   "cell_type": "markdown",
   "id": "6b3186d2",
   "metadata": {},
   "source": [
    "## Utility Functions"
   ]
  },
  {
   "cell_type": "code",
   "execution_count": 12,
   "id": "1801995b",
   "metadata": {},
   "outputs": [],
   "source": [
    "def _tscv(X, pipe):\n",
    "    tscv = TimeSeriesSplit()\n",
    "\n",
    "    errors = []\n",
    "\n",
    "    for train_index, test_index in tscv.split(X):\n",
    "        X_train, X_test = X[train_index], X[test_index]\n",
    "        y_train, y_test = y[train_index], y[test_index]\n",
    "\n",
    "        pipe.fit(X_train, y_train)\n",
    "        y_pred = pipe.predict(X_test)\n",
    "        mse = mean_squared_error(y_test, y_pred)\n",
    "        errors.append(mse)\n",
    "    \n",
    "    print(errors)\n",
    "    print(sum(errors)/len(errors))"
   ]
  },
  {
   "cell_type": "code",
   "execution_count": 13,
   "id": "9c6d58dc",
   "metadata": {},
   "outputs": [],
   "source": [
    "def shift(data, n_in=1, n_out=1, dropna=True):\n",
    "    \"\"\"\n",
    "    Arguments:\n",
    "        data: Sequence of observations as DataFrame or Numpy Array.\n",
    "        n_in: Number of lag observations as input.\n",
    "        n_out: Number of observations as output.\n",
    "        dropna: Boolean whether to drop rows with NaN values.\n",
    "    Returns:\n",
    "        df: Pandas DataFrame\n",
    "    \"\"\"\n",
    "    \n",
    "    try:\n",
    "        var = range(0, data.shape[1]) if isinstance(data, np.ndarray) else \\\n",
    "                data.columns if isinstance(data, pd.DataFrame) else None\n",
    "    except IndexError as e:\n",
    "        var = range(0, 1)\n",
    "    \n",
    "    if var is None:\n",
    "        raise Exception('Expected pandas.DataFrame or numpy.ndarray got {}'.format(type(data)))\n",
    "    \n",
    "    df = pd.DataFrame(data)\n",
    "    cols, names = [], []\n",
    "    \n",
    "    for i in range(n_in, 0, -1):\n",
    "        cols.append(df.shift(i))\n",
    "        names += [('{n}(t-{i})'.format(n=v, i=i)) for v in var]\n",
    "    \n",
    "    for i in range(0, n_out):\n",
    "        cols.append(df.shift(i))\n",
    "        if i == 0:\n",
    "            names += [('{n}(t)'.format(n=v)) for v in var]\n",
    "        else:\n",
    "            names += [('{n}(t+{i})'.format(n=v, i=i)) for v in var]\n",
    "    \n",
    "    agg = pd.concat(cols, axis=1)\n",
    "    agg.columns = names\n",
    "    \n",
    "    if dropna:\n",
    "        agg.dropna(inplace=True)\n",
    "    \n",
    "    return agg"
   ]
  },
  {
   "cell_type": "code",
   "execution_count": 14,
   "id": "7ef99334",
   "metadata": {},
   "outputs": [],
   "source": [
    "def evaluate(y_actual, y_pred):\n",
    "    med_ae = median_absolute_error(y_actual, y_pred)\n",
    "    mae = mean_absolute_error(y_actual, y_pred)\n",
    "    mse = mean_squared_error(y_actual, y_pred)\n",
    "    rmse = mean_squared_error(y_actual, y_pred, squared=False)\n",
    "    \n",
    "    return {\n",
    "        'Median Absolute Error': med_ae,\n",
    "        'Mean Absolute Error': mae,\n",
    "        'Mean Squared Error': mse,\n",
    "        'Root Mean Squared Error': rmse\n",
    "    }"
   ]
  },
  {
   "cell_type": "code",
   "execution_count": 15,
   "id": "14848aed",
   "metadata": {},
   "outputs": [],
   "source": [
    "def _tscv_eval(X, pipe):\n",
    "    tscv = TimeSeriesSplit()\n",
    "\n",
    "    errors = []\n",
    "\n",
    "    for train_index, test_index in tscv.split(X):\n",
    "        X_train, X_test = X[train_index], X[test_index]\n",
    "        y_train, y_test = y[train_index], y[test_index]\n",
    "\n",
    "        pipe.fit(X_train, y_train)\n",
    "        y_pred = pipe.predict(X_test)\n",
    "        error = evaluate(y_test, y_pred)\n",
    "        errors.append(error)\n",
    "    \n",
    "    print(json.dumps(errors, indent=4))"
   ]
  },
  {
   "cell_type": "markdown",
   "id": "0967a711",
   "metadata": {
    "toc-hr-collapsed": true,
    "toc-nb-collapsed": true
   },
   "source": [
    "## Naive Model"
   ]
  },
  {
   "cell_type": "code",
   "execution_count": 16,
   "id": "fb96141d",
   "metadata": {},
   "outputs": [],
   "source": [
    "from sklearn.metrics import median_absolute_error, mean_absolute_error, mean_squared_error"
   ]
  },
  {
   "cell_type": "code",
   "execution_count": 17,
   "id": "ee23f841",
   "metadata": {},
   "outputs": [
    {
     "name": "stdout",
     "output_type": "stream",
     "text": [
      "8864.3125541104\n"
     ]
    }
   ],
   "source": [
    "y = model_df.loc[:, 'count_order']\n",
    "# Set to predict the mean\n",
    "y_pred = [y.mean() for i in range(0, len(y))]\n",
    "\n",
    "mse = mean_squared_error(y, y_pred)\n",
    "print(mse)"
   ]
  },
  {
   "cell_type": "code",
   "execution_count": 18,
   "id": "d8cb505f",
   "metadata": {},
   "outputs": [
    {
     "name": "stdout",
     "output_type": "stream",
     "text": [
      "{\n",
      "    \"Median Absolute Error\": 59.84700315457414,\n",
      "    \"Mean Absolute Error\": 70.68741354775149,\n",
      "    \"Mean Squared Error\": 8864.3125541104,\n",
      "    \"Root Mean Squared Error\": 94.15047824684908\n",
      "}\n"
     ]
    }
   ],
   "source": [
    "y = model_df.loc[:, 'count_order']\n",
    "# Set to predict the mean\n",
    "y_pred = [y.mean() for i in range(0, len(y))]\n",
    "\n",
    "print(json.dumps(evaluate(y, y_pred), indent=4))"
   ]
  },
  {
   "cell_type": "markdown",
   "id": "73093f43",
   "metadata": {
    "toc-hr-collapsed": true,
    "toc-nb-collapsed": true
   },
   "source": [
    "## Feature Engineering"
   ]
  },
  {
   "cell_type": "code",
   "execution_count": 19,
   "id": "7122d127",
   "metadata": {},
   "outputs": [],
   "source": [
    "X = model_df.loc[:, ['year', 'month', 'week_num_in_year', 'date']].to_numpy()\n",
    "y = model_df.loc[:, 'count_order'].to_numpy()"
   ]
  },
  {
   "cell_type": "code",
   "execution_count": 20,
   "id": "e2bf2983",
   "metadata": {},
   "outputs": [],
   "source": [
    "shifted = shift(y, 2, 1, dropna=False)"
   ]
  },
  {
   "cell_type": "code",
   "execution_count": 21,
   "id": "387621c4",
   "metadata": {},
   "outputs": [
    {
     "data": {
      "text/plain": [
       "array([[nan, nan],\n",
       "       [nan,  1.],\n",
       "       [ 1.,  1.],\n",
       "       ...,\n",
       "       [ 1.,  1.],\n",
       "       [ 1.,  1.],\n",
       "       [ 1.,  1.]])"
      ]
     },
     "execution_count": 21,
     "metadata": {},
     "output_type": "execute_result"
    }
   ],
   "source": [
    "shifted.loc[:, ['0(t-2)','0(t-1)']].to_numpy()"
   ]
  },
  {
   "cell_type": "code",
   "execution_count": 22,
   "id": "d80b7fcc",
   "metadata": {},
   "outputs": [],
   "source": [
    "_X = np.concatenate((X, shifted), axis=1)\n",
    "\n",
    "_X = pd.DataFrame(_X)\n",
    "_X = _X.dropna()\n",
    "_X = _X.to_numpy()\n",
    "\n",
    "_y = y[2:]"
   ]
  },
  {
   "cell_type": "markdown",
   "id": "449e3097",
   "metadata": {
    "tags": []
   },
   "source": [
    "## MLP Regressor"
   ]
  },
  {
   "cell_type": "code",
   "execution_count": 23,
   "id": "30f04151",
   "metadata": {},
   "outputs": [],
   "source": [
    "from sklearn.neural_network import MLPRegressor\n",
    "from sklearn.model_selection import TimeSeriesSplit"
   ]
  },
  {
   "cell_type": "code",
   "execution_count": 24,
   "id": "32ad0895",
   "metadata": {},
   "outputs": [],
   "source": [
    "X = model_df.loc[:, ['year', 'month', 'week_num_in_year', 'date']].to_numpy()\n",
    "y = model_df.loc[:, 'count_order'].to_numpy()"
   ]
  },
  {
   "cell_type": "markdown",
   "id": "6d9a5336",
   "metadata": {
    "toc-hr-collapsed": true,
    "toc-nb-collapsed": true
   },
   "source": [
    "### Hyperparameter Tuning"
   ]
  },
  {
   "cell_type": "code",
   "execution_count": 25,
   "id": "68acc383",
   "metadata": {},
   "outputs": [],
   "source": [
    "from sklearn.metrics import make_scorer"
   ]
  },
  {
   "cell_type": "code",
   "execution_count": 26,
   "id": "f9039b12",
   "metadata": {
    "scrolled": true,
    "tags": []
   },
   "outputs": [],
   "source": [
    "# mse_scorer = make_scorer(mean_squared_error)\n",
    "\n",
    "# pipe = Pipeline([\n",
    "#         ('scale', StandardScaler()),\n",
    "#         ('mlp', MLPRegressor(max_iter=1000))])\n",
    "\n",
    "# param_grid = dict(mlp__hidden_layer_sizes=[(100,),(100,30),(100,30,10)],\n",
    "#                   mlp__activation=['identity', 'relu', 'logistic'],\n",
    "#                   mlp__learning_rate_init=[0.001,0.003,0.005,0.01,0.05])\n",
    "\n",
    "# grid = GridSearchCV(pipe, param_grid=param_grid, cv=TimeSeriesSplit(),\n",
    "#                     scoring=mse_scorer, n_jobs=1, verbose=1)\n",
    "# grid.fit(X, y)"
   ]
  },
  {
   "cell_type": "code",
   "execution_count": 27,
   "id": "f24ab9a5",
   "metadata": {},
   "outputs": [],
   "source": [
    "# print(grid.best_score_)\n",
    "# print(grid.best_estimator_)"
   ]
  },
  {
   "cell_type": "code",
   "execution_count": 28,
   "id": "5d1dbb17",
   "metadata": {},
   "outputs": [],
   "source": [
    "## DO NOT DELETE\n",
    "# mlpr = MLPRegressor(\n",
    "#             hidden_layer_sizes=(100,30),\n",
    "#             activation='relu',\n",
    "#             solver='lbfgs',\n",
    "#             learning_rate='constant',\n",
    "#             learning_rate_init=0.001,\n",
    "#             max_iter=1000)"
   ]
  },
  {
   "cell_type": "markdown",
   "id": "79fdac5b",
   "metadata": {},
   "source": [
    "### Default Parameter"
   ]
  },
  {
   "cell_type": "code",
   "execution_count": 29,
   "id": "4d1ee378",
   "metadata": {
    "tags": []
   },
   "outputs": [
    {
     "name": "stderr",
     "output_type": "stream",
     "text": [
      "/opt/conda/lib/python3.7/site-packages/sklearn/neural_network/_multilayer_perceptron.py:617: ConvergenceWarning: Stochastic Optimizer: Maximum iterations (1000) reached and the optimization hasn't converged yet.\n",
      "  % self.max_iter, ConvergenceWarning)\n",
      "/opt/conda/lib/python3.7/site-packages/sklearn/neural_network/_multilayer_perceptron.py:617: ConvergenceWarning: Stochastic Optimizer: Maximum iterations (1000) reached and the optimization hasn't converged yet.\n",
      "  % self.max_iter, ConvergenceWarning)\n",
      "/opt/conda/lib/python3.7/site-packages/sklearn/neural_network/_multilayer_perceptron.py:617: ConvergenceWarning: Stochastic Optimizer: Maximum iterations (1000) reached and the optimization hasn't converged yet.\n",
      "  % self.max_iter, ConvergenceWarning)\n"
     ]
    },
    {
     "name": "stdout",
     "output_type": "stream",
     "text": [
      "[772.1629574664092, 1496.1711984062458, 31720.64268829311, 4619.564693658943, 14743.482770176699]\n",
      "10670.40486160028\n"
     ]
    },
    {
     "name": "stderr",
     "output_type": "stream",
     "text": [
      "/opt/conda/lib/python3.7/site-packages/sklearn/neural_network/_multilayer_perceptron.py:617: ConvergenceWarning: Stochastic Optimizer: Maximum iterations (1000) reached and the optimization hasn't converged yet.\n",
      "  % self.max_iter, ConvergenceWarning)\n"
     ]
    }
   ],
   "source": [
    "mlpr = MLPRegressor(max_iter=1000)\n",
    "# model = make_pipeline(normalizer, mlpr)\n",
    "model = make_pipeline(standardize, mlpr)\n",
    "\n",
    "_tscv(X, model)"
   ]
  },
  {
   "cell_type": "markdown",
   "id": "6b019ae1",
   "metadata": {},
   "source": [
    "### Final Model"
   ]
  },
  {
   "cell_type": "code",
   "execution_count": 30,
   "id": "49875cdd",
   "metadata": {},
   "outputs": [
    {
     "name": "stdout",
     "output_type": "stream",
     "text": [
      "[1746.5696388968117, 1505.2625780085796, 15799.468206873238, 4191.088991176569, 25356.5490660438]\n",
      "9719.7876961998\n"
     ]
    }
   ],
   "source": [
    "mlpr = MLPRegressor(max_iter=1000, activation='identity',\n",
    "                   solver='sgd', learning_rate='constant',\n",
    "                   tol=0.005)\n",
    "\n",
    "pipe = make_pipeline(standardize, mlpr)\n",
    "\n",
    "_tscv(X, pipe)"
   ]
  },
  {
   "cell_type": "code",
   "execution_count": 31,
   "id": "2f42f4e4",
   "metadata": {},
   "outputs": [
    {
     "name": "stdout",
     "output_type": "stream",
     "text": [
      "[\n",
      "    {\n",
      "        \"Median Absolute Error\": 27.142517446008398,\n",
      "        \"Mean Absolute Error\": 33.74645318479217,\n",
      "        \"Mean Squared Error\": 1723.265622538654,\n",
      "        \"Root Mean Squared Error\": 41.51223461268562\n",
      "    },\n",
      "    {\n",
      "        \"Median Absolute Error\": 23.40852662066689,\n",
      "        \"Mean Absolute Error\": 24.984568591442383,\n",
      "        \"Mean Squared Error\": 973.1041150693864,\n",
      "        \"Root Mean Squared Error\": 31.194616764265376\n",
      "    },\n",
      "    {\n",
      "        \"Median Absolute Error\": 44.71859251655627,\n",
      "        \"Mean Absolute Error\": 66.12875540070046,\n",
      "        \"Mean Squared Error\": 15563.068053241093,\n",
      "        \"Root Mean Squared Error\": 124.75202624903972\n",
      "    },\n",
      "    {\n",
      "        \"Median Absolute Error\": 43.10847250573585,\n",
      "        \"Mean Absolute Error\": 51.95816625241812,\n",
      "        \"Mean Squared Error\": 4219.487066921283,\n",
      "        \"Root Mean Squared Error\": 64.95757897983331\n",
      "    },\n",
      "    {\n",
      "        \"Median Absolute Error\": 88.6775531507468,\n",
      "        \"Mean Absolute Error\": 118.43730853988237,\n",
      "        \"Mean Squared Error\": 24496.568115627957,\n",
      "        \"Root Mean Squared Error\": 156.51379528855583\n",
      "    }\n",
      "]\n"
     ]
    }
   ],
   "source": [
    "mlpr = MLPRegressor(max_iter=1000, activation='identity',\n",
    "                   solver='sgd', learning_rate='constant',\n",
    "                   tol=0.005)\n",
    "\n",
    "pipe = make_pipeline(standardize, mlpr)\n",
    "\n",
    "_tscv_eval(X, pipe)"
   ]
  },
  {
   "cell_type": "code",
   "execution_count": 32,
   "id": "8b59a9c2",
   "metadata": {},
   "outputs": [
    {
     "data": {
      "image/png": "[encoded data removed]",
      "text/plain": [
       "<Figure size 432x288 with 1 Axes>"
      ]
     },
     "metadata": {
      "needs_background": "light"
     },
     "output_type": "display_data"
    }
   ],
   "source": [
    "mlpr = MLPRegressor(max_iter=1000, activation='identity',\n",
    "                   solver='sgd', learning_rate='constant',\n",
    "                   tol=0.005)\n",
    "\n",
    "pipe = make_pipeline(standardize, mlpr)\n",
    "\n",
    "model = pipe.fit(X, y)\n",
    "\n",
    "y_actual = y\n",
    "y_base = [y.mean() for i in range(0, len(y))]\n",
    "y_pred = model.predict(X)\n",
    "\n",
    "fig, ax = plt.subplots()\n",
    "\n",
    "ax.plot(y_actual[100:130], label='Actual Sales', color='limegreen', alpha=0.6, marker='o')\n",
    "ax.plot(y_base[100:130], label='Base Model', color='grey', alpha=0.4, linestyle='dashed')\n",
    "ax.plot(y_pred[100:130], label='Predicted', color='darkviolet', marker='o')\n",
    "\n",
    "ax.set_title('MLP Regressor Prediction')\n",
    "ax.set_xlabel('Time')\n",
    "ax.set_ylabel('Sales')\n",
    "\n",
    "ax.legend(loc='upper right')\n",
    "\n",
    "plt.show()"
   ]
  },
  {
   "cell_type": "markdown",
   "id": "7006c2b6",
   "metadata": {},
   "source": [
    "## Support Vector Regression"
   ]
  },
  {
   "cell_type": "code",
   "execution_count": 33,
   "id": "0eae6732",
   "metadata": {},
   "outputs": [],
   "source": [
    "from sklearn.svm import LinearSVR"
   ]
  },
  {
   "cell_type": "code",
   "execution_count": 34,
   "id": "461b1f2d",
   "metadata": {},
   "outputs": [],
   "source": [
    "X = model_df.loc[:, ['year', 'month', 'week_num_in_year', 'date']].to_numpy()\n",
    "y = model_df.loc[:, 'count_order'].to_numpy()"
   ]
  },
  {
   "cell_type": "markdown",
   "id": "fb43abfa",
   "metadata": {},
   "source": [
    "### Hyperparameter Tuning"
   ]
  },
  {
   "cell_type": "code",
   "execution_count": 35,
   "id": "9985a9ea",
   "metadata": {
    "tags": []
   },
   "outputs": [],
   "source": [
    "# mse_scorer = make_scorer(mean_squared_error)\n",
    "\n",
    "# pipe = Pipeline([\n",
    "#         ('scale', StandardScaler()),\n",
    "#         ('svr', LinearSVR())])\n",
    "\n",
    "# param_grid = dict(svr__tol=[0.0001, 0.0005, 0.001, 0.005, 0.01, 0.05],\n",
    "#                   svr__max_iter=[1000,2000,5000],\n",
    "#                   svr__C=[1, 1.5, 2, 2.5, 3, 3.5])\n",
    "\n",
    "# grid = GridSearchCV(pipe, param_grid=param_grid, cv=TimeSeriesSplit(),\n",
    "#                     scoring=mse_scorer, n_jobs=1, verbose=1)\n",
    "# grid.fit(X, y)"
   ]
  },
  {
   "cell_type": "code",
   "execution_count": 36,
   "id": "230ec23b",
   "metadata": {},
   "outputs": [],
   "source": [
    "# print(grid.best_score_)\n",
    "# print(grid.best_estimator_)"
   ]
  },
  {
   "cell_type": "markdown",
   "id": "3cbecff6",
   "metadata": {},
   "source": [
    "### Default Parameter"
   ]
  },
  {
   "cell_type": "code",
   "execution_count": 37,
   "id": "e8509f97",
   "metadata": {},
   "outputs": [
    {
     "name": "stdout",
     "output_type": "stream",
     "text": [
      "[4182.639734458266, 966.5009078931267, 18084.497271873144, 4007.2094658348406, 15519.383620347138]\n",
      "8552.046200081302\n"
     ]
    }
   ],
   "source": [
    "svr = LinearSVR()\n",
    "\n",
    "pipe = make_pipeline(standardize, svr)\n",
    "\n",
    "_tscv(X, pipe)"
   ]
  },
  {
   "cell_type": "markdown",
   "id": "42cec31f",
   "metadata": {},
   "source": [
    "### Final Model"
   ]
  },
  {
   "cell_type": "code",
   "execution_count": 38,
   "id": "5c31d29c",
   "metadata": {},
   "outputs": [
    {
     "name": "stdout",
     "output_type": "stream",
     "text": [
      "[2106.497345803477, 900.0481714557163, 16937.994199367306, 3869.116077687136, 19166.009043505845]\n",
      "8595.932967563896\n"
     ]
    }
   ],
   "source": [
    "final_svr = LinearSVR(C=2, max_iter=2000, tol=0.05)\n",
    "\n",
    "pipe = make_pipeline(standardize, final_svr)\n",
    "\n",
    "_tscv(X, pipe)"
   ]
  },
  {
   "cell_type": "code",
   "execution_count": 39,
   "id": "8c0d940f",
   "metadata": {},
   "outputs": [
    {
     "name": "stdout",
     "output_type": "stream",
     "text": [
      "[\n",
      "    {\n",
      "        \"Median Absolute Error\": 38.11914787949652,\n",
      "        \"Mean Absolute Error\": 40.52178089344402,\n",
      "        \"Mean Squared Error\": 2305.21980028731,\n",
      "        \"Root Mean Squared Error\": 48.01270457167884\n",
      "    },\n",
      "    {\n",
      "        \"Median Absolute Error\": 21.800805730693924,\n",
      "        \"Mean Absolute Error\": 24.212061447024023,\n",
      "        \"Mean Squared Error\": 900.874809346523,\n",
      "        \"Root Mean Squared Error\": 30.014576614480553\n",
      "    },\n",
      "    {\n",
      "        \"Median Absolute Error\": 43.25198244295831,\n",
      "        \"Mean Absolute Error\": 67.07105208668321,\n",
      "        \"Mean Squared Error\": 16069.450053131319,\n",
      "        \"Root Mean Squared Error\": 126.76533458769917\n",
      "    },\n",
      "    {\n",
      "        \"Median Absolute Error\": 45.79175892432403,\n",
      "        \"Mean Absolute Error\": 53.03529566835922,\n",
      "        \"Mean Squared Error\": 4086.343375231477,\n",
      "        \"Root Mean Squared Error\": 63.92451310124682\n",
      "    },\n",
      "    {\n",
      "        \"Median Absolute Error\": 74.64280011913695,\n",
      "        \"Mean Absolute Error\": 104.89410408184636,\n",
      "        \"Mean Squared Error\": 20263.31822499347,\n",
      "        \"Root Mean Squared Error\": 142.34928248850946\n",
      "    }\n",
      "]\n"
     ]
    }
   ],
   "source": [
    "final_svr = LinearSVR(C=2, max_iter=2000, tol=0.05)\n",
    "\n",
    "pipe = make_pipeline(standardize, final_svr)\n",
    "\n",
    "_tscv_eval(X, pipe)"
   ]
  },
  {
   "cell_type": "code",
   "execution_count": 49,
   "id": "b6857588",
   "metadata": {},
   "outputs": [
    {
     "data": {
      "image/png": "[encoded data removed]",
      "text/plain": [
       "<Figure size 432x288 with 1 Axes>"
      ]
     },
     "metadata": {
      "needs_background": "light"
     },
     "output_type": "display_data"
    }
   ],
   "source": [
    "final_svr = LinearSVR(C=2, max_iter=2000, tol=0.05)\n",
    "\n",
    "pipe = make_pipeline(standardize, final_svr)\n",
    "\n",
    "model = pipe.fit(X, y)\n",
    "\n",
    "y_actual = y\n",
    "y_base = [y.mean() for i in range(0, len(y))]\n",
    "y_pred = model.predict(X)\n",
    "\n",
    "fig, ax = plt.subplots()\n",
    "\n",
    "ax.plot(y_actual, label='Actual Sales', color='limegreen', alpha=0.6)\n",
    "ax.plot(y_base, label='Base Model', color='grey', alpha=0.4, linestyle='dashed')\n",
    "ax.plot(y_pred, label='Predicted', color='darkviolet')\n",
    "\n",
    "ax.set_title('Support Vector Regression')\n",
    "ax.set_xlabel('Time')\n",
    "ax.set_ylabel('Sales')\n",
    "\n",
    "ax.legend(loc='upper right')\n",
    "\n",
    "plt.show()"
   ]
  },
  {
   "cell_type": "markdown",
   "id": "a54b79c4",
   "metadata": {},
   "source": [
    "## SGD Regressor"
   ]
  },
  {
   "cell_type": "code",
   "execution_count": 45,
   "id": "cbd9c030",
   "metadata": {},
   "outputs": [],
   "source": [
    "from sklearn.linear_model import SGDRegressor"
   ]
  },
  {
   "cell_type": "code",
   "execution_count": 46,
   "id": "5150b08c",
   "metadata": {},
   "outputs": [],
   "source": [
    "X = model_df.loc[:, ['year', 'month', 'week_num_in_year', 'date']].to_numpy()\n",
    "y = model_df.loc[:, 'count_order'].to_numpy()"
   ]
  },
  {
   "cell_type": "markdown",
   "id": "1488a460",
   "metadata": {},
   "source": [
    "### Hyperparameter Tuning"
   ]
  },
  {
   "cell_type": "code",
   "execution_count": 43,
   "id": "c8537eea",
   "metadata": {
    "scrolled": true,
    "tags": []
   },
   "outputs": [],
   "source": [
    "# mse_scorer = make_scorer(mean_squared_error)\n",
    "\n",
    "# pipe = Pipeline([\n",
    "#         ('scale', StandardScaler()),\n",
    "#         ('sgdr', SGDRegressor())])\n",
    "\n",
    "# param_grid = dict(sgdr__loss=['squared_loss', 'huber'],\n",
    "#                   sgdr__epsilon=[0.1,0.3,0.5],\n",
    "#                   sgdr__learning_rate=['constant', 'invscaling', 'adaptive'],\n",
    "#                   sgdr__eta0=[0.01,0.03,0.05],\n",
    "#                   sgdr__max_iter=[5000,10000],\n",
    "#                   sgdr__alpha=[0.0001,0.0005,0.001])\n",
    "\n",
    "# grid = GridSearchCV(pipe, param_grid=param_grid, cv=TimeSeriesSplit(),\n",
    "#                     scoring=mse_scorer, n_jobs=1, verbose=1)\n",
    "# grid.fit(X, y)"
   ]
  },
  {
   "cell_type": "code",
   "execution_count": 44,
   "id": "65fc014a",
   "metadata": {},
   "outputs": [],
   "source": [
    "# print(grid.best_score_)\n",
    "# print(grid.best_estimator_)"
   ]
  },
  {
   "cell_type": "markdown",
   "id": "bed2400d",
   "metadata": {},
   "source": [
    "### Default Parameter & Final Model"
   ]
  },
  {
   "cell_type": "code",
   "execution_count": 45,
   "id": "9c49b84a",
   "metadata": {},
   "outputs": [
    {
     "name": "stdout",
     "output_type": "stream",
     "text": [
      "[1081.3729138264357, 1313.6989366698067, 15786.07970618961, 5042.626581624553, 24112.23413850876]\n",
      "9467.202455363833\n"
     ]
    }
   ],
   "source": [
    "sgdr = SGDRegressor()\n",
    "\n",
    "pipe = make_pipeline(standardize, sgdr)\n",
    "\n",
    "_tscv(X, pipe)"
   ]
  },
  {
   "cell_type": "code",
   "execution_count": 47,
   "id": "e2709646",
   "metadata": {},
   "outputs": [
    {
     "name": "stdout",
     "output_type": "stream",
     "text": [
      "[\n",
      "    {\n",
      "        \"Median Absolute Error\": 23.429251749321352,\n",
      "        \"Mean Absolute Error\": 27.79063664419761,\n",
      "        \"Mean Squared Error\": 1224.4910081643181,\n",
      "        \"Root Mean Squared Error\": 34.99272793259077\n",
      "    },\n",
      "    {\n",
      "        \"Median Absolute Error\": 23.97245185889554,\n",
      "        \"Mean Absolute Error\": 28.989763460191526,\n",
      "        \"Mean Squared Error\": 1280.5527438683089,\n",
      "        \"Root Mean Squared Error\": 35.78481163661909\n",
      "    },\n",
      "    {\n",
      "        \"Median Absolute Error\": 46.69644275135556,\n",
      "        \"Mean Absolute Error\": 66.9489316678313,\n",
      "        \"Mean Squared Error\": 15766.532259560694,\n",
      "        \"Root Mean Squared Error\": 125.56485280348436\n",
      "    },\n",
      "    {\n",
      "        \"Median Absolute Error\": 45.608365023035674,\n",
      "        \"Mean Absolute Error\": 55.11983134680091,\n",
      "        \"Mean Squared Error\": 5036.534926280754,\n",
      "        \"Root Mean Squared Error\": 70.96854885285984\n",
      "    },\n",
      "    {\n",
      "        \"Median Absolute Error\": 88.831792261965,\n",
      "        \"Mean Absolute Error\": 116.66319439101524,\n",
      "        \"Mean Squared Error\": 24010.003351796626,\n",
      "        \"Root Mean Squared Error\": 154.9516161638743\n",
      "    }\n",
      "]\n"
     ]
    }
   ],
   "source": [
    "sgdr = SGDRegressor()\n",
    "\n",
    "pipe = make_pipeline(standardize, sgdr)\n",
    "\n",
    "_tscv_eval(X, pipe)"
   ]
  },
  {
   "cell_type": "code",
   "execution_count": 48,
   "id": "ddb2cb56",
   "metadata": {},
   "outputs": [
    {
     "data": {
      "image/png": "[encoded data removed]",
      "text/plain": [
       "<Figure size 432x288 with 1 Axes>"
      ]
     },
     "metadata": {
      "needs_background": "light"
     },
     "output_type": "display_data"
    }
   ],
   "source": [
    "sgdr = SGDRegressor()\n",
    "\n",
    "pipe = make_pipeline(standardize, sgdr)\n",
    "\n",
    "model = pipe.fit(X, y)\n",
    "\n",
    "y_actual = y\n",
    "y_base = [y.mean() for i in range(0, len(y))]\n",
    "y_pred = model.predict(X)\n",
    "\n",
    "fig, ax = plt.subplots()\n",
    "\n",
    "ax.plot(y_actual, label='Actual Sales', color='limegreen', alpha=0.6)\n",
    "ax.plot(y_base, label='Base Model', color='grey', alpha=0.4, linestyle='dashed')\n",
    "ax.plot(y_pred, label='Predicted', color='darkviolet')\n",
    "\n",
    "ax.set_title('SGD Regression')\n",
    "ax.set_xlabel('Time')\n",
    "ax.set_ylabel('Sales')\n",
    "\n",
    "ax.legend(loc='upper right')\n",
    "\n",
    "plt.show()"
   ]
  },
  {
   "cell_type": "code",
   "execution_count": 48,
   "id": "cc989da6",
   "metadata": {},
   "outputs": [
    {
     "data": {
      "image/png": "[encoded data removed]",
      "text/plain": [
       "<Figure size 432x288 with 1 Axes>"
      ]
     },
     "metadata": {
      "needs_background": "light"
     },
     "output_type": "display_data"
    }
   ],
   "source": [
    "sgdr = SGDRegressor()\n",
    "\n",
    "pipe = make_pipeline(standardize, sgdr)\n",
    "\n",
    "model = pipe.fit(X[:len(X)-30], y[:len(y)-30])\n",
    "\n",
    "y_actual = y[len(y)-30:]\n",
    "y_base = [y.mean() for i in range(0, 30)]\n",
    "y_pred = model.predict(X[len(X)-30:])\n",
    "\n",
    "fig, ax = plt.subplots()\n",
    "\n",
    "ax.plot(y_actual, label='Actual Sales', color='limegreen', alpha=0.6, marker='o')\n",
    "ax.plot(y_base, label='Base Model', color='grey', alpha=0.4, linestyle='dashed')\n",
    "ax.plot(y_pred, label='Predicted', color='darkviolet', marker='o')\n",
    "\n",
    "ax.set_title('SGD Regression')\n",
    "ax.set_xlabel('Time')\n",
    "ax.set_ylabel('Sales')\n",
    "\n",
    "ax.legend(loc='upper right')\n",
    "\n",
    "plt.show()"
   ]
  },
  {
   "cell_type": "markdown",
   "id": "773dba5c",
   "metadata": {},
   "source": [
    "## Random Forest Regression"
   ]
  },
  {
   "cell_type": "code",
   "execution_count": 50,
   "id": "17fa5d54",
   "metadata": {},
   "outputs": [],
   "source": [
    "from sklearn.ensemble import RandomForestRegressor"
   ]
  },
  {
   "cell_type": "code",
   "execution_count": 51,
   "id": "635ac692",
   "metadata": {},
   "outputs": [],
   "source": [
    "X = model_df.loc[:, ['year', 'month', 'week_num_in_year', 'date']].to_numpy()\n",
    "y = model_df.loc[:, 'count_order'].to_numpy()"
   ]
  },
  {
   "cell_type": "code",
   "execution_count": 54,
   "id": "18455632",
   "metadata": {},
   "outputs": [
    {
     "name": "stdout",
     "output_type": "stream",
     "text": [
      "[\n",
      "    {\n",
      "        \"Median Absolute Error\": 40.260000000000005,\n",
      "        \"Mean Absolute Error\": 45.44190476190476,\n",
      "        \"Mean Squared Error\": 3392.3187638095233,\n",
      "        \"Root Mean Squared Error\": 58.24361564849424\n",
      "    },\n",
      "    {\n",
      "        \"Median Absolute Error\": 76.57,\n",
      "        \"Mean Absolute Error\": 74.40780952380952,\n",
      "        \"Mean Squared Error\": 7168.981660952381,\n",
      "        \"Root Mean Squared Error\": 84.66983914566262\n",
      "    },\n",
      "    {\n",
      "        \"Median Absolute Error\": 139.22,\n",
      "        \"Mean Absolute Error\": 140.02580952380953,\n",
      "        \"Mean Squared Error\": 34650.028183809525,\n",
      "        \"Root Mean Squared Error\": 186.14518039371723\n",
      "    },\n",
      "    {\n",
      "        \"Median Absolute Error\": 45.53,\n",
      "        \"Mean Absolute Error\": 50.92171428571428,\n",
      "        \"Mean Squared Error\": 3806.789514285714,\n",
      "        \"Root Mean Squared Error\": 61.699185685758565\n",
      "    },\n",
      "    {\n",
      "        \"Median Absolute Error\": 68.91999999999999,\n",
      "        \"Mean Absolute Error\": 85.2384761904762,\n",
      "        \"Mean Squared Error\": 10460.684805714285,\n",
      "        \"Root Mean Squared Error\": 102.27748924232685\n",
      "    }\n",
      "]\n"
     ]
    }
   ],
   "source": [
    "rfr = RandomForestRegressor()\n",
    "\n",
    "pipe = make_pipeline(standardize, rfr)\n",
    "\n",
    "_tscv_eval(X, pipe)"
   ]
  },
  {
   "cell_type": "code",
   "execution_count": 53,
   "id": "1aea897b",
   "metadata": {},
   "outputs": [
    {
     "data": {
      "image/png": "[encoded data removed]",
      "text/plain": [
       "<Figure size 432x288 with 1 Axes>"
      ]
     },
     "metadata": {
      "needs_background": "light"
     },
     "output_type": "display_data"
    }
   ],
   "source": [
    "rfr = RandomForestRegressor()\n",
    "\n",
    "pipe = make_pipeline(standardize, rfr)\n",
    "\n",
    "model = pipe.fit(X, y)\n",
    "\n",
    "y_actual = y\n",
    "y_base = [y.mean() for i in range(0, len(y))]\n",
    "y_pred = model.predict(X)\n",
    "\n",
    "fig, ax = plt.subplots()\n",
    "\n",
    "ax.plot(y_actual, label='Actual Sales', color='limegreen', alpha=0.6)\n",
    "ax.plot(y_base, label='Base Model', color='grey', alpha=0.4, linestyle='dashed')\n",
    "ax.plot(y_pred, label='Predicted', color='darkviolet')\n",
    "\n",
    "ax.set_title('Random Forest Regression')\n",
    "ax.set_xlabel('Time')\n",
    "ax.set_ylabel('Sales')\n",
    "\n",
    "ax.legend(loc='upper right')\n",
    "\n",
    "plt.show()"
   ]
  }
 ],
 "metadata": {
  "environment": {
   "name": "common-cpu.m78",
   "type": "gcloud",
   "uri": "gcr.io/deeplearning-platform-release/base-cpu:m78"
  },
  "kernelspec": {
   "display_name": "Python 3",
   "language": "python",
   "name": "python3"
  },
  "language_info": {
   "codemirror_mode": {
    "name": "ipython",
    "version": 3
   },
   "file_extension": ".py",
   "mimetype": "text/x-python",
   "name": "python",
   "nbconvert_exporter": "python",
   "pygments_lexer": "ipython3",
   "version": "3.7.10"
  }
 },
 "nbformat": 4,
 "nbformat_minor": 5
}
