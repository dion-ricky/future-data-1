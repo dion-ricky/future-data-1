{
 "cells": [
  {
   "cell_type": "markdown",
   "id": "5cfbb823",
   "metadata": {},
   "source": [
    "# Sales Prediction"
   ]
  },
  {
   "cell_type": "markdown",
   "id": "1dd79e6d",
   "metadata": {},
   "source": [
    "Using machine learning to help organization prepare to handle dynamic market demand. Organization may infer the prediction to establish rule, plan, or strategy to further strengthen market position."
   ]
  },
  {
   "cell_type": "markdown",
   "id": "d14b1d4b",
   "metadata": {
    "toc-hr-collapsed": true,
    "toc-nb-collapsed": true
   },
   "source": [
    "## Library Import and Configuration"
   ]
  },
  {
   "cell_type": "code",
   "execution_count": 1,
   "id": "36394f3a",
   "metadata": {},
   "outputs": [],
   "source": [
    "import json\n",
    "import numpy as np\n",
    "import pandas as pd\n",
    "import matplotlib.pyplot as plt\n",
    "from sklearn.pipeline import make_pipeline\n",
    "from sklearn.model_selection import GridSearchCV\n",
    "from sklearn.pipeline import Pipeline\n",
    "\n",
    "from util.dbconn import DbConn"
   ]
  },
  {
   "cell_type": "code",
   "execution_count": 2,
   "id": "a823fdfb",
   "metadata": {},
   "outputs": [],
   "source": [
    "WAREHOUSE_CONN = {\n",
    "    'user': 'postgres',\n",
    "    'password': 'qshOke46RvOg0',\n",
    "    'host': 'localhost',\n",
    "    'port': '8084',\n",
    "    'dbname': 'postgres'\n",
    "}"
   ]
  },
  {
   "cell_type": "code",
   "execution_count": 3,
   "id": "ab9b254d",
   "metadata": {},
   "outputs": [],
   "source": [
    "postgres_conn = DbConn(WAREHOUSE_CONN).get_conn()"
   ]
  },
  {
   "cell_type": "markdown",
   "id": "cdeee497",
   "metadata": {
    "toc-hr-collapsed": true,
    "toc-nb-collapsed": true
   },
   "source": [
    "## Data Overview"
   ]
  },
  {
   "cell_type": "code",
   "execution_count": 4,
   "id": "2564f871",
   "metadata": {},
   "outputs": [],
   "source": [
    "sql = \"\"\"SELECT \n",
    "\tdd.\"year\",\n",
    "\tdd.\"month\",\n",
    "\tdd.week_num_in_year,\n",
    "\tdd.\"date\",\n",
    "\tcount(DISTINCT fo.order_legacy_id) as count_order\n",
    "FROM \n",
    "\twarehouse.fact_order fo\n",
    "LEFT JOIN warehouse.date_dim dd ON\n",
    "\tfo.order_date = dd.date_id\n",
    "GROUP BY 1,2,3,4;\n",
    "\"\"\""
   ]
  },
  {
   "cell_type": "code",
   "execution_count": 5,
   "id": "be1d08e2",
   "metadata": {},
   "outputs": [
    {
     "name": "stdout",
     "output_type": "stream",
     "text": [
      "<class 'pandas.core.frame.DataFrame'>\n",
      "RangeIndex: 634 entries, 0 to 633\n",
      "Data columns (total 5 columns):\n",
      " #   Column            Non-Null Count  Dtype\n",
      "---  ------            --------------  -----\n",
      " 0   year              634 non-null    int64\n",
      " 1   month             634 non-null    int64\n",
      " 2   week_num_in_year  634 non-null    int64\n",
      " 3   date              634 non-null    int64\n",
      " 4   count_order       634 non-null    int64\n",
      "dtypes: int64(5)\n",
      "memory usage: 24.9 KB\n"
     ]
    },
    {
     "data": {
      "text/plain": [
       "None"
      ]
     },
     "metadata": {},
     "output_type": "display_data"
    },
    {
     "data": {
      "text/html": [
       "<div>\n",
       "<style scoped>\n",
       "    .dataframe tbody tr th:only-of-type {\n",
       "        vertical-align: middle;\n",
       "    }\n",
       "\n",
       "    .dataframe tbody tr th {\n",
       "        vertical-align: top;\n",
       "    }\n",
       "\n",
       "    .dataframe thead th {\n",
       "        text-align: right;\n",
       "    }\n",
       "</style>\n",
       "<table border=\"1\" class=\"dataframe\">\n",
       "  <thead>\n",
       "    <tr style=\"text-align: right;\">\n",
       "      <th></th>\n",
       "      <th>year</th>\n",
       "      <th>month</th>\n",
       "      <th>week_num_in_year</th>\n",
       "      <th>date</th>\n",
       "      <th>count_order</th>\n",
       "    </tr>\n",
       "  </thead>\n",
       "  <tbody>\n",
       "    <tr>\n",
       "      <th>count</th>\n",
       "      <td>634.000000</td>\n",
       "      <td>634.000000</td>\n",
       "      <td>634.000000</td>\n",
       "      <td>634.000000</td>\n",
       "      <td>634.000000</td>\n",
       "    </tr>\n",
       "    <tr>\n",
       "      <th>mean</th>\n",
       "      <td>2017.383281</td>\n",
       "      <td>5.938486</td>\n",
       "      <td>24.501577</td>\n",
       "      <td>15.597792</td>\n",
       "      <td>156.847003</td>\n",
       "    </tr>\n",
       "    <tr>\n",
       "      <th>std</th>\n",
       "      <td>0.533051</td>\n",
       "      <td>3.214452</td>\n",
       "      <td>14.111411</td>\n",
       "      <td>8.768610</td>\n",
       "      <td>94.224817</td>\n",
       "    </tr>\n",
       "    <tr>\n",
       "      <th>min</th>\n",
       "      <td>2016.000000</td>\n",
       "      <td>1.000000</td>\n",
       "      <td>1.000000</td>\n",
       "      <td>1.000000</td>\n",
       "      <td>1.000000</td>\n",
       "    </tr>\n",
       "    <tr>\n",
       "      <th>25%</th>\n",
       "      <td>2017.000000</td>\n",
       "      <td>3.000000</td>\n",
       "      <td>13.000000</td>\n",
       "      <td>8.000000</td>\n",
       "      <td>96.000000</td>\n",
       "    </tr>\n",
       "    <tr>\n",
       "      <th>50%</th>\n",
       "      <td>2017.000000</td>\n",
       "      <td>6.000000</td>\n",
       "      <td>24.000000</td>\n",
       "      <td>15.500000</td>\n",
       "      <td>148.000000</td>\n",
       "    </tr>\n",
       "    <tr>\n",
       "      <th>75%</th>\n",
       "      <td>2018.000000</td>\n",
       "      <td>8.000000</td>\n",
       "      <td>35.000000</td>\n",
       "      <td>23.000000</td>\n",
       "      <td>215.750000</td>\n",
       "    </tr>\n",
       "    <tr>\n",
       "      <th>max</th>\n",
       "      <td>2018.000000</td>\n",
       "      <td>12.000000</td>\n",
       "      <td>53.000000</td>\n",
       "      <td>31.000000</td>\n",
       "      <td>1176.000000</td>\n",
       "    </tr>\n",
       "  </tbody>\n",
       "</table>\n",
       "</div>"
      ],
      "text/plain": [
       "              year       month  week_num_in_year        date  count_order\n",
       "count   634.000000  634.000000        634.000000  634.000000   634.000000\n",
       "mean   2017.383281    5.938486         24.501577   15.597792   156.847003\n",
       "std       0.533051    3.214452         14.111411    8.768610    94.224817\n",
       "min    2016.000000    1.000000          1.000000    1.000000     1.000000\n",
       "25%    2017.000000    3.000000         13.000000    8.000000    96.000000\n",
       "50%    2017.000000    6.000000         24.000000   15.500000   148.000000\n",
       "75%    2018.000000    8.000000         35.000000   23.000000   215.750000\n",
       "max    2018.000000   12.000000         53.000000   31.000000  1176.000000"
      ]
     },
     "metadata": {},
     "output_type": "display_data"
    },
    {
     "data": {
      "text/html": [
       "<div>\n",
       "<style scoped>\n",
       "    .dataframe tbody tr th:only-of-type {\n",
       "        vertical-align: middle;\n",
       "    }\n",
       "\n",
       "    .dataframe tbody tr th {\n",
       "        vertical-align: top;\n",
       "    }\n",
       "\n",
       "    .dataframe thead th {\n",
       "        text-align: right;\n",
       "    }\n",
       "</style>\n",
       "<table border=\"1\" class=\"dataframe\">\n",
       "  <thead>\n",
       "    <tr style=\"text-align: right;\">\n",
       "      <th></th>\n",
       "      <th>year</th>\n",
       "      <th>month</th>\n",
       "      <th>week_num_in_year</th>\n",
       "      <th>date</th>\n",
       "      <th>count_order</th>\n",
       "    </tr>\n",
       "  </thead>\n",
       "  <tbody>\n",
       "    <tr>\n",
       "      <th>0</th>\n",
       "      <td>2016</td>\n",
       "      <td>9</td>\n",
       "      <td>36</td>\n",
       "      <td>4</td>\n",
       "      <td>1</td>\n",
       "    </tr>\n",
       "    <tr>\n",
       "      <th>1</th>\n",
       "      <td>2016</td>\n",
       "      <td>9</td>\n",
       "      <td>37</td>\n",
       "      <td>5</td>\n",
       "      <td>1</td>\n",
       "    </tr>\n",
       "    <tr>\n",
       "      <th>2</th>\n",
       "      <td>2016</td>\n",
       "      <td>9</td>\n",
       "      <td>38</td>\n",
       "      <td>13</td>\n",
       "      <td>1</td>\n",
       "    </tr>\n",
       "    <tr>\n",
       "      <th>3</th>\n",
       "      <td>2016</td>\n",
       "      <td>9</td>\n",
       "      <td>38</td>\n",
       "      <td>15</td>\n",
       "      <td>1</td>\n",
       "    </tr>\n",
       "    <tr>\n",
       "      <th>4</th>\n",
       "      <td>2016</td>\n",
       "      <td>10</td>\n",
       "      <td>40</td>\n",
       "      <td>2</td>\n",
       "      <td>1</td>\n",
       "    </tr>\n",
       "  </tbody>\n",
       "</table>\n",
       "</div>"
      ],
      "text/plain": [
       "   year  month  week_num_in_year  date  count_order\n",
       "0  2016      9                36     4            1\n",
       "1  2016      9                37     5            1\n",
       "2  2016      9                38    13            1\n",
       "3  2016      9                38    15            1\n",
       "4  2016     10                40     2            1"
      ]
     },
     "metadata": {},
     "output_type": "display_data"
    }
   ],
   "source": [
    "df = pd.read_sql(sql=sql, con=postgres_conn)\n",
    "\n",
    "display(df.info())\n",
    "display(df.describe())\n",
    "display(df.head(5))"
   ]
  },
  {
   "cell_type": "markdown",
   "id": "76edd2c8",
   "metadata": {
    "toc-hr-collapsed": true,
    "toc-nb-collapsed": true
   },
   "source": [
    "### Check Null Values"
   ]
  },
  {
   "cell_type": "code",
   "execution_count": 6,
   "id": "fb8ea692",
   "metadata": {},
   "outputs": [
    {
     "data": {
      "text/plain": [
       "year                0\n",
       "month               0\n",
       "week_num_in_year    0\n",
       "date                0\n",
       "count_order         0\n",
       "dtype: int64"
      ]
     },
     "execution_count": 6,
     "metadata": {},
     "output_type": "execute_result"
    }
   ],
   "source": [
    "df.isnull().sum()"
   ]
  },
  {
   "cell_type": "markdown",
   "id": "7a64e781",
   "metadata": {
    "toc-hr-collapsed": true,
    "toc-nb-collapsed": true
   },
   "source": [
    "## Exploratory Data Analysis"
   ]
  },
  {
   "cell_type": "code",
   "execution_count": 7,
   "id": "788c12d9",
   "metadata": {},
   "outputs": [
    {
     "data": {
      "image/png": "[encoded data removed]",
      "text/plain": [
       "<Figure size 432x288 with 1 Axes>"
      ]
     },
     "metadata": {
      "needs_background": "light"
     },
     "output_type": "display_data"
    },
    {
     "data": {
      "text/html": [
       "<div>\n",
       "<style scoped>\n",
       "    .dataframe tbody tr th:only-of-type {\n",
       "        vertical-align: middle;\n",
       "    }\n",
       "\n",
       "    .dataframe tbody tr th {\n",
       "        vertical-align: top;\n",
       "    }\n",
       "\n",
       "    .dataframe thead th {\n",
       "        text-align: right;\n",
       "    }\n",
       "</style>\n",
       "<table border=\"1\" class=\"dataframe\">\n",
       "  <thead>\n",
       "    <tr style=\"text-align: right;\">\n",
       "      <th></th>\n",
       "      <th>year</th>\n",
       "      <th>count_order</th>\n",
       "    </tr>\n",
       "  </thead>\n",
       "  <tbody>\n",
       "    <tr>\n",
       "      <th>0</th>\n",
       "      <td>2016</td>\n",
       "      <td>15</td>\n",
       "    </tr>\n",
       "    <tr>\n",
       "      <th>1</th>\n",
       "      <td>2017</td>\n",
       "      <td>361</td>\n",
       "    </tr>\n",
       "    <tr>\n",
       "      <th>2</th>\n",
       "      <td>2018</td>\n",
       "      <td>258</td>\n",
       "    </tr>\n",
       "  </tbody>\n",
       "</table>\n",
       "</div>"
      ],
      "text/plain": [
       "   year  count_order\n",
       "0  2016           15\n",
       "1  2017          361\n",
       "2  2018          258"
      ]
     },
     "metadata": {},
     "output_type": "display_data"
    }
   ],
   "source": [
    "fig, ax = plt.subplots()\n",
    "\n",
    "_df_temp = df.loc[:, ['year', 'count_order']].groupby('year', as_index=False).count()\n",
    "\n",
    "ax.bar(_df_temp['year'], _df_temp['count_order'])\n",
    "ax.set_title('Order by Year')\n",
    "ax.set_xlabel('Year')\n",
    "ax.set_ylabel('Order Frequency')\n",
    "\n",
    "plt.show()\n",
    "display(_df_temp.head(15))"
   ]
  },
  {
   "cell_type": "code",
   "execution_count": 8,
   "id": "5a2fe3a1",
   "metadata": {},
   "outputs": [
    {
     "data": {
      "image/png": "[encoded data removed]",
      "text/plain": [
       "<Figure size 432x288 with 1 Axes>"
      ]
     },
     "metadata": {
      "needs_background": "light"
     },
     "output_type": "display_data"
    },
    {
     "data": {
      "text/html": [
       "<div>\n",
       "<style scoped>\n",
       "    .dataframe tbody tr th:only-of-type {\n",
       "        vertical-align: middle;\n",
       "    }\n",
       "\n",
       "    .dataframe tbody tr th {\n",
       "        vertical-align: top;\n",
       "    }\n",
       "\n",
       "    .dataframe thead th {\n",
       "        text-align: right;\n",
       "    }\n",
       "</style>\n",
       "<table border=\"1\" class=\"dataframe\">\n",
       "  <thead>\n",
       "    <tr style=\"text-align: right;\">\n",
       "      <th></th>\n",
       "      <th>year</th>\n",
       "      <th>month</th>\n",
       "      <th>count_order</th>\n",
       "    </tr>\n",
       "  </thead>\n",
       "  <tbody>\n",
       "    <tr>\n",
       "      <th>0</th>\n",
       "      <td>2016</td>\n",
       "      <td>9</td>\n",
       "      <td>4</td>\n",
       "    </tr>\n",
       "    <tr>\n",
       "      <th>1</th>\n",
       "      <td>2016</td>\n",
       "      <td>10</td>\n",
       "      <td>10</td>\n",
       "    </tr>\n",
       "    <tr>\n",
       "      <th>2</th>\n",
       "      <td>2016</td>\n",
       "      <td>12</td>\n",
       "      <td>1</td>\n",
       "    </tr>\n",
       "    <tr>\n",
       "      <th>3</th>\n",
       "      <td>2017</td>\n",
       "      <td>1</td>\n",
       "      <td>27</td>\n",
       "    </tr>\n",
       "    <tr>\n",
       "      <th>4</th>\n",
       "      <td>2017</td>\n",
       "      <td>2</td>\n",
       "      <td>28</td>\n",
       "    </tr>\n",
       "    <tr>\n",
       "      <th>5</th>\n",
       "      <td>2017</td>\n",
       "      <td>3</td>\n",
       "      <td>31</td>\n",
       "    </tr>\n",
       "    <tr>\n",
       "      <th>6</th>\n",
       "      <td>2017</td>\n",
       "      <td>4</td>\n",
       "      <td>30</td>\n",
       "    </tr>\n",
       "    <tr>\n",
       "      <th>7</th>\n",
       "      <td>2017</td>\n",
       "      <td>5</td>\n",
       "      <td>31</td>\n",
       "    </tr>\n",
       "    <tr>\n",
       "      <th>8</th>\n",
       "      <td>2017</td>\n",
       "      <td>6</td>\n",
       "      <td>30</td>\n",
       "    </tr>\n",
       "    <tr>\n",
       "      <th>9</th>\n",
       "      <td>2017</td>\n",
       "      <td>7</td>\n",
       "      <td>31</td>\n",
       "    </tr>\n",
       "    <tr>\n",
       "      <th>10</th>\n",
       "      <td>2017</td>\n",
       "      <td>8</td>\n",
       "      <td>31</td>\n",
       "    </tr>\n",
       "    <tr>\n",
       "      <th>11</th>\n",
       "      <td>2017</td>\n",
       "      <td>9</td>\n",
       "      <td>30</td>\n",
       "    </tr>\n",
       "    <tr>\n",
       "      <th>12</th>\n",
       "      <td>2017</td>\n",
       "      <td>10</td>\n",
       "      <td>31</td>\n",
       "    </tr>\n",
       "    <tr>\n",
       "      <th>13</th>\n",
       "      <td>2017</td>\n",
       "      <td>11</td>\n",
       "      <td>30</td>\n",
       "    </tr>\n",
       "    <tr>\n",
       "      <th>14</th>\n",
       "      <td>2017</td>\n",
       "      <td>12</td>\n",
       "      <td>31</td>\n",
       "    </tr>\n",
       "  </tbody>\n",
       "</table>\n",
       "</div>"
      ],
      "text/plain": [
       "    year  month  count_order\n",
       "0   2016      9            4\n",
       "1   2016     10           10\n",
       "2   2016     12            1\n",
       "3   2017      1           27\n",
       "4   2017      2           28\n",
       "5   2017      3           31\n",
       "6   2017      4           30\n",
       "7   2017      5           31\n",
       "8   2017      6           30\n",
       "9   2017      7           31\n",
       "10  2017      8           31\n",
       "11  2017      9           30\n",
       "12  2017     10           31\n",
       "13  2017     11           30\n",
       "14  2017     12           31"
      ]
     },
     "metadata": {},
     "output_type": "display_data"
    }
   ],
   "source": [
    "fig, ax = plt.subplots()\n",
    "\n",
    "_df_temp = df.loc[:, ['year', 'month', 'count_order']] \\\n",
    "            .groupby(by=['year', 'month'], as_index=False) \\\n",
    "            .count()\n",
    "\n",
    "ax.bar(_df_temp['month'], _df_temp['count_order'])\n",
    "ax.set_title('Order by Month')\n",
    "ax.set_xlabel('Month')\n",
    "ax.set_ylabel('Order Frequency')\n",
    "\n",
    "plt.show()\n",
    "display(_df_temp.head(15))"
   ]
  },
  {
   "cell_type": "code",
   "execution_count": 9,
   "id": "38c60637",
   "metadata": {},
   "outputs": [
    {
     "data": {
      "image/png": "[encoded data removed]",
      "text/plain": [
       "<Figure size 432x288 with 1 Axes>"
      ]
     },
     "metadata": {
      "needs_background": "light"
     },
     "output_type": "display_data"
    },
    {
     "data": {
      "text/html": [
       "<div>\n",
       "<style scoped>\n",
       "    .dataframe tbody tr th:only-of-type {\n",
       "        vertical-align: middle;\n",
       "    }\n",
       "\n",
       "    .dataframe tbody tr th {\n",
       "        vertical-align: top;\n",
       "    }\n",
       "\n",
       "    .dataframe thead th {\n",
       "        text-align: right;\n",
       "    }\n",
       "</style>\n",
       "<table border=\"1\" class=\"dataframe\">\n",
       "  <thead>\n",
       "    <tr style=\"text-align: right;\">\n",
       "      <th></th>\n",
       "      <th>week_num_in_year</th>\n",
       "      <th>count_order</th>\n",
       "    </tr>\n",
       "  </thead>\n",
       "  <tbody>\n",
       "    <tr>\n",
       "      <th>0</th>\n",
       "      <td>1</td>\n",
       "      <td>7</td>\n",
       "    </tr>\n",
       "    <tr>\n",
       "      <th>1</th>\n",
       "      <td>2</td>\n",
       "      <td>11</td>\n",
       "    </tr>\n",
       "    <tr>\n",
       "      <th>2</th>\n",
       "      <td>3</td>\n",
       "      <td>14</td>\n",
       "    </tr>\n",
       "    <tr>\n",
       "      <th>3</th>\n",
       "      <td>4</td>\n",
       "      <td>14</td>\n",
       "    </tr>\n",
       "    <tr>\n",
       "      <th>4</th>\n",
       "      <td>5</td>\n",
       "      <td>14</td>\n",
       "    </tr>\n",
       "    <tr>\n",
       "      <th>5</th>\n",
       "      <td>6</td>\n",
       "      <td>14</td>\n",
       "    </tr>\n",
       "    <tr>\n",
       "      <th>6</th>\n",
       "      <td>7</td>\n",
       "      <td>14</td>\n",
       "    </tr>\n",
       "    <tr>\n",
       "      <th>7</th>\n",
       "      <td>8</td>\n",
       "      <td>14</td>\n",
       "    </tr>\n",
       "    <tr>\n",
       "      <th>8</th>\n",
       "      <td>9</td>\n",
       "      <td>14</td>\n",
       "    </tr>\n",
       "    <tr>\n",
       "      <th>9</th>\n",
       "      <td>10</td>\n",
       "      <td>14</td>\n",
       "    </tr>\n",
       "    <tr>\n",
       "      <th>10</th>\n",
       "      <td>11</td>\n",
       "      <td>14</td>\n",
       "    </tr>\n",
       "    <tr>\n",
       "      <th>11</th>\n",
       "      <td>12</td>\n",
       "      <td>14</td>\n",
       "    </tr>\n",
       "    <tr>\n",
       "      <th>12</th>\n",
       "      <td>13</td>\n",
       "      <td>14</td>\n",
       "    </tr>\n",
       "    <tr>\n",
       "      <th>13</th>\n",
       "      <td>14</td>\n",
       "      <td>14</td>\n",
       "    </tr>\n",
       "    <tr>\n",
       "      <th>14</th>\n",
       "      <td>15</td>\n",
       "      <td>14</td>\n",
       "    </tr>\n",
       "  </tbody>\n",
       "</table>\n",
       "</div>"
      ],
      "text/plain": [
       "    week_num_in_year  count_order\n",
       "0                  1            7\n",
       "1                  2           11\n",
       "2                  3           14\n",
       "3                  4           14\n",
       "4                  5           14\n",
       "5                  6           14\n",
       "6                  7           14\n",
       "7                  8           14\n",
       "8                  9           14\n",
       "9                 10           14\n",
       "10                11           14\n",
       "11                12           14\n",
       "12                13           14\n",
       "13                14           14\n",
       "14                15           14"
      ]
     },
     "metadata": {},
     "output_type": "display_data"
    }
   ],
   "source": [
    "fig, ax = plt.subplots()\n",
    "\n",
    "_df_temp = df.loc[:, ['week_num_in_year', 'count_order']] \\\n",
    "            .groupby(by='week_num_in_year', as_index=False) \\\n",
    "            .count()\n",
    "\n",
    "ax.bar(_df_temp['week_num_in_year'], _df_temp['count_order'])\n",
    "ax.set_title('Order by Week in Year')\n",
    "ax.set_xlabel('Week in Year')\n",
    "ax.set_ylabel('Order Frequency')\n",
    "\n",
    "plt.show()\n",
    "display(_df_temp.head(15))"
   ]
  },
  {
   "cell_type": "code",
   "execution_count": 10,
   "id": "33239a12",
   "metadata": {},
   "outputs": [],
   "source": [
    "model_df = df.copy()"
   ]
  },
  {
   "cell_type": "markdown",
   "id": "20661ed4",
   "metadata": {
    "toc-hr-collapsed": true,
    "toc-nb-collapsed": true
   },
   "source": [
    "## Data Preprocessing"
   ]
  },
  {
   "cell_type": "code",
   "execution_count": 11,
   "id": "11dc0742",
   "metadata": {},
   "outputs": [],
   "source": [
    "from sklearn.preprocessing import Normalizer\n",
    "from sklearn.preprocessing import StandardScaler\n",
    "normalizer = Normalizer(norm='l2')\n",
    "standardize = StandardScaler()"
   ]
  },
  {
   "cell_type": "markdown",
   "id": "2b2db36f",
   "metadata": {},
   "source": [
    "## Utility Functions"
   ]
  },
  {
   "cell_type": "code",
   "execution_count": 12,
   "id": "5fc84576",
   "metadata": {},
   "outputs": [],
   "source": [
    "def _tscv(X, pipe):\n",
    "    tscv = TimeSeriesSplit()\n",
    "\n",
    "    errors = []\n",
    "\n",
    "    for train_index, test_index in tscv.split(X):\n",
    "        X_train, X_test = X[train_index], X[test_index]\n",
    "        y_train, y_test = y[train_index], y[test_index]\n",
    "\n",
    "        pipe.fit(X_train, y_train)\n",
    "        y_pred = pipe.predict(X_test)\n",
    "        mse = mean_squared_error(y_test, y_pred)\n",
    "        errors.append(mse)\n",
    "    \n",
    "    print(errors)\n",
    "    print(sum(errors)/len(errors))"
   ]
  },
  {
   "cell_type": "code",
   "execution_count": 13,
   "id": "c57b2861",
   "metadata": {},
   "outputs": [],
   "source": [
    "def shift(data, n_in=1, n_out=1, dropna=True):\n",
    "    \"\"\"\n",
    "    Arguments:\n",
    "        data: Sequence of observations as DataFrame or Numpy Array.\n",
    "        n_in: Number of lag observations as input.\n",
    "        n_out: Number of observations as output.\n",
    "        dropna: Boolean whether to drop rows with NaN values.\n",
    "    Returns:\n",
    "        df: Pandas DataFrame\n",
    "    \"\"\"\n",
    "    \n",
    "    try:\n",
    "        var = range(0, data.shape[1]) if isinstance(data, np.ndarray) else \\\n",
    "                data.columns if isinstance(data, pd.DataFrame) else None\n",
    "    except IndexError as e:\n",
    "        var = range(0, 1)\n",
    "    \n",
    "    if var is None:\n",
    "        raise Exception('Expected pandas.DataFrame or numpy.ndarray got {}'.format(type(data)))\n",
    "    \n",
    "    df = pd.DataFrame(data)\n",
    "    cols, names = [], []\n",
    "    \n",
    "    for i in range(n_in, 0, -1):\n",
    "        cols.append(df.shift(i))\n",
    "        names += [('{n}(t-{i})'.format(n=v, i=i)) for v in var]\n",
    "    \n",
    "    for i in range(0, n_out):\n",
    "        cols.append(df.shift(i))\n",
    "        if i == 0:\n",
    "            names += [('{n}(t)'.format(n=v)) for v in var]\n",
    "        else:\n",
    "            names += [('{n}(t+{i})'.format(n=v, i=i)) for v in var]\n",
    "    \n",
    "    agg = pd.concat(cols, axis=1)\n",
    "    agg.columns = names\n",
    "    \n",
    "    if dropna:\n",
    "        agg.dropna(inplace=True)\n",
    "    \n",
    "    return agg"
   ]
  },
  {
   "cell_type": "code",
   "execution_count": 14,
   "id": "c4e0a3e6",
   "metadata": {},
   "outputs": [],
   "source": [
    "def evaluate(y_actual, y_pred):\n",
    "    med_ae = median_absolute_error(y_actual, y_pred)\n",
    "    mae = mean_absolute_error(y_actual, y_pred)\n",
    "    mse = mean_squared_error(y_actual, y_pred)\n",
    "    rmse = mean_squared_error(y_actual, y_pred, squared=False)\n",
    "    \n",
    "    return {\n",
    "        'Median Absolute Error': med_ae,\n",
    "        'Mean Absolute Error': mae,\n",
    "        'Mean Squared Error': mse,\n",
    "        'Root Mean Squared Error': rmse\n",
    "    }"
   ]
  },
  {
   "cell_type": "code",
   "execution_count": 15,
   "id": "df899bef-d36a-4c56-8277-c142102f2a35",
   "metadata": {},
   "outputs": [],
   "source": [
    "def _tscv_eval(X, pipe):\n",
    "    tscv = TimeSeriesSplit()\n",
    "\n",
    "    errors = []\n",
    "\n",
    "    for train_index, test_index in tscv.split(X):\n",
    "        X_train, X_test = X[train_index], X[test_index]\n",
    "        y_train, y_test = y[train_index], y[test_index]\n",
    "\n",
    "        pipe.fit(X_train, y_train)\n",
    "        y_pred = pipe.predict(X_test)\n",
    "        error = evaluate(y_test, y_pred)\n",
    "        errors.append(error)\n",
    "    \n",
    "    print(json.dumps(errors, indent=4))"
   ]
  },
  {
   "cell_type": "markdown",
   "id": "3f1a3cb1",
   "metadata": {
    "toc-hr-collapsed": true,
    "toc-nb-collapsed": true
   },
   "source": [
    "## Naive Model"
   ]
  },
  {
   "cell_type": "code",
   "execution_count": 16,
   "id": "4b10b046",
   "metadata": {},
   "outputs": [],
   "source": [
    "from sklearn.metrics import median_absolute_error, mean_absolute_error, mean_squared_error"
   ]
  },
  {
   "cell_type": "code",
   "execution_count": 17,
   "id": "96e68c8f",
   "metadata": {},
   "outputs": [
    {
     "name": "stdout",
     "output_type": "stream",
     "text": [
      "8864.3125541104\n"
     ]
    }
   ],
   "source": [
    "y = model_df.loc[:, 'count_order']\n",
    "# Set to predict the mean\n",
    "y_pred = [y.mean() for i in range(0, len(y))]\n",
    "\n",
    "mse = mean_squared_error(y, y_pred)\n",
    "print(mse)"
   ]
  },
  {
   "cell_type": "code",
   "execution_count": 18,
   "id": "8003d2e1-220e-4705-b394-9e9773361dc5",
   "metadata": {},
   "outputs": [
    {
     "name": "stdout",
     "output_type": "stream",
     "text": [
      "{\n",
      "    \"Median Absolute Error\": 59.84700315457414,\n",
      "    \"Mean Absolute Error\": 70.68741354775149,\n",
      "    \"Mean Squared Error\": 8864.3125541104,\n",
      "    \"Root Mean Squared Error\": 94.15047824684908\n",
      "}\n"
     ]
    }
   ],
   "source": [
    "y = model_df.loc[:, 'count_order']\n",
    "# Set to predict the mean\n",
    "y_pred = [y.mean() for i in range(0, len(y))]\n",
    "\n",
    "print(json.dumps(evaluate(y, y_pred), indent=4))"
   ]
  },
  {
   "cell_type": "markdown",
   "id": "156368d1",
   "metadata": {
    "toc-hr-collapsed": true,
    "toc-nb-collapsed": true
   },
   "source": [
    "## Feature Engineering"
   ]
  },
  {
   "cell_type": "code",
   "execution_count": 19,
   "id": "1eafe068",
   "metadata": {},
   "outputs": [],
   "source": [
    "X = model_df.loc[:, ['year', 'month', 'week_num_in_year', 'date']].to_numpy()\n",
    "y = model_df.loc[:, 'count_order'].to_numpy()"
   ]
  },
  {
   "cell_type": "code",
   "execution_count": 20,
   "id": "0b25908c",
   "metadata": {},
   "outputs": [],
   "source": [
    "shifted = shift(y, 2, 1, dropna=False)"
   ]
  },
  {
   "cell_type": "code",
   "execution_count": 21,
   "id": "4fe294b8",
   "metadata": {},
   "outputs": [
    {
     "data": {
      "text/plain": [
       "array([[nan, nan],\n",
       "       [nan,  1.],\n",
       "       [ 1.,  1.],\n",
       "       ...,\n",
       "       [ 1.,  1.],\n",
       "       [ 1.,  1.],\n",
       "       [ 1.,  1.]])"
      ]
     },
     "execution_count": 21,
     "metadata": {},
     "output_type": "execute_result"
    }
   ],
   "source": [
    "shifted.loc[:, ['0(t-2)','0(t-1)']].to_numpy()"
   ]
  },
  {
   "cell_type": "code",
   "execution_count": 22,
   "id": "0e3b670f",
   "metadata": {},
   "outputs": [],
   "source": [
    "_X = np.concatenate((X, shifted), axis=1)\n",
    "\n",
    "_X = pd.DataFrame(_X)\n",
    "_X = _X.dropna()\n",
    "_X = _X.to_numpy()\n",
    "\n",
    "_y = y[2:]"
   ]
  },
  {
   "cell_type": "markdown",
   "id": "d2348c9c",
   "metadata": {
    "tags": [],
    "toc-nb-collapsed": true
   },
   "source": [
    "## MLP Regressor"
   ]
  },
  {
   "cell_type": "code",
   "execution_count": 23,
   "id": "6ed06cba",
   "metadata": {},
   "outputs": [],
   "source": [
    "from sklearn.neural_network import MLPRegressor\n",
    "from sklearn.model_selection import TimeSeriesSplit"
   ]
  },
  {
   "cell_type": "code",
   "execution_count": 24,
   "id": "86071db5",
   "metadata": {},
   "outputs": [],
   "source": [
    "X = model_df.loc[:, ['year', 'month', 'week_num_in_year', 'date']].to_numpy()\n",
    "y = model_df.loc[:, 'count_order'].to_numpy()"
   ]
  },
  {
   "cell_type": "markdown",
   "id": "e8074788",
   "metadata": {},
   "source": [
    "### Hyperparameter Tuning"
   ]
  },
  {
   "cell_type": "code",
   "execution_count": 25,
   "id": "c85424e3",
   "metadata": {},
   "outputs": [],
   "source": [
    "from sklearn.metrics import make_scorer"
   ]
  },
  {
   "cell_type": "code",
   "execution_count": 26,
   "id": "6fb60f5c",
   "metadata": {
    "scrolled": true,
    "tags": []
   },
   "outputs": [],
   "source": [
    "# mse_scorer = make_scorer(mean_squared_error)\n",
    "\n",
    "# pipe = Pipeline([\n",
    "#         ('scale', StandardScaler()),\n",
    "#         ('mlp', MLPRegressor(max_iter=1000))])\n",
    "\n",
    "# param_grid = dict(mlp__hidden_layer_sizes=[(100,),(100,30),(100,30,10)],\n",
    "#                   mlp__activation=['identity', 'relu', 'logistic'],\n",
    "#                   mlp__learning_rate_init=[0.001,0.003,0.005,0.01,0.05])\n",
    "\n",
    "# grid = GridSearchCV(pipe, param_grid=param_grid, cv=TimeSeriesSplit(),\n",
    "#                     scoring=mse_scorer, n_jobs=1, verbose=1)\n",
    "# grid.fit(X, y)"
   ]
  },
  {
   "cell_type": "code",
   "execution_count": 27,
   "id": "f583f907",
   "metadata": {},
   "outputs": [],
   "source": [
    "# print(grid.best_score_)\n",
    "# print(grid.best_estimator_)"
   ]
  },
  {
   "cell_type": "code",
   "execution_count": 28,
   "id": "85900e64",
   "metadata": {},
   "outputs": [],
   "source": [
    "## DO NOT DELETE\n",
    "# mlpr = MLPRegressor(\n",
    "#             hidden_layer_sizes=(100,30),\n",
    "#             activation='relu',\n",
    "#             solver='lbfgs',\n",
    "#             learning_rate='constant',\n",
    "#             learning_rate_init=0.001,\n",
    "#             max_iter=1000)"
   ]
  },
  {
   "cell_type": "markdown",
   "id": "0a972a2b",
   "metadata": {},
   "source": [
    "### Default Parameter"
   ]
  },
  {
   "cell_type": "code",
   "execution_count": 29,
   "id": "3e223c88",
   "metadata": {
    "tags": []
   },
   "outputs": [
    {
     "name": "stderr",
     "output_type": "stream",
     "text": [
      "/home/dionricky/future-data-1/env/lib/python3.8/site-packages/sklearn/neural_network/_multilayer_perceptron.py:614: ConvergenceWarning: Stochastic Optimizer: Maximum iterations (1000) reached and the optimization hasn't converged yet.\n",
      "  warnings.warn(\n",
      "/home/dionricky/future-data-1/env/lib/python3.8/site-packages/sklearn/neural_network/_multilayer_perceptron.py:614: ConvergenceWarning: Stochastic Optimizer: Maximum iterations (1000) reached and the optimization hasn't converged yet.\n",
      "  warnings.warn(\n",
      "/home/dionricky/future-data-1/env/lib/python3.8/site-packages/sklearn/neural_network/_multilayer_perceptron.py:614: ConvergenceWarning: Stochastic Optimizer: Maximum iterations (1000) reached and the optimization hasn't converged yet.\n",
      "  warnings.warn(\n",
      "/home/dionricky/future-data-1/env/lib/python3.8/site-packages/sklearn/neural_network/_multilayer_perceptron.py:614: ConvergenceWarning: Stochastic Optimizer: Maximum iterations (1000) reached and the optimization hasn't converged yet.\n",
      "  warnings.warn(\n"
     ]
    },
    {
     "name": "stdout",
     "output_type": "stream",
     "text": [
      "[815.7760331002802, 1739.3295002071713, 33932.14636305972, 4550.63298884734, 13135.534917597099]\n",
      "10834.683960562323\n"
     ]
    },
    {
     "name": "stderr",
     "output_type": "stream",
     "text": [
      "/home/dionricky/future-data-1/env/lib/python3.8/site-packages/sklearn/neural_network/_multilayer_perceptron.py:614: ConvergenceWarning: Stochastic Optimizer: Maximum iterations (1000) reached and the optimization hasn't converged yet.\n",
      "  warnings.warn(\n"
     ]
    }
   ],
   "source": [
    "mlpr = MLPRegressor(max_iter=1000)\n",
    "# model = make_pipeline(normalizer, mlpr)\n",
    "model = make_pipeline(standardize, mlpr)\n",
    "\n",
    "_tscv(X, model)"
   ]
  },
  {
   "cell_type": "markdown",
   "id": "63eb4571",
   "metadata": {},
   "source": [
    "### Final Model"
   ]
  },
  {
   "cell_type": "code",
   "execution_count": 30,
   "id": "b0d29023",
   "metadata": {},
   "outputs": [
    {
     "name": "stdout",
     "output_type": "stream",
     "text": [
      "[1722.0058623507941, 1873.9794253332786, 16009.452786470905, 4327.226851916967, 23870.136205670216]\n",
      "9560.560226348432\n"
     ]
    }
   ],
   "source": [
    "mlpr = MLPRegressor(max_iter=1000, activation='identity',\n",
    "                   solver='sgd', learning_rate='constant',\n",
    "                   tol=0.005)\n",
    "\n",
    "pipe = make_pipeline(standardize, mlpr)\n",
    "\n",
    "_tscv(X, pipe)"
   ]
  },
  {
   "cell_type": "code",
   "execution_count": 31,
   "id": "785a88cd-7ca7-4efe-b121-e892207b5027",
   "metadata": {},
   "outputs": [
    {
     "name": "stdout",
     "output_type": "stream",
     "text": [
      "[\n",
      "    {\n",
      "        \"Median Absolute Error\": 27.224118131157184,\n",
      "        \"Mean Absolute Error\": 33.8498363995275,\n",
      "        \"Mean Squared Error\": 1732.3539494413528,\n",
      "        \"Root Mean Squared Error\": 41.62155630729529\n",
      "    },\n",
      "    {\n",
      "        \"Median Absolute Error\": 31.7699455809001,\n",
      "        \"Mean Absolute Error\": 33.70773408443219,\n",
      "        \"Mean Squared Error\": 1676.89349709093,\n",
      "        \"Root Mean Squared Error\": 40.949890074222786\n",
      "    },\n",
      "    {\n",
      "        \"Median Absolute Error\": 49.2377317187146,\n",
      "        \"Mean Absolute Error\": 68.29299639898251,\n",
      "        \"Mean Squared Error\": 15788.43677645041,\n",
      "        \"Root Mean Squared Error\": 125.65204644752274\n",
      "    },\n",
      "    {\n",
      "        \"Median Absolute Error\": 46.67263902826602,\n",
      "        \"Mean Absolute Error\": 56.94975603496856,\n",
      "        \"Mean Squared Error\": 5422.069205520539,\n",
      "        \"Root Mean Squared Error\": 73.63470109615805\n",
      "    },\n",
      "    {\n",
      "        \"Median Absolute Error\": 92.76565736094375,\n",
      "        \"Mean Absolute Error\": 120.64504798325217,\n",
      "        \"Mean Squared Error\": 25337.824796664987,\n",
      "        \"Root Mean Squared Error\": 159.17859402779317\n",
      "    }\n",
      "]\n"
     ]
    }
   ],
   "source": [
    "mlpr = MLPRegressor(max_iter=1000, activation='identity',\n",
    "                   solver='sgd', learning_rate='constant',\n",
    "                   tol=0.005)\n",
    "\n",
    "pipe = make_pipeline(standardize, mlpr)\n",
    "\n",
    "_tscv_eval(X, pipe)"
   ]
  },
  {
   "cell_type": "code",
   "execution_count": 32,
   "id": "5c18557d-52c2-4d6f-9240-b347cd3a161e",
   "metadata": {},
   "outputs": [
    {
     "data": {
      "image/png": "[encoded data removed]",
      "text/plain": [
       "<Figure size 432x288 with 1 Axes>"
      ]
     },
     "metadata": {
      "needs_background": "light"
     },
     "output_type": "display_data"
    }
   ],
   "source": [
    "mlpr = MLPRegressor(max_iter=1000, activation='identity',\n",
    "                   solver='sgd', learning_rate='constant',\n",
    "                   tol=0.005)\n",
    "\n",
    "pipe = make_pipeline(standardize, mlpr)\n",
    "\n",
    "model = pipe.fit(X, y)\n",
    "\n",
    "y_actual = y\n",
    "y_base = [y.mean() for i in range(0, len(y))]\n",
    "y_pred = model.predict(X)\n",
    "\n",
    "fig, ax = plt.subplots()\n",
    "\n",
    "ax.plot(y_actual[100:130], label='Actual Sales', color='limegreen', alpha=0.6, marker='o')\n",
    "ax.plot(y_base[100:130], label='Base Model', color='grey', alpha=0.4, linestyle='dashed')\n",
    "ax.plot(y_pred[100:130], label='Predicted', color='darkviolet', marker='o')\n",
    "\n",
    "ax.set_title('MLP Regressor Prediction')\n",
    "ax.set_xlabel('Time')\n",
    "ax.set_ylabel('Sales')\n",
    "\n",
    "ax.legend(loc='upper right')\n",
    "\n",
    "plt.show()"
   ]
  },
  {
   "cell_type": "markdown",
   "id": "ff8b6e67",
   "metadata": {},
   "source": [
    "## Support Vector Regression"
   ]
  },
  {
   "cell_type": "code",
   "execution_count": 33,
   "id": "03913431",
   "metadata": {},
   "outputs": [],
   "source": [
    "from sklearn.svm import LinearSVR"
   ]
  },
  {
   "cell_type": "code",
   "execution_count": 34,
   "id": "500f0d1c",
   "metadata": {},
   "outputs": [],
   "source": [
    "X = model_df.loc[:, ['year', 'month', 'week_num_in_year', 'date']].to_numpy()\n",
    "y = model_df.loc[:, 'count_order'].to_numpy()"
   ]
  },
  {
   "cell_type": "markdown",
   "id": "55f03b38",
   "metadata": {},
   "source": [
    "### Hyperparameter Tuning"
   ]
  },
  {
   "cell_type": "code",
   "execution_count": 35,
   "id": "9d65a154",
   "metadata": {
    "tags": []
   },
   "outputs": [],
   "source": [
    "# mse_scorer = make_scorer(mean_squared_error)\n",
    "\n",
    "# pipe = Pipeline([\n",
    "#         ('scale', StandardScaler()),\n",
    "#         ('svr', LinearSVR())])\n",
    "\n",
    "# param_grid = dict(svr__tol=[0.0001, 0.0005, 0.001, 0.005, 0.01, 0.05],\n",
    "#                   svr__max_iter=[1000,2000,5000],\n",
    "#                   svr__C=[1, 1.5, 2, 2.5, 3, 3.5])\n",
    "\n",
    "# grid = GridSearchCV(pipe, param_grid=param_grid, cv=TimeSeriesSplit(),\n",
    "#                     scoring=mse_scorer, n_jobs=1, verbose=1)\n",
    "# grid.fit(X, y)"
   ]
  },
  {
   "cell_type": "code",
   "execution_count": 36,
   "id": "6dee6027",
   "metadata": {},
   "outputs": [],
   "source": [
    "# print(grid.best_score_)\n",
    "# print(grid.best_estimator_)"
   ]
  },
  {
   "cell_type": "markdown",
   "id": "752c2835",
   "metadata": {},
   "source": [
    "### Default Parameter"
   ]
  },
  {
   "cell_type": "code",
   "execution_count": 37,
   "id": "528a6be6",
   "metadata": {},
   "outputs": [
    {
     "name": "stdout",
     "output_type": "stream",
     "text": [
      "[4184.440459255467, 966.1583567539504, 18125.57359801922, 4005.754476960038, 15529.895363481794]\n",
      "8562.364450894094\n"
     ]
    }
   ],
   "source": [
    "svr = LinearSVR()\n",
    "\n",
    "pipe = make_pipeline(standardize, svr)\n",
    "\n",
    "_tscv(X, pipe)"
   ]
  },
  {
   "cell_type": "markdown",
   "id": "2705a4d1",
   "metadata": {},
   "source": [
    "### Final Model"
   ]
  },
  {
   "cell_type": "code",
   "execution_count": 38,
   "id": "fc51f1f5",
   "metadata": {},
   "outputs": [
    {
     "name": "stdout",
     "output_type": "stream",
     "text": [
      "[2240.708021700115, 910.1499441758345, 16406.837023409862, 3840.383698252569, 19250.981545477218]\n",
      "8529.81204660312\n"
     ]
    }
   ],
   "source": [
    "final_svr = LinearSVR(C=2, max_iter=2000, tol=0.05)\n",
    "\n",
    "pipe = make_pipeline(standardize, final_svr)\n",
    "\n",
    "_tscv(X, pipe)"
   ]
  },
  {
   "cell_type": "code",
   "execution_count": 39,
   "id": "c11015e3-470f-4620-bae5-2e3aaf107f53",
   "metadata": {},
   "outputs": [
    {
     "name": "stdout",
     "output_type": "stream",
     "text": [
      "[\n",
      "    {\n",
      "        \"Median Absolute Error\": 35.61076692136133,\n",
      "        \"Mean Absolute Error\": 38.16882122197457,\n",
      "        \"Mean Squared Error\": 2089.183651855632,\n",
      "        \"Root Mean Squared Error\": 45.70758855874626\n",
      "    },\n",
      "    {\n",
      "        \"Median Absolute Error\": 22.241163732552764,\n",
      "        \"Mean Absolute Error\": 24.40247241365761,\n",
      "        \"Mean Squared Error\": 927.1515123455218,\n",
      "        \"Root Mean Squared Error\": 30.44916275278389\n",
      "    },\n",
      "    {\n",
      "        \"Median Absolute Error\": 45.23719623252396,\n",
      "        \"Mean Absolute Error\": 70.37630320587228,\n",
      "        \"Mean Squared Error\": 16609.295998139645,\n",
      "        \"Root Mean Squared Error\": 128.8770576873155\n",
      "    },\n",
      "    {\n",
      "        \"Median Absolute Error\": 43.64289138198694,\n",
      "        \"Mean Absolute Error\": 51.542519051189,\n",
      "        \"Mean Squared Error\": 3949.955854989035,\n",
      "        \"Root Mean Squared Error\": 62.84867425005109\n",
      "    },\n",
      "    {\n",
      "        \"Median Absolute Error\": 68.08413994647577,\n",
      "        \"Mean Absolute Error\": 100.49198992740364,\n",
      "        \"Mean Squared Error\": 18950.445497862485,\n",
      "        \"Root Mean Squared Error\": 137.66061709095484\n",
      "    }\n",
      "]\n"
     ]
    }
   ],
   "source": [
    "final_svr = LinearSVR(C=2, max_iter=2000, tol=0.05)\n",
    "\n",
    "pipe = make_pipeline(standardize, final_svr)\n",
    "\n",
    "_tscv_eval(X, pipe)"
   ]
  },
  {
   "cell_type": "code",
   "execution_count": 40,
   "id": "50a04da9-adf3-4d0b-b53d-4c7d60db1e3d",
   "metadata": {},
   "outputs": [
    {
     "data": {
      "image/png": "[encoded data removed]",
      "text/plain": [
       "<Figure size 432x288 with 1 Axes>"
      ]
     },
     "metadata": {
      "needs_background": "light"
     },
     "output_type": "display_data"
    }
   ],
   "source": [
    "final_svr = LinearSVR(C=2, max_iter=2000, tol=0.05)\n",
    "\n",
    "pipe = make_pipeline(standardize, final_svr)\n",
    "\n",
    "model = pipe.fit(X, y)\n",
    "\n",
    "y_actual = y\n",
    "y_base = [y.mean() for i in range(0, len(y))]\n",
    "y_pred = model.predict(X)\n",
    "\n",
    "fig, ax = plt.subplots()\n",
    "\n",
    "ax.plot(y_actual[100:130], label='Actual Sales', color='limegreen', alpha=0.6, marker='o')\n",
    "ax.plot(y_base[100:130], label='Base Model', color='grey', alpha=0.4, linestyle='dashed')\n",
    "ax.plot(y_pred[100:130], label='Predicted', color='darkviolet', marker='o')\n",
    "\n",
    "ax.set_title('Support Vector Regression')\n",
    "ax.set_xlabel('Time')\n",
    "ax.set_ylabel('Sales')\n",
    "\n",
    "ax.legend(loc='upper right')\n",
    "\n",
    "plt.show()"
   ]
  },
  {
   "cell_type": "markdown",
   "id": "b929b74c",
   "metadata": {},
   "source": [
    "## SGD Regressor"
   ]
  },
  {
   "cell_type": "code",
   "execution_count": 41,
   "id": "a234370f",
   "metadata": {},
   "outputs": [],
   "source": [
    "from sklearn.linear_model import SGDRegressor"
   ]
  },
  {
   "cell_type": "code",
   "execution_count": 42,
   "id": "d683f31d",
   "metadata": {},
   "outputs": [],
   "source": [
    "X = model_df.loc[:, ['year', 'month', 'week_num_in_year', 'date']].to_numpy()\n",
    "y = model_df.loc[:, 'count_order'].to_numpy()"
   ]
  },
  {
   "cell_type": "markdown",
   "id": "3cc49853",
   "metadata": {},
   "source": [
    "### Hyperparameter Tuning"
   ]
  },
  {
   "cell_type": "code",
   "execution_count": 43,
   "id": "ff8969eb",
   "metadata": {
    "scrolled": true,
    "tags": []
   },
   "outputs": [],
   "source": [
    "# mse_scorer = make_scorer(mean_squared_error)\n",
    "\n",
    "# pipe = Pipeline([\n",
    "#         ('scale', StandardScaler()),\n",
    "#         ('sgdr', SGDRegressor())])\n",
    "\n",
    "# param_grid = dict(sgdr__loss=['squared_loss', 'huber'],\n",
    "#                   sgdr__epsilon=[0.1,0.3,0.5],\n",
    "#                   sgdr__learning_rate=['constant', 'invscaling', 'adaptive'],\n",
    "#                   sgdr__eta0=[0.01,0.03,0.05],\n",
    "#                   sgdr__max_iter=[5000,10000],\n",
    "#                   sgdr__alpha=[0.0001,0.0005,0.001])\n",
    "\n",
    "# grid = GridSearchCV(pipe, param_grid=param_grid, cv=TimeSeriesSplit(),\n",
    "#                     scoring=mse_scorer, n_jobs=1, verbose=1)\n",
    "# grid.fit(X, y)"
   ]
  },
  {
   "cell_type": "code",
   "execution_count": 44,
   "id": "5c737d8a",
   "metadata": {},
   "outputs": [],
   "source": [
    "# print(grid.best_score_)\n",
    "# print(grid.best_estimator_)"
   ]
  },
  {
   "cell_type": "markdown",
   "id": "4b1bfa9c",
   "metadata": {},
   "source": [
    "### Default Parameter & Final Model"
   ]
  },
  {
   "cell_type": "code",
   "execution_count": 45,
   "id": "0f9e9d05",
   "metadata": {},
   "outputs": [
    {
     "name": "stdout",
     "output_type": "stream",
     "text": [
      "[1081.3729138264357, 1313.6989366698067, 15786.07970618961, 5042.626581624553, 24112.23413850876]\n",
      "9467.202455363833\n"
     ]
    }
   ],
   "source": [
    "sgdr = SGDRegressor()\n",
    "\n",
    "pipe = make_pipeline(standardize, sgdr)\n",
    "\n",
    "_tscv(X, pipe)"
   ]
  },
  {
   "cell_type": "code",
   "execution_count": 46,
   "id": "619c6dc5-2f5a-4b00-9a75-364541fb3774",
   "metadata": {},
   "outputs": [
    {
     "name": "stdout",
     "output_type": "stream",
     "text": [
      "[\n",
      "    {\n",
      "        \"Median Absolute Error\": 21.993580952512843,\n",
      "        \"Mean Absolute Error\": 26.60009144333502,\n",
      "        \"Mean Squared Error\": 1134.5161262636686,\n",
      "        \"Root Mean Squared Error\": 33.68257897287066\n",
      "    },\n",
      "    {\n",
      "        \"Median Absolute Error\": 23.55966807246324,\n",
      "        \"Mean Absolute Error\": 28.824571390671025,\n",
      "        \"Mean Squared Error\": 1265.862052705703,\n",
      "        \"Root Mean Squared Error\": 35.57895519412709\n",
      "    },\n",
      "    {\n",
      "        \"Median Absolute Error\": 46.630726165103965,\n",
      "        \"Mean Absolute Error\": 67.10122614542533,\n",
      "        \"Mean Squared Error\": 15787.55057372873,\n",
      "        \"Root Mean Squared Error\": 125.64851998224543\n",
      "    },\n",
      "    {\n",
      "        \"Median Absolute Error\": 44.36199304247887,\n",
      "        \"Mean Absolute Error\": 54.974992566989926,\n",
      "        \"Mean Squared Error\": 5005.20538037901,\n",
      "        \"Root Mean Squared Error\": 70.7474761414074\n",
      "    },\n",
      "    {\n",
      "        \"Median Absolute Error\": 88.97212382418172,\n",
      "        \"Mean Absolute Error\": 116.67383396924046,\n",
      "        \"Mean Squared Error\": 24020.546685119705,\n",
      "        \"Root Mean Squared Error\": 154.98563380236152\n",
      "    }\n",
      "]\n"
     ]
    }
   ],
   "source": [
    "sgdr = SGDRegressor()\n",
    "\n",
    "pipe = make_pipeline(standardize, sgdr)\n",
    "\n",
    "_tscv_eval(X, pipe)"
   ]
  },
  {
   "cell_type": "code",
   "execution_count": 47,
   "id": "2f69d33f-e613-4a9c-a95c-f033fb29a37e",
   "metadata": {},
   "outputs": [
    {
     "data": {
      "image/png": "[encoded data removed]",
      "text/plain": [
       "<Figure size 432x288 with 1 Axes>"
      ]
     },
     "metadata": {
      "needs_background": "light"
     },
     "output_type": "display_data"
    }
   ],
   "source": [
    "sgdr = SGDRegressor()\n",
    "\n",
    "pipe = make_pipeline(standardize, sgdr)\n",
    "\n",
    "model = pipe.fit(X, y)\n",
    "\n",
    "y_actual = y\n",
    "y_base = [y.mean() for i in range(0, len(y))]\n",
    "y_pred = model.predict(X)\n",
    "\n",
    "fig, ax = plt.subplots()\n",
    "\n",
    "ax.plot(y_actual[100:130], label='Actual Sales', color='limegreen', alpha=0.6, marker='o')\n",
    "ax.plot(y_base[100:130], label='Base Model', color='grey', alpha=0.4, linestyle='dashed')\n",
    "ax.plot(y_pred[100:130], label='Predicted', color='darkviolet', marker='o')\n",
    "\n",
    "ax.set_title('SGD Regression')\n",
    "ax.set_xlabel('Time')\n",
    "ax.set_ylabel('Sales')\n",
    "\n",
    "ax.legend(loc='upper right')\n",
    "\n",
    "plt.show()"
   ]
  },
  {
   "cell_type": "code",
   "execution_count": 48,
   "id": "d32ab3f7-2310-4e2d-aa11-179805d22c86",
   "metadata": {},
   "outputs": [
    {
     "data": {
      "image/png": "[encoded data removed]",
      "text/plain": [
       "<Figure size 432x288 with 1 Axes>"
      ]
     },
     "metadata": {
      "needs_background": "light"
     },
     "output_type": "display_data"
    }
   ],
   "source": [
    "sgdr = SGDRegressor()\n",
    "\n",
    "pipe = make_pipeline(standardize, sgdr)\n",
    "\n",
    "model = pipe.fit(X[:len(X)-30], y[:len(y)-30])\n",
    "\n",
    "y_actual = y[len(y)-30:]\n",
    "y_base = [y.mean() for i in range(0, 30)]\n",
    "y_pred = model.predict(X[len(X)-30:])\n",
    "\n",
    "fig, ax = plt.subplots()\n",
    "\n",
    "ax.plot(y_actual, label='Actual Sales', color='limegreen', alpha=0.6, marker='o')\n",
    "ax.plot(y_base, label='Base Model', color='grey', alpha=0.4, linestyle='dashed')\n",
    "ax.plot(y_pred, label='Predicted', color='darkviolet', marker='o')\n",
    "\n",
    "ax.set_title('SGD Regression')\n",
    "ax.set_xlabel('Time')\n",
    "ax.set_ylabel('Sales')\n",
    "\n",
    "ax.legend(loc='upper right')\n",
    "\n",
    "plt.show()"
   ]
  }
 ],
 "metadata": {
  "environment": {
   "name": "common-cpu.m76",
   "type": "gcloud",
   "uri": "gcr.io/deeplearning-platform-release/base-cpu:m76"
  },
  "kernelspec": {
   "display_name": "Python 3 (ipykernel)",
   "language": "python",
   "name": "python3"
  },
  "language_info": {
   "codemirror_mode": {
    "name": "ipython",
    "version": 3
   },
   "file_extension": ".py",
   "mimetype": "text/x-python",
   "name": "python",
   "nbconvert_exporter": "python",
   "pygments_lexer": "ipython3",
   "version": "3.8.10"
  }
 },
 "nbformat": 4,
 "nbformat_minor": 5
}
