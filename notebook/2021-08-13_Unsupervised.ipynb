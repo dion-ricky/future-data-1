{
 "cells": [
  {
   "cell_type": "markdown",
   "id": "90145f06",
   "metadata": {},
   "source": [
    "# Customer RFM Segmentation\n",
    "Customer segmentation used to target shipping cost voucher receiver candidate. As stated on my analysis before, the use of voucher doesn't seem to have any effect on user's satisfaction. However, this strategy may be able to increase user retention. Since the majority of users only order at most 2 times in the span of 2 years this is a severe problem for the ecommerce. Therefore a strategy needed to be laid out to increase user transaction frequency and monetary value."
   ]
  },
  {
   "cell_type": "markdown",
   "id": "9f2331cf",
   "metadata": {},
   "source": [
    "## Free Shipping Voucher Strategy\n",
    "Shipping cost voucher will be awarded to customer which has lower transaction frequency but relatively higher monetary value. Not only that, but customer will be able to use the voucher only after it fulfill some conditions such as minimum transaction value, applied only to Official Store, or on certain occassion or date."
   ]
  },
  {
   "cell_type": "markdown",
   "id": "35a3de11",
   "metadata": {
    "tags": []
   },
   "source": [
    "## Library Import and Configuration"
   ]
  },
  {
   "cell_type": "code",
   "execution_count": 1,
   "id": "a3a35a1a",
   "metadata": {},
   "outputs": [],
   "source": [
    "import numpy as np\n",
    "import pandas as pd\n",
    "import matplotlib.pyplot as plt\n",
    "from sklearn.decomposition import PCA\n",
    "\n",
    "# import postgres connection factory utility\n",
    "from util.dbconn import DbConn"
   ]
  },
  {
   "cell_type": "code",
   "execution_count": 2,
   "id": "ad87d8b4",
   "metadata": {},
   "outputs": [],
   "source": [
    "WAREHOUSE_CONN = {\n",
    "    'user': 'postgres',\n",
    "    'password': 'qshOke46RvOg0',\n",
    "    'host': '10.128.0.2',\n",
    "    'port': '8084',\n",
    "    'dbname': 'postgres'\n",
    "}"
   ]
  },
  {
   "cell_type": "code",
   "execution_count": 3,
   "id": "6eb2e876",
   "metadata": {},
   "outputs": [],
   "source": [
    "postgres_conn = DbConn(WAREHOUSE_CONN).get_conn()"
   ]
  },
  {
   "cell_type": "markdown",
   "id": "80c7d4cc",
   "metadata": {},
   "source": [
    "## Data Overview"
   ]
  },
  {
   "cell_type": "code",
   "execution_count": 4,
   "id": "2c862f01",
   "metadata": {},
   "outputs": [
    {
     "name": "stdout",
     "output_type": "stream",
     "text": [
      "<class 'pandas.core.frame.DataFrame'>\n",
      "RangeIndex: 96097 entries, 0 to 96096\n",
      "Data columns (total 5 columns):\n",
      " #   Column               Non-Null Count  Dtype  \n",
      "---  ------               --------------  -----  \n",
      " 0   user_sk              96097 non-null  int64  \n",
      " 1   total_spending       94983 non-null  float64\n",
      " 2   total_shipping_cost  94983 non-null  float64\n",
      " 3   count_order          94990 non-null  float64\n",
      " 4   last_order_days      94990 non-null  float64\n",
      "dtypes: float64(4), int64(1)\n",
      "memory usage: 3.7 MB\n"
     ]
    },
    {
     "data": {
      "text/plain": [
       "None"
      ]
     },
     "metadata": {},
     "output_type": "display_data"
    },
    {
     "data": {
      "text/html": [
       "<div>\n",
       "<style scoped>\n",
       "    .dataframe tbody tr th:only-of-type {\n",
       "        vertical-align: middle;\n",
       "    }\n",
       "\n",
       "    .dataframe tbody tr th {\n",
       "        vertical-align: top;\n",
       "    }\n",
       "\n",
       "    .dataframe thead th {\n",
       "        text-align: right;\n",
       "    }\n",
       "</style>\n",
       "<table border=\"1\" class=\"dataframe\">\n",
       "  <thead>\n",
       "    <tr style=\"text-align: right;\">\n",
       "      <th></th>\n",
       "      <th>user_sk</th>\n",
       "      <th>total_spending</th>\n",
       "      <th>total_shipping_cost</th>\n",
       "      <th>count_order</th>\n",
       "      <th>last_order_days</th>\n",
       "    </tr>\n",
       "  </thead>\n",
       "  <tbody>\n",
       "    <tr>\n",
       "      <th>0</th>\n",
       "      <td>4</td>\n",
       "      <td>75900.0</td>\n",
       "      <td>15280.0</td>\n",
       "      <td>1.0</td>\n",
       "      <td>470.0</td>\n",
       "    </tr>\n",
       "    <tr>\n",
       "      <th>1</th>\n",
       "      <td>6</td>\n",
       "      <td>29990.0</td>\n",
       "      <td>16110.0</td>\n",
       "      <td>1.0</td>\n",
       "      <td>429.0</td>\n",
       "    </tr>\n",
       "    <tr>\n",
       "      <th>2</th>\n",
       "      <td>7</td>\n",
       "      <td>19990.0</td>\n",
       "      <td>7390.0</td>\n",
       "      <td>1.0</td>\n",
       "      <td>177.0</td>\n",
       "    </tr>\n",
       "    <tr>\n",
       "      <th>3</th>\n",
       "      <td>8</td>\n",
       "      <td>14990.0</td>\n",
       "      <td>7780.0</td>\n",
       "      <td>1.0</td>\n",
       "      <td>279.0</td>\n",
       "    </tr>\n",
       "    <tr>\n",
       "      <th>4</th>\n",
       "      <td>11</td>\n",
       "      <td>1200000.0</td>\n",
       "      <td>37810.0</td>\n",
       "      <td>1.0</td>\n",
       "      <td>415.0</td>\n",
       "    </tr>\n",
       "  </tbody>\n",
       "</table>\n",
       "</div>"
      ],
      "text/plain": [
       "   user_sk  total_spending  total_shipping_cost  count_order  last_order_days\n",
       "0        4         75900.0              15280.0          1.0            470.0\n",
       "1        6         29990.0              16110.0          1.0            429.0\n",
       "2        7         19990.0               7390.0          1.0            177.0\n",
       "3        8         14990.0               7780.0          1.0            279.0\n",
       "4       11       1200000.0              37810.0          1.0            415.0"
      ]
     },
     "metadata": {},
     "output_type": "display_data"
    },
    {
     "data": {
      "text/html": [
       "<div>\n",
       "<style scoped>\n",
       "    .dataframe tbody tr th:only-of-type {\n",
       "        vertical-align: middle;\n",
       "    }\n",
       "\n",
       "    .dataframe tbody tr th {\n",
       "        vertical-align: top;\n",
       "    }\n",
       "\n",
       "    .dataframe thead th {\n",
       "        text-align: right;\n",
       "    }\n",
       "</style>\n",
       "<table border=\"1\" class=\"dataframe\">\n",
       "  <thead>\n",
       "    <tr style=\"text-align: right;\">\n",
       "      <th></th>\n",
       "      <th>user_sk</th>\n",
       "      <th>total_spending</th>\n",
       "      <th>total_shipping_cost</th>\n",
       "      <th>count_order</th>\n",
       "      <th>last_order_days</th>\n",
       "    </tr>\n",
       "  </thead>\n",
       "  <tbody>\n",
       "    <tr>\n",
       "      <th>count</th>\n",
       "      <td>96097.000000</td>\n",
       "      <td>9.498300e+04</td>\n",
       "      <td>9.498300e+04</td>\n",
       "      <td>94990.000000</td>\n",
       "      <td>94990.000000</td>\n",
       "    </tr>\n",
       "    <tr>\n",
       "      <th>mean</th>\n",
       "      <td>48047.999990</td>\n",
       "      <td>1.420748e+05</td>\n",
       "      <td>2.359620e+04</td>\n",
       "      <td>1.033867</td>\n",
       "      <td>288.349479</td>\n",
       "    </tr>\n",
       "    <tr>\n",
       "      <th>std</th>\n",
       "      <td>27740.958764</td>\n",
       "      <td>2.160760e+05</td>\n",
       "      <td>2.287058e+04</td>\n",
       "      <td>0.210826</td>\n",
       "      <td>153.000542</td>\n",
       "    </tr>\n",
       "    <tr>\n",
       "      <th>min</th>\n",
       "      <td>-1.000000</td>\n",
       "      <td>8.500000e+02</td>\n",
       "      <td>0.000000e+00</td>\n",
       "      <td>1.000000</td>\n",
       "      <td>45.000000</td>\n",
       "    </tr>\n",
       "    <tr>\n",
       "      <th>25%</th>\n",
       "      <td>24024.000000</td>\n",
       "      <td>4.790000e+04</td>\n",
       "      <td>1.409000e+04</td>\n",
       "      <td>1.000000</td>\n",
       "      <td>164.000000</td>\n",
       "    </tr>\n",
       "    <tr>\n",
       "      <th>50%</th>\n",
       "      <td>48048.000000</td>\n",
       "      <td>8.989000e+04</td>\n",
       "      <td>1.760000e+04</td>\n",
       "      <td>1.000000</td>\n",
       "      <td>269.000000</td>\n",
       "    </tr>\n",
       "    <tr>\n",
       "      <th>75%</th>\n",
       "      <td>72072.000000</td>\n",
       "      <td>1.550000e+05</td>\n",
       "      <td>2.554000e+04</td>\n",
       "      <td>1.000000</td>\n",
       "      <td>397.000000</td>\n",
       "    </tr>\n",
       "    <tr>\n",
       "      <th>max</th>\n",
       "      <td>96096.000000</td>\n",
       "      <td>1.344000e+07</td>\n",
       "      <td>1.794960e+06</td>\n",
       "      <td>16.000000</td>\n",
       "      <td>774.000000</td>\n",
       "    </tr>\n",
       "  </tbody>\n",
       "</table>\n",
       "</div>"
      ],
      "text/plain": [
       "            user_sk  total_spending  total_shipping_cost   count_order  \\\n",
       "count  96097.000000    9.498300e+04         9.498300e+04  94990.000000   \n",
       "mean   48047.999990    1.420748e+05         2.359620e+04      1.033867   \n",
       "std    27740.958764    2.160760e+05         2.287058e+04      0.210826   \n",
       "min       -1.000000    8.500000e+02         0.000000e+00      1.000000   \n",
       "25%    24024.000000    4.790000e+04         1.409000e+04      1.000000   \n",
       "50%    48048.000000    8.989000e+04         1.760000e+04      1.000000   \n",
       "75%    72072.000000    1.550000e+05         2.554000e+04      1.000000   \n",
       "max    96096.000000    1.344000e+07         1.794960e+06     16.000000   \n",
       "\n",
       "       last_order_days  \n",
       "count     94990.000000  \n",
       "mean        288.349479  \n",
       "std         153.000542  \n",
       "min          45.000000  \n",
       "25%         164.000000  \n",
       "50%         269.000000  \n",
       "75%         397.000000  \n",
       "max         774.000000  "
      ]
     },
     "metadata": {},
     "output_type": "display_data"
    }
   ],
   "source": [
    "customer_rfm_query = \"\"\"SELECT \n",
    "\tud.user_sk,\n",
    "\tmcmv.total_spending,\n",
    "\tmcmv.total_shipping_cost,\n",
    "\tmcof.count_order,\n",
    "\tEXTRACT(epoch FROM mcr.last_order_interval/86400)::int8 AS last_order_days\n",
    "FROM \n",
    "\twarehouse.user_dim ud \n",
    "LEFT JOIN warehouse.mart_customer_monetary_value mcmv ON\n",
    "\tud.user_sk = mcmv.user_sk\n",
    "LEFT JOIN warehouse.mart_customer_order_frequency mcof ON\n",
    "\tud.user_sk = mcof.user_sk\n",
    "LEFT JOIN warehouse.mart_customer_recency mcr ON\n",
    "\tud.user_sk = mcr.user_sk;\"\"\"\n",
    "customer_rfm = pd.read_sql(customer_rfm_query, con=postgres_conn)\n",
    "display(customer_rfm.info())\n",
    "display(customer_rfm.head(5))\n",
    "display(customer_rfm.describe())"
   ]
  },
  {
   "cell_type": "markdown",
   "id": "bbb5e9b0",
   "metadata": {},
   "source": [
    "### Check for Null Value"
   ]
  },
  {
   "cell_type": "code",
   "execution_count": 5,
   "id": "14e513dd",
   "metadata": {},
   "outputs": [
    {
     "data": {
      "text/plain": [
       "user_sk                   0\n",
       "total_spending         1114\n",
       "total_shipping_cost    1114\n",
       "count_order            1107\n",
       "last_order_days        1107\n",
       "dtype: int64"
      ]
     },
     "execution_count": 5,
     "metadata": {},
     "output_type": "execute_result"
    }
   ],
   "source": [
    "customer_rfm.isnull().sum()"
   ]
  },
  {
   "cell_type": "markdown",
   "id": "ee942fc2",
   "metadata": {},
   "source": [
    "## Exploratory Data Analysis"
   ]
  },
  {
   "cell_type": "markdown",
   "id": "ddcd91d8",
   "metadata": {},
   "source": [
    "### Order Frequency"
   ]
  },
  {
   "cell_type": "code",
   "execution_count": 6,
   "id": "6595c642",
   "metadata": {},
   "outputs": [
    {
     "data": {
      "text/html": [
       "<div>\n",
       "<style scoped>\n",
       "    .dataframe tbody tr th:only-of-type {\n",
       "        vertical-align: middle;\n",
       "    }\n",
       "\n",
       "    .dataframe tbody tr th {\n",
       "        vertical-align: top;\n",
       "    }\n",
       "\n",
       "    .dataframe thead th {\n",
       "        text-align: right;\n",
       "    }\n",
       "</style>\n",
       "<table border=\"1\" class=\"dataframe\">\n",
       "  <thead>\n",
       "    <tr style=\"text-align: right;\">\n",
       "      <th></th>\n",
       "      <th>count_order</th>\n",
       "      <th>user_sk</th>\n",
       "    </tr>\n",
       "  </thead>\n",
       "  <tbody>\n",
       "    <tr>\n",
       "      <th>0</th>\n",
       "      <td>1.0</td>\n",
       "      <td>92102</td>\n",
       "    </tr>\n",
       "    <tr>\n",
       "      <th>1</th>\n",
       "      <td>2.0</td>\n",
       "      <td>2652</td>\n",
       "    </tr>\n",
       "    <tr>\n",
       "      <th>2</th>\n",
       "      <td>3.0</td>\n",
       "      <td>188</td>\n",
       "    </tr>\n",
       "    <tr>\n",
       "      <th>3</th>\n",
       "      <td>4.0</td>\n",
       "      <td>29</td>\n",
       "    </tr>\n",
       "    <tr>\n",
       "      <th>4</th>\n",
       "      <td>5.0</td>\n",
       "      <td>9</td>\n",
       "    </tr>\n",
       "    <tr>\n",
       "      <th>5</th>\n",
       "      <td>6.0</td>\n",
       "      <td>5</td>\n",
       "    </tr>\n",
       "    <tr>\n",
       "      <th>6</th>\n",
       "      <td>7.0</td>\n",
       "      <td>3</td>\n",
       "    </tr>\n",
       "    <tr>\n",
       "      <th>7</th>\n",
       "      <td>9.0</td>\n",
       "      <td>1</td>\n",
       "    </tr>\n",
       "    <tr>\n",
       "      <th>8</th>\n",
       "      <td>16.0</td>\n",
       "      <td>1</td>\n",
       "    </tr>\n",
       "  </tbody>\n",
       "</table>\n",
       "</div>"
      ],
      "text/plain": [
       "   count_order  user_sk\n",
       "0          1.0    92102\n",
       "1          2.0     2652\n",
       "2          3.0      188\n",
       "3          4.0       29\n",
       "4          5.0        9\n",
       "5          6.0        5\n",
       "6          7.0        3\n",
       "7          9.0        1\n",
       "8         16.0        1"
      ]
     },
     "metadata": {},
     "output_type": "display_data"
    },
    {
     "data": {
      "image/png": "[encoded data removed]",
      "text/plain": [
       "<Figure size 432x288 with 1 Axes>"
      ]
     },
     "metadata": {
      "needs_background": "light"
     },
     "output_type": "display_data"
    }
   ],
   "source": [
    "fig, ax = plt.subplots()\n",
    "t1 = customer_rfm.loc[:, ['user_sk', 'count_order']] \\\n",
    "        .groupby('count_order', as_index=False).count()\n",
    "ax.bar(t1['count_order'], t1['user_sk'])\n",
    "ax.set_title('Order Frequency Count')\n",
    "ax.set_xlabel('Order Frequency')\n",
    "ax.set_ylabel('Order Count')\n",
    "\n",
    "display(t1)\n",
    "plt.show()"
   ]
  },
  {
   "cell_type": "markdown",
   "id": "67bd238c",
   "metadata": {},
   "source": [
    "### Order Recency"
   ]
  },
  {
   "cell_type": "code",
   "execution_count": 7,
   "id": "1171caaf",
   "metadata": {},
   "outputs": [
    {
     "data": {
      "image/png": "[encoded data removed]",
      "text/plain": [
       "<Figure size 432x288 with 1 Axes>"
      ]
     },
     "metadata": {
      "needs_background": "light"
     },
     "output_type": "display_data"
    },
    {
     "data": {
      "text/html": [
       "<div>\n",
       "<style scoped>\n",
       "    .dataframe tbody tr th:only-of-type {\n",
       "        vertical-align: middle;\n",
       "    }\n",
       "\n",
       "    .dataframe tbody tr th {\n",
       "        vertical-align: top;\n",
       "    }\n",
       "\n",
       "    .dataframe thead th {\n",
       "        text-align: right;\n",
       "    }\n",
       "</style>\n",
       "<table border=\"1\" class=\"dataframe\">\n",
       "  <thead>\n",
       "    <tr style=\"text-align: right;\">\n",
       "      <th></th>\n",
       "      <th>days_since_last_order</th>\n",
       "      <th>count_order</th>\n",
       "    </tr>\n",
       "  </thead>\n",
       "  <tbody>\n",
       "    <tr>\n",
       "      <th>0</th>\n",
       "      <td>45.0</td>\n",
       "      <td>1</td>\n",
       "    </tr>\n",
       "    <tr>\n",
       "      <th>1</th>\n",
       "      <td>50.0</td>\n",
       "      <td>11</td>\n",
       "    </tr>\n",
       "    <tr>\n",
       "      <th>2</th>\n",
       "      <td>51.0</td>\n",
       "      <td>39</td>\n",
       "    </tr>\n",
       "    <tr>\n",
       "      <th>3</th>\n",
       "      <td>52.0</td>\n",
       "      <td>66</td>\n",
       "    </tr>\n",
       "    <tr>\n",
       "      <th>4</th>\n",
       "      <td>53.0</td>\n",
       "      <td>73</td>\n",
       "    </tr>\n",
       "    <tr>\n",
       "      <th>5</th>\n",
       "      <td>54.0</td>\n",
       "      <td>69</td>\n",
       "    </tr>\n",
       "    <tr>\n",
       "      <th>6</th>\n",
       "      <td>55.0</td>\n",
       "      <td>96</td>\n",
       "    </tr>\n",
       "    <tr>\n",
       "      <th>7</th>\n",
       "      <td>56.0</td>\n",
       "      <td>142</td>\n",
       "    </tr>\n",
       "    <tr>\n",
       "      <th>8</th>\n",
       "      <td>57.0</td>\n",
       "      <td>184</td>\n",
       "    </tr>\n",
       "    <tr>\n",
       "      <th>9</th>\n",
       "      <td>58.0</td>\n",
       "      <td>239</td>\n",
       "    </tr>\n",
       "    <tr>\n",
       "      <th>10</th>\n",
       "      <td>59.0</td>\n",
       "      <td>252</td>\n",
       "    </tr>\n",
       "    <tr>\n",
       "      <th>11</th>\n",
       "      <td>60.0</td>\n",
       "      <td>202</td>\n",
       "    </tr>\n",
       "    <tr>\n",
       "      <th>12</th>\n",
       "      <td>61.0</td>\n",
       "      <td>195</td>\n",
       "    </tr>\n",
       "    <tr>\n",
       "      <th>13</th>\n",
       "      <td>62.0</td>\n",
       "      <td>251</td>\n",
       "    </tr>\n",
       "    <tr>\n",
       "      <th>14</th>\n",
       "      <td>63.0</td>\n",
       "      <td>315</td>\n",
       "    </tr>\n",
       "  </tbody>\n",
       "</table>\n",
       "</div>"
      ],
      "text/plain": [
       "    days_since_last_order  count_order\n",
       "0                    45.0            1\n",
       "1                    50.0           11\n",
       "2                    51.0           39\n",
       "3                    52.0           66\n",
       "4                    53.0           73\n",
       "5                    54.0           69\n",
       "6                    55.0           96\n",
       "7                    56.0          142\n",
       "8                    57.0          184\n",
       "9                    58.0          239\n",
       "10                   59.0          252\n",
       "11                   60.0          202\n",
       "12                   61.0          195\n",
       "13                   62.0          251\n",
       "14                   63.0          315"
      ]
     },
     "metadata": {},
     "output_type": "display_data"
    }
   ],
   "source": [
    "fig, ax = plt.subplots()\n",
    "t1 = customer_rfm.loc[:, ['user_sk', 'last_order_days']] \\\n",
    "        .groupby('last_order_days', as_index=False).count()\n",
    "ax.bar(t1['last_order_days'], t1['user_sk'])\n",
    "ax.set_title('Days Since Last Order Distribution')\n",
    "ax.set_xlabel('Last Order Days')\n",
    "ax.set_ylabel('Order Count')\n",
    "\n",
    "plt.show()\n",
    "t1.columns = ['days_since_last_order', 'count_order']\n",
    "display(t1.head(15))"
   ]
  },
  {
   "cell_type": "markdown",
   "id": "76f52f68",
   "metadata": {},
   "source": [
    "### Monetary Value"
   ]
  },
  {
   "cell_type": "markdown",
   "id": "6d9e3b0c",
   "metadata": {},
   "source": [
    "liat data mentahnya dulu <br>\n",
    "pake bar chart "
   ]
  },
  {
   "cell_type": "code",
   "execution_count": 8,
   "id": "443f11a8",
   "metadata": {
    "tags": []
   },
   "outputs": [
    {
     "data": {
      "text/html": [
       "<div>\n",
       "<style scoped>\n",
       "    .dataframe tbody tr th:only-of-type {\n",
       "        vertical-align: middle;\n",
       "    }\n",
       "\n",
       "    .dataframe tbody tr th {\n",
       "        vertical-align: top;\n",
       "    }\n",
       "\n",
       "    .dataframe thead th {\n",
       "        text-align: right;\n",
       "    }\n",
       "</style>\n",
       "<table border=\"1\" class=\"dataframe\">\n",
       "  <thead>\n",
       "    <tr style=\"text-align: right;\">\n",
       "      <th></th>\n",
       "      <th>total_spending</th>\n",
       "      <th>count_order</th>\n",
       "    </tr>\n",
       "  </thead>\n",
       "  <tbody>\n",
       "    <tr>\n",
       "      <th>0</th>\n",
       "      <td>850.0</td>\n",
       "      <td>2</td>\n",
       "    </tr>\n",
       "    <tr>\n",
       "      <th>1</th>\n",
       "      <td>2200.0</td>\n",
       "      <td>1</td>\n",
       "    </tr>\n",
       "    <tr>\n",
       "      <th>2</th>\n",
       "      <td>2290.0</td>\n",
       "      <td>1</td>\n",
       "    </tr>\n",
       "    <tr>\n",
       "      <th>3</th>\n",
       "      <td>2990.0</td>\n",
       "      <td>1</td>\n",
       "    </tr>\n",
       "    <tr>\n",
       "      <th>4</th>\n",
       "      <td>3000.0</td>\n",
       "      <td>2</td>\n",
       "    </tr>\n",
       "    <tr>\n",
       "      <th>5</th>\n",
       "      <td>3500.0</td>\n",
       "      <td>1</td>\n",
       "    </tr>\n",
       "    <tr>\n",
       "      <th>6</th>\n",
       "      <td>3540.0</td>\n",
       "      <td>1</td>\n",
       "    </tr>\n",
       "    <tr>\n",
       "      <th>7</th>\n",
       "      <td>3850.0</td>\n",
       "      <td>2</td>\n",
       "    </tr>\n",
       "    <tr>\n",
       "      <th>8</th>\n",
       "      <td>3900.0</td>\n",
       "      <td>4</td>\n",
       "    </tr>\n",
       "    <tr>\n",
       "      <th>9</th>\n",
       "      <td>3990.0</td>\n",
       "      <td>2</td>\n",
       "    </tr>\n",
       "    <tr>\n",
       "      <th>10</th>\n",
       "      <td>4200.0</td>\n",
       "      <td>1</td>\n",
       "    </tr>\n",
       "    <tr>\n",
       "      <th>11</th>\n",
       "      <td>4500.0</td>\n",
       "      <td>1</td>\n",
       "    </tr>\n",
       "    <tr>\n",
       "      <th>12</th>\n",
       "      <td>4780.0</td>\n",
       "      <td>1</td>\n",
       "    </tr>\n",
       "    <tr>\n",
       "      <th>13</th>\n",
       "      <td>4850.0</td>\n",
       "      <td>1</td>\n",
       "    </tr>\n",
       "    <tr>\n",
       "      <th>14</th>\n",
       "      <td>4900.0</td>\n",
       "      <td>4</td>\n",
       "    </tr>\n",
       "  </tbody>\n",
       "</table>\n",
       "</div>"
      ],
      "text/plain": [
       "    total_spending  count_order\n",
       "0            850.0            2\n",
       "1           2200.0            1\n",
       "2           2290.0            1\n",
       "3           2990.0            1\n",
       "4           3000.0            2\n",
       "5           3500.0            1\n",
       "6           3540.0            1\n",
       "7           3850.0            2\n",
       "8           3900.0            4\n",
       "9           3990.0            2\n",
       "10          4200.0            1\n",
       "11          4500.0            1\n",
       "12          4780.0            1\n",
       "13          4850.0            1\n",
       "14          4900.0            4"
      ]
     },
     "metadata": {},
     "output_type": "display_data"
    },
    {
     "data": {
      "image/png": "[encoded data removed]",
      "text/plain": [
       "<Figure size 432x288 with 1 Axes>"
      ]
     },
     "metadata": {
      "needs_background": "light"
     },
     "output_type": "display_data"
    }
   ],
   "source": [
    "fig, ax = plt.subplots()\n",
    "\n",
    "t1 = customer_rfm.loc[:, ['user_sk', 'total_spending']] \\\n",
    "        .groupby('total_spending', as_index=False).count()\n",
    "\n",
    "# ax.bar(t1['total_spending'], t1['user_sk'])\n",
    "# ax.set_title('Customer Monetary Value')\n",
    "# ax.set_xlabel('Total Spending')\n",
    "# ax.set_ylabel('Order Count')\n",
    "\n",
    "# plt.show()\n",
    "t1.columns = ['total_spending', 'count_order']\n",
    "display(t1.head(15))"
   ]
  },
  {
   "cell_type": "code",
   "execution_count": 9,
   "id": "e81c36a4",
   "metadata": {
    "tags": []
   },
   "outputs": [
    {
     "data": {
      "text/html": [
       "<div>\n",
       "<style scoped>\n",
       "    .dataframe tbody tr th:only-of-type {\n",
       "        vertical-align: middle;\n",
       "    }\n",
       "\n",
       "    .dataframe tbody tr th {\n",
       "        vertical-align: top;\n",
       "    }\n",
       "\n",
       "    .dataframe thead th {\n",
       "        text-align: right;\n",
       "    }\n",
       "</style>\n",
       "<table border=\"1\" class=\"dataframe\">\n",
       "  <thead>\n",
       "    <tr style=\"text-align: right;\">\n",
       "      <th></th>\n",
       "      <th>monetary_value</th>\n",
       "      <th>user_sk</th>\n",
       "    </tr>\n",
       "  </thead>\n",
       "  <tbody>\n",
       "    <tr>\n",
       "      <th>0</th>\n",
       "      <td>0.0</td>\n",
       "      <td>966</td>\n",
       "    </tr>\n",
       "    <tr>\n",
       "      <th>1</th>\n",
       "      <td>1.0</td>\n",
       "      <td>934</td>\n",
       "    </tr>\n",
       "    <tr>\n",
       "      <th>2</th>\n",
       "      <td>2.0</td>\n",
       "      <td>1048</td>\n",
       "    </tr>\n",
       "    <tr>\n",
       "      <th>3</th>\n",
       "      <td>3.0</td>\n",
       "      <td>865</td>\n",
       "    </tr>\n",
       "    <tr>\n",
       "      <th>4</th>\n",
       "      <td>4.0</td>\n",
       "      <td>948</td>\n",
       "    </tr>\n",
       "    <tr>\n",
       "      <th>...</th>\n",
       "      <td>...</td>\n",
       "      <td>...</td>\n",
       "    </tr>\n",
       "    <tr>\n",
       "      <th>93</th>\n",
       "      <td>93.0</td>\n",
       "      <td>951</td>\n",
       "    </tr>\n",
       "    <tr>\n",
       "      <th>94</th>\n",
       "      <td>94.0</td>\n",
       "      <td>940</td>\n",
       "    </tr>\n",
       "    <tr>\n",
       "      <th>95</th>\n",
       "      <td>95.0</td>\n",
       "      <td>953</td>\n",
       "    </tr>\n",
       "    <tr>\n",
       "      <th>96</th>\n",
       "      <td>96.0</td>\n",
       "      <td>947</td>\n",
       "    </tr>\n",
       "    <tr>\n",
       "      <th>97</th>\n",
       "      <td>97.0</td>\n",
       "      <td>949</td>\n",
       "    </tr>\n",
       "  </tbody>\n",
       "</table>\n",
       "<p>98 rows × 2 columns</p>\n",
       "</div>"
      ],
      "text/plain": [
       "    monetary_value  user_sk\n",
       "0              0.0      966\n",
       "1              1.0      934\n",
       "2              2.0     1048\n",
       "3              3.0      865\n",
       "4              4.0      948\n",
       "..             ...      ...\n",
       "93            93.0      951\n",
       "94            94.0      940\n",
       "95            95.0      953\n",
       "96            96.0      947\n",
       "97            97.0      949\n",
       "\n",
       "[98 rows x 2 columns]"
      ]
     },
     "metadata": {},
     "output_type": "display_data"
    },
    {
     "data": {
      "image/png": "[encoded data removed]",
      "text/plain": [
       "<Figure size 432x288 with 1 Axes>"
      ]
     },
     "metadata": {
      "needs_background": "light"
     },
     "output_type": "display_data"
    }
   ],
   "source": [
    "fig, ax = plt.subplots()\n",
    "\n",
    "t0 = customer_rfm.copy()\n",
    "\n",
    "t0['monetary_value'] = pd.qcut(customer_rfm['total_spending'], q=100, labels=False, duplicates='drop')\n",
    "t1 = t0.loc[:, ['user_sk', 'monetary_value']] \\\n",
    "        .groupby('monetary_value', as_index=False).count()\n",
    "ax.bar(t1['monetary_value'], t1['user_sk'])\n",
    "ax.set_title('Monetary Value')\n",
    "ax.set_xlabel('Total Spending')\n",
    "ax.set_ylabel('User Count')\n",
    "\n",
    "display(t1)\n",
    "plt.show()"
   ]
  },
  {
   "cell_type": "markdown",
   "id": "477014ed",
   "metadata": {},
   "source": [
    "## Baseline Model\n",
    "Manually assigned RFM score based on percentile.\n",
    "<table>\n",
    "    <tr>\n",
    "        <th>Recency</th>\n",
    "        <th>Frequency</th>\n",
    "        <th>Monetary</th>\n",
    "    </tr>\n",
    "    <tr>\n",
    "        <td>R-Tier-1 (most recent)</td>\n",
    "        <td>F-Tier-1 (most frequent)</td>\n",
    "        <td>M-Tier-1 (highest spend)</td>\n",
    "    </tr>\n",
    "    <tr>\n",
    "        <td>R-Tier-2</td>\n",
    "        <td>F-Tier-2</td>\n",
    "        <td>M-Tier-2</td>\n",
    "    </tr>\n",
    "    <tr>\n",
    "        <td>R-Tier-3</td>\n",
    "        <td>F-Tier-3</td>\n",
    "        <td>M-Tier-3</td>\n",
    "    </tr>\n",
    "    <tr>\n",
    "        <td>R-Tier-4 (least recent)</td>\n",
    "        <td>F-Tier-4 (least frequent)</td>\n",
    "        <td>M-Tier-4 (lowest spend)</td>\n",
    "    </tr>\n",
    "</table>\n",
    "Reiterating the goals again, the strategy prefer customer which has lower frequency but relatively higher monetary value. Below are the segment name assignment based on customer RFM score:<br>\n",
    "<table>\n",
    "<thead>\n",
    "  <tr>\n",
    "    <th>R</th>\n",
    "    <th>F</th>\n",
    "    <th>M</th>\n",
    "    <th>Customer Segment</th>\n",
    "  </tr>\n",
    "</thead>\n",
    "<tbody>\n",
    "  <tr>\n",
    "    <td>1-2</td>\n",
    "    <td>1-4</td>\n",
    "    <td>1-2</td>\n",
    "    <td>High-spending Active Customer **</td>\n",
    "  </tr>\n",
    "  <tr>\n",
    "    <td>1-2</td>\n",
    "    <td>1-4</td>\n",
    "    <td>3-4</td>\n",
    "    <td>Low-spending Active Customer *</td>\n",
    "  </tr>\n",
    "  <tr>\n",
    "    <td>3-4</td>\n",
    "    <td>1-4</td>\n",
    "    <td>1-2</td>\n",
    "    <td>Churned High-spending Customer **</td>\n",
    "  </tr>\n",
    "  <tr>\n",
    "    <td>3-4</td>\n",
    "    <td>1-4</td>\n",
    "    <td>3-4</td>\n",
    "    <td>Churned Low-spending Customer *</td>\n",
    "  </tr>\n",
    "</tbody>\n",
    "</table>\n",
    "<b>Note:</b><br>\n",
    "** The best candidate to receive free shipping voucher is marked with double asterisk<br>\n",
    "* The second best candidate is marked with single asterisk"
   ]
  },
  {
   "cell_type": "code",
   "execution_count": 10,
   "id": "6f60576a",
   "metadata": {
    "tags": []
   },
   "outputs": [
    {
     "name": "stdout",
     "output_type": "stream",
     "text": [
      "<class 'pandas.core.frame.DataFrame'>\n",
      "RangeIndex: 96097 entries, 0 to 96096\n",
      "Data columns (total 5 columns):\n",
      " #   Column               Non-Null Count  Dtype  \n",
      "---  ------               --------------  -----  \n",
      " 0   user_sk              96097 non-null  int64  \n",
      " 1   total_spending       94983 non-null  float64\n",
      " 2   total_shipping_cost  94983 non-null  float64\n",
      " 3   count_order          94990 non-null  float64\n",
      " 4   last_order_days      94990 non-null  float64\n",
      "dtypes: float64(4), int64(1)\n",
      "memory usage: 3.7 MB\n"
     ]
    }
   ],
   "source": [
    "rfm = customer_rfm.copy()\n",
    "rfm.info()"
   ]
  },
  {
   "cell_type": "markdown",
   "id": "ab39e71a",
   "metadata": {},
   "source": [
    "### Drop Null Values"
   ]
  },
  {
   "cell_type": "code",
   "execution_count": 11,
   "id": "c8f25b25",
   "metadata": {},
   "outputs": [
    {
     "data": {
      "text/plain": [
       "user_sk                0\n",
       "total_spending         0\n",
       "total_shipping_cost    0\n",
       "count_order            0\n",
       "last_order_days        0\n",
       "dtype: int64"
      ]
     },
     "execution_count": 11,
     "metadata": {},
     "output_type": "execute_result"
    }
   ],
   "source": [
    "rfm = rfm.dropna()\n",
    "rfm.isnull().sum()"
   ]
  },
  {
   "cell_type": "markdown",
   "id": "d537db50",
   "metadata": {},
   "source": [
    "## Assign RFM Tier"
   ]
  },
  {
   "cell_type": "markdown",
   "id": "78aa4c46",
   "metadata": {},
   "source": [
    "### Recency Tier"
   ]
  },
  {
   "cell_type": "code",
   "execution_count": 12,
   "id": "3629ffad",
   "metadata": {
    "tags": []
   },
   "outputs": [
    {
     "data": {
      "text/html": [
       "<div>\n",
       "<style scoped>\n",
       "    .dataframe tbody tr th:only-of-type {\n",
       "        vertical-align: middle;\n",
       "    }\n",
       "\n",
       "    .dataframe tbody tr th {\n",
       "        vertical-align: top;\n",
       "    }\n",
       "\n",
       "    .dataframe thead th {\n",
       "        text-align: right;\n",
       "    }\n",
       "</style>\n",
       "<table border=\"1\" class=\"dataframe\">\n",
       "  <thead>\n",
       "    <tr style=\"text-align: right;\">\n",
       "      <th></th>\n",
       "      <th>recency_tier</th>\n",
       "      <th>user_sk</th>\n",
       "    </tr>\n",
       "  </thead>\n",
       "  <tbody>\n",
       "    <tr>\n",
       "      <th>0</th>\n",
       "      <td>1</td>\n",
       "      <td>23796</td>\n",
       "    </tr>\n",
       "    <tr>\n",
       "      <th>1</th>\n",
       "      <td>2</td>\n",
       "      <td>23815</td>\n",
       "    </tr>\n",
       "    <tr>\n",
       "      <th>2</th>\n",
       "      <td>3</td>\n",
       "      <td>23645</td>\n",
       "    </tr>\n",
       "    <tr>\n",
       "      <th>3</th>\n",
       "      <td>4</td>\n",
       "      <td>23727</td>\n",
       "    </tr>\n",
       "  </tbody>\n",
       "</table>\n",
       "</div>"
      ],
      "text/plain": [
       "  recency_tier  user_sk\n",
       "0            1    23796\n",
       "1            2    23815\n",
       "2            3    23645\n",
       "3            4    23727"
      ]
     },
     "metadata": {},
     "output_type": "display_data"
    },
    {
     "data": {
      "image/png": "[encoded data removed]",
      "text/plain": [
       "<Figure size 432x288 with 1 Axes>"
      ]
     },
     "metadata": {
      "needs_background": "light"
     },
     "output_type": "display_data"
    }
   ],
   "source": [
    "rfm['recency_tier'] = pd.qcut(rfm['last_order_days'], q=4, labels=range(1, 5))\n",
    "\n",
    "fig, ax = plt.subplots()\n",
    "\n",
    "t1 = rfm.loc[:, ['user_sk', 'recency_tier']] \\\n",
    "        .groupby('recency_tier', as_index=False).count()\n",
    "ax.bar(t1['recency_tier'], t1['user_sk'])\n",
    "ax.set_title('Customer Recency Tier')\n",
    "ax.set_xlabel('Recency Tier')\n",
    "ax.set_ylabel('User Count')\n",
    "\n",
    "display(t1)\n",
    "plt.show()"
   ]
  },
  {
   "cell_type": "markdown",
   "id": "e52609e4",
   "metadata": {},
   "source": [
    "### Frequency Tier"
   ]
  },
  {
   "cell_type": "code",
   "execution_count": 13,
   "id": "7ab6cb7c",
   "metadata": {},
   "outputs": [
    {
     "data": {
      "text/html": [
       "<div>\n",
       "<style scoped>\n",
       "    .dataframe tbody tr th:only-of-type {\n",
       "        vertical-align: middle;\n",
       "    }\n",
       "\n",
       "    .dataframe tbody tr th {\n",
       "        vertical-align: top;\n",
       "    }\n",
       "\n",
       "    .dataframe thead th {\n",
       "        text-align: right;\n",
       "    }\n",
       "</style>\n",
       "<table border=\"1\" class=\"dataframe\">\n",
       "  <thead>\n",
       "    <tr style=\"text-align: right;\">\n",
       "      <th></th>\n",
       "      <th>frequency_tier</th>\n",
       "      <th>user_sk</th>\n",
       "    </tr>\n",
       "  </thead>\n",
       "  <tbody>\n",
       "    <tr>\n",
       "      <th>0</th>\n",
       "      <td>1</td>\n",
       "      <td>19</td>\n",
       "    </tr>\n",
       "    <tr>\n",
       "      <th>1</th>\n",
       "      <td>2</td>\n",
       "      <td>217</td>\n",
       "    </tr>\n",
       "    <tr>\n",
       "      <th>2</th>\n",
       "      <td>3</td>\n",
       "      <td>2652</td>\n",
       "    </tr>\n",
       "    <tr>\n",
       "      <th>3</th>\n",
       "      <td>4</td>\n",
       "      <td>92095</td>\n",
       "    </tr>\n",
       "  </tbody>\n",
       "</table>\n",
       "</div>"
      ],
      "text/plain": [
       "   frequency_tier  user_sk\n",
       "0               1       19\n",
       "1               2      217\n",
       "2               3     2652\n",
       "3               4    92095"
      ]
     },
     "metadata": {},
     "output_type": "display_data"
    },
    {
     "data": {
      "image/png": "[encoded data removed]",
      "text/plain": [
       "<Figure size 432x288 with 1 Axes>"
      ]
     },
     "metadata": {
      "needs_background": "light"
     },
     "output_type": "display_data"
    }
   ],
   "source": [
    "rfm.loc[(rfm['count_order'] >= 5) & (rfm['count_order'] <= 16), 'frequency_tier'] = 1\n",
    "rfm.loc[(rfm['count_order'] >= 3) & (rfm['count_order'] <= 4), 'frequency_tier'] = 2\n",
    "rfm.loc[rfm['count_order'] == 2, 'frequency_tier'] = 3\n",
    "rfm.loc[rfm['count_order'] == 1, 'frequency_tier'] = 4\n",
    "\n",
    "rfm['frequency_tier'] = rfm['frequency_tier'].astype('int')\n",
    "\n",
    "fig, ax = plt.subplots()\n",
    "\n",
    "t1 = rfm.loc[:, ['user_sk', 'frequency_tier']] \\\n",
    "        .groupby('frequency_tier', as_index=False).count()\n",
    "ax.bar(t1['frequency_tier'], t1['user_sk'])\n",
    "ax.set_title('Customer Frequency Tier')\n",
    "ax.set_xlabel('Frequency Tier')\n",
    "ax.set_ylabel('User Count')\n",
    "\n",
    "display(t1)\n",
    "plt.show()"
   ]
  },
  {
   "cell_type": "markdown",
   "id": "2f3f06d2",
   "metadata": {},
   "source": [
    "### Monetary Tier"
   ]
  },
  {
   "cell_type": "code",
   "execution_count": 14,
   "id": "b8cbc937",
   "metadata": {
    "tags": []
   },
   "outputs": [
    {
     "data": {
      "text/html": [
       "<div>\n",
       "<style scoped>\n",
       "    .dataframe tbody tr th:only-of-type {\n",
       "        vertical-align: middle;\n",
       "    }\n",
       "\n",
       "    .dataframe tbody tr th {\n",
       "        vertical-align: top;\n",
       "    }\n",
       "\n",
       "    .dataframe thead th {\n",
       "        text-align: right;\n",
       "    }\n",
       "</style>\n",
       "<table border=\"1\" class=\"dataframe\">\n",
       "  <thead>\n",
       "    <tr style=\"text-align: right;\">\n",
       "      <th></th>\n",
       "      <th>monetary_tier</th>\n",
       "      <th>user_sk</th>\n",
       "    </tr>\n",
       "  </thead>\n",
       "  <tbody>\n",
       "    <tr>\n",
       "      <th>0</th>\n",
       "      <td>4</td>\n",
       "      <td>23878</td>\n",
       "    </tr>\n",
       "    <tr>\n",
       "      <th>1</th>\n",
       "      <td>3</td>\n",
       "      <td>23617</td>\n",
       "    </tr>\n",
       "    <tr>\n",
       "      <th>2</th>\n",
       "      <td>2</td>\n",
       "      <td>23797</td>\n",
       "    </tr>\n",
       "    <tr>\n",
       "      <th>3</th>\n",
       "      <td>1</td>\n",
       "      <td>23691</td>\n",
       "    </tr>\n",
       "  </tbody>\n",
       "</table>\n",
       "</div>"
      ],
      "text/plain": [
       "  monetary_tier  user_sk\n",
       "0             4    23878\n",
       "1             3    23617\n",
       "2             2    23797\n",
       "3             1    23691"
      ]
     },
     "metadata": {},
     "output_type": "display_data"
    },
    {
     "data": {
      "image/png": "[encoded data removed]",
      "text/plain": [
       "<Figure size 432x288 with 1 Axes>"
      ]
     },
     "metadata": {
      "needs_background": "light"
     },
     "output_type": "display_data"
    }
   ],
   "source": [
    "# cek pake selain pd.cut\n",
    "rfm['monetary_tier'] = pd.qcut(rfm['total_spending'], q=4, labels=range(4, 0, -1))\n",
    "\n",
    "fig, ax = plt.subplots()\n",
    "\n",
    "t1 = rfm.loc[:, ['user_sk', 'monetary_tier']] \\\n",
    "        .groupby('monetary_tier', as_index=False).count()\n",
    "ax.bar(t1['monetary_tier'], t1['user_sk'])\n",
    "ax.set_title('Monetary Tier')\n",
    "ax.set_xlabel('Monetary Tier')\n",
    "ax.set_ylabel('User Count')\n",
    "\n",
    "display(t1)\n",
    "plt.show()"
   ]
  },
  {
   "cell_type": "code",
   "execution_count": 15,
   "id": "befe4eb1",
   "metadata": {
    "tags": []
   },
   "outputs": [
    {
     "name": "stdout",
     "output_type": "stream",
     "text": [
      "<class 'pandas.core.frame.DataFrame'>\n",
      "Int64Index: 94983 entries, 0 to 96096\n",
      "Data columns (total 8 columns):\n",
      " #   Column               Non-Null Count  Dtype   \n",
      "---  ------               --------------  -----   \n",
      " 0   user_sk              94983 non-null  int64   \n",
      " 1   total_spending       94983 non-null  float64 \n",
      " 2   total_shipping_cost  94983 non-null  float64 \n",
      " 3   count_order          94983 non-null  float64 \n",
      " 4   last_order_days      94983 non-null  float64 \n",
      " 5   recency_tier         94983 non-null  category\n",
      " 6   frequency_tier       94983 non-null  int64   \n",
      " 7   monetary_tier        94983 non-null  category\n",
      "dtypes: category(2), float64(4), int64(2)\n",
      "memory usage: 5.3 MB\n"
     ]
    }
   ],
   "source": [
    "rfm.info()"
   ]
  },
  {
   "cell_type": "markdown",
   "id": "90fd1b05",
   "metadata": {},
   "source": [
    "## Distribution of RFM Tier"
   ]
  },
  {
   "cell_type": "code",
   "execution_count": 16,
   "id": "86b1b805",
   "metadata": {},
   "outputs": [
    {
     "data": {
      "image/png": "[encoded data removed]",
      "text/plain": [
       "<Figure size 360x1080 with 3 Axes>"
      ]
     },
     "metadata": {
      "needs_background": "light"
     },
     "output_type": "display_data"
    }
   ],
   "source": [
    "tt1 = rfm.copy()\n",
    "tt1['frequency_tier'] = tt1.apply(lambda row: row['frequency_tier']+(np.random.rand()*0.3), axis=1)\n",
    "tt1['monetary_tier'] = tt1.apply(lambda row: row['monetary_tier']+(np.random.rand()*0.3), axis=1)\n",
    "tt1['recency_tier'] = tt1.apply(lambda row: row['recency_tier']+(np.random.rand()*0.3), axis=1)\n",
    "\n",
    "t = ['frequency_tier', 'monetary_tier', 'recency_tier']\n",
    "c = []\n",
    "f = []\n",
    "\n",
    "for i in range(0, len(t)):\n",
    "    for j in range(0, len(t)):\n",
    "        t0 = t[i]\n",
    "        t1 = t[j]\n",
    "        \n",
    "        if t0 == t1:\n",
    "            continue\n",
    "        \n",
    "        if [t0, t1] in c:\n",
    "            continue\n",
    "        else:\n",
    "            f.append([t0, t1])\n",
    "            c.append([t0, t1])\n",
    "            c.append([t1, t0])\n",
    "\n",
    "fig, axs = plt.subplots(len(f), 1)\n",
    "fig.set_size_inches(5, 15, forward=True)\n",
    "\n",
    "for i in range(0, len(f)):\n",
    "    ax = axs[i]\n",
    "    ax.scatter(tt1[f[i][0]], tt1[f[i][1]])\n",
    "    ax.set_title('{} vs {}'.format(f[i][0], f[i][1]))\n",
    "    ax.set_xlabel(f[i][0])\n",
    "    ax.set_ylabel(f[i][1])\n",
    "\n",
    "plt.tight_layout()\n",
    "plt.show()"
   ]
  },
  {
   "cell_type": "markdown",
   "id": "99674ad2",
   "metadata": {},
   "source": [
    "## Customer Segmentation"
   ]
  },
  {
   "cell_type": "markdown",
   "id": "b3f818de",
   "metadata": {},
   "source": [
    "### High Spending Active Customer"
   ]
  },
  {
   "cell_type": "code",
   "execution_count": 17,
   "id": "2dc6b67d",
   "metadata": {
    "tags": []
   },
   "outputs": [
    {
     "data": {
      "text/html": [
       "<div>\n",
       "<style scoped>\n",
       "    .dataframe tbody tr th:only-of-type {\n",
       "        vertical-align: middle;\n",
       "    }\n",
       "\n",
       "    .dataframe tbody tr th {\n",
       "        vertical-align: top;\n",
       "    }\n",
       "\n",
       "    .dataframe thead th {\n",
       "        text-align: right;\n",
       "    }\n",
       "</style>\n",
       "<table border=\"1\" class=\"dataframe\">\n",
       "  <thead>\n",
       "    <tr style=\"text-align: right;\">\n",
       "      <th></th>\n",
       "      <th>user_sk</th>\n",
       "      <th>total_spending</th>\n",
       "      <th>total_shipping_cost</th>\n",
       "      <th>count_order</th>\n",
       "      <th>last_order_days</th>\n",
       "      <th>recency_tier</th>\n",
       "      <th>frequency_tier</th>\n",
       "      <th>monetary_tier</th>\n",
       "    </tr>\n",
       "  </thead>\n",
       "  <tbody>\n",
       "    <tr>\n",
       "      <th>9</th>\n",
       "      <td>39</td>\n",
       "      <td>115000.0</td>\n",
       "      <td>15690.0</td>\n",
       "      <td>1.0</td>\n",
       "      <td>206.0</td>\n",
       "      <td>2</td>\n",
       "      <td>4</td>\n",
       "      <td>2</td>\n",
       "    </tr>\n",
       "    <tr>\n",
       "      <th>11</th>\n",
       "      <td>45</td>\n",
       "      <td>274000.0</td>\n",
       "      <td>33310.0</td>\n",
       "      <td>1.0</td>\n",
       "      <td>157.0</td>\n",
       "      <td>1</td>\n",
       "      <td>4</td>\n",
       "      <td>1</td>\n",
       "    </tr>\n",
       "    <tr>\n",
       "      <th>13</th>\n",
       "      <td>55</td>\n",
       "      <td>524900.0</td>\n",
       "      <td>17760.0</td>\n",
       "      <td>1.0</td>\n",
       "      <td>169.0</td>\n",
       "      <td>2</td>\n",
       "      <td>4</td>\n",
       "      <td>1</td>\n",
       "    </tr>\n",
       "    <tr>\n",
       "      <th>20</th>\n",
       "      <td>81</td>\n",
       "      <td>522500.0</td>\n",
       "      <td>26530.0</td>\n",
       "      <td>1.0</td>\n",
       "      <td>260.0</td>\n",
       "      <td>2</td>\n",
       "      <td>4</td>\n",
       "      <td>1</td>\n",
       "    </tr>\n",
       "    <tr>\n",
       "      <th>39</th>\n",
       "      <td>155</td>\n",
       "      <td>569900.0</td>\n",
       "      <td>60540.0</td>\n",
       "      <td>1.0</td>\n",
       "      <td>135.0</td>\n",
       "      <td>1</td>\n",
       "      <td>4</td>\n",
       "      <td>1</td>\n",
       "    </tr>\n",
       "    <tr>\n",
       "      <th>45</th>\n",
       "      <td>193</td>\n",
       "      <td>449000.0</td>\n",
       "      <td>84450.0</td>\n",
       "      <td>1.0</td>\n",
       "      <td>71.0</td>\n",
       "      <td>1</td>\n",
       "      <td>4</td>\n",
       "      <td>1</td>\n",
       "    </tr>\n",
       "    <tr>\n",
       "      <th>47</th>\n",
       "      <td>203</td>\n",
       "      <td>314900.0</td>\n",
       "      <td>14860.0</td>\n",
       "      <td>1.0</td>\n",
       "      <td>112.0</td>\n",
       "      <td>1</td>\n",
       "      <td>4</td>\n",
       "      <td>1</td>\n",
       "    </tr>\n",
       "    <tr>\n",
       "      <th>51</th>\n",
       "      <td>210</td>\n",
       "      <td>110320.0</td>\n",
       "      <td>8030.0</td>\n",
       "      <td>1.0</td>\n",
       "      <td>121.0</td>\n",
       "      <td>1</td>\n",
       "      <td>4</td>\n",
       "      <td>2</td>\n",
       "    </tr>\n",
       "    <tr>\n",
       "      <th>52</th>\n",
       "      <td>215</td>\n",
       "      <td>249990.0</td>\n",
       "      <td>14050.0</td>\n",
       "      <td>1.0</td>\n",
       "      <td>83.0</td>\n",
       "      <td>1</td>\n",
       "      <td>4</td>\n",
       "      <td>1</td>\n",
       "    </tr>\n",
       "    <tr>\n",
       "      <th>54</th>\n",
       "      <td>224</td>\n",
       "      <td>199900.0</td>\n",
       "      <td>13700.0</td>\n",
       "      <td>1.0</td>\n",
       "      <td>66.0</td>\n",
       "      <td>1</td>\n",
       "      <td>4</td>\n",
       "      <td>1</td>\n",
       "    </tr>\n",
       "  </tbody>\n",
       "</table>\n",
       "</div>"
      ],
      "text/plain": [
       "    user_sk  total_spending  total_shipping_cost  count_order  \\\n",
       "9        39        115000.0              15690.0          1.0   \n",
       "11       45        274000.0              33310.0          1.0   \n",
       "13       55        524900.0              17760.0          1.0   \n",
       "20       81        522500.0              26530.0          1.0   \n",
       "39      155        569900.0              60540.0          1.0   \n",
       "45      193        449000.0              84450.0          1.0   \n",
       "47      203        314900.0              14860.0          1.0   \n",
       "51      210        110320.0               8030.0          1.0   \n",
       "52      215        249990.0              14050.0          1.0   \n",
       "54      224        199900.0              13700.0          1.0   \n",
       "\n",
       "    last_order_days recency_tier  frequency_tier monetary_tier  \n",
       "9             206.0            2               4             2  \n",
       "11            157.0            1               4             1  \n",
       "13            169.0            2               4             1  \n",
       "20            260.0            2               4             1  \n",
       "39            135.0            1               4             1  \n",
       "45             71.0            1               4             1  \n",
       "47            112.0            1               4             1  \n",
       "51            121.0            1               4             2  \n",
       "52             83.0            1               4             1  \n",
       "54             66.0            1               4             1  "
      ]
     },
     "metadata": {},
     "output_type": "display_data"
    },
    {
     "data": {
      "text/plain": [
       "(24043, 8)"
      ]
     },
     "metadata": {},
     "output_type": "display_data"
    }
   ],
   "source": [
    "high_spending_active_cust_cond = \\\n",
    "    (rfm['recency_tier'] <= 2) \\\n",
    "    & (rfm['monetary_tier'] >= 2)\n",
    "\n",
    "high_spending_active_cust = rfm[high_spending_active_cust_cond]\n",
    "display(high_spending_active_cust.head(10))\n",
    "display(high_spending_active_cust.shape)\n",
    "\n",
    "rfm.loc[high_spending_active_cust_cond, 'customer_segment'] = 'hsac'"
   ]
  },
  {
   "cell_type": "markdown",
   "id": "f517cad9",
   "metadata": {},
   "source": [
    "### Low Spending Active Customer"
   ]
  },
  {
   "cell_type": "code",
   "execution_count": 18,
   "id": "158b0e39",
   "metadata": {
    "tags": []
   },
   "outputs": [
    {
     "data": {
      "text/html": [
       "<div>\n",
       "<style scoped>\n",
       "    .dataframe tbody tr th:only-of-type {\n",
       "        vertical-align: middle;\n",
       "    }\n",
       "\n",
       "    .dataframe tbody tr th {\n",
       "        vertical-align: top;\n",
       "    }\n",
       "\n",
       "    .dataframe thead th {\n",
       "        text-align: right;\n",
       "    }\n",
       "</style>\n",
       "<table border=\"1\" class=\"dataframe\">\n",
       "  <thead>\n",
       "    <tr style=\"text-align: right;\">\n",
       "      <th></th>\n",
       "      <th>user_sk</th>\n",
       "      <th>total_spending</th>\n",
       "      <th>total_shipping_cost</th>\n",
       "      <th>count_order</th>\n",
       "      <th>last_order_days</th>\n",
       "      <th>recency_tier</th>\n",
       "      <th>frequency_tier</th>\n",
       "      <th>monetary_tier</th>\n",
       "      <th>customer_segment</th>\n",
       "    </tr>\n",
       "  </thead>\n",
       "  <tbody>\n",
       "    <tr>\n",
       "      <th>2</th>\n",
       "      <td>7</td>\n",
       "      <td>19990.0</td>\n",
       "      <td>7390.0</td>\n",
       "      <td>1.0</td>\n",
       "      <td>177.0</td>\n",
       "      <td>2</td>\n",
       "      <td>4</td>\n",
       "      <td>4</td>\n",
       "      <td>NaN</td>\n",
       "    </tr>\n",
       "    <tr>\n",
       "      <th>8</th>\n",
       "      <td>31</td>\n",
       "      <td>54000.0</td>\n",
       "      <td>16630.0</td>\n",
       "      <td>1.0</td>\n",
       "      <td>248.0</td>\n",
       "      <td>2</td>\n",
       "      <td>4</td>\n",
       "      <td>3</td>\n",
       "      <td>NaN</td>\n",
       "    </tr>\n",
       "    <tr>\n",
       "      <th>14</th>\n",
       "      <td>58</td>\n",
       "      <td>67990.0</td>\n",
       "      <td>19820.0</td>\n",
       "      <td>1.0</td>\n",
       "      <td>213.0</td>\n",
       "      <td>2</td>\n",
       "      <td>4</td>\n",
       "      <td>3</td>\n",
       "      <td>NaN</td>\n",
       "    </tr>\n",
       "    <tr>\n",
       "      <th>15</th>\n",
       "      <td>65</td>\n",
       "      <td>62000.0</td>\n",
       "      <td>18010.0</td>\n",
       "      <td>1.0</td>\n",
       "      <td>167.0</td>\n",
       "      <td>2</td>\n",
       "      <td>4</td>\n",
       "      <td>3</td>\n",
       "      <td>NaN</td>\n",
       "    </tr>\n",
       "    <tr>\n",
       "      <th>16</th>\n",
       "      <td>67</td>\n",
       "      <td>69900.0</td>\n",
       "      <td>12430.0</td>\n",
       "      <td>1.0</td>\n",
       "      <td>153.0</td>\n",
       "      <td>1</td>\n",
       "      <td>4</td>\n",
       "      <td>3</td>\n",
       "      <td>NaN</td>\n",
       "    </tr>\n",
       "    <tr>\n",
       "      <th>21</th>\n",
       "      <td>86</td>\n",
       "      <td>28990.0</td>\n",
       "      <td>18300.0</td>\n",
       "      <td>1.0</td>\n",
       "      <td>128.0</td>\n",
       "      <td>1</td>\n",
       "      <td>4</td>\n",
       "      <td>4</td>\n",
       "      <td>NaN</td>\n",
       "    </tr>\n",
       "    <tr>\n",
       "      <th>30</th>\n",
       "      <td>129</td>\n",
       "      <td>13650.0</td>\n",
       "      <td>7390.0</td>\n",
       "      <td>1.0</td>\n",
       "      <td>222.0</td>\n",
       "      <td>2</td>\n",
       "      <td>4</td>\n",
       "      <td>4</td>\n",
       "      <td>NaN</td>\n",
       "    </tr>\n",
       "    <tr>\n",
       "      <th>31</th>\n",
       "      <td>131</td>\n",
       "      <td>63990.0</td>\n",
       "      <td>18030.0</td>\n",
       "      <td>1.0</td>\n",
       "      <td>165.0</td>\n",
       "      <td>2</td>\n",
       "      <td>4</td>\n",
       "      <td>3</td>\n",
       "      <td>NaN</td>\n",
       "    </tr>\n",
       "    <tr>\n",
       "      <th>32</th>\n",
       "      <td>134</td>\n",
       "      <td>87900.0</td>\n",
       "      <td>17870.0</td>\n",
       "      <td>1.0</td>\n",
       "      <td>228.0</td>\n",
       "      <td>2</td>\n",
       "      <td>4</td>\n",
       "      <td>3</td>\n",
       "      <td>NaN</td>\n",
       "    </tr>\n",
       "    <tr>\n",
       "      <th>42</th>\n",
       "      <td>176</td>\n",
       "      <td>23990.0</td>\n",
       "      <td>15270.0</td>\n",
       "      <td>1.0</td>\n",
       "      <td>100.0</td>\n",
       "      <td>1</td>\n",
       "      <td>4</td>\n",
       "      <td>4</td>\n",
       "      <td>NaN</td>\n",
       "    </tr>\n",
       "  </tbody>\n",
       "</table>\n",
       "</div>"
      ],
      "text/plain": [
       "    user_sk  total_spending  total_shipping_cost  count_order  \\\n",
       "2         7         19990.0               7390.0          1.0   \n",
       "8        31         54000.0              16630.0          1.0   \n",
       "14       58         67990.0              19820.0          1.0   \n",
       "15       65         62000.0              18010.0          1.0   \n",
       "16       67         69900.0              12430.0          1.0   \n",
       "21       86         28990.0              18300.0          1.0   \n",
       "30      129         13650.0               7390.0          1.0   \n",
       "31      131         63990.0              18030.0          1.0   \n",
       "32      134         87900.0              17870.0          1.0   \n",
       "42      176         23990.0              15270.0          1.0   \n",
       "\n",
       "    last_order_days recency_tier  frequency_tier monetary_tier  \\\n",
       "2             177.0            2               4             4   \n",
       "8             248.0            2               4             3   \n",
       "14            213.0            2               4             3   \n",
       "15            167.0            2               4             3   \n",
       "16            153.0            1               4             3   \n",
       "21            128.0            1               4             4   \n",
       "30            222.0            2               4             4   \n",
       "31            165.0            2               4             3   \n",
       "32            228.0            2               4             3   \n",
       "42            100.0            1               4             4   \n",
       "\n",
       "   customer_segment  \n",
       "2               NaN  \n",
       "8               NaN  \n",
       "14              NaN  \n",
       "15              NaN  \n",
       "16              NaN  \n",
       "21              NaN  \n",
       "30              NaN  \n",
       "31              NaN  \n",
       "32              NaN  \n",
       "42              NaN  "
      ]
     },
     "metadata": {},
     "output_type": "display_data"
    },
    {
     "data": {
      "text/plain": [
       "(23568, 9)"
      ]
     },
     "metadata": {},
     "output_type": "display_data"
    }
   ],
   "source": [
    "low_spending_active_cust_cond = \\\n",
    "    (rfm['recency_tier'] <= 2) \\\n",
    "    & (rfm['monetary_tier'] <= 3)\n",
    "\n",
    "low_spending_active_cust = rfm[low_spending_active_cust_cond]\n",
    "display(low_spending_active_cust.head(10))\n",
    "display(low_spending_active_cust.shape)\n",
    "\n",
    "rfm.loc[low_spending_active_cust_cond, 'customer_segment'] = 'lsac'"
   ]
  },
  {
   "cell_type": "markdown",
   "id": "700cd8bb",
   "metadata": {},
   "source": [
    "### Churned High Spending Customer"
   ]
  },
  {
   "cell_type": "code",
   "execution_count": 19,
   "id": "bcc61516",
   "metadata": {
    "tags": []
   },
   "outputs": [
    {
     "data": {
      "text/html": [
       "<div>\n",
       "<style scoped>\n",
       "    .dataframe tbody tr th:only-of-type {\n",
       "        vertical-align: middle;\n",
       "    }\n",
       "\n",
       "    .dataframe tbody tr th {\n",
       "        vertical-align: top;\n",
       "    }\n",
       "\n",
       "    .dataframe thead th {\n",
       "        text-align: right;\n",
       "    }\n",
       "</style>\n",
       "<table border=\"1\" class=\"dataframe\">\n",
       "  <thead>\n",
       "    <tr style=\"text-align: right;\">\n",
       "      <th></th>\n",
       "      <th>user_sk</th>\n",
       "      <th>total_spending</th>\n",
       "      <th>total_shipping_cost</th>\n",
       "      <th>count_order</th>\n",
       "      <th>last_order_days</th>\n",
       "      <th>recency_tier</th>\n",
       "      <th>frequency_tier</th>\n",
       "      <th>monetary_tier</th>\n",
       "      <th>customer_segment</th>\n",
       "    </tr>\n",
       "  </thead>\n",
       "  <tbody>\n",
       "    <tr>\n",
       "      <th>4</th>\n",
       "      <td>11</td>\n",
       "      <td>1200000.0</td>\n",
       "      <td>37810.0</td>\n",
       "      <td>1.0</td>\n",
       "      <td>415.0</td>\n",
       "      <td>4</td>\n",
       "      <td>4</td>\n",
       "      <td>1</td>\n",
       "      <td>NaN</td>\n",
       "    </tr>\n",
       "    <tr>\n",
       "      <th>5</th>\n",
       "      <td>13</td>\n",
       "      <td>119900.0</td>\n",
       "      <td>23160.0</td>\n",
       "      <td>1.0</td>\n",
       "      <td>322.0</td>\n",
       "      <td>3</td>\n",
       "      <td>4</td>\n",
       "      <td>2</td>\n",
       "      <td>NaN</td>\n",
       "    </tr>\n",
       "    <tr>\n",
       "      <th>6</th>\n",
       "      <td>18</td>\n",
       "      <td>210000.0</td>\n",
       "      <td>28020.0</td>\n",
       "      <td>1.0</td>\n",
       "      <td>278.0</td>\n",
       "      <td>3</td>\n",
       "      <td>4</td>\n",
       "      <td>1</td>\n",
       "      <td>NaN</td>\n",
       "    </tr>\n",
       "    <tr>\n",
       "      <th>7</th>\n",
       "      <td>24</td>\n",
       "      <td>109990.0</td>\n",
       "      <td>17510.0</td>\n",
       "      <td>1.0</td>\n",
       "      <td>622.0</td>\n",
       "      <td>4</td>\n",
       "      <td>4</td>\n",
       "      <td>2</td>\n",
       "      <td>NaN</td>\n",
       "    </tr>\n",
       "    <tr>\n",
       "      <th>12</th>\n",
       "      <td>53</td>\n",
       "      <td>131170.0</td>\n",
       "      <td>13260.0</td>\n",
       "      <td>1.0</td>\n",
       "      <td>500.0</td>\n",
       "      <td>4</td>\n",
       "      <td>4</td>\n",
       "      <td>2</td>\n",
       "      <td>NaN</td>\n",
       "    </tr>\n",
       "    <tr>\n",
       "      <th>17</th>\n",
       "      <td>71</td>\n",
       "      <td>107000.0</td>\n",
       "      <td>12250.0</td>\n",
       "      <td>1.0</td>\n",
       "      <td>282.0</td>\n",
       "      <td>3</td>\n",
       "      <td>4</td>\n",
       "      <td>2</td>\n",
       "      <td>NaN</td>\n",
       "    </tr>\n",
       "    <tr>\n",
       "      <th>18</th>\n",
       "      <td>73</td>\n",
       "      <td>169990.0</td>\n",
       "      <td>16400.0</td>\n",
       "      <td>1.0</td>\n",
       "      <td>570.0</td>\n",
       "      <td>4</td>\n",
       "      <td>4</td>\n",
       "      <td>1</td>\n",
       "      <td>NaN</td>\n",
       "    </tr>\n",
       "    <tr>\n",
       "      <th>19</th>\n",
       "      <td>79</td>\n",
       "      <td>140900.0</td>\n",
       "      <td>26270.0</td>\n",
       "      <td>1.0</td>\n",
       "      <td>525.0</td>\n",
       "      <td>4</td>\n",
       "      <td>4</td>\n",
       "      <td>2</td>\n",
       "      <td>NaN</td>\n",
       "    </tr>\n",
       "    <tr>\n",
       "      <th>22</th>\n",
       "      <td>91</td>\n",
       "      <td>209990.0</td>\n",
       "      <td>53480.0</td>\n",
       "      <td>1.0</td>\n",
       "      <td>470.0</td>\n",
       "      <td>4</td>\n",
       "      <td>4</td>\n",
       "      <td>1</td>\n",
       "      <td>NaN</td>\n",
       "    </tr>\n",
       "    <tr>\n",
       "      <th>23</th>\n",
       "      <td>93</td>\n",
       "      <td>173420.0</td>\n",
       "      <td>27750.0</td>\n",
       "      <td>1.0</td>\n",
       "      <td>421.0</td>\n",
       "      <td>4</td>\n",
       "      <td>4</td>\n",
       "      <td>1</td>\n",
       "      <td>NaN</td>\n",
       "    </tr>\n",
       "  </tbody>\n",
       "</table>\n",
       "</div>"
      ],
      "text/plain": [
       "    user_sk  total_spending  total_shipping_cost  count_order  \\\n",
       "4        11       1200000.0              37810.0          1.0   \n",
       "5        13        119900.0              23160.0          1.0   \n",
       "6        18        210000.0              28020.0          1.0   \n",
       "7        24        109990.0              17510.0          1.0   \n",
       "12       53        131170.0              13260.0          1.0   \n",
       "17       71        107000.0              12250.0          1.0   \n",
       "18       73        169990.0              16400.0          1.0   \n",
       "19       79        140900.0              26270.0          1.0   \n",
       "22       91        209990.0              53480.0          1.0   \n",
       "23       93        173420.0              27750.0          1.0   \n",
       "\n",
       "    last_order_days recency_tier  frequency_tier monetary_tier  \\\n",
       "4             415.0            4               4             1   \n",
       "5             322.0            3               4             2   \n",
       "6             278.0            3               4             1   \n",
       "7             622.0            4               4             2   \n",
       "12            500.0            4               4             2   \n",
       "17            282.0            3               4             2   \n",
       "18            570.0            4               4             1   \n",
       "19            525.0            4               4             2   \n",
       "22            470.0            4               4             1   \n",
       "23            421.0            4               4             1   \n",
       "\n",
       "   customer_segment  \n",
       "4               NaN  \n",
       "5               NaN  \n",
       "6               NaN  \n",
       "7               NaN  \n",
       "12              NaN  \n",
       "17              NaN  \n",
       "18              NaN  \n",
       "19              NaN  \n",
       "22              NaN  \n",
       "23              NaN  "
      ]
     },
     "metadata": {},
     "output_type": "display_data"
    },
    {
     "data": {
      "text/plain": [
       "(23445, 9)"
      ]
     },
     "metadata": {},
     "output_type": "display_data"
    }
   ],
   "source": [
    "churned_high_spending_cust_cond = \\\n",
    "    (rfm['recency_tier'] >= 3) \\\n",
    "    & (rfm['monetary_tier'] >= 2)\n",
    "\n",
    "churned_high_spending_cust = rfm[churned_high_spending_cust_cond]\n",
    "display(churned_high_spending_cust.head(10))\n",
    "display(churned_high_spending_cust.shape)\n",
    "\n",
    "rfm.loc[churned_high_spending_cust_cond, 'customer_segment'] = 'chsc'"
   ]
  },
  {
   "cell_type": "markdown",
   "id": "9d766352",
   "metadata": {},
   "source": [
    "### Churned Low Spending Customer"
   ]
  },
  {
   "cell_type": "code",
   "execution_count": 20,
   "id": "5df00ea9",
   "metadata": {
    "tags": []
   },
   "outputs": [
    {
     "data": {
      "text/html": [
       "<div>\n",
       "<style scoped>\n",
       "    .dataframe tbody tr th:only-of-type {\n",
       "        vertical-align: middle;\n",
       "    }\n",
       "\n",
       "    .dataframe tbody tr th {\n",
       "        vertical-align: top;\n",
       "    }\n",
       "\n",
       "    .dataframe thead th {\n",
       "        text-align: right;\n",
       "    }\n",
       "</style>\n",
       "<table border=\"1\" class=\"dataframe\">\n",
       "  <thead>\n",
       "    <tr style=\"text-align: right;\">\n",
       "      <th></th>\n",
       "      <th>user_sk</th>\n",
       "      <th>total_spending</th>\n",
       "      <th>total_shipping_cost</th>\n",
       "      <th>count_order</th>\n",
       "      <th>last_order_days</th>\n",
       "      <th>recency_tier</th>\n",
       "      <th>frequency_tier</th>\n",
       "      <th>monetary_tier</th>\n",
       "      <th>customer_segment</th>\n",
       "    </tr>\n",
       "  </thead>\n",
       "  <tbody>\n",
       "    <tr>\n",
       "      <th>0</th>\n",
       "      <td>4</td>\n",
       "      <td>75900.0</td>\n",
       "      <td>15280.0</td>\n",
       "      <td>1.0</td>\n",
       "      <td>470.0</td>\n",
       "      <td>4</td>\n",
       "      <td>4</td>\n",
       "      <td>3</td>\n",
       "      <td>NaN</td>\n",
       "    </tr>\n",
       "    <tr>\n",
       "      <th>1</th>\n",
       "      <td>6</td>\n",
       "      <td>29990.0</td>\n",
       "      <td>16110.0</td>\n",
       "      <td>1.0</td>\n",
       "      <td>429.0</td>\n",
       "      <td>4</td>\n",
       "      <td>4</td>\n",
       "      <td>4</td>\n",
       "      <td>NaN</td>\n",
       "    </tr>\n",
       "    <tr>\n",
       "      <th>3</th>\n",
       "      <td>8</td>\n",
       "      <td>14990.0</td>\n",
       "      <td>7780.0</td>\n",
       "      <td>1.0</td>\n",
       "      <td>279.0</td>\n",
       "      <td>3</td>\n",
       "      <td>4</td>\n",
       "      <td>4</td>\n",
       "      <td>NaN</td>\n",
       "    </tr>\n",
       "    <tr>\n",
       "      <th>10</th>\n",
       "      <td>42</td>\n",
       "      <td>25900.0</td>\n",
       "      <td>25630.0</td>\n",
       "      <td>1.0</td>\n",
       "      <td>359.0</td>\n",
       "      <td>3</td>\n",
       "      <td>4</td>\n",
       "      <td>4</td>\n",
       "      <td>NaN</td>\n",
       "    </tr>\n",
       "    <tr>\n",
       "      <th>25</th>\n",
       "      <td>102</td>\n",
       "      <td>31000.0</td>\n",
       "      <td>20400.0</td>\n",
       "      <td>1.0</td>\n",
       "      <td>553.0</td>\n",
       "      <td>4</td>\n",
       "      <td>4</td>\n",
       "      <td>4</td>\n",
       "      <td>NaN</td>\n",
       "    </tr>\n",
       "    <tr>\n",
       "      <th>26</th>\n",
       "      <td>108</td>\n",
       "      <td>51920.0</td>\n",
       "      <td>12700.0</td>\n",
       "      <td>1.0</td>\n",
       "      <td>421.0</td>\n",
       "      <td>4</td>\n",
       "      <td>4</td>\n",
       "      <td>3</td>\n",
       "      <td>NaN</td>\n",
       "    </tr>\n",
       "    <tr>\n",
       "      <th>27</th>\n",
       "      <td>114</td>\n",
       "      <td>26900.0</td>\n",
       "      <td>15100.0</td>\n",
       "      <td>1.0</td>\n",
       "      <td>420.0</td>\n",
       "      <td>4</td>\n",
       "      <td>4</td>\n",
       "      <td>4</td>\n",
       "      <td>NaN</td>\n",
       "    </tr>\n",
       "    <tr>\n",
       "      <th>33</th>\n",
       "      <td>137</td>\n",
       "      <td>25600.0</td>\n",
       "      <td>16110.0</td>\n",
       "      <td>1.0</td>\n",
       "      <td>384.0</td>\n",
       "      <td>3</td>\n",
       "      <td>4</td>\n",
       "      <td>4</td>\n",
       "      <td>NaN</td>\n",
       "    </tr>\n",
       "    <tr>\n",
       "      <th>36</th>\n",
       "      <td>148</td>\n",
       "      <td>89000.0</td>\n",
       "      <td>17870.0</td>\n",
       "      <td>1.0</td>\n",
       "      <td>291.0</td>\n",
       "      <td>3</td>\n",
       "      <td>4</td>\n",
       "      <td>3</td>\n",
       "      <td>NaN</td>\n",
       "    </tr>\n",
       "    <tr>\n",
       "      <th>41</th>\n",
       "      <td>166</td>\n",
       "      <td>39900.0</td>\n",
       "      <td>15100.0</td>\n",
       "      <td>1.0</td>\n",
       "      <td>526.0</td>\n",
       "      <td>4</td>\n",
       "      <td>4</td>\n",
       "      <td>4</td>\n",
       "      <td>NaN</td>\n",
       "    </tr>\n",
       "  </tbody>\n",
       "</table>\n",
       "</div>"
      ],
      "text/plain": [
       "    user_sk  total_spending  total_shipping_cost  count_order  \\\n",
       "0         4         75900.0              15280.0          1.0   \n",
       "1         6         29990.0              16110.0          1.0   \n",
       "3         8         14990.0               7780.0          1.0   \n",
       "10       42         25900.0              25630.0          1.0   \n",
       "25      102         31000.0              20400.0          1.0   \n",
       "26      108         51920.0              12700.0          1.0   \n",
       "27      114         26900.0              15100.0          1.0   \n",
       "33      137         25600.0              16110.0          1.0   \n",
       "36      148         89000.0              17870.0          1.0   \n",
       "41      166         39900.0              15100.0          1.0   \n",
       "\n",
       "    last_order_days recency_tier  frequency_tier monetary_tier  \\\n",
       "0             470.0            4               4             3   \n",
       "1             429.0            4               4             4   \n",
       "3             279.0            3               4             4   \n",
       "10            359.0            3               4             4   \n",
       "25            553.0            4               4             4   \n",
       "26            421.0            4               4             3   \n",
       "27            420.0            4               4             4   \n",
       "33            384.0            3               4             4   \n",
       "36            291.0            3               4             3   \n",
       "41            526.0            4               4             4   \n",
       "\n",
       "   customer_segment  \n",
       "0               NaN  \n",
       "1               NaN  \n",
       "3               NaN  \n",
       "10              NaN  \n",
       "25              NaN  \n",
       "26              NaN  \n",
       "27              NaN  \n",
       "33              NaN  \n",
       "36              NaN  \n",
       "41              NaN  "
      ]
     },
     "metadata": {},
     "output_type": "display_data"
    },
    {
     "data": {
      "text/plain": [
       "(23927, 9)"
      ]
     },
     "metadata": {},
     "output_type": "display_data"
    }
   ],
   "source": [
    "churned_low_spending_cust_cond = \\\n",
    "    (rfm['recency_tier'] >= 3) \\\n",
    "    & (rfm['monetary_tier'] <= 3)\n",
    "\n",
    "churned_low_spending_cust = rfm[churned_low_spending_cust_cond]\n",
    "display(churned_low_spending_cust.head(10))\n",
    "display(churned_low_spending_cust.shape)\n",
    "\n",
    "rfm.loc[churned_low_spending_cust_cond, 'customer_segment'] = 'clsc'"
   ]
  },
  {
   "cell_type": "markdown",
   "id": "f471b121",
   "metadata": {},
   "source": [
    "### Check Segment For All Customer"
   ]
  },
  {
   "cell_type": "code",
   "execution_count": 21,
   "id": "52986855",
   "metadata": {},
   "outputs": [
    {
     "data": {
      "text/plain": [
       "user_sk                0\n",
       "total_spending         0\n",
       "total_shipping_cost    0\n",
       "count_order            0\n",
       "last_order_days        0\n",
       "recency_tier           0\n",
       "frequency_tier         0\n",
       "monetary_tier          0\n",
       "customer_segment       0\n",
       "dtype: int64"
      ]
     },
     "execution_count": 21,
     "metadata": {},
     "output_type": "execute_result"
    }
   ],
   "source": [
    "rfm.isnull().sum()"
   ]
  },
  {
   "cell_type": "markdown",
   "id": "5a7adf86",
   "metadata": {},
   "source": [
    "### Base Model Cluster Result"
   ]
  },
  {
   "cell_type": "code",
   "execution_count": 22,
   "id": "ed1a16a1",
   "metadata": {
    "tags": []
   },
   "outputs": [],
   "source": [
    "rfm['monet_code'] = 4 - rfm['monetary_tier'].astype('category').cat.codes"
   ]
  },
  {
   "cell_type": "code",
   "execution_count": 23,
   "id": "9d531097",
   "metadata": {},
   "outputs": [
    {
     "data": {
      "text/html": [
       "<div>\n",
       "<style scoped>\n",
       "    .dataframe tbody tr th:only-of-type {\n",
       "        vertical-align: middle;\n",
       "    }\n",
       "\n",
       "    .dataframe tbody tr th {\n",
       "        vertical-align: top;\n",
       "    }\n",
       "\n",
       "    .dataframe thead th {\n",
       "        text-align: right;\n",
       "    }\n",
       "</style>\n",
       "<table border=\"1\" class=\"dataframe\">\n",
       "  <thead>\n",
       "    <tr style=\"text-align: right;\">\n",
       "      <th></th>\n",
       "      <th>monetary_tier</th>\n",
       "      <th>monet_code</th>\n",
       "    </tr>\n",
       "  </thead>\n",
       "  <tbody>\n",
       "    <tr>\n",
       "      <th>0</th>\n",
       "      <td>3</td>\n",
       "      <td>3</td>\n",
       "    </tr>\n",
       "    <tr>\n",
       "      <th>1</th>\n",
       "      <td>4</td>\n",
       "      <td>4</td>\n",
       "    </tr>\n",
       "    <tr>\n",
       "      <th>2</th>\n",
       "      <td>4</td>\n",
       "      <td>4</td>\n",
       "    </tr>\n",
       "    <tr>\n",
       "      <th>3</th>\n",
       "      <td>4</td>\n",
       "      <td>4</td>\n",
       "    </tr>\n",
       "    <tr>\n",
       "      <th>4</th>\n",
       "      <td>1</td>\n",
       "      <td>1</td>\n",
       "    </tr>\n",
       "    <tr>\n",
       "      <th>...</th>\n",
       "      <td>...</td>\n",
       "      <td>...</td>\n",
       "    </tr>\n",
       "    <tr>\n",
       "      <th>96092</th>\n",
       "      <td>4</td>\n",
       "      <td>4</td>\n",
       "    </tr>\n",
       "    <tr>\n",
       "      <th>96093</th>\n",
       "      <td>1</td>\n",
       "      <td>1</td>\n",
       "    </tr>\n",
       "    <tr>\n",
       "      <th>96094</th>\n",
       "      <td>1</td>\n",
       "      <td>1</td>\n",
       "    </tr>\n",
       "    <tr>\n",
       "      <th>96095</th>\n",
       "      <td>1</td>\n",
       "      <td>1</td>\n",
       "    </tr>\n",
       "    <tr>\n",
       "      <th>96096</th>\n",
       "      <td>2</td>\n",
       "      <td>2</td>\n",
       "    </tr>\n",
       "  </tbody>\n",
       "</table>\n",
       "<p>94983 rows × 2 columns</p>\n",
       "</div>"
      ],
      "text/plain": [
       "      monetary_tier  monet_code\n",
       "0                 3           3\n",
       "1                 4           4\n",
       "2                 4           4\n",
       "3                 4           4\n",
       "4                 1           1\n",
       "...             ...         ...\n",
       "96092             4           4\n",
       "96093             1           1\n",
       "96094             1           1\n",
       "96095             1           1\n",
       "96096             2           2\n",
       "\n",
       "[94983 rows x 2 columns]"
      ]
     },
     "execution_count": 23,
     "metadata": {},
     "output_type": "execute_result"
    }
   ],
   "source": [
    "rfm.loc[:, ['monetary_tier', 'monet_code']]"
   ]
  },
  {
   "cell_type": "code",
   "execution_count": 24,
   "id": "a802f3fb",
   "metadata": {
    "tags": []
   },
   "outputs": [],
   "source": [
    "rfm['recency_tier'] = pd.factorize(rfm['recency_tier'], sort=True)[0] + 1\n",
    "rfm['monetary_tier'] = 4 - rfm['monetary_tier'].astype('category').cat.codes\n",
    "\n",
    "hsac = rfm[rfm['customer_segment'] == 'hsac']\n",
    "lsac = rfm[rfm['customer_segment'] == 'lsac']\n",
    "chsc = rfm[rfm['customer_segment'] == 'chsc']\n",
    "clsc = rfm[rfm['customer_segment'] == 'clsc']\n",
    "\n",
    "hsac = hsac.loc[:, ['recency_tier', 'frequency_tier', 'monetary_tier']]\n",
    "lsac = lsac.loc[:, ['recency_tier', 'frequency_tier', 'monetary_tier']]\n",
    "chsc = chsc.loc[:, ['recency_tier', 'frequency_tier', 'monetary_tier']]\n",
    "clsc = clsc.loc[:, ['recency_tier', 'frequency_tier', 'monetary_tier']]"
   ]
  },
  {
   "cell_type": "code",
   "execution_count": 25,
   "id": "eda53e22",
   "metadata": {
    "tags": []
   },
   "outputs": [
    {
     "data": {
      "image/png": "[encoded data removed]",
      "text/plain": [
       "<Figure size 360x1080 with 3 Axes>"
      ]
     },
     "metadata": {
      "needs_background": "light"
     },
     "output_type": "display_data"
    }
   ],
   "source": [
    "def add_random_noise(s, noise_strength=0.5):\n",
    "    np.random.seed(np.random.randint(1, len(s)))\n",
    "    noise = [np.random.rand() * (np.random.rand() * noise_strength) for i in range(0, len(s))]\n",
    "    s = s + noise\n",
    "    return s\n",
    "\n",
    "rfm_t = rfm.copy()\n",
    "rfm_t['recency_tier'] = add_random_noise(rfm_t.loc[:, 'recency_tier'], 0.3)\n",
    "rfm_t['frequency_tier'] = add_random_noise(rfm_t.loc[:, 'frequency_tier'], 0.3)\n",
    "rfm_t['monetary_tier'] = add_random_noise(rfm_t.loc[:, 'monetary_tier'], 0.3)\n",
    "\n",
    "colors = ['r', 'limegreen', 'b', 'orange']\n",
    "segment = ['hsac', 'lsac', 'chsc', 'clsc']\n",
    "\n",
    "t = ['frequency_tier', 'monetary_tier', 'recency_tier']\n",
    "c = []\n",
    "f = []\n",
    "\n",
    "for i in range(0, len(t)):\n",
    "    for j in range(0, len(t)):\n",
    "        t0 = t[i]\n",
    "        t1 = t[j]\n",
    "        \n",
    "        if t0 == t1:\n",
    "            continue\n",
    "        \n",
    "        if [t0, t1] in c:\n",
    "            continue\n",
    "        else:\n",
    "            f.append([t0, t1])\n",
    "            c.append([t0, t1])\n",
    "            c.append([t1, t0])\n",
    "\n",
    "fig, axs = plt.subplots(len(f), 1)\n",
    "fig.set_size_inches(5, 15, forward=True)\n",
    "\n",
    "for i in range(0, len(f)):\n",
    "    for j in segment:\n",
    "        ax = axs[i]\n",
    "        _ttt = rfm_t[rfm_t['customer_segment'] == j]\n",
    "        ax.scatter(_ttt[f[i][0]], _ttt[f[i][1]], color=colors[segment.index(j)])\n",
    "        ax.set_title('{} vs {}'.format(f[i][0], f[i][1]))\n",
    "        ax.set_xlabel(f[i][0])\n",
    "        ax.set_ylabel(f[i][1])\n",
    "\n",
    "plt.tight_layout()\n",
    "plt.show()"
   ]
  },
  {
   "cell_type": "markdown",
   "id": "a858996e",
   "metadata": {},
   "source": [
    "### Baseline Model Evaluation"
   ]
  },
  {
   "cell_type": "code",
   "execution_count": 26,
   "id": "938bef8e",
   "metadata": {},
   "outputs": [
    {
     "data": {
      "text/plain": [
       "0.5199018728308414"
      ]
     },
     "execution_count": 26,
     "metadata": {},
     "output_type": "execute_result"
    }
   ],
   "source": [
    "from sklearn.metrics import silhouette_score\n",
    "\n",
    "rfm_eval = rfm.loc[:, ['recency_tier', 'frequency_tier', 'monetary_tier', 'customer_segment']]\n",
    "\n",
    "rfm_eval.loc[rfm_eval['customer_segment'] == 'hsac', 'customer_segment_code'] = 0\n",
    "rfm_eval.loc[rfm_eval['customer_segment'] == 'lsac', 'customer_segment_code'] = 1\n",
    "rfm_eval.loc[rfm_eval['customer_segment'] == 'chsc', 'customer_segment_code'] = 2\n",
    "rfm_eval.loc[rfm_eval['customer_segment'] == 'clsc', 'customer_segment_code'] = 3\n",
    "\n",
    "silhouette_score(rfm_eval.loc[:, ['recency_tier', 'frequency_tier', 'monetary_tier']], \\\n",
    "                 rfm_eval.loc[:, 'customer_segment_code'])"
   ]
  },
  {
   "cell_type": "markdown",
   "id": "a2364028",
   "metadata": {},
   "source": [
    "## Data Preprocessing"
   ]
  },
  {
   "cell_type": "code",
   "execution_count": 27,
   "id": "701ff5c0",
   "metadata": {},
   "outputs": [],
   "source": [
    "from sklearn.preprocessing import MinMaxScaler"
   ]
  },
  {
   "cell_type": "code",
   "execution_count": 28,
   "id": "a2387e8a",
   "metadata": {},
   "outputs": [],
   "source": [
    "df = customer_rfm.copy()\n",
    "df = df.loc[:, ['last_order_days', 'count_order', 'total_spending']]"
   ]
  },
  {
   "cell_type": "code",
   "execution_count": 29,
   "id": "1157cacd",
   "metadata": {
    "tags": []
   },
   "outputs": [],
   "source": [
    "df = df.dropna()"
   ]
  },
  {
   "cell_type": "code",
   "execution_count": 30,
   "id": "a9a521c3",
   "metadata": {},
   "outputs": [],
   "source": [
    "# TODO: more preprocessing proper scaling"
   ]
  },
  {
   "cell_type": "code",
   "execution_count": 31,
   "id": "3fd45ad0",
   "metadata": {},
   "outputs": [],
   "source": [
    "mmscaler = MinMaxScaler()\n",
    "df = pd.DataFrame(mmscaler.fit_transform(df))\n",
    "df.columns = ['last_order_days', 'count_order', 'total_spending']"
   ]
  },
  {
   "cell_type": "code",
   "execution_count": 32,
   "id": "bfd7af8a",
   "metadata": {},
   "outputs": [
    {
     "data": {
      "text/html": [
       "<div>\n",
       "<style scoped>\n",
       "    .dataframe tbody tr th:only-of-type {\n",
       "        vertical-align: middle;\n",
       "    }\n",
       "\n",
       "    .dataframe tbody tr th {\n",
       "        vertical-align: top;\n",
       "    }\n",
       "\n",
       "    .dataframe thead th {\n",
       "        text-align: right;\n",
       "    }\n",
       "</style>\n",
       "<table border=\"1\" class=\"dataframe\">\n",
       "  <thead>\n",
       "    <tr style=\"text-align: right;\">\n",
       "      <th></th>\n",
       "      <th>last_order_days</th>\n",
       "      <th>count_order</th>\n",
       "      <th>total_spending</th>\n",
       "    </tr>\n",
       "  </thead>\n",
       "  <tbody>\n",
       "    <tr>\n",
       "      <th>0</th>\n",
       "      <td>0.582990</td>\n",
       "      <td>0.0</td>\n",
       "      <td>0.005584</td>\n",
       "    </tr>\n",
       "    <tr>\n",
       "      <th>1</th>\n",
       "      <td>0.526749</td>\n",
       "      <td>0.0</td>\n",
       "      <td>0.002168</td>\n",
       "    </tr>\n",
       "    <tr>\n",
       "      <th>2</th>\n",
       "      <td>0.181070</td>\n",
       "      <td>0.0</td>\n",
       "      <td>0.001424</td>\n",
       "    </tr>\n",
       "    <tr>\n",
       "      <th>3</th>\n",
       "      <td>0.320988</td>\n",
       "      <td>0.0</td>\n",
       "      <td>0.001052</td>\n",
       "    </tr>\n",
       "    <tr>\n",
       "      <th>4</th>\n",
       "      <td>0.507545</td>\n",
       "      <td>0.0</td>\n",
       "      <td>0.089228</td>\n",
       "    </tr>\n",
       "    <tr>\n",
       "      <th>5</th>\n",
       "      <td>0.379973</td>\n",
       "      <td>0.0</td>\n",
       "      <td>0.008858</td>\n",
       "    </tr>\n",
       "    <tr>\n",
       "      <th>6</th>\n",
       "      <td>0.319616</td>\n",
       "      <td>0.0</td>\n",
       "      <td>0.015563</td>\n",
       "    </tr>\n",
       "    <tr>\n",
       "      <th>7</th>\n",
       "      <td>0.791495</td>\n",
       "      <td>0.0</td>\n",
       "      <td>0.008121</td>\n",
       "    </tr>\n",
       "    <tr>\n",
       "      <th>8</th>\n",
       "      <td>0.278464</td>\n",
       "      <td>0.0</td>\n",
       "      <td>0.003955</td>\n",
       "    </tr>\n",
       "    <tr>\n",
       "      <th>9</th>\n",
       "      <td>0.220850</td>\n",
       "      <td>0.0</td>\n",
       "      <td>0.008494</td>\n",
       "    </tr>\n",
       "  </tbody>\n",
       "</table>\n",
       "</div>"
      ],
      "text/plain": [
       "   last_order_days  count_order  total_spending\n",
       "0         0.582990          0.0        0.005584\n",
       "1         0.526749          0.0        0.002168\n",
       "2         0.181070          0.0        0.001424\n",
       "3         0.320988          0.0        0.001052\n",
       "4         0.507545          0.0        0.089228\n",
       "5         0.379973          0.0        0.008858\n",
       "6         0.319616          0.0        0.015563\n",
       "7         0.791495          0.0        0.008121\n",
       "8         0.278464          0.0        0.003955\n",
       "9         0.220850          0.0        0.008494"
      ]
     },
     "metadata": {},
     "output_type": "display_data"
    }
   ],
   "source": [
    "display(df.head(10))"
   ]
  },
  {
   "cell_type": "markdown",
   "id": "ee5aacd5",
   "metadata": {},
   "source": [
    "## Model Selection"
   ]
  },
  {
   "cell_type": "code",
   "execution_count": 33,
   "id": "b6a8bc07",
   "metadata": {},
   "outputs": [],
   "source": [
    "from sklearn.cluster import KMeans"
   ]
  },
  {
   "cell_type": "markdown",
   "id": "ca04a5d5",
   "metadata": {},
   "source": [
    "### Using Silhouette Score to get optimal cluster"
   ]
  },
  {
   "cell_type": "code",
   "execution_count": 34,
   "id": "e189260a",
   "metadata": {
    "scrolled": true,
    "tags": []
   },
   "outputs": [],
   "source": [
    "# df1 = df.copy()\n",
    "\n",
    "# n_cluster = []\n",
    "# silhouette_scores = []\n",
    "\n",
    "# for i in range(2,4):\n",
    "#     print('Training model ...')\n",
    "#     kmeans = KMeans(n_clusters=i, random_state=111)\n",
    "#     y = kmeans.fit_predict(df1)\n",
    "#     print('Calculating silhouette score ...')\n",
    "#     sc = silhouette_score(df1, y)\n",
    "#     n_cluster.append(i)\n",
    "#     silhouette_scores.append(sc)\n",
    "#     print('For n_cluster = {n} The avg of silhouette score is {score}'.format(n=i, score=sc))\n",
    "\n",
    "# fig, ax = plt.subplots()\n",
    "\n",
    "# ax.plot(n_cluster, silhouette_scores)\n",
    "# ax.set_xlabel('n Cluster')\n",
    "# ax.set_ylabel('Silhouette score')\n",
    "\n",
    "# plt.show()"
   ]
  },
  {
   "cell_type": "code",
   "execution_count": 35,
   "id": "cfb9eb8b",
   "metadata": {},
   "outputs": [
    {
     "data": {
      "image/png": "[encoded data removed]",
      "text/plain": [
       "<Figure size 432x288 with 1 Axes>"
      ]
     },
     "metadata": {
      "needs_background": "light"
     },
     "output_type": "display_data"
    }
   ],
   "source": [
    "df1 = df.copy()\n",
    "\n",
    "n_cluster = []\n",
    "inertia_values = []\n",
    "\n",
    "for i in range(2,7):\n",
    "    kmeans = KMeans(n_clusters=i, random_state=111)\n",
    "    y = kmeans.fit_predict(df1)\n",
    "    n_cluster.append(i)\n",
    "    inertia_values.append(kmeans.inertia_)\n",
    "\n",
    "fig, ax = plt.subplots()\n",
    "\n",
    "ax.plot(n_cluster, inertia_values)\n",
    "ax.set_title('Within cluster sum of squared distance vs cluster size')\n",
    "ax.set_xlabel('n Cluster')\n",
    "ax.set_ylabel('Sum of squared distance to cluster center')\n",
    "\n",
    "plt.show()"
   ]
  },
  {
   "cell_type": "markdown",
   "id": "64ae9ddd",
   "metadata": {},
   "source": [
    "## K-Means"
   ]
  },
  {
   "cell_type": "code",
   "execution_count": 36,
   "id": "d3350e1f",
   "metadata": {},
   "outputs": [],
   "source": [
    "kmeans = KMeans(n_clusters=4, random_state=222)\n",
    "y = kmeans.fit_predict(df1)"
   ]
  },
  {
   "cell_type": "markdown",
   "id": "2391f6ae",
   "metadata": {},
   "source": [
    "### K-Means Evaluation"
   ]
  },
  {
   "cell_type": "code",
   "execution_count": 37,
   "id": "beeb7480",
   "metadata": {},
   "outputs": [
    {
     "data": {
      "text/plain": [
       "369.1282704897522"
      ]
     },
     "execution_count": 37,
     "metadata": {},
     "output_type": "execute_result"
    }
   ],
   "source": [
    "kmeans.inertia_"
   ]
  },
  {
   "cell_type": "code",
   "execution_count": 38,
   "id": "7e244bf3",
   "metadata": {},
   "outputs": [
    {
     "data": {
      "image/png": "[encoded data removed]",
      "text/plain": [
       "<Figure size 432x288 with 1 Axes>"
      ]
     },
     "metadata": {
      "needs_background": "light"
     },
     "output_type": "display_data"
    }
   ],
   "source": [
    "def add_random_noise(s, noise_strength=0.5):\n",
    "    np.random.seed(np.random.randint(1, len(s)))\n",
    "    noise = [np.random.rand() * (np.random.rand() * noise_strength) for i in range(0, len(s))]\n",
    "    s = s + noise\n",
    "    return s\n",
    "\n",
    "kmeans_df = df.copy()\n",
    "\n",
    "colors = ['r', 'limegreen', 'b', 'orange']\n",
    "segment = [i for i in range(0, 4)]\n",
    "\n",
    "# Set label to predicted cluster\n",
    "kmeans_df['label'] = y\n",
    "\n",
    "fig = plt.figure()\n",
    "ax = fig.add_subplot(111, projection='3d')\n",
    "\n",
    "for i in segment:\n",
    "    _df = kmeans_df[kmeans_df['label'] == i]\n",
    "    xs = _df.loc[:, 'last_order_days']\n",
    "    ys = _df.loc[:, 'count_order']\n",
    "    zs = _df.loc[:, 'total_spending']\n",
    "    ax.scatter(xs, ys, zs, color=colors[i])\n",
    "\n",
    "ax.set_xlabel('last_order_days')\n",
    "ax.set_ylabel('count_order')\n",
    "ax.set_zlabel('total_spending')\n",
    "\n",
    "plt.show()"
   ]
  },
  {
   "cell_type": "markdown",
   "id": "50f096e6",
   "metadata": {},
   "source": [
    "## Hierarchical Agglomerative"
   ]
  },
  {
   "cell_type": "code",
   "execution_count": 39,
   "id": "7d8c6448",
   "metadata": {},
   "outputs": [],
   "source": [
    "from sklearn.cluster import AgglomerativeClustering"
   ]
  },
  {
   "cell_type": "code",
   "execution_count": null,
   "id": "863333f8",
   "metadata": {},
   "outputs": [],
   "source": [
    "df1 = df.copy()\n",
    "\n",
    "agglomerative_clustering = AgglomerativeClustering(\n",
    "                                n_clusters=4)\n",
    "y = agglomerative_clustering.fit_predict(df1)"
   ]
  },
  {
   "cell_type": "code",
   "execution_count": null,
   "id": "91e193a2",
   "metadata": {},
   "outputs": [],
   "source": [
    "def add_random_noise(s, noise_strength=0.5):\n",
    "    np.random.seed(np.random.randint(1, len(s)))\n",
    "    noise = [np.random.rand() * (np.random.rand() * noise_strength) for i in range(0, len(s))]\n",
    "    s = s + noise\n",
    "    return s\n",
    "\n",
    "agglomerative_df = df.copy()\n",
    "\n",
    "colors = ['r', 'limegreen', 'b', 'orange']\n",
    "segment = [i for i in range(0, 4)]\n",
    "\n",
    "# Set label to predicted cluster\n",
    "agglomerative_df['label'] = y\n",
    "\n",
    "fig = plt.figure()\n",
    "ax = fig.add_subplot(111, projection='3d')\n",
    "\n",
    "for i in segment:\n",
    "    _df = agglomerative_df[agglomerative_df['label'] == i]\n",
    "    xs = _df.loc[:, 'last_order_days']\n",
    "    ys = _df.loc[:, 'count_order']\n",
    "    zs = _df.loc[:, 'total_spending']\n",
    "    ax.scatter(xs, ys, zs, color=colors[i])\n",
    "\n",
    "ax.set_xlabel('last_order_days')\n",
    "ax.set_ylabel('count_order')\n",
    "ax.set_zlabel('total_spending')\n",
    "\n",
    "plt.show()"
   ]
  },
  {
   "cell_type": "code",
   "execution_count": null,
   "id": "cee9c5d3",
   "metadata": {},
   "outputs": [],
   "source": [
    "ac_pca = PCA(n_components=2)\n",
    "ac_df = df1.copy()\n",
    "ac_df = ac_pca.fit_transform(ac_df)\n",
    "\n",
    "ac_df = pd.DataFrame(ac_df)\n",
    "ac_df['label'] = y\n",
    "\n",
    "cluster_1 = ac_df[ac_df['label'] == 0]\n",
    "cluster_2 = ac_df[ac_df['label'] == 1]\n",
    "\n",
    "fig, ax = plt.subplots()\n",
    "\n",
    "ax.scatter(cluster_1.iloc[:, 0], cluster_1.iloc[:, 1], color='r')\n",
    "ax.scatter(cluster_2.iloc[:, 0], cluster_2.iloc[:, 1], color='b')\n",
    "ax.set_xlabel('PCA Feature 1')\n",
    "ax.set_ylabel('PCA Feature 2')\n",
    "ax.set_title('Agglomerative Clustering')\n",
    "\n",
    "plt.show()"
   ]
  },
  {
   "cell_type": "markdown",
   "id": "5068fa9c",
   "metadata": {},
   "source": [
    "**visualisasi per 2 fitur utk tampilin semuanya"
   ]
  },
  {
   "cell_type": "markdown",
   "id": "4d1537f1",
   "metadata": {},
   "source": [
    "## K-Medoids"
   ]
  },
  {
   "cell_type": "code",
   "execution_count": null,
   "id": "18f3be4d",
   "metadata": {
    "tags": []
   },
   "outputs": [],
   "source": [
    "from sklearn_extra.cluster import KMedoids"
   ]
  },
  {
   "cell_type": "code",
   "execution_count": null,
   "id": "9f049f02",
   "metadata": {},
   "outputs": [],
   "source": []
  }
 ],
 "metadata": {
  "environment": {
   "name": "common-cpu.m76",
   "type": "gcloud",
   "uri": "gcr.io/deeplearning-platform-release/base-cpu:m76"
  },
  "kernelspec": {
   "display_name": "Python 3",
   "language": "python",
   "name": "python3"
  },
  "language_info": {
   "codemirror_mode": {
    "name": "ipython",
    "version": 3
   },
   "file_extension": ".py",
   "mimetype": "text/x-python",
   "name": "python",
   "nbconvert_exporter": "python",
   "pygments_lexer": "ipython3",
   "version": "3.7.10"
  },
  "metadata": {
   "interpreter": {
    "hash": "0d8c79cc0ea28e50b778542a6847c2b9bbd6ab54e304fdb2a541bbf9346a32c2"
   }
  }
 },
 "nbformat": 4,
 "nbformat_minor": 5
}
