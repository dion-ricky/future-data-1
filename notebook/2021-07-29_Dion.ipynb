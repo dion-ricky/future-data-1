{
 "cells": [
  {
   "cell_type": "markdown",
   "id": "0815e2af-23f9-4d03-b1c7-2d23c7562096",
   "metadata": {},
   "source": [
    "# Customer RFM Segmentation\n",
    "Customer segmentation used to target shipping cost voucher receiver candidate. As stated on my analysis before, the use of voucher doesn't seem to have any effect on user's satisfaction. However, this strategy may be able to increase user retention. Since the majority of users only order at most 2 times in the span of 2 years this is a severe problem for the ecommerce. Therefore a strategy needed to be laid out to increase user transaction frequency and monetary value."
   ]
  },
  {
   "cell_type": "markdown",
   "id": "d55a726c-7d3f-475a-a152-138209bb7332",
   "metadata": {},
   "source": [
    "## Free Shipping Voucher Strategy\n",
    "Shipping cost voucher will be awarded to customer which has lower transaction frequency but relatively higher monetary value. Not only that, but customer will be able to use the voucher only after it fulfill some conditions such as minimum transaction value, applied only to Official Store, or on certain occassion or date."
   ]
  },
  {
   "cell_type": "markdown",
   "id": "9435d40d-028e-4b45-bab6-b4013624b06c",
   "metadata": {
    "tags": []
   },
   "source": [
    "## Library Import and Configuration"
   ]
  },
  {
   "cell_type": "code",
   "execution_count": 84,
   "id": "9d5836ce-5a6f-4899-acd3-04e19f01ba27",
   "metadata": {},
   "outputs": [],
   "source": [
    "import numpy as np\n",
    "import pandas as pd\n",
    "import matplotlib.pyplot as plt\n",
    "from sklearn.decomposition import PCA\n",
    "\n",
    "# import postgres connection factory utility\n",
    "from util.dbconn import DbConn"
   ]
  },
  {
   "cell_type": "code",
   "execution_count": 85,
   "id": "7f0e963c-3074-485f-b384-ba6fb46f627a",
   "metadata": {},
   "outputs": [],
   "source": [
    "WAREHOUSE_CONN = {\n",
    "    'user': 'postgres',\n",
    "    'password': 'qshOke46RvOg0',\n",
    "    'host': 'localhost',\n",
    "    'port': '8084',\n",
    "    'dbname': 'warehouse'\n",
    "}"
   ]
  },
  {
   "cell_type": "code",
   "execution_count": 86,
   "id": "21d9b74b-2ea9-455a-aab2-f5b071342bd5",
   "metadata": {},
   "outputs": [],
   "source": [
    "postgres_conn = DbConn(WAREHOUSE_CONN).get_conn()"
   ]
  },
  {
   "cell_type": "markdown",
   "id": "f68f85c3-0e62-4375-a34e-076fb0761400",
   "metadata": {},
   "source": [
    "## Data Overview"
   ]
  },
  {
   "cell_type": "code",
   "execution_count": 87,
   "id": "341da83d-88c2-4f40-ab9d-dd4d45f78eae",
   "metadata": {},
   "outputs": [
    {
     "name": "stdout",
     "output_type": "stream",
     "text": [
      "<class 'pandas.core.frame.DataFrame'>\n",
      "RangeIndex: 94990 entries, 0 to 94989\n",
      "Data columns (total 5 columns):\n",
      " #   Column                 Non-Null Count  Dtype  \n",
      "---  ------                 --------------  -----  \n",
      " 0   user_name              94990 non-null  object \n",
      " 1   avg_spending           94983 non-null  float64\n",
      " 2   avg_day_between_order  94986 non-null  float64\n",
      " 3   order_count            94986 non-null  float64\n",
      " 4   last_order_days        94986 non-null  float64\n",
      "dtypes: float64(4), object(1)\n",
      "memory usage: 3.6+ MB\n"
     ]
    },
    {
     "data": {
      "text/plain": [
       "None"
      ]
     },
     "metadata": {},
     "output_type": "display_data"
    },
    {
     "data": {
      "text/html": [
       "<div>\n",
       "<style scoped>\n",
       "    .dataframe tbody tr th:only-of-type {\n",
       "        vertical-align: middle;\n",
       "    }\n",
       "\n",
       "    .dataframe tbody tr th {\n",
       "        vertical-align: top;\n",
       "    }\n",
       "\n",
       "    .dataframe thead th {\n",
       "        text-align: right;\n",
       "    }\n",
       "</style>\n",
       "<table border=\"1\" class=\"dataframe\">\n",
       "  <thead>\n",
       "    <tr style=\"text-align: right;\">\n",
       "      <th></th>\n",
       "      <th>user_name</th>\n",
       "      <th>avg_spending</th>\n",
       "      <th>avg_day_between_order</th>\n",
       "      <th>order_count</th>\n",
       "      <th>last_order_days</th>\n",
       "    </tr>\n",
       "  </thead>\n",
       "  <tbody>\n",
       "    <tr>\n",
       "      <th>0</th>\n",
       "      <td>00053a61a98854899e70ed204dd4bafe</td>\n",
       "      <td>419180.0</td>\n",
       "      <td>0.0</td>\n",
       "      <td>1.0</td>\n",
       "      <td>232.0</td>\n",
       "    </tr>\n",
       "    <tr>\n",
       "      <th>1</th>\n",
       "      <td>000d460961d6dbfa3ec6c9f5805769e1</td>\n",
       "      <td>36680.0</td>\n",
       "      <td>0.0</td>\n",
       "      <td>1.0</td>\n",
       "      <td>284.0</td>\n",
       "    </tr>\n",
       "    <tr>\n",
       "      <th>2</th>\n",
       "      <td>000ed48ceeb6f4bf8ad021a10a3c7b43</td>\n",
       "      <td>20750.0</td>\n",
       "      <td>0.0</td>\n",
       "      <td>1.0</td>\n",
       "      <td>151.0</td>\n",
       "    </tr>\n",
       "    <tr>\n",
       "      <th>3</th>\n",
       "      <td>0010fb34b966d44409382af9e8fd5b77</td>\n",
       "      <td>61800.0</td>\n",
       "      <td>0.0</td>\n",
       "      <td>1.0</td>\n",
       "      <td>227.0</td>\n",
       "    </tr>\n",
       "    <tr>\n",
       "      <th>4</th>\n",
       "      <td>0012929d977a8d7280bb277c1e5f589d</td>\n",
       "      <td>155650.0</td>\n",
       "      <td>0.0</td>\n",
       "      <td>1.0</td>\n",
       "      <td>366.0</td>\n",
       "    </tr>\n",
       "  </tbody>\n",
       "</table>\n",
       "</div>"
      ],
      "text/plain": [
       "                          user_name  avg_spending  avg_day_between_order  \\\n",
       "0  00053a61a98854899e70ed204dd4bafe      419180.0                    0.0   \n",
       "1  000d460961d6dbfa3ec6c9f5805769e1       36680.0                    0.0   \n",
       "2  000ed48ceeb6f4bf8ad021a10a3c7b43       20750.0                    0.0   \n",
       "3  0010fb34b966d44409382af9e8fd5b77       61800.0                    0.0   \n",
       "4  0012929d977a8d7280bb277c1e5f589d      155650.0                    0.0   \n",
       "\n",
       "   order_count  last_order_days  \n",
       "0          1.0            232.0  \n",
       "1          1.0            284.0  \n",
       "2          1.0            151.0  \n",
       "3          1.0            227.0  \n",
       "4          1.0            366.0  "
      ]
     },
     "metadata": {},
     "output_type": "display_data"
    },
    {
     "data": {
      "text/html": [
       "<div>\n",
       "<style scoped>\n",
       "    .dataframe tbody tr th:only-of-type {\n",
       "        vertical-align: middle;\n",
       "    }\n",
       "\n",
       "    .dataframe tbody tr th {\n",
       "        vertical-align: top;\n",
       "    }\n",
       "\n",
       "    .dataframe thead th {\n",
       "        text-align: right;\n",
       "    }\n",
       "</style>\n",
       "<table border=\"1\" class=\"dataframe\">\n",
       "  <thead>\n",
       "    <tr style=\"text-align: right;\">\n",
       "      <th></th>\n",
       "      <th>avg_spending</th>\n",
       "      <th>avg_day_between_order</th>\n",
       "      <th>order_count</th>\n",
       "      <th>last_order_days</th>\n",
       "    </tr>\n",
       "  </thead>\n",
       "  <tbody>\n",
       "    <tr>\n",
       "      <th>count</th>\n",
       "      <td>9.498300e+04</td>\n",
       "      <td>94986.000000</td>\n",
       "      <td>94986.000000</td>\n",
       "      <td>94986.000000</td>\n",
       "    </tr>\n",
       "    <tr>\n",
       "      <th>mean</th>\n",
       "      <td>1.607270e+05</td>\n",
       "      <td>2.447171</td>\n",
       "      <td>1.033858</td>\n",
       "      <td>288.394627</td>\n",
       "    </tr>\n",
       "    <tr>\n",
       "      <th>std</th>\n",
       "      <td>2.198878e+05</td>\n",
       "      <td>23.371340</td>\n",
       "      <td>0.210807</td>\n",
       "      <td>153.005601</td>\n",
       "    </tr>\n",
       "    <tr>\n",
       "      <th>min</th>\n",
       "      <td>9.590000e+03</td>\n",
       "      <td>0.000000</td>\n",
       "      <td>1.000000</td>\n",
       "      <td>45.000000</td>\n",
       "    </tr>\n",
       "    <tr>\n",
       "      <th>25%</th>\n",
       "      <td>6.241000e+04</td>\n",
       "      <td>0.000000</td>\n",
       "      <td>1.000000</td>\n",
       "      <td>164.000000</td>\n",
       "    </tr>\n",
       "    <tr>\n",
       "      <th>50%</th>\n",
       "      <td>1.057400e+05</td>\n",
       "      <td>0.000000</td>\n",
       "      <td>1.000000</td>\n",
       "      <td>269.000000</td>\n",
       "    </tr>\n",
       "    <tr>\n",
       "      <th>75%</th>\n",
       "      <td>1.769650e+05</td>\n",
       "      <td>0.000000</td>\n",
       "      <td>1.000000</td>\n",
       "      <td>397.000000</td>\n",
       "    </tr>\n",
       "    <tr>\n",
       "      <th>max</th>\n",
       "      <td>1.366408e+07</td>\n",
       "      <td>609.000000</td>\n",
       "      <td>16.000000</td>\n",
       "      <td>774.000000</td>\n",
       "    </tr>\n",
       "  </tbody>\n",
       "</table>\n",
       "</div>"
      ],
      "text/plain": [
       "       avg_spending  avg_day_between_order   order_count  last_order_days\n",
       "count  9.498300e+04           94986.000000  94986.000000     94986.000000\n",
       "mean   1.607270e+05               2.447171      1.033858       288.394627\n",
       "std    2.198878e+05              23.371340      0.210807       153.005601\n",
       "min    9.590000e+03               0.000000      1.000000        45.000000\n",
       "25%    6.241000e+04               0.000000      1.000000       164.000000\n",
       "50%    1.057400e+05               0.000000      1.000000       269.000000\n",
       "75%    1.769650e+05               0.000000      1.000000       397.000000\n",
       "max    1.366408e+07             609.000000     16.000000       774.000000"
      ]
     },
     "metadata": {},
     "output_type": "display_data"
    }
   ],
   "source": [
    "customer_rfm_query = \"\"\"WITH all_user AS (\n",
    "SELECT\n",
    "\tDISTINCT od.user_name,\n",
    "\tud.user_sk,\n",
    "\tud.customer_state_id AS state_id,\n",
    "\tud.customer_city AS city\n",
    "FROM\n",
    "\torder_dim od\n",
    "LEFT JOIN user_dim ud ON\n",
    "\tod.user_name = ud.user_name\n",
    "WHERE\n",
    "\tod.order_status NOT IN ('canceled', 'unavailable')),\n",
    "distinct_fc_monev AS (\n",
    "SELECT\n",
    "\t*\n",
    "FROM\n",
    "\tfact_customer_monetary_value fcmv2\n",
    "WHERE\n",
    "\tuser_sk IS NOT NULL\n",
    "\tAND order_date IS NULL)\n",
    "SELECT\n",
    "\tu.user_name,\n",
    "\tfcmv.avg_spending,\n",
    "\tEXTRACT(epoch FROM mcof.avg_time_between_order/86400)::int8 AS avg_day_between_order,\n",
    "\tmcof.order_count,\n",
    "\tEXTRACT(epoch FROM mcr.last_order_interval/86400)::int8 AS last_order_days\n",
    "FROM\n",
    "\tall_user u\n",
    "LEFT JOIN distinct_fc_monev fcmv ON\n",
    "\tu.user_sk = fcmv.user_sk\n",
    "LEFT JOIN mart_customer_order_frequency mcof ON\n",
    "\tu.user_name = mcof.user_name\n",
    "LEFT JOIN mart_customer_recency mcr ON\n",
    "\tu.user_name = mcr.user_name;\"\"\"\n",
    "customer_rfm = pd.read_sql(customer_rfm_query, con=postgres_conn)\n",
    "display(customer_rfm.info())\n",
    "display(customer_rfm.head(5))\n",
    "display(customer_rfm.describe())"
   ]
  },
  {
   "cell_type": "markdown",
   "id": "9c5c5256-0967-47d3-8d17-73985387dbdf",
   "metadata": {},
   "source": [
    "### Check for Null Value"
   ]
  },
  {
   "cell_type": "code",
   "execution_count": 88,
   "id": "f2c452f6-5529-4e05-b310-c337dae80c7d",
   "metadata": {},
   "outputs": [
    {
     "data": {
      "text/plain": [
       "user_name                0\n",
       "avg_spending             7\n",
       "avg_day_between_order    4\n",
       "order_count              4\n",
       "last_order_days          4\n",
       "dtype: int64"
      ]
     },
     "execution_count": 88,
     "metadata": {},
     "output_type": "execute_result"
    }
   ],
   "source": [
    "customer_rfm.isnull().sum()"
   ]
  },
  {
   "cell_type": "markdown",
   "id": "a4160992-2b80-434c-b52b-5f08c1368004",
   "metadata": {},
   "source": [
    "## Exploratory Data Analysis"
   ]
  },
  {
   "cell_type": "markdown",
   "id": "4bd041a3-e5b7-4d18-beb8-b38d0b367fe7",
   "metadata": {},
   "source": [
    "### Order Frequency"
   ]
  },
  {
   "cell_type": "code",
   "execution_count": 89,
   "id": "851c6d6a-e155-4012-ad36-1c5f1b48d19f",
   "metadata": {},
   "outputs": [
    {
     "data": {
      "text/html": [
       "<div>\n",
       "<style scoped>\n",
       "    .dataframe tbody tr th:only-of-type {\n",
       "        vertical-align: middle;\n",
       "    }\n",
       "\n",
       "    .dataframe tbody tr th {\n",
       "        vertical-align: top;\n",
       "    }\n",
       "\n",
       "    .dataframe thead th {\n",
       "        text-align: right;\n",
       "    }\n",
       "</style>\n",
       "<table border=\"1\" class=\"dataframe\">\n",
       "  <thead>\n",
       "    <tr style=\"text-align: right;\">\n",
       "      <th></th>\n",
       "      <th>order_count</th>\n",
       "      <th>user_name</th>\n",
       "    </tr>\n",
       "  </thead>\n",
       "  <tbody>\n",
       "    <tr>\n",
       "      <th>0</th>\n",
       "      <td>1.0</td>\n",
       "      <td>92099</td>\n",
       "    </tr>\n",
       "    <tr>\n",
       "      <th>1</th>\n",
       "      <td>2.0</td>\n",
       "      <td>2651</td>\n",
       "    </tr>\n",
       "    <tr>\n",
       "      <th>2</th>\n",
       "      <td>3.0</td>\n",
       "      <td>188</td>\n",
       "    </tr>\n",
       "    <tr>\n",
       "      <th>3</th>\n",
       "      <td>4.0</td>\n",
       "      <td>29</td>\n",
       "    </tr>\n",
       "    <tr>\n",
       "      <th>4</th>\n",
       "      <td>5.0</td>\n",
       "      <td>9</td>\n",
       "    </tr>\n",
       "    <tr>\n",
       "      <th>5</th>\n",
       "      <td>6.0</td>\n",
       "      <td>5</td>\n",
       "    </tr>\n",
       "    <tr>\n",
       "      <th>6</th>\n",
       "      <td>7.0</td>\n",
       "      <td>3</td>\n",
       "    </tr>\n",
       "    <tr>\n",
       "      <th>7</th>\n",
       "      <td>9.0</td>\n",
       "      <td>1</td>\n",
       "    </tr>\n",
       "    <tr>\n",
       "      <th>8</th>\n",
       "      <td>16.0</td>\n",
       "      <td>1</td>\n",
       "    </tr>\n",
       "  </tbody>\n",
       "</table>\n",
       "</div>"
      ],
      "text/plain": [
       "   order_count  user_name\n",
       "0          1.0      92099\n",
       "1          2.0       2651\n",
       "2          3.0        188\n",
       "3          4.0         29\n",
       "4          5.0          9\n",
       "5          6.0          5\n",
       "6          7.0          3\n",
       "7          9.0          1\n",
       "8         16.0          1"
      ]
     },
     "metadata": {},
     "output_type": "display_data"
    },
    {
     "data": {
      "image/png": "[encoded data removed]",
      "text/plain": [
       "<Figure size 432x288 with 1 Axes>"
      ]
     },
     "metadata": {
      "needs_background": "light"
     },
     "output_type": "display_data"
    }
   ],
   "source": [
    "fig, ax = plt.subplots()\n",
    "t1 = customer_rfm.loc[:, ['user_name', 'order_count']] \\\n",
    "        .groupby('order_count', as_index=False).count()\n",
    "ax.bar(t1['order_count'], t1['user_name'])\n",
    "ax.set_title('Order Frequency Count')\n",
    "ax.set_xlabel('Order Frequency')\n",
    "ax.set_ylabel('Order Count')\n",
    "\n",
    "display(t1)\n",
    "plt.show()"
   ]
  },
  {
   "cell_type": "markdown",
   "id": "898bd4ff-5baf-4a20-ab70-7a5e570b606b",
   "metadata": {},
   "source": [
    "### Order Recency"
   ]
  },
  {
   "cell_type": "code",
   "execution_count": 90,
   "id": "cf5d87f2-8a9a-45d2-8f19-7dfd39a50db1",
   "metadata": {},
   "outputs": [
    {
     "data": {
      "image/png": "[encoded data removed]",
      "text/plain": [
       "<Figure size 432x288 with 1 Axes>"
      ]
     },
     "metadata": {
      "needs_background": "light"
     },
     "output_type": "display_data"
    },
    {
     "data": {
      "text/html": [
       "<div>\n",
       "<style scoped>\n",
       "    .dataframe tbody tr th:only-of-type {\n",
       "        vertical-align: middle;\n",
       "    }\n",
       "\n",
       "    .dataframe tbody tr th {\n",
       "        vertical-align: top;\n",
       "    }\n",
       "\n",
       "    .dataframe thead th {\n",
       "        text-align: right;\n",
       "    }\n",
       "</style>\n",
       "<table border=\"1\" class=\"dataframe\">\n",
       "  <thead>\n",
       "    <tr style=\"text-align: right;\">\n",
       "      <th></th>\n",
       "      <th>days_since_last_order</th>\n",
       "      <th>order_count</th>\n",
       "    </tr>\n",
       "  </thead>\n",
       "  <tbody>\n",
       "    <tr>\n",
       "      <th>0</th>\n",
       "      <td>45.0</td>\n",
       "      <td>1</td>\n",
       "    </tr>\n",
       "    <tr>\n",
       "      <th>1</th>\n",
       "      <td>50.0</td>\n",
       "      <td>11</td>\n",
       "    </tr>\n",
       "    <tr>\n",
       "      <th>2</th>\n",
       "      <td>51.0</td>\n",
       "      <td>38</td>\n",
       "    </tr>\n",
       "    <tr>\n",
       "      <th>3</th>\n",
       "      <td>52.0</td>\n",
       "      <td>66</td>\n",
       "    </tr>\n",
       "    <tr>\n",
       "      <th>4</th>\n",
       "      <td>53.0</td>\n",
       "      <td>71</td>\n",
       "    </tr>\n",
       "    <tr>\n",
       "      <th>5</th>\n",
       "      <td>54.0</td>\n",
       "      <td>68</td>\n",
       "    </tr>\n",
       "    <tr>\n",
       "      <th>6</th>\n",
       "      <td>55.0</td>\n",
       "      <td>93</td>\n",
       "    </tr>\n",
       "    <tr>\n",
       "      <th>7</th>\n",
       "      <td>56.0</td>\n",
       "      <td>139</td>\n",
       "    </tr>\n",
       "    <tr>\n",
       "      <th>8</th>\n",
       "      <td>57.0</td>\n",
       "      <td>181</td>\n",
       "    </tr>\n",
       "    <tr>\n",
       "      <th>9</th>\n",
       "      <td>58.0</td>\n",
       "      <td>243</td>\n",
       "    </tr>\n",
       "    <tr>\n",
       "      <th>10</th>\n",
       "      <td>59.0</td>\n",
       "      <td>254</td>\n",
       "    </tr>\n",
       "    <tr>\n",
       "      <th>11</th>\n",
       "      <td>60.0</td>\n",
       "      <td>204</td>\n",
       "    </tr>\n",
       "    <tr>\n",
       "      <th>12</th>\n",
       "      <td>61.0</td>\n",
       "      <td>190</td>\n",
       "    </tr>\n",
       "    <tr>\n",
       "      <th>13</th>\n",
       "      <td>62.0</td>\n",
       "      <td>242</td>\n",
       "    </tr>\n",
       "    <tr>\n",
       "      <th>14</th>\n",
       "      <td>63.0</td>\n",
       "      <td>318</td>\n",
       "    </tr>\n",
       "  </tbody>\n",
       "</table>\n",
       "</div>"
      ],
      "text/plain": [
       "    days_since_last_order  order_count\n",
       "0                    45.0            1\n",
       "1                    50.0           11\n",
       "2                    51.0           38\n",
       "3                    52.0           66\n",
       "4                    53.0           71\n",
       "5                    54.0           68\n",
       "6                    55.0           93\n",
       "7                    56.0          139\n",
       "8                    57.0          181\n",
       "9                    58.0          243\n",
       "10                   59.0          254\n",
       "11                   60.0          204\n",
       "12                   61.0          190\n",
       "13                   62.0          242\n",
       "14                   63.0          318"
      ]
     },
     "metadata": {},
     "output_type": "display_data"
    }
   ],
   "source": [
    "fig, ax = plt.subplots()\n",
    "t1 = customer_rfm.loc[:, ['user_name', 'last_order_days']] \\\n",
    "        .groupby('last_order_days', as_index=False).count()\n",
    "ax.bar(t1['last_order_days'], t1['user_name'])\n",
    "ax.set_title('Days Since Last Order Distribution')\n",
    "ax.set_xlabel('Last Order Days')\n",
    "ax.set_ylabel('Order Count')\n",
    "\n",
    "plt.show()\n",
    "t1.columns = ['days_since_last_order', 'order_count']\n",
    "display(t1.head(15))"
   ]
  },
  {
   "cell_type": "markdown",
   "id": "5e16b333-e885-45c6-a14a-bd70d3208c16",
   "metadata": {},
   "source": [
    "### Delay Between Order"
   ]
  },
  {
   "cell_type": "code",
   "execution_count": 91,
   "id": "b67f98e1-fa7e-41a3-8d4c-c2ec0abda343",
   "metadata": {},
   "outputs": [
    {
     "data": {
      "image/png": "[encoded data removed]",
      "text/plain": [
       "<Figure size 432x288 with 1 Axes>"
      ]
     },
     "metadata": {
      "needs_background": "light"
     },
     "output_type": "display_data"
    },
    {
     "data": {
      "text/html": [
       "<div>\n",
       "<style scoped>\n",
       "    .dataframe tbody tr th:only-of-type {\n",
       "        vertical-align: middle;\n",
       "    }\n",
       "\n",
       "    .dataframe tbody tr th {\n",
       "        vertical-align: top;\n",
       "    }\n",
       "\n",
       "    .dataframe thead th {\n",
       "        text-align: right;\n",
       "    }\n",
       "</style>\n",
       "<table border=\"1\" class=\"dataframe\">\n",
       "  <thead>\n",
       "    <tr style=\"text-align: right;\">\n",
       "      <th></th>\n",
       "      <th>avg_day_between_order</th>\n",
       "      <th>user_name</th>\n",
       "    </tr>\n",
       "  </thead>\n",
       "  <tbody>\n",
       "    <tr>\n",
       "      <th>0</th>\n",
       "      <td>1.0</td>\n",
       "      <td>40</td>\n",
       "    </tr>\n",
       "    <tr>\n",
       "      <th>1</th>\n",
       "      <td>2.0</td>\n",
       "      <td>37</td>\n",
       "    </tr>\n",
       "    <tr>\n",
       "      <th>2</th>\n",
       "      <td>3.0</td>\n",
       "      <td>24</td>\n",
       "    </tr>\n",
       "    <tr>\n",
       "      <th>3</th>\n",
       "      <td>4.0</td>\n",
       "      <td>25</td>\n",
       "    </tr>\n",
       "    <tr>\n",
       "      <th>4</th>\n",
       "      <td>5.0</td>\n",
       "      <td>19</td>\n",
       "    </tr>\n",
       "  </tbody>\n",
       "</table>\n",
       "</div>"
      ],
      "text/plain": [
       "   avg_day_between_order  user_name\n",
       "0                    1.0         40\n",
       "1                    2.0         37\n",
       "2                    3.0         24\n",
       "3                    4.0         25\n",
       "4                    5.0         19"
      ]
     },
     "metadata": {},
     "output_type": "display_data"
    },
    {
     "data": {
      "text/html": [
       "<div>\n",
       "<style scoped>\n",
       "    .dataframe tbody tr th:only-of-type {\n",
       "        vertical-align: middle;\n",
       "    }\n",
       "\n",
       "    .dataframe tbody tr th {\n",
       "        vertical-align: top;\n",
       "    }\n",
       "\n",
       "    .dataframe thead th {\n",
       "        text-align: right;\n",
       "    }\n",
       "</style>\n",
       "<table border=\"1\" class=\"dataframe\">\n",
       "  <thead>\n",
       "    <tr style=\"text-align: right;\">\n",
       "      <th></th>\n",
       "      <th>avg_day_between_order</th>\n",
       "      <th>user_name</th>\n",
       "    </tr>\n",
       "  </thead>\n",
       "  <tbody>\n",
       "    <tr>\n",
       "      <th>394</th>\n",
       "      <td>524.0</td>\n",
       "      <td>2</td>\n",
       "    </tr>\n",
       "    <tr>\n",
       "      <th>395</th>\n",
       "      <td>573.0</td>\n",
       "      <td>1</td>\n",
       "    </tr>\n",
       "    <tr>\n",
       "      <th>396</th>\n",
       "      <td>581.0</td>\n",
       "      <td>1</td>\n",
       "    </tr>\n",
       "    <tr>\n",
       "      <th>397</th>\n",
       "      <td>583.0</td>\n",
       "      <td>1</td>\n",
       "    </tr>\n",
       "    <tr>\n",
       "      <th>398</th>\n",
       "      <td>609.0</td>\n",
       "      <td>1</td>\n",
       "    </tr>\n",
       "  </tbody>\n",
       "</table>\n",
       "</div>"
      ],
      "text/plain": [
       "     avg_day_between_order  user_name\n",
       "394                  524.0          2\n",
       "395                  573.0          1\n",
       "396                  581.0          1\n",
       "397                  583.0          1\n",
       "398                  609.0          1"
      ]
     },
     "metadata": {},
     "output_type": "display_data"
    }
   ],
   "source": [
    "fig, ax = plt.subplots()\n",
    "t0 = customer_rfm[customer_rfm['order_count'] != 1]\n",
    "t0 = t0[t0['avg_day_between_order'] != 0]\n",
    "t1 = t0.loc[:, ['user_name', 'avg_day_between_order']] \\\n",
    "        .groupby('avg_day_between_order', as_index=False).count()\n",
    "ax.bar(t1['avg_day_between_order'], t1['user_name'])\n",
    "# ax.set_title('Last Order Days Distribution')\n",
    "ax.set_xlabel('Avg Day Between Order')\n",
    "ax.set_ylabel('Order Count')\n",
    "\n",
    "plt.show()\n",
    "display(t1.head(5))\n",
    "display(t1.tail(5))"
   ]
  },
  {
   "cell_type": "markdown",
   "id": "058b9768-798a-4386-807c-5b6845cc70ea",
   "metadata": {},
   "source": [
    "### Monetary Value"
   ]
  },
  {
   "cell_type": "markdown",
   "id": "a96eb96d-8851-42e8-9159-bb2633c8f21f",
   "metadata": {},
   "source": [
    "liat data mentahnya dulu <br>\n",
    "pake bar chart "
   ]
  },
  {
   "cell_type": "code",
   "execution_count": 92,
   "id": "dfc858bf-bb57-45a5-bfc8-e11c9c91ae9c",
   "metadata": {},
   "outputs": [
    {
     "data": {
      "text/html": [
       "<div>\n",
       "<style scoped>\n",
       "    .dataframe tbody tr th:only-of-type {\n",
       "        vertical-align: middle;\n",
       "    }\n",
       "\n",
       "    .dataframe tbody tr th {\n",
       "        vertical-align: top;\n",
       "    }\n",
       "\n",
       "    .dataframe thead th {\n",
       "        text-align: right;\n",
       "    }\n",
       "</style>\n",
       "<table border=\"1\" class=\"dataframe\">\n",
       "  <thead>\n",
       "    <tr style=\"text-align: right;\">\n",
       "      <th></th>\n",
       "      <th>monetary_value</th>\n",
       "      <th>user_name</th>\n",
       "    </tr>\n",
       "  </thead>\n",
       "  <tbody>\n",
       "    <tr>\n",
       "      <th>0</th>\n",
       "      <td>0</td>\n",
       "      <td>94459</td>\n",
       "    </tr>\n",
       "    <tr>\n",
       "      <th>1</th>\n",
       "      <td>1</td>\n",
       "      <td>462</td>\n",
       "    </tr>\n",
       "    <tr>\n",
       "      <th>2</th>\n",
       "      <td>2</td>\n",
       "      <td>49</td>\n",
       "    </tr>\n",
       "    <tr>\n",
       "      <th>3</th>\n",
       "      <td>3</td>\n",
       "      <td>7</td>\n",
       "    </tr>\n",
       "    <tr>\n",
       "      <th>4</th>\n",
       "      <td>4</td>\n",
       "      <td>2</td>\n",
       "    </tr>\n",
       "    <tr>\n",
       "      <th>5</th>\n",
       "      <td>5</td>\n",
       "      <td>3</td>\n",
       "    </tr>\n",
       "    <tr>\n",
       "      <th>6</th>\n",
       "      <td>6</td>\n",
       "      <td>0</td>\n",
       "    </tr>\n",
       "    <tr>\n",
       "      <th>7</th>\n",
       "      <td>7</td>\n",
       "      <td>0</td>\n",
       "    </tr>\n",
       "    <tr>\n",
       "      <th>8</th>\n",
       "      <td>8</td>\n",
       "      <td>0</td>\n",
       "    </tr>\n",
       "    <tr>\n",
       "      <th>9</th>\n",
       "      <td>9</td>\n",
       "      <td>1</td>\n",
       "    </tr>\n",
       "  </tbody>\n",
       "</table>\n",
       "</div>"
      ],
      "text/plain": [
       "  monetary_value  user_name\n",
       "0              0      94459\n",
       "1              1        462\n",
       "2              2         49\n",
       "3              3          7\n",
       "4              4          2\n",
       "5              5          3\n",
       "6              6          0\n",
       "7              7          0\n",
       "8              8          0\n",
       "9              9          1"
      ]
     },
     "metadata": {},
     "output_type": "display_data"
    },
    {
     "data": {
      "image/png": "[encoded data removed]",
      "text/plain": [
       "<Figure size 432x288 with 1 Axes>"
      ]
     },
     "metadata": {
      "needs_background": "light"
     },
     "output_type": "display_data"
    }
   ],
   "source": [
    "fig, ax = plt.subplots()\n",
    "\n",
    "t0 = customer_rfm.copy()\n",
    "\n",
    "t0['monetary_value'] = pd.cut(customer_rfm['avg_spending'], bins=10, labels=range(0, 10))\n",
    "t1 = t0.loc[:, ['user_name', 'monetary_value']] \\\n",
    "        .groupby('monetary_value', as_index=False).count()\n",
    "ax.bar(t1['monetary_value'], t1['user_name'])\n",
    "ax.set_title('Monetary Value')\n",
    "ax.set_xlabel('Avg Spending (decile)')\n",
    "ax.set_ylabel('User Count')\n",
    "\n",
    "display(t1)\n",
    "plt.show()"
   ]
  },
  {
   "cell_type": "markdown",
   "id": "17a9437a-ff99-4fdd-be07-1776034fa416",
   "metadata": {},
   "source": [
    "## Baseline Model\n",
    "Manually assigned RFM score based on percentile.\n",
    "<table>\n",
    "    <tr>\n",
    "        <th>Recency</th>\n",
    "        <th>Frequency</th>\n",
    "        <th>Monetary</th>\n",
    "    </tr>\n",
    "    <tr>\n",
    "        <td>R-Tier-1 (most recent)</td>\n",
    "        <td>F-Tier-1 (most frequent)</td>\n",
    "        <td>M-Tier-1 (highest spend)</td>\n",
    "    </tr>\n",
    "    <tr>\n",
    "        <td>R-Tier-2</td>\n",
    "        <td>F-Tier-2</td>\n",
    "        <td>M-Tier-2</td>\n",
    "    </tr>\n",
    "    <tr>\n",
    "        <td>R-Tier-3</td>\n",
    "        <td>F-Tier-3</td>\n",
    "        <td>M-Tier-3</td>\n",
    "    </tr>\n",
    "    <tr>\n",
    "        <td>R-Tier-4 (least recent)</td>\n",
    "        <td>F-Tier-4 (least frequent)</td>\n",
    "        <td>M-Tier-4 (lowest spend)</td>\n",
    "    </tr>\n",
    "</table>\n",
    "Reiterating the goals again, the strategy prefer customer which has lower frequency but relatively higher monetary value. Below are the segment name assignment based on customer RFM score:<br>\n",
    "<ul>\n",
    "    <li>High-spending Active Loyal Customer (1-1-1, 1-1-2)</li>\n",
    "    <li>Churned High-spending Customer* (4-4-1, 4-4-2, 4-3-1, 4-3-2)</li>\n",
    "    <li>High-spending New Customer* (1-4-1, 1-4-2)</li>\n",
    "    <li>Worst Customer (4-4-4, 4-3-4, 3-4-4)</li>\n",
    "</ul>\n",
    "<b>Note:</b>\n",
    "* The best candidate to receive free shipping voucher is marked with asterisk"
   ]
  },
  {
   "cell_type": "markdown",
   "id": "e0147880-002c-49fd-985c-358dfd2863ea",
   "metadata": {},
   "source": [
    "1 2 x\n",
    "2 x x\n",
    "3 x x boleh dikasih voucher belanja juga krn sudah lama nggk beli\n",
    "semua customer harus punya cluster"
   ]
  },
  {
   "cell_type": "code",
   "execution_count": 93,
   "id": "c0920782-9dde-439b-83d8-6d777ea267ce",
   "metadata": {},
   "outputs": [
    {
     "name": "stdout",
     "output_type": "stream",
     "text": [
      "<class 'pandas.core.frame.DataFrame'>\n",
      "RangeIndex: 94990 entries, 0 to 94989\n",
      "Data columns (total 5 columns):\n",
      " #   Column                 Non-Null Count  Dtype  \n",
      "---  ------                 --------------  -----  \n",
      " 0   user_name              94990 non-null  object \n",
      " 1   avg_spending           94983 non-null  float64\n",
      " 2   avg_day_between_order  94986 non-null  float64\n",
      " 3   order_count            94986 non-null  float64\n",
      " 4   last_order_days        94986 non-null  float64\n",
      "dtypes: float64(4), object(1)\n",
      "memory usage: 3.6+ MB\n"
     ]
    }
   ],
   "source": [
    "rfm = customer_rfm.copy()\n",
    "rfm.info()"
   ]
  },
  {
   "cell_type": "markdown",
   "id": "6ca14639-ca5b-4e62-aedf-697a2156a979",
   "metadata": {},
   "source": [
    "### Recency Tier"
   ]
  },
  {
   "cell_type": "code",
   "execution_count": 94,
   "id": "afc8c600-a0db-4d97-beaa-714fa922d544",
   "metadata": {},
   "outputs": [
    {
     "data": {
      "text/html": [
       "<div>\n",
       "<style scoped>\n",
       "    .dataframe tbody tr th:only-of-type {\n",
       "        vertical-align: middle;\n",
       "    }\n",
       "\n",
       "    .dataframe tbody tr th {\n",
       "        vertical-align: top;\n",
       "    }\n",
       "\n",
       "    .dataframe thead th {\n",
       "        text-align: right;\n",
       "    }\n",
       "</style>\n",
       "<table border=\"1\" class=\"dataframe\">\n",
       "  <thead>\n",
       "    <tr style=\"text-align: right;\">\n",
       "      <th></th>\n",
       "      <th>recency_tier</th>\n",
       "      <th>user_name</th>\n",
       "    </tr>\n",
       "  </thead>\n",
       "  <tbody>\n",
       "    <tr>\n",
       "      <th>0</th>\n",
       "      <td>1</td>\n",
       "      <td>38077</td>\n",
       "    </tr>\n",
       "    <tr>\n",
       "      <th>1</th>\n",
       "      <td>2</td>\n",
       "      <td>34877</td>\n",
       "    </tr>\n",
       "    <tr>\n",
       "      <th>2</th>\n",
       "      <td>3</td>\n",
       "      <td>19017</td>\n",
       "    </tr>\n",
       "    <tr>\n",
       "      <th>3</th>\n",
       "      <td>4</td>\n",
       "      <td>3015</td>\n",
       "    </tr>\n",
       "  </tbody>\n",
       "</table>\n",
       "</div>"
      ],
      "text/plain": [
       "  recency_tier  user_name\n",
       "0            1      38077\n",
       "1            2      34877\n",
       "2            3      19017\n",
       "3            4       3015"
      ]
     },
     "metadata": {},
     "output_type": "display_data"
    },
    {
     "data": {
      "image/png": "[encoded data removed]",
      "text/plain": [
       "<Figure size 432x288 with 1 Axes>"
      ]
     },
     "metadata": {
      "needs_background": "light"
     },
     "output_type": "display_data"
    }
   ],
   "source": [
    "# Tier is reversed since the lowest bin is the least recent\n",
    "# this rule applies to frequency and monetary as well\n",
    "recency_labels = [\n",
    "    1,\n",
    "    2,\n",
    "    3,\n",
    "    4\n",
    "]\n",
    "rfm['recency_tier'] = pd.cut(customer_rfm['last_order_days'], bins=4, labels=recency_labels)\n",
    "\n",
    "fig, ax = plt.subplots()\n",
    "\n",
    "t1 = rfm.loc[:, ['user_name', 'recency_tier']] \\\n",
    "        .groupby('recency_tier', as_index=False).count()\n",
    "ax.bar(t1['recency_tier'], t1['user_name'])\n",
    "ax.set_title('Recency Tier')\n",
    "ax.set_xlabel('Recency Tier')\n",
    "ax.set_ylabel('User Count')\n",
    "\n",
    "display(t1)\n",
    "plt.show()"
   ]
  },
  {
   "cell_type": "markdown",
   "id": "590597f7-ed15-45f0-b4e2-8caa1d5b4ae9",
   "metadata": {},
   "source": [
    "### Frequency Tier"
   ]
  },
  {
   "cell_type": "code",
   "execution_count": 95,
   "id": "1181ac27-1987-4e93-9ed7-d6da7675d3ea",
   "metadata": {},
   "outputs": [
    {
     "data": {
      "text/html": [
       "<div>\n",
       "<style scoped>\n",
       "    .dataframe tbody tr th:only-of-type {\n",
       "        vertical-align: middle;\n",
       "    }\n",
       "\n",
       "    .dataframe tbody tr th {\n",
       "        vertical-align: top;\n",
       "    }\n",
       "\n",
       "    .dataframe thead th {\n",
       "        text-align: right;\n",
       "    }\n",
       "</style>\n",
       "<table border=\"1\" class=\"dataframe\">\n",
       "  <thead>\n",
       "    <tr style=\"text-align: right;\">\n",
       "      <th></th>\n",
       "      <th>frequency_tier</th>\n",
       "      <th>user_name</th>\n",
       "    </tr>\n",
       "  </thead>\n",
       "  <tbody>\n",
       "    <tr>\n",
       "      <th>0</th>\n",
       "      <td>4</td>\n",
       "      <td>94967</td>\n",
       "    </tr>\n",
       "    <tr>\n",
       "      <th>1</th>\n",
       "      <td>3</td>\n",
       "      <td>17</td>\n",
       "    </tr>\n",
       "    <tr>\n",
       "      <th>2</th>\n",
       "      <td>2</td>\n",
       "      <td>1</td>\n",
       "    </tr>\n",
       "    <tr>\n",
       "      <th>3</th>\n",
       "      <td>1</td>\n",
       "      <td>1</td>\n",
       "    </tr>\n",
       "  </tbody>\n",
       "</table>\n",
       "</div>"
      ],
      "text/plain": [
       "  frequency_tier  user_name\n",
       "0              4      94967\n",
       "1              3         17\n",
       "2              2          1\n",
       "3              1          1"
      ]
     },
     "metadata": {},
     "output_type": "display_data"
    },
    {
     "data": {
      "image/png": "[encoded data removed]",
      "text/plain": [
       "<Figure size 432x288 with 1 Axes>"
      ]
     },
     "metadata": {
      "needs_background": "light"
     },
     "output_type": "display_data"
    }
   ],
   "source": [
    "frequency_labels = [\n",
    "    4,\n",
    "    3,\n",
    "    2,\n",
    "    1\n",
    "]\n",
    "rfm['frequency_tier'] = pd.cut(customer_rfm['order_count'], bins=4, labels=frequency_labels)\n",
    "\n",
    "fig, ax = plt.subplots()\n",
    "\n",
    "t1 = rfm.loc[:, ['user_name', 'frequency_tier']] \\\n",
    "        .groupby('frequency_tier', as_index=False).count()\n",
    "ax.bar(t1['frequency_tier'], t1['user_name'])\n",
    "ax.set_title('Frequency Tier')\n",
    "ax.set_xlabel('Frequency Tier')\n",
    "ax.set_ylabel('User Count')\n",
    "\n",
    "display(t1)\n",
    "plt.show()"
   ]
  },
  {
   "cell_type": "markdown",
   "id": "d24d1145-f172-420a-a6c2-9a099fbcecec",
   "metadata": {},
   "source": [
    "#### Remove Outlier"
   ]
  },
  {
   "cell_type": "code",
   "execution_count": 96,
   "id": "d5031cdc-83fd-4fb8-9af8-913626ec02f7",
   "metadata": {},
   "outputs": [
    {
     "data": {
      "text/html": [
       "<div>\n",
       "<style scoped>\n",
       "    .dataframe tbody tr th:only-of-type {\n",
       "        vertical-align: middle;\n",
       "    }\n",
       "\n",
       "    .dataframe tbody tr th {\n",
       "        vertical-align: top;\n",
       "    }\n",
       "\n",
       "    .dataframe thead th {\n",
       "        text-align: right;\n",
       "    }\n",
       "</style>\n",
       "<table border=\"1\" class=\"dataframe\">\n",
       "  <thead>\n",
       "    <tr style=\"text-align: right;\">\n",
       "      <th></th>\n",
       "      <th>frequency_tier</th>\n",
       "      <th>user_name</th>\n",
       "    </tr>\n",
       "  </thead>\n",
       "  <tbody>\n",
       "    <tr>\n",
       "      <th>0</th>\n",
       "      <td>4</td>\n",
       "      <td>94938</td>\n",
       "    </tr>\n",
       "    <tr>\n",
       "      <th>1</th>\n",
       "      <td>3</td>\n",
       "      <td>38</td>\n",
       "    </tr>\n",
       "    <tr>\n",
       "      <th>2</th>\n",
       "      <td>2</td>\n",
       "      <td>8</td>\n",
       "    </tr>\n",
       "    <tr>\n",
       "      <th>3</th>\n",
       "      <td>1</td>\n",
       "      <td>1</td>\n",
       "    </tr>\n",
       "  </tbody>\n",
       "</table>\n",
       "</div>"
      ],
      "text/plain": [
       "  frequency_tier  user_name\n",
       "0              4      94938\n",
       "1              3         38\n",
       "2              2          8\n",
       "3              1          1"
      ]
     },
     "metadata": {},
     "output_type": "display_data"
    },
    {
     "data": {
      "image/png": "[encoded data removed]",
      "text/plain": [
       "<Figure size 432x288 with 1 Axes>"
      ]
     },
     "metadata": {
      "needs_background": "light"
     },
     "output_type": "display_data"
    }
   ],
   "source": [
    "t0 = rfm.copy()\n",
    "\n",
    "t0 = t0[t0['order_count'] != 16]\n",
    "t0['frequency_tier'] = pd.cut(t0['order_count'], bins=4, labels=frequency_labels)\n",
    "\n",
    "fig, ax = plt.subplots()\n",
    "\n",
    "t1 = t0.loc[:, ['user_name', 'frequency_tier']] \\\n",
    "        .groupby('frequency_tier', as_index=False).count()\n",
    "ax.bar(t1['frequency_tier'], t1['user_name'])\n",
    "ax.set_title('Frequency Tier')\n",
    "ax.set_xlabel('Frequency Tier')\n",
    "ax.set_ylabel('User Count')\n",
    "\n",
    "display(t1)\n",
    "plt.show()"
   ]
  },
  {
   "cell_type": "markdown",
   "id": "86f983ab-70a0-4017-8156-d1afff3fe3bd",
   "metadata": {},
   "source": [
    "#### Remove User with Order Count of 1"
   ]
  },
  {
   "cell_type": "code",
   "execution_count": 97,
   "id": "fd140ecf-a60b-426d-9042-8672377e6f9c",
   "metadata": {},
   "outputs": [
    {
     "data": {
      "text/html": [
       "<div>\n",
       "<style scoped>\n",
       "    .dataframe tbody tr th:only-of-type {\n",
       "        vertical-align: middle;\n",
       "    }\n",
       "\n",
       "    .dataframe tbody tr th {\n",
       "        vertical-align: top;\n",
       "    }\n",
       "\n",
       "    .dataframe thead th {\n",
       "        text-align: right;\n",
       "    }\n",
       "</style>\n",
       "<table border=\"1\" class=\"dataframe\">\n",
       "  <thead>\n",
       "    <tr style=\"text-align: right;\">\n",
       "      <th></th>\n",
       "      <th>frequency_tier</th>\n",
       "      <th>user_name</th>\n",
       "    </tr>\n",
       "  </thead>\n",
       "  <tbody>\n",
       "    <tr>\n",
       "      <th>0</th>\n",
       "      <td>4</td>\n",
       "      <td>2877</td>\n",
       "    </tr>\n",
       "    <tr>\n",
       "      <th>1</th>\n",
       "      <td>3</td>\n",
       "      <td>9</td>\n",
       "    </tr>\n",
       "    <tr>\n",
       "      <th>2</th>\n",
       "      <td>2</td>\n",
       "      <td>0</td>\n",
       "    </tr>\n",
       "    <tr>\n",
       "      <th>3</th>\n",
       "      <td>1</td>\n",
       "      <td>1</td>\n",
       "    </tr>\n",
       "  </tbody>\n",
       "</table>\n",
       "</div>"
      ],
      "text/plain": [
       "  frequency_tier  user_name\n",
       "0              4       2877\n",
       "1              3          9\n",
       "2              2          0\n",
       "3              1          1"
      ]
     },
     "metadata": {},
     "output_type": "display_data"
    },
    {
     "data": {
      "image/png": "[encoded data removed]",
      "text/plain": [
       "<Figure size 432x288 with 1 Axes>"
      ]
     },
     "metadata": {
      "needs_background": "light"
     },
     "output_type": "display_data"
    }
   ],
   "source": [
    "t0 = rfm.copy()\n",
    "\n",
    "t0 = t0[t0['order_count'] > 1]\n",
    "t0['frequency_tier'] = pd.cut(t0['order_count'], bins=4, labels=frequency_labels)\n",
    "\n",
    "fig, ax = plt.subplots()\n",
    "\n",
    "t1 = t0.loc[:, ['user_name', 'frequency_tier']] \\\n",
    "        .groupby('frequency_tier', as_index=False).count()\n",
    "ax.bar(t1['frequency_tier'], t1['user_name'])\n",
    "ax.set_title('Frequency Tier')\n",
    "ax.set_xlabel('Frequency Tier')\n",
    "ax.set_ylabel('User Count')\n",
    "\n",
    "display(t1)\n",
    "plt.show()"
   ]
  },
  {
   "cell_type": "markdown",
   "id": "81e144ba-d945-4b36-8d77-5186124addf2",
   "metadata": {},
   "source": [
    "#### Remove Outlier and Frequency of 1"
   ]
  },
  {
   "cell_type": "code",
   "execution_count": 98,
   "id": "bbe281c1-04ad-4ee5-ba61-673b90c96d00",
   "metadata": {},
   "outputs": [
    {
     "data": {
      "text/html": [
       "<div>\n",
       "<style scoped>\n",
       "    .dataframe tbody tr th:only-of-type {\n",
       "        vertical-align: middle;\n",
       "    }\n",
       "\n",
       "    .dataframe tbody tr th {\n",
       "        vertical-align: top;\n",
       "    }\n",
       "\n",
       "    .dataframe thead th {\n",
       "        text-align: right;\n",
       "    }\n",
       "</style>\n",
       "<table border=\"1\" class=\"dataframe\">\n",
       "  <thead>\n",
       "    <tr style=\"text-align: right;\">\n",
       "      <th></th>\n",
       "      <th>frequency_tier</th>\n",
       "      <th>user_name</th>\n",
       "    </tr>\n",
       "  </thead>\n",
       "  <tbody>\n",
       "    <tr>\n",
       "      <th>0</th>\n",
       "      <td>4</td>\n",
       "      <td>2839</td>\n",
       "    </tr>\n",
       "    <tr>\n",
       "      <th>1</th>\n",
       "      <td>3</td>\n",
       "      <td>29</td>\n",
       "    </tr>\n",
       "    <tr>\n",
       "      <th>2</th>\n",
       "      <td>2</td>\n",
       "      <td>9</td>\n",
       "    </tr>\n",
       "    <tr>\n",
       "      <th>3</th>\n",
       "      <td>1</td>\n",
       "      <td>8</td>\n",
       "    </tr>\n",
       "  </tbody>\n",
       "</table>\n",
       "</div>"
      ],
      "text/plain": [
       "  frequency_tier  user_name\n",
       "0              4       2839\n",
       "1              3         29\n",
       "2              2          9\n",
       "3              1          8"
      ]
     },
     "metadata": {},
     "output_type": "display_data"
    },
    {
     "data": {
      "text/html": [
       "<div>\n",
       "<style scoped>\n",
       "    .dataframe tbody tr th:only-of-type {\n",
       "        vertical-align: middle;\n",
       "    }\n",
       "\n",
       "    .dataframe tbody tr th {\n",
       "        vertical-align: top;\n",
       "    }\n",
       "\n",
       "    .dataframe thead th {\n",
       "        text-align: right;\n",
       "    }\n",
       "</style>\n",
       "<table border=\"1\" class=\"dataframe\">\n",
       "  <thead>\n",
       "    <tr style=\"text-align: right;\">\n",
       "      <th></th>\n",
       "      <th>order_count</th>\n",
       "      <th>user_name</th>\n",
       "    </tr>\n",
       "  </thead>\n",
       "  <tbody>\n",
       "    <tr>\n",
       "      <th>0</th>\n",
       "      <td>2.0</td>\n",
       "      <td>2651</td>\n",
       "    </tr>\n",
       "    <tr>\n",
       "      <th>1</th>\n",
       "      <td>3.0</td>\n",
       "      <td>188</td>\n",
       "    </tr>\n",
       "    <tr>\n",
       "      <th>2</th>\n",
       "      <td>4.0</td>\n",
       "      <td>29</td>\n",
       "    </tr>\n",
       "    <tr>\n",
       "      <th>3</th>\n",
       "      <td>5.0</td>\n",
       "      <td>9</td>\n",
       "    </tr>\n",
       "    <tr>\n",
       "      <th>4</th>\n",
       "      <td>6.0</td>\n",
       "      <td>5</td>\n",
       "    </tr>\n",
       "    <tr>\n",
       "      <th>5</th>\n",
       "      <td>7.0</td>\n",
       "      <td>3</td>\n",
       "    </tr>\n",
       "  </tbody>\n",
       "</table>\n",
       "</div>"
      ],
      "text/plain": [
       "   order_count  user_name\n",
       "0          2.0       2651\n",
       "1          3.0        188\n",
       "2          4.0         29\n",
       "3          5.0          9\n",
       "4          6.0          5\n",
       "5          7.0          3"
      ]
     },
     "metadata": {},
     "output_type": "display_data"
    },
    {
     "data": {
      "image/png": "[encoded data removed]",
      "text/plain": [
       "<Figure size 432x288 with 1 Axes>"
      ]
     },
     "metadata": {
      "needs_background": "light"
     },
     "output_type": "display_data"
    }
   ],
   "source": [
    "t0 = rfm.copy()\n",
    "\n",
    "t0 = t0[(t0['order_count'] > 1) & (t0['order_count'] != 16) & (t0['order_count'] != 9)]\n",
    "t0['frequency_tier'] = pd.cut(t0['order_count'], bins=4, labels=frequency_labels)\n",
    "\n",
    "fig, ax = plt.subplots()\n",
    "\n",
    "t1 = t0.loc[:, ['user_name', 'frequency_tier']] \\\n",
    "        .groupby('frequency_tier', as_index=False).count()\n",
    "t2 = t0.loc[:, ['user_name', 'order_count']] \\\n",
    "        .groupby('order_count', as_index=False).count()\n",
    "ax.bar(t1['frequency_tier'], t1['user_name'])\n",
    "ax.set_title('Frequency Tier')\n",
    "ax.set_xlabel('Frequency Tier')\n",
    "ax.set_ylabel('User Count')\n",
    "\n",
    "display(t1)\n",
    "display(t2)\n",
    "plt.show()"
   ]
  },
  {
   "cell_type": "markdown",
   "id": "9a52a5ac-38fd-4fcf-a064-54b0d4855a99",
   "metadata": {},
   "source": [
    "### Monetary Tier"
   ]
  },
  {
   "cell_type": "code",
   "execution_count": 121,
   "id": "a6adb3af-4890-4bc9-88c3-a7224975c937",
   "metadata": {},
   "outputs": [
    {
     "data": {
      "text/plain": [
       "count    9.498300e+04\n",
       "mean     1.607270e+05\n",
       "std      2.198878e+05\n",
       "min      9.590000e+03\n",
       "25%      6.241000e+04\n",
       "50%      1.057400e+05\n",
       "75%      1.769650e+05\n",
       "max      1.366408e+07\n",
       "Name: avg_spending, dtype: float64"
      ]
     },
     "execution_count": 121,
     "metadata": {},
     "output_type": "execute_result"
    }
   ],
   "source": [
    "customer_rfm['avg_spending'].describe()"
   ]
  },
  {
   "cell_type": "code",
   "execution_count": 99,
   "id": "74ae982f-47ca-487d-9169-d26c8a2daf01",
   "metadata": {
    "tags": []
   },
   "outputs": [
    {
     "data": {
      "text/html": [
       "<div>\n",
       "<style scoped>\n",
       "    .dataframe tbody tr th:only-of-type {\n",
       "        vertical-align: middle;\n",
       "    }\n",
       "\n",
       "    .dataframe tbody tr th {\n",
       "        vertical-align: top;\n",
       "    }\n",
       "\n",
       "    .dataframe thead th {\n",
       "        text-align: right;\n",
       "    }\n",
       "</style>\n",
       "<table border=\"1\" class=\"dataframe\">\n",
       "  <thead>\n",
       "    <tr style=\"text-align: right;\">\n",
       "      <th></th>\n",
       "      <th>monetary_tier</th>\n",
       "      <th>user_name</th>\n",
       "    </tr>\n",
       "  </thead>\n",
       "  <tbody>\n",
       "    <tr>\n",
       "      <th>0</th>\n",
       "      <td>4</td>\n",
       "      <td>94959</td>\n",
       "    </tr>\n",
       "    <tr>\n",
       "      <th>1</th>\n",
       "      <td>3</td>\n",
       "      <td>20</td>\n",
       "    </tr>\n",
       "    <tr>\n",
       "      <th>2</th>\n",
       "      <td>2</td>\n",
       "      <td>3</td>\n",
       "    </tr>\n",
       "    <tr>\n",
       "      <th>3</th>\n",
       "      <td>1</td>\n",
       "      <td>1</td>\n",
       "    </tr>\n",
       "  </tbody>\n",
       "</table>\n",
       "</div>"
      ],
      "text/plain": [
       "  monetary_tier  user_name\n",
       "0             4      94959\n",
       "1             3         20\n",
       "2             2          3\n",
       "3             1          1"
      ]
     },
     "metadata": {},
     "output_type": "display_data"
    },
    {
     "data": {
      "image/png": "[encoded data removed]",
      "text/plain": [
       "<Figure size 432x288 with 1 Axes>"
      ]
     },
     "metadata": {
      "needs_background": "light"
     },
     "output_type": "display_data"
    }
   ],
   "source": [
    "monetary_labels = [\n",
    "    4,\n",
    "    3,\n",
    "    2,\n",
    "    1\n",
    "]\n",
    "# cek pake selain pd.cut\n",
    "rfm['monetary_tier'] = pd.cut(customer_rfm['avg_spending'], bins=4, labels=monetary_labels)\n",
    "\n",
    "fig, ax = plt.subplots()\n",
    "\n",
    "t1 = rfm.loc[:, ['user_name', 'monetary_tier']] \\\n",
    "        .groupby('monetary_tier', as_index=False).count()\n",
    "ax.bar(t1['monetary_tier'], t1['user_name'])\n",
    "ax.set_title('Monetary Tier')\n",
    "ax.set_xlabel('Monetary Tier')\n",
    "ax.set_ylabel('User Count')\n",
    "\n",
    "display(t1)\n",
    "plt.show()"
   ]
  },
  {
   "cell_type": "code",
   "execution_count": 100,
   "id": "9dc750ec-ed08-4556-98b3-b64e2aad8199",
   "metadata": {},
   "outputs": [
    {
     "name": "stdout",
     "output_type": "stream",
     "text": [
      "<class 'pandas.core.frame.DataFrame'>\n",
      "RangeIndex: 94990 entries, 0 to 94989\n",
      "Data columns (total 8 columns):\n",
      " #   Column                 Non-Null Count  Dtype   \n",
      "---  ------                 --------------  -----   \n",
      " 0   user_name              94990 non-null  object  \n",
      " 1   avg_spending           94983 non-null  float64 \n",
      " 2   avg_day_between_order  94986 non-null  float64 \n",
      " 3   order_count            94986 non-null  float64 \n",
      " 4   last_order_days        94986 non-null  float64 \n",
      " 5   recency_tier           94986 non-null  category\n",
      " 6   frequency_tier         94986 non-null  category\n",
      " 7   monetary_tier          94983 non-null  category\n",
      "dtypes: category(3), float64(4), object(1)\n",
      "memory usage: 3.9+ MB\n"
     ]
    }
   ],
   "source": [
    "rfm.info()"
   ]
  },
  {
   "cell_type": "code",
   "execution_count": 101,
   "id": "27cebbbc-c5fb-4395-83a8-e04a2a550248",
   "metadata": {},
   "outputs": [
    {
     "data": {
      "image/png": "[encoded data removed]",
      "text/plain": [
       "<Figure size 432x288 with 1 Axes>"
      ]
     },
     "metadata": {
      "needs_background": "light"
     },
     "output_type": "display_data"
    }
   ],
   "source": [
    "# Adding randomness to the scatter plot (for visualization only)\n",
    "t1 = rfm.copy()\n",
    "t1['frequency_tier'] = t1.apply(lambda row: row['frequency_tier']+(np.random.rand()*0.3), axis=1)\n",
    "t1['monetary_tier'] = t1.apply(lambda row: row['monetary_tier']+(np.random.rand()*0.3), axis=1)\n",
    "\n",
    "fig, ax = plt.subplots()\n",
    "ax.scatter(t1['frequency_tier'], t1['monetary_tier'], color='b')\n",
    "ax.set_title('Distribution of Frequency vs Monetary Tier')\n",
    "ax.set_xlabel('Frequency Tier')\n",
    "ax.set_xlabel('Monetary Tier')\n",
    "\n",
    "plt.show()"
   ]
  },
  {
   "cell_type": "markdown",
   "id": "b8f68669-2b07-46e9-b5f5-c10da4b73b55",
   "metadata": {},
   "source": [
    "### High Spending Active Loyal Customer"
   ]
  },
  {
   "cell_type": "code",
   "execution_count": 102,
   "id": "6a1c7d63-c0ad-43e1-9a5b-800952dc8852",
   "metadata": {},
   "outputs": [
    {
     "data": {
      "text/html": [
       "<div>\n",
       "<style scoped>\n",
       "    .dataframe tbody tr th:only-of-type {\n",
       "        vertical-align: middle;\n",
       "    }\n",
       "\n",
       "    .dataframe tbody tr th {\n",
       "        vertical-align: top;\n",
       "    }\n",
       "\n",
       "    .dataframe thead th {\n",
       "        text-align: right;\n",
       "    }\n",
       "</style>\n",
       "<table border=\"1\" class=\"dataframe\">\n",
       "  <thead>\n",
       "    <tr style=\"text-align: right;\">\n",
       "      <th></th>\n",
       "      <th>user_name</th>\n",
       "      <th>avg_spending</th>\n",
       "      <th>avg_day_between_order</th>\n",
       "      <th>order_count</th>\n",
       "      <th>last_order_days</th>\n",
       "      <th>recency_tier</th>\n",
       "      <th>frequency_tier</th>\n",
       "      <th>monetary_tier</th>\n",
       "    </tr>\n",
       "  </thead>\n",
       "  <tbody>\n",
       "  </tbody>\n",
       "</table>\n",
       "</div>"
      ],
      "text/plain": [
       "Empty DataFrame\n",
       "Columns: [user_name, avg_spending, avg_day_between_order, order_count, last_order_days, recency_tier, frequency_tier, monetary_tier]\n",
       "Index: []"
      ]
     },
     "metadata": {},
     "output_type": "display_data"
    },
    {
     "data": {
      "text/plain": [
       "(0, 8)"
      ]
     },
     "metadata": {},
     "output_type": "display_data"
    }
   ],
   "source": [
    "high_spending_active_loyal_cust_cond = \\\n",
    "    (rfm['recency_tier'] == 1) \\\n",
    "    & (rfm['frequency_tier'] == 1) \\\n",
    "    & (rfm['monetary_tier'] >= 2)\n",
    "\n",
    "high_spending_active_loyal_cust = rfm[high_spending_active_loyal_cust_cond]\n",
    "display(high_spending_active_loyal_cust.head(10))\n",
    "display(high_spending_active_loyal_cust.shape)"
   ]
  },
  {
   "cell_type": "markdown",
   "id": "8913e808-92f0-408a-b137-8b3195969da6",
   "metadata": {},
   "source": [
    "### Churned High Spending Customer"
   ]
  },
  {
   "cell_type": "code",
   "execution_count": 103,
   "id": "35286109-89a2-47e1-b0de-35dad038a7c2",
   "metadata": {},
   "outputs": [
    {
     "data": {
      "text/html": [
       "<div>\n",
       "<style scoped>\n",
       "    .dataframe tbody tr th:only-of-type {\n",
       "        vertical-align: middle;\n",
       "    }\n",
       "\n",
       "    .dataframe tbody tr th {\n",
       "        vertical-align: top;\n",
       "    }\n",
       "\n",
       "    .dataframe thead th {\n",
       "        text-align: right;\n",
       "    }\n",
       "</style>\n",
       "<table border=\"1\" class=\"dataframe\">\n",
       "  <thead>\n",
       "    <tr style=\"text-align: right;\">\n",
       "      <th></th>\n",
       "      <th>user_name</th>\n",
       "      <th>avg_spending</th>\n",
       "      <th>avg_day_between_order</th>\n",
       "      <th>order_count</th>\n",
       "      <th>last_order_days</th>\n",
       "      <th>recency_tier</th>\n",
       "      <th>frequency_tier</th>\n",
       "      <th>monetary_tier</th>\n",
       "    </tr>\n",
       "  </thead>\n",
       "  <tbody>\n",
       "    <tr>\n",
       "      <th>4361</th>\n",
       "      <td>5e713be0853d8986528d7869a0811d2b</td>\n",
       "      <td>4042740.0</td>\n",
       "      <td>0.0</td>\n",
       "      <td>1.0</td>\n",
       "      <td>621.0</td>\n",
       "      <td>4</td>\n",
       "      <td>4</td>\n",
       "      <td>3</td>\n",
       "    </tr>\n",
       "    <tr>\n",
       "      <th>23780</th>\n",
       "      <td>011875f0176909c5cf0b14a9138bb691</td>\n",
       "      <td>4016910.0</td>\n",
       "      <td>0.0</td>\n",
       "      <td>1.0</td>\n",
       "      <td>579.0</td>\n",
       "      <td>3</td>\n",
       "      <td>4</td>\n",
       "      <td>3</td>\n",
       "    </tr>\n",
       "    <tr>\n",
       "      <th>27981</th>\n",
       "      <td>5d09b0d82126457e2a8ebfb9c9a1ffc4</td>\n",
       "      <td>3736220.0</td>\n",
       "      <td>0.0</td>\n",
       "      <td>1.0</td>\n",
       "      <td>615.0</td>\n",
       "      <td>4</td>\n",
       "      <td>4</td>\n",
       "      <td>3</td>\n",
       "    </tr>\n",
       "    <tr>\n",
       "      <th>59530</th>\n",
       "      <td>03796b63235e0e0a299084988c662c7e</td>\n",
       "      <td>3602470.0</td>\n",
       "      <td>0.0</td>\n",
       "      <td>1.0</td>\n",
       "      <td>604.0</td>\n",
       "      <td>4</td>\n",
       "      <td>4</td>\n",
       "      <td>3</td>\n",
       "    </tr>\n",
       "    <tr>\n",
       "      <th>69483</th>\n",
       "      <td>da122df9eeddfedc1dc1f5349a1a690c</td>\n",
       "      <td>3785815.0</td>\n",
       "      <td>0.0</td>\n",
       "      <td>2.0</td>\n",
       "      <td>565.0</td>\n",
       "      <td>3</td>\n",
       "      <td>4</td>\n",
       "      <td>3</td>\n",
       "    </tr>\n",
       "    <tr>\n",
       "      <th>69598</th>\n",
       "      <td>dc4802a71eae9be1dd28f5d788ceb526</td>\n",
       "      <td>6929310.0</td>\n",
       "      <td>0.0</td>\n",
       "      <td>1.0</td>\n",
       "      <td>613.0</td>\n",
       "      <td>4</td>\n",
       "      <td>4</td>\n",
       "      <td>2</td>\n",
       "    </tr>\n",
       "    <tr>\n",
       "      <th>70420</th>\n",
       "      <td>edf81e1f3070b9dac83ec83dacdbb9bc</td>\n",
       "      <td>4194760.0</td>\n",
       "      <td>0.0</td>\n",
       "      <td>1.0</td>\n",
       "      <td>548.0</td>\n",
       "      <td>3</td>\n",
       "      <td>4</td>\n",
       "      <td>3</td>\n",
       "    </tr>\n",
       "    <tr>\n",
       "      <th>78065</th>\n",
       "      <td>931eabdf0636b8fd60369a8d759917d6</td>\n",
       "      <td>3666420.0</td>\n",
       "      <td>0.0</td>\n",
       "      <td>1.0</td>\n",
       "      <td>526.0</td>\n",
       "      <td>3</td>\n",
       "      <td>4</td>\n",
       "      <td>3</td>\n",
       "    </tr>\n",
       "    <tr>\n",
       "      <th>94233</th>\n",
       "      <td>eebb5dda148d3893cdaf5b5ca3040ccb</td>\n",
       "      <td>4764340.0</td>\n",
       "      <td>0.0</td>\n",
       "      <td>1.0</td>\n",
       "      <td>548.0</td>\n",
       "      <td>3</td>\n",
       "      <td>4</td>\n",
       "      <td>3</td>\n",
       "    </tr>\n",
       "    <tr>\n",
       "      <th>94948</th>\n",
       "      <td>ff4159b92c40ebe40454e3e6a7c35ed6</td>\n",
       "      <td>6726660.0</td>\n",
       "      <td>0.0</td>\n",
       "      <td>1.0</td>\n",
       "      <td>512.0</td>\n",
       "      <td>3</td>\n",
       "      <td>4</td>\n",
       "      <td>3</td>\n",
       "    </tr>\n",
       "  </tbody>\n",
       "</table>\n",
       "</div>"
      ],
      "text/plain": [
       "                              user_name  avg_spending  avg_day_between_order  \\\n",
       "4361   5e713be0853d8986528d7869a0811d2b     4042740.0                    0.0   \n",
       "23780  011875f0176909c5cf0b14a9138bb691     4016910.0                    0.0   \n",
       "27981  5d09b0d82126457e2a8ebfb9c9a1ffc4     3736220.0                    0.0   \n",
       "59530  03796b63235e0e0a299084988c662c7e     3602470.0                    0.0   \n",
       "69483  da122df9eeddfedc1dc1f5349a1a690c     3785815.0                    0.0   \n",
       "69598  dc4802a71eae9be1dd28f5d788ceb526     6929310.0                    0.0   \n",
       "70420  edf81e1f3070b9dac83ec83dacdbb9bc     4194760.0                    0.0   \n",
       "78065  931eabdf0636b8fd60369a8d759917d6     3666420.0                    0.0   \n",
       "94233  eebb5dda148d3893cdaf5b5ca3040ccb     4764340.0                    0.0   \n",
       "94948  ff4159b92c40ebe40454e3e6a7c35ed6     6726660.0                    0.0   \n",
       "\n",
       "       order_count  last_order_days recency_tier frequency_tier monetary_tier  \n",
       "4361           1.0            621.0            4              4             3  \n",
       "23780          1.0            579.0            3              4             3  \n",
       "27981          1.0            615.0            4              4             3  \n",
       "59530          1.0            604.0            4              4             3  \n",
       "69483          2.0            565.0            3              4             3  \n",
       "69598          1.0            613.0            4              4             2  \n",
       "70420          1.0            548.0            3              4             3  \n",
       "78065          1.0            526.0            3              4             3  \n",
       "94233          1.0            548.0            3              4             3  \n",
       "94948          1.0            512.0            3              4             3  "
      ]
     },
     "metadata": {},
     "output_type": "display_data"
    },
    {
     "data": {
      "text/plain": [
       "(10, 8)"
      ]
     },
     "metadata": {},
     "output_type": "display_data"
    }
   ],
   "source": [
    "churned_high_spending_cust_cond = \\\n",
    "    (rfm['recency_tier'] >= 3) \\\n",
    "    & (rfm['frequency_tier'] <= 3) \\\n",
    "    & (rfm['monetary_tier'] >= 3)\n",
    "\n",
    "churned_high_spending_cust = rfm[churned_high_spending_cust_cond]\n",
    "display(churned_high_spending_cust.head(10))\n",
    "display(churned_high_spending_cust.shape)"
   ]
  },
  {
   "cell_type": "markdown",
   "id": "bddae0d8-9b7c-445e-9c40-9dbfcd8f71f6",
   "metadata": {},
   "source": [
    "### High Spending New Customer"
   ]
  },
  {
   "cell_type": "code",
   "execution_count": 104,
   "id": "7b6feb7e-1606-4614-b9cb-3afb8e819d62",
   "metadata": {},
   "outputs": [
    {
     "data": {
      "text/html": [
       "<div>\n",
       "<style scoped>\n",
       "    .dataframe tbody tr th:only-of-type {\n",
       "        vertical-align: middle;\n",
       "    }\n",
       "\n",
       "    .dataframe tbody tr th {\n",
       "        vertical-align: top;\n",
       "    }\n",
       "\n",
       "    .dataframe thead th {\n",
       "        text-align: right;\n",
       "    }\n",
       "</style>\n",
       "<table border=\"1\" class=\"dataframe\">\n",
       "  <thead>\n",
       "    <tr style=\"text-align: right;\">\n",
       "      <th></th>\n",
       "      <th>user_name</th>\n",
       "      <th>avg_spending</th>\n",
       "      <th>avg_day_between_order</th>\n",
       "      <th>order_count</th>\n",
       "      <th>last_order_days</th>\n",
       "      <th>recency_tier</th>\n",
       "      <th>frequency_tier</th>\n",
       "      <th>monetary_tier</th>\n",
       "    </tr>\n",
       "  </thead>\n",
       "  <tbody>\n",
       "    <tr>\n",
       "      <th>27107</th>\n",
       "      <td>48e1ac109decbb87765a3eade6854098</td>\n",
       "      <td>4681780.0</td>\n",
       "      <td>0.0</td>\n",
       "      <td>1.0</td>\n",
       "      <td>118.0</td>\n",
       "      <td>1</td>\n",
       "      <td>4</td>\n",
       "      <td>3</td>\n",
       "    </tr>\n",
       "    <tr>\n",
       "      <th>37635</th>\n",
       "      <td>2c3b08cf3584d8c0a81d9618a73aa219</td>\n",
       "      <td>3526460.0</td>\n",
       "      <td>0.0</td>\n",
       "      <td>1.0</td>\n",
       "      <td>192.0</td>\n",
       "      <td>1</td>\n",
       "      <td>4</td>\n",
       "      <td>3</td>\n",
       "    </tr>\n",
       "    <tr>\n",
       "      <th>38572</th>\n",
       "      <td>4007669dec559734d6f53e029e360987</td>\n",
       "      <td>6081540.0</td>\n",
       "      <td>0.0</td>\n",
       "      <td>1.0</td>\n",
       "      <td>328.0</td>\n",
       "      <td>2</td>\n",
       "      <td>4</td>\n",
       "      <td>3</td>\n",
       "    </tr>\n",
       "    <tr>\n",
       "      <th>39685</th>\n",
       "      <td>58483a1c055dfb600f57c5b867174542</td>\n",
       "      <td>4034440.0</td>\n",
       "      <td>0.0</td>\n",
       "      <td>1.0</td>\n",
       "      <td>135.0</td>\n",
       "      <td>1</td>\n",
       "      <td>4</td>\n",
       "      <td>3</td>\n",
       "    </tr>\n",
       "    <tr>\n",
       "      <th>46620</th>\n",
       "      <td>edde2314c6c30e864a128ac95d6b2112</td>\n",
       "      <td>4513320.0</td>\n",
       "      <td>0.0</td>\n",
       "      <td>1.0</td>\n",
       "      <td>76.0</td>\n",
       "      <td>1</td>\n",
       "      <td>4</td>\n",
       "      <td>3</td>\n",
       "    </tr>\n",
       "    <tr>\n",
       "      <th>46735</th>\n",
       "      <td>f0767ae738c3d90e7b737d7b8b8bb4d1</td>\n",
       "      <td>3979550.0</td>\n",
       "      <td>0.0</td>\n",
       "      <td>1.0</td>\n",
       "      <td>157.0</td>\n",
       "      <td>1</td>\n",
       "      <td>4</td>\n",
       "      <td>3</td>\n",
       "    </tr>\n",
       "    <tr>\n",
       "      <th>47868</th>\n",
       "      <td>0a0a92112bd4c708ca5fde585afaa872</td>\n",
       "      <td>13664080.0</td>\n",
       "      <td>0.0</td>\n",
       "      <td>1.0</td>\n",
       "      <td>384.0</td>\n",
       "      <td>2</td>\n",
       "      <td>4</td>\n",
       "      <td>1</td>\n",
       "    </tr>\n",
       "    <tr>\n",
       "      <th>54920</th>\n",
       "      <td>a229eba70ec1c2abef51f04987deb7a5</td>\n",
       "      <td>4445500.0</td>\n",
       "      <td>0.0</td>\n",
       "      <td>1.0</td>\n",
       "      <td>140.0</td>\n",
       "      <td>1</td>\n",
       "      <td>4</td>\n",
       "      <td>3</td>\n",
       "    </tr>\n",
       "    <tr>\n",
       "      <th>56138</th>\n",
       "      <td>bc5e25094a7d51b6aee35236572e64f4</td>\n",
       "      <td>3826800.0</td>\n",
       "      <td>0.0</td>\n",
       "      <td>1.0</td>\n",
       "      <td>265.0</td>\n",
       "      <td>2</td>\n",
       "      <td>4</td>\n",
       "      <td>3</td>\n",
       "    </tr>\n",
       "    <tr>\n",
       "      <th>74209</th>\n",
       "      <td>3fec1a05177762f279472253113d568a</td>\n",
       "      <td>3792590.0</td>\n",
       "      <td>0.0</td>\n",
       "      <td>1.0</td>\n",
       "      <td>211.0</td>\n",
       "      <td>1</td>\n",
       "      <td>4</td>\n",
       "      <td>3</td>\n",
       "    </tr>\n",
       "  </tbody>\n",
       "</table>\n",
       "</div>"
      ],
      "text/plain": [
       "                              user_name  avg_spending  avg_day_between_order  \\\n",
       "27107  48e1ac109decbb87765a3eade6854098     4681780.0                    0.0   \n",
       "37635  2c3b08cf3584d8c0a81d9618a73aa219     3526460.0                    0.0   \n",
       "38572  4007669dec559734d6f53e029e360987     6081540.0                    0.0   \n",
       "39685  58483a1c055dfb600f57c5b867174542     4034440.0                    0.0   \n",
       "46620  edde2314c6c30e864a128ac95d6b2112     4513320.0                    0.0   \n",
       "46735  f0767ae738c3d90e7b737d7b8b8bb4d1     3979550.0                    0.0   \n",
       "47868  0a0a92112bd4c708ca5fde585afaa872    13664080.0                    0.0   \n",
       "54920  a229eba70ec1c2abef51f04987deb7a5     4445500.0                    0.0   \n",
       "56138  bc5e25094a7d51b6aee35236572e64f4     3826800.0                    0.0   \n",
       "74209  3fec1a05177762f279472253113d568a     3792590.0                    0.0   \n",
       "\n",
       "       order_count  last_order_days recency_tier frequency_tier monetary_tier  \n",
       "27107          1.0            118.0            1              4             3  \n",
       "37635          1.0            192.0            1              4             3  \n",
       "38572          1.0            328.0            2              4             3  \n",
       "39685          1.0            135.0            1              4             3  \n",
       "46620          1.0             76.0            1              4             3  \n",
       "46735          1.0            157.0            1              4             3  \n",
       "47868          1.0            384.0            2              4             1  \n",
       "54920          1.0            140.0            1              4             3  \n",
       "56138          1.0            265.0            2              4             3  \n",
       "74209          1.0            211.0            1              4             3  "
      ]
     },
     "metadata": {},
     "output_type": "display_data"
    },
    {
     "data": {
      "text/plain": [
       "(14, 8)"
      ]
     },
     "metadata": {},
     "output_type": "display_data"
    }
   ],
   "source": [
    "high_spending_new_cust_cond = \\\n",
    "    (rfm['recency_tier'] <= 2) \\\n",
    "    & (rfm['frequency_tier'] <= 3) \\\n",
    "    & (rfm['monetary_tier'] >= 3)\n",
    "\n",
    "high_spending_new_cust = rfm[high_spending_new_cust_cond]\n",
    "display(high_spending_new_cust.head(10))\n",
    "display(high_spending_new_cust.shape)"
   ]
  },
  {
   "cell_type": "markdown",
   "id": "5a96b57f-8a5b-49a1-b35b-0182357acf17",
   "metadata": {},
   "source": [
    "### Worst Customer"
   ]
  },
  {
   "cell_type": "code",
   "execution_count": 105,
   "id": "6d15a390-cac4-4794-adc8-9f23d1e2c697",
   "metadata": {},
   "outputs": [
    {
     "data": {
      "text/html": [
       "<div>\n",
       "<style scoped>\n",
       "    .dataframe tbody tr th:only-of-type {\n",
       "        vertical-align: middle;\n",
       "    }\n",
       "\n",
       "    .dataframe tbody tr th {\n",
       "        vertical-align: top;\n",
       "    }\n",
       "\n",
       "    .dataframe thead th {\n",
       "        text-align: right;\n",
       "    }\n",
       "</style>\n",
       "<table border=\"1\" class=\"dataframe\">\n",
       "  <thead>\n",
       "    <tr style=\"text-align: right;\">\n",
       "      <th></th>\n",
       "      <th>user_name</th>\n",
       "      <th>avg_spending</th>\n",
       "      <th>avg_day_between_order</th>\n",
       "      <th>order_count</th>\n",
       "      <th>last_order_days</th>\n",
       "      <th>recency_tier</th>\n",
       "      <th>frequency_tier</th>\n",
       "      <th>monetary_tier</th>\n",
       "    </tr>\n",
       "  </thead>\n",
       "  <tbody>\n",
       "    <tr>\n",
       "      <th>5</th>\n",
       "      <td>001926cef41060fae572e2e7b30bd2a4</td>\n",
       "      <td>91210.0</td>\n",
       "      <td>0.0</td>\n",
       "      <td>1.0</td>\n",
       "      <td>427.0</td>\n",
       "      <td>3</td>\n",
       "      <td>4</td>\n",
       "      <td>4</td>\n",
       "    </tr>\n",
       "    <tr>\n",
       "      <th>8</th>\n",
       "      <td>001f3c4211216384d5fe59b041ce1461</td>\n",
       "      <td>35840.0</td>\n",
       "      <td>0.0</td>\n",
       "      <td>1.0</td>\n",
       "      <td>578.0</td>\n",
       "      <td>3</td>\n",
       "      <td>4</td>\n",
       "      <td>4</td>\n",
       "    </tr>\n",
       "    <tr>\n",
       "      <th>13</th>\n",
       "      <td>0036b4a3d09ad551a5188c2e374da402</td>\n",
       "      <td>162770.0</td>\n",
       "      <td>0.0</td>\n",
       "      <td>1.0</td>\n",
       "      <td>435.0</td>\n",
       "      <td>3</td>\n",
       "      <td>4</td>\n",
       "      <td>4</td>\n",
       "    </tr>\n",
       "    <tr>\n",
       "      <th>17</th>\n",
       "      <td>0046311f458d8041b00063cb99482903</td>\n",
       "      <td>112330.0</td>\n",
       "      <td>0.0</td>\n",
       "      <td>1.0</td>\n",
       "      <td>443.0</td>\n",
       "      <td>3</td>\n",
       "      <td>4</td>\n",
       "      <td>4</td>\n",
       "    </tr>\n",
       "    <tr>\n",
       "      <th>21</th>\n",
       "      <td>005e32bc930906dc6b65fb9d11cce3e2</td>\n",
       "      <td>49600.0</td>\n",
       "      <td>0.0</td>\n",
       "      <td>1.0</td>\n",
       "      <td>410.0</td>\n",
       "      <td>3</td>\n",
       "      <td>4</td>\n",
       "      <td>4</td>\n",
       "    </tr>\n",
       "    <tr>\n",
       "      <th>28</th>\n",
       "      <td>008fb2ecc75561d202dd4db2e0ceec25</td>\n",
       "      <td>40770.0</td>\n",
       "      <td>0.0</td>\n",
       "      <td>1.0</td>\n",
       "      <td>505.0</td>\n",
       "      <td>3</td>\n",
       "      <td>4</td>\n",
       "      <td>4</td>\n",
       "    </tr>\n",
       "    <tr>\n",
       "      <th>36</th>\n",
       "      <td>00ba737b18a7996f68cb8a99556bedd4</td>\n",
       "      <td>141140.0</td>\n",
       "      <td>0.0</td>\n",
       "      <td>1.0</td>\n",
       "      <td>464.0</td>\n",
       "      <td>3</td>\n",
       "      <td>4</td>\n",
       "      <td>4</td>\n",
       "    </tr>\n",
       "    <tr>\n",
       "      <th>38</th>\n",
       "      <td>00cc7c54469f4177319d6bb12e883652</td>\n",
       "      <td>187940.0</td>\n",
       "      <td>0.0</td>\n",
       "      <td>1.0</td>\n",
       "      <td>548.0</td>\n",
       "      <td>3</td>\n",
       "      <td>4</td>\n",
       "      <td>4</td>\n",
       "    </tr>\n",
       "    <tr>\n",
       "      <th>44</th>\n",
       "      <td>00ecc71175078e2cac5547a5656e9622</td>\n",
       "      <td>235130.0</td>\n",
       "      <td>0.0</td>\n",
       "      <td>1.0</td>\n",
       "      <td>495.0</td>\n",
       "      <td>3</td>\n",
       "      <td>4</td>\n",
       "      <td>4</td>\n",
       "    </tr>\n",
       "    <tr>\n",
       "      <th>56</th>\n",
       "      <td>0158b70c1d28da409abddfcaa5f0801a</td>\n",
       "      <td>77060.0</td>\n",
       "      <td>0.0</td>\n",
       "      <td>1.0</td>\n",
       "      <td>540.0</td>\n",
       "      <td>3</td>\n",
       "      <td>4</td>\n",
       "      <td>4</td>\n",
       "    </tr>\n",
       "  </tbody>\n",
       "</table>\n",
       "</div>"
      ],
      "text/plain": [
       "                           user_name  avg_spending  avg_day_between_order  \\\n",
       "5   001926cef41060fae572e2e7b30bd2a4       91210.0                    0.0   \n",
       "8   001f3c4211216384d5fe59b041ce1461       35840.0                    0.0   \n",
       "13  0036b4a3d09ad551a5188c2e374da402      162770.0                    0.0   \n",
       "17  0046311f458d8041b00063cb99482903      112330.0                    0.0   \n",
       "21  005e32bc930906dc6b65fb9d11cce3e2       49600.0                    0.0   \n",
       "28  008fb2ecc75561d202dd4db2e0ceec25       40770.0                    0.0   \n",
       "36  00ba737b18a7996f68cb8a99556bedd4      141140.0                    0.0   \n",
       "38  00cc7c54469f4177319d6bb12e883652      187940.0                    0.0   \n",
       "44  00ecc71175078e2cac5547a5656e9622      235130.0                    0.0   \n",
       "56  0158b70c1d28da409abddfcaa5f0801a       77060.0                    0.0   \n",
       "\n",
       "    order_count  last_order_days recency_tier frequency_tier monetary_tier  \n",
       "5           1.0            427.0            3              4             4  \n",
       "8           1.0            578.0            3              4             4  \n",
       "13          1.0            435.0            3              4             4  \n",
       "17          1.0            443.0            3              4             4  \n",
       "21          1.0            410.0            3              4             4  \n",
       "28          1.0            505.0            3              4             4  \n",
       "36          1.0            464.0            3              4             4  \n",
       "38          1.0            548.0            3              4             4  \n",
       "44          1.0            495.0            3              4             4  \n",
       "56          1.0            540.0            3              4             4  "
      ]
     },
     "metadata": {},
     "output_type": "display_data"
    },
    {
     "data": {
      "text/plain": [
       "(22028, 8)"
      ]
     },
     "metadata": {},
     "output_type": "display_data"
    }
   ],
   "source": [
    "worst_cust_cond = \\\n",
    "    (rfm['recency_tier'] >= 3) \\\n",
    "    & (rfm['frequency_tier'] <= 3) \\\n",
    "    & (rfm['monetary_tier'] <= 3)\n",
    "\n",
    "worst_cust = rfm[worst_cust_cond]\n",
    "display(worst_cust.head(10))\n",
    "display(worst_cust.shape)"
   ]
  },
  {
   "cell_type": "markdown",
   "id": "6b8713af-082e-4b5a-9bf6-005e56955ade",
   "metadata": {},
   "source": [
    "### Base Model Cluster Result"
   ]
  },
  {
   "cell_type": "code",
   "execution_count": 106,
   "id": "0f775fd6-1fb1-41c0-8cd5-04aa44dfdfde",
   "metadata": {},
   "outputs": [],
   "source": [
    "hsalc = high_spending_active_loyal_cust.copy()\n",
    "chsc = churned_high_spending_cust.copy()\n",
    "hsnc = high_spending_new_cust.copy()\n",
    "wc = worst_cust.copy()\n",
    "\n",
    "chsc = chsc.loc[:, ['recency_tier', 'frequency_tier', 'monetary_tier']]\n",
    "hsnc = hsnc.loc[:, ['recency_tier', 'frequency_tier', 'monetary_tier']]\n",
    "wc = wc.loc[:, ['recency_tier', 'frequency_tier', 'monetary_tier']]"
   ]
  },
  {
   "cell_type": "code",
   "execution_count": 107,
   "id": "578854b2-63aa-4451-b3b3-58e43402a5ae",
   "metadata": {},
   "outputs": [
    {
     "data": {
      "image/png": "[encoded data removed]",
      "text/plain": [
       "<Figure size 432x288 with 1 Axes>"
      ]
     },
     "metadata": {
      "needs_background": "light"
     },
     "output_type": "display_data"
    }
   ],
   "source": [
    "def add_random_noise(arr, noise_strength):\n",
    "    for i, v in enumerate(arr):\n",
    "        arr[i] = v + (np.random.rand() * noise_strength)\n",
    "    \n",
    "    return arr\n",
    "\n",
    "chsc_pca = PCA(n_components=2)\n",
    "chsc = chsc_pca.fit_transform(chsc)\n",
    "chsc[:, 0] = add_random_noise(chsc[:, 0], 0.2)\n",
    "chsc[:, 1] = add_random_noise(chsc[:, 1], 0.2)\n",
    "\n",
    "hsnc_pca = PCA(n_components=2)\n",
    "hsnc = hsnc_pca.fit_transform(hsnc)\n",
    "hsnc[:, 0] = add_random_noise(hsnc[:, 0], 0.2)\n",
    "hsnc[:, 1] = add_random_noise(hsnc[:, 1], 0.2)\n",
    "\n",
    "wc_pca = PCA(n_components=2)\n",
    "wc = wc_pca.fit_transform(wc)\n",
    "wc[:, 0] = add_random_noise(wc[:, 0], 0.2)\n",
    "wc[:, 1] = add_random_noise(wc[:, 1], 0.2)\n",
    "\n",
    "fig, ax = plt.subplots()\n",
    "\n",
    "ax.scatter(chsc[:, 0], chsc[:, 1], color='b')\n",
    "ax.scatter(hsnc[:, 0], hsnc[:, 1], color='g')\n",
    "ax.scatter(wc[:, 0], wc[:, 1], color='r')\n",
    "ax.set_xlabel('PCA Feature 1')\n",
    "ax.set_ylabel('PCA Feature 2')\n",
    "ax.set_title('Baseline Model Clustering')\n",
    "\n",
    "plt.show()"
   ]
  },
  {
   "cell_type": "markdown",
   "id": "1ae7c6ca-26d8-40b6-996e-4013985fe46e",
   "metadata": {},
   "source": [
    "### Baseline Model Evaluation"
   ]
  },
  {
   "cell_type": "code",
   "execution_count": 108,
   "id": "0c9c2964-211a-4320-b11b-18e4e29c7709",
   "metadata": {},
   "outputs": [],
   "source": [
    "from sklearn.metrics import silhouette_score\n",
    "\n",
    "chsc = pd.DataFrame(chsc)\n",
    "hsnc = pd.DataFrame(hsnc)\n",
    "wc = pd.DataFrame(wc)\n",
    "\n",
    "chsc['cluster'] = [0] * len(chsc)\n",
    "hsnc['cluster'] = [1] * len(hsnc)\n",
    "wc['cluster'] = [2] * len(wc)\n",
    "\n",
    "merged = pd.concat([chsc, hsnc, wc])\n",
    "\n",
    "# silhouette_score(merged.iloc[:, [0,1,2]], merged['cluster'])"
   ]
  },
  {
   "cell_type": "markdown",
   "id": "4b9e5ba0-2b23-41f9-a76b-c73dc3de39a7",
   "metadata": {},
   "source": [
    "## Data Preprocessing"
   ]
  },
  {
   "cell_type": "code",
   "execution_count": 109,
   "id": "a9c86301-e714-4e58-b56e-324ffeb85d39",
   "metadata": {},
   "outputs": [],
   "source": [
    "from sklearn.preprocessing import MinMaxScaler"
   ]
  },
  {
   "cell_type": "code",
   "execution_count": 110,
   "id": "d9aa82e6-14e4-4afd-b97c-7601fc4eea64",
   "metadata": {},
   "outputs": [],
   "source": [
    "df = customer_rfm.copy()\n",
    "df = df.loc[:, ['last_order_days', 'order_count', 'avg_spending']]"
   ]
  },
  {
   "cell_type": "code",
   "execution_count": 111,
   "id": "c872e308-035d-483a-a421-3d4cf5e9ddaa",
   "metadata": {},
   "outputs": [],
   "source": [
    "df = df.dropna()"
   ]
  },
  {
   "cell_type": "code",
   "execution_count": 112,
   "id": "03c1ce6c-a7e3-4824-a897-6e79171d173d",
   "metadata": {},
   "outputs": [],
   "source": [
    "# TODO: more preprocessing proper scaling"
   ]
  },
  {
   "cell_type": "code",
   "execution_count": 113,
   "id": "fc7b0637-5e6b-4224-bb9a-d31bdfa2dbbb",
   "metadata": {},
   "outputs": [],
   "source": [
    "mmscaler = MinMaxScaler()\n",
    "df = pd.DataFrame(mmscaler.fit_transform(df))\n",
    "df.columns = ['last_order_days', 'order_count', 'avg_spending']"
   ]
  },
  {
   "cell_type": "code",
   "execution_count": 114,
   "id": "0db632ad-3a5e-4ae4-9280-3be7feb41aff",
   "metadata": {},
   "outputs": [
    {
     "data": {
      "text/html": [
       "<div>\n",
       "<style scoped>\n",
       "    .dataframe tbody tr th:only-of-type {\n",
       "        vertical-align: middle;\n",
       "    }\n",
       "\n",
       "    .dataframe tbody tr th {\n",
       "        vertical-align: top;\n",
       "    }\n",
       "\n",
       "    .dataframe thead th {\n",
       "        text-align: right;\n",
       "    }\n",
       "</style>\n",
       "<table border=\"1\" class=\"dataframe\">\n",
       "  <thead>\n",
       "    <tr style=\"text-align: right;\">\n",
       "      <th></th>\n",
       "      <th>last_order_days</th>\n",
       "      <th>order_count</th>\n",
       "      <th>avg_spending</th>\n",
       "    </tr>\n",
       "  </thead>\n",
       "  <tbody>\n",
       "    <tr>\n",
       "      <th>0</th>\n",
       "      <td>0.256516</td>\n",
       "      <td>0.0</td>\n",
       "      <td>0.029997</td>\n",
       "    </tr>\n",
       "    <tr>\n",
       "      <th>1</th>\n",
       "      <td>0.327846</td>\n",
       "      <td>0.0</td>\n",
       "      <td>0.001984</td>\n",
       "    </tr>\n",
       "    <tr>\n",
       "      <th>2</th>\n",
       "      <td>0.145405</td>\n",
       "      <td>0.0</td>\n",
       "      <td>0.000817</td>\n",
       "    </tr>\n",
       "    <tr>\n",
       "      <th>3</th>\n",
       "      <td>0.249657</td>\n",
       "      <td>0.0</td>\n",
       "      <td>0.003824</td>\n",
       "    </tr>\n",
       "    <tr>\n",
       "      <th>4</th>\n",
       "      <td>0.440329</td>\n",
       "      <td>0.0</td>\n",
       "      <td>0.010697</td>\n",
       "    </tr>\n",
       "    <tr>\n",
       "      <th>5</th>\n",
       "      <td>0.524005</td>\n",
       "      <td>0.0</td>\n",
       "      <td>0.005978</td>\n",
       "    </tr>\n",
       "    <tr>\n",
       "      <th>6</th>\n",
       "      <td>0.050754</td>\n",
       "      <td>0.0</td>\n",
       "      <td>0.002050</td>\n",
       "    </tr>\n",
       "    <tr>\n",
       "      <th>7</th>\n",
       "      <td>0.100137</td>\n",
       "      <td>0.0</td>\n",
       "      <td>0.003936</td>\n",
       "    </tr>\n",
       "    <tr>\n",
       "      <th>8</th>\n",
       "      <td>0.731139</td>\n",
       "      <td>0.0</td>\n",
       "      <td>0.001922</td>\n",
       "    </tr>\n",
       "    <tr>\n",
       "      <th>9</th>\n",
       "      <td>0.035665</td>\n",
       "      <td>0.0</td>\n",
       "      <td>0.006049</td>\n",
       "    </tr>\n",
       "  </tbody>\n",
       "</table>\n",
       "</div>"
      ],
      "text/plain": [
       "   last_order_days  order_count  avg_spending\n",
       "0         0.256516          0.0      0.029997\n",
       "1         0.327846          0.0      0.001984\n",
       "2         0.145405          0.0      0.000817\n",
       "3         0.249657          0.0      0.003824\n",
       "4         0.440329          0.0      0.010697\n",
       "5         0.524005          0.0      0.005978\n",
       "6         0.050754          0.0      0.002050\n",
       "7         0.100137          0.0      0.003936\n",
       "8         0.731139          0.0      0.001922\n",
       "9         0.035665          0.0      0.006049"
      ]
     },
     "metadata": {},
     "output_type": "display_data"
    }
   ],
   "source": [
    "display(df.head(10))"
   ]
  },
  {
   "cell_type": "markdown",
   "id": "c250aaf0-3773-410c-8a70-b5a043342939",
   "metadata": {},
   "source": [
    "## Model Selection"
   ]
  },
  {
   "cell_type": "code",
   "execution_count": 115,
   "id": "c284c81e-066e-40be-b4e7-f01d993dccdb",
   "metadata": {},
   "outputs": [],
   "source": [
    "from sklearn.cluster import KMeans\n",
    "from sklearn.metrics import silhouette_score"
   ]
  },
  {
   "cell_type": "markdown",
   "id": "1152b46e-36e0-4610-a05d-7406e0c4ff46",
   "metadata": {},
   "source": [
    "### Using Silhouette Score to get optimal cluster"
   ]
  },
  {
   "cell_type": "code",
   "execution_count": 116,
   "id": "dec178ce-b672-4435-9163-271e21172e22",
   "metadata": {
    "scrolled": true,
    "tags": []
   },
   "outputs": [
    {
     "name": "stdout",
     "output_type": "stream",
     "text": [
      "Training model ...\n",
      "Calculating silhouette score ...\n",
      "For n_cluster = 2 The avg of silhouette score is 0.5890987826093647\n",
      "Training model ...\n",
      "Calculating silhouette score ...\n",
      "For n_cluster = 3 The avg of silhouette score is 0.5704102543044142\n",
      "Training model ...\n",
      "Calculating silhouette score ...\n",
      "For n_cluster = 4 The avg of silhouette score is 0.5357556053904186\n",
      "Training model ...\n",
      "Calculating silhouette score ...\n",
      "For n_cluster = 5 The avg of silhouette score is 0.5218454520234295\n",
      "Training model ...\n",
      "Calculating silhouette score ...\n",
      "For n_cluster = 6 The avg of silhouette score is 0.5307521157286188\n",
      "Training model ...\n",
      "Calculating silhouette score ...\n",
      "For n_cluster = 7 The avg of silhouette score is 0.5238479638803812\n",
      "Training model ...\n",
      "Calculating silhouette score ...\n",
      "For n_cluster = 8 The avg of silhouette score is 0.5018780262321111\n",
      "Training model ...\n",
      "Calculating silhouette score ...\n",
      "For n_cluster = 9 The avg of silhouette score is 0.5027088406048894\n",
      "Training model ...\n",
      "Calculating silhouette score ...\n",
      "For n_cluster = 10 The avg of silhouette score is 0.4945730113428677\n",
      "Training model ...\n",
      "Calculating silhouette score ...\n",
      "For n_cluster = 11 The avg of silhouette score is 0.5001337116591924\n",
      "Training model ...\n"
     ]
    },
    {
     "ename": "KeyboardInterrupt",
     "evalue": "",
     "output_type": "error",
     "traceback": [
      "\u001b[0;31m---------------------------------------------------------------------------\u001b[0m",
      "\u001b[0;31mKeyboardInterrupt\u001b[0m                         Traceback (most recent call last)",
      "\u001b[0;32m/tmp/ipykernel_1198/41120032.py\u001b[0m in \u001b[0;36m<module>\u001b[0;34m\u001b[0m\n\u001b[1;32m      7\u001b[0m     \u001b[0mprint\u001b[0m\u001b[0;34m(\u001b[0m\u001b[0;34m'Training model ...'\u001b[0m\u001b[0;34m)\u001b[0m\u001b[0;34m\u001b[0m\u001b[0;34m\u001b[0m\u001b[0m\n\u001b[1;32m      8\u001b[0m     \u001b[0mkmeans\u001b[0m \u001b[0;34m=\u001b[0m \u001b[0mKMeans\u001b[0m\u001b[0;34m(\u001b[0m\u001b[0mn_clusters\u001b[0m\u001b[0;34m=\u001b[0m\u001b[0mi\u001b[0m\u001b[0;34m,\u001b[0m \u001b[0mrandom_state\u001b[0m\u001b[0;34m=\u001b[0m\u001b[0;36m111\u001b[0m\u001b[0;34m)\u001b[0m\u001b[0;34m\u001b[0m\u001b[0;34m\u001b[0m\u001b[0m\n\u001b[0;32m----> 9\u001b[0;31m     \u001b[0my\u001b[0m \u001b[0;34m=\u001b[0m \u001b[0mkmeans\u001b[0m\u001b[0;34m.\u001b[0m\u001b[0mfit_predict\u001b[0m\u001b[0;34m(\u001b[0m\u001b[0mdf1\u001b[0m\u001b[0;34m)\u001b[0m\u001b[0;34m\u001b[0m\u001b[0;34m\u001b[0m\u001b[0m\n\u001b[0m\u001b[1;32m     10\u001b[0m     \u001b[0mprint\u001b[0m\u001b[0;34m(\u001b[0m\u001b[0;34m'Calculating silhouette score ...'\u001b[0m\u001b[0;34m)\u001b[0m\u001b[0;34m\u001b[0m\u001b[0;34m\u001b[0m\u001b[0m\n\u001b[1;32m     11\u001b[0m     \u001b[0msc\u001b[0m \u001b[0;34m=\u001b[0m \u001b[0msilhouette_score\u001b[0m\u001b[0;34m(\u001b[0m\u001b[0mdf1\u001b[0m\u001b[0;34m.\u001b[0m\u001b[0mhead\u001b[0m\u001b[0;34m(\u001b[0m\u001b[0;36m2000\u001b[0m\u001b[0;34m)\u001b[0m\u001b[0;34m,\u001b[0m \u001b[0my\u001b[0m\u001b[0;34m[\u001b[0m\u001b[0;34m:\u001b[0m\u001b[0;36m2000\u001b[0m\u001b[0;34m]\u001b[0m\u001b[0;34m)\u001b[0m\u001b[0;34m\u001b[0m\u001b[0;34m\u001b[0m\u001b[0m\n",
      "\u001b[0;32m~/future-data-1/env/lib/python3.8/site-packages/sklearn/cluster/_kmeans.py\u001b[0m in \u001b[0;36mfit_predict\u001b[0;34m(self, X, y, sample_weight)\u001b[0m\n\u001b[1;32m   1075\u001b[0m             \u001b[0mIndex\u001b[0m \u001b[0mof\u001b[0m \u001b[0mthe\u001b[0m \u001b[0mcluster\u001b[0m \u001b[0meach\u001b[0m \u001b[0msample\u001b[0m \u001b[0mbelongs\u001b[0m \u001b[0mto\u001b[0m\u001b[0;34m.\u001b[0m\u001b[0;34m\u001b[0m\u001b[0;34m\u001b[0m\u001b[0m\n\u001b[1;32m   1076\u001b[0m         \"\"\"\n\u001b[0;32m-> 1077\u001b[0;31m         \u001b[0;32mreturn\u001b[0m \u001b[0mself\u001b[0m\u001b[0;34m.\u001b[0m\u001b[0mfit\u001b[0m\u001b[0;34m(\u001b[0m\u001b[0mX\u001b[0m\u001b[0;34m,\u001b[0m \u001b[0msample_weight\u001b[0m\u001b[0;34m=\u001b[0m\u001b[0msample_weight\u001b[0m\u001b[0;34m)\u001b[0m\u001b[0;34m.\u001b[0m\u001b[0mlabels_\u001b[0m\u001b[0;34m\u001b[0m\u001b[0;34m\u001b[0m\u001b[0m\n\u001b[0m\u001b[1;32m   1078\u001b[0m \u001b[0;34m\u001b[0m\u001b[0m\n\u001b[1;32m   1079\u001b[0m     \u001b[0;32mdef\u001b[0m \u001b[0mfit_transform\u001b[0m\u001b[0;34m(\u001b[0m\u001b[0mself\u001b[0m\u001b[0;34m,\u001b[0m \u001b[0mX\u001b[0m\u001b[0;34m,\u001b[0m \u001b[0my\u001b[0m\u001b[0;34m=\u001b[0m\u001b[0;32mNone\u001b[0m\u001b[0;34m,\u001b[0m \u001b[0msample_weight\u001b[0m\u001b[0;34m=\u001b[0m\u001b[0;32mNone\u001b[0m\u001b[0;34m)\u001b[0m\u001b[0;34m:\u001b[0m\u001b[0;34m\u001b[0m\u001b[0;34m\u001b[0m\u001b[0m\n",
      "\u001b[0;32m~/future-data-1/env/lib/python3.8/site-packages/sklearn/cluster/_kmeans.py\u001b[0m in \u001b[0;36mfit\u001b[0;34m(self, X, y, sample_weight)\u001b[0m\n\u001b[1;32m   1014\u001b[0m         \u001b[0;32mfor\u001b[0m \u001b[0mi\u001b[0m \u001b[0;32min\u001b[0m \u001b[0mrange\u001b[0m\u001b[0;34m(\u001b[0m\u001b[0mself\u001b[0m\u001b[0;34m.\u001b[0m\u001b[0m_n_init\u001b[0m\u001b[0;34m)\u001b[0m\u001b[0;34m:\u001b[0m\u001b[0;34m\u001b[0m\u001b[0;34m\u001b[0m\u001b[0m\n\u001b[1;32m   1015\u001b[0m             \u001b[0;31m# Initialize centers\u001b[0m\u001b[0;34m\u001b[0m\u001b[0;34m\u001b[0m\u001b[0;34m\u001b[0m\u001b[0m\n\u001b[0;32m-> 1016\u001b[0;31m             centers_init = self._init_centroids(\n\u001b[0m\u001b[1;32m   1017\u001b[0m                 \u001b[0mX\u001b[0m\u001b[0;34m,\u001b[0m \u001b[0mx_squared_norms\u001b[0m\u001b[0;34m=\u001b[0m\u001b[0mx_squared_norms\u001b[0m\u001b[0;34m,\u001b[0m \u001b[0minit\u001b[0m\u001b[0;34m=\u001b[0m\u001b[0minit\u001b[0m\u001b[0;34m,\u001b[0m\u001b[0;34m\u001b[0m\u001b[0;34m\u001b[0m\u001b[0m\n\u001b[1;32m   1018\u001b[0m                 random_state=random_state)\n",
      "\u001b[0;32m~/future-data-1/env/lib/python3.8/site-packages/sklearn/cluster/_kmeans.py\u001b[0m in \u001b[0;36m_init_centroids\u001b[0;34m(self, X, x_squared_norms, init, random_state, init_size)\u001b[0m\n\u001b[1;32m    932\u001b[0m \u001b[0;34m\u001b[0m\u001b[0m\n\u001b[1;32m    933\u001b[0m         \u001b[0;32mif\u001b[0m \u001b[0misinstance\u001b[0m\u001b[0;34m(\u001b[0m\u001b[0minit\u001b[0m\u001b[0;34m,\u001b[0m \u001b[0mstr\u001b[0m\u001b[0;34m)\u001b[0m \u001b[0;32mand\u001b[0m \u001b[0minit\u001b[0m \u001b[0;34m==\u001b[0m \u001b[0;34m'k-means++'\u001b[0m\u001b[0;34m:\u001b[0m\u001b[0;34m\u001b[0m\u001b[0;34m\u001b[0m\u001b[0m\n\u001b[0;32m--> 934\u001b[0;31m             centers, _ = _kmeans_plusplus(X, n_clusters,\n\u001b[0m\u001b[1;32m    935\u001b[0m                                           \u001b[0mrandom_state\u001b[0m\u001b[0;34m=\u001b[0m\u001b[0mrandom_state\u001b[0m\u001b[0;34m,\u001b[0m\u001b[0;34m\u001b[0m\u001b[0;34m\u001b[0m\u001b[0m\n\u001b[1;32m    936\u001b[0m                                           x_squared_norms=x_squared_norms)\n",
      "\u001b[0;32m~/future-data-1/env/lib/python3.8/site-packages/sklearn/cluster/_kmeans.py\u001b[0m in \u001b[0;36m_kmeans_plusplus\u001b[0;34m(X, n_clusters, x_squared_norms, random_state, n_local_trials)\u001b[0m\n\u001b[1;32m    114\u001b[0m         \u001b[0;31m# to the squared distance to the closest existing center\u001b[0m\u001b[0;34m\u001b[0m\u001b[0;34m\u001b[0m\u001b[0;34m\u001b[0m\u001b[0m\n\u001b[1;32m    115\u001b[0m         \u001b[0mrand_vals\u001b[0m \u001b[0;34m=\u001b[0m \u001b[0mrandom_state\u001b[0m\u001b[0;34m.\u001b[0m\u001b[0mrandom_sample\u001b[0m\u001b[0;34m(\u001b[0m\u001b[0mn_local_trials\u001b[0m\u001b[0;34m)\u001b[0m \u001b[0;34m*\u001b[0m \u001b[0mcurrent_pot\u001b[0m\u001b[0;34m\u001b[0m\u001b[0;34m\u001b[0m\u001b[0m\n\u001b[0;32m--> 116\u001b[0;31m         candidate_ids = np.searchsorted(stable_cumsum(closest_dist_sq),\n\u001b[0m\u001b[1;32m    117\u001b[0m                                         rand_vals)\n\u001b[1;32m    118\u001b[0m         \u001b[0;31m# XXX: numerical imprecision can result in a candidate_id out of range\u001b[0m\u001b[0;34m\u001b[0m\u001b[0;34m\u001b[0m\u001b[0;34m\u001b[0m\u001b[0m\n",
      "\u001b[0;31mKeyboardInterrupt\u001b[0m: "
     ]
    }
   ],
   "source": [
    "# df1 = df.copy()\n",
    "\n",
    "# n_cluster = []\n",
    "# silhouette_scores = []\n",
    "\n",
    "# for i in range(2,15):\n",
    "#     print('Training model ...')\n",
    "#     kmeans = KMeans(n_clusters=i, random_state=111)\n",
    "#     y = kmeans.fit_predict(df1)\n",
    "#     print('Calculating silhouette score ...')\n",
    "#     sc = silhouette_score(df1.head(2000), y[:2000])\n",
    "#     n_cluster.append(i)\n",
    "#     silhouette_scores.append(sc)\n",
    "#     print('For n_cluster = {n} The avg of silhouette score is {score}'.format(n=i, score=sc))\n",
    "\n",
    "# fig, ax = plt.subplots()\n",
    "\n",
    "# ax.plot(n_cluster, silhouette_scores)\n",
    "# ax.set_xlabel('n Cluster')\n",
    "# ax.set_ylabel('Silhouette score')\n",
    "\n",
    "# plt.show()"
   ]
  },
  {
   "cell_type": "code",
   "execution_count": 120,
   "id": "c3917441-cfc3-4c96-bedf-9090481ec0ce",
   "metadata": {},
   "outputs": [
    {
     "data": {
      "image/png": "[encoded data removed]",
      "text/plain": [
       "<Figure size 432x288 with 1 Axes>"
      ]
     },
     "metadata": {
      "needs_background": "light"
     },
     "output_type": "display_data"
    }
   ],
   "source": [
    "df1 = df.copy()\n",
    "\n",
    "n_cluster = []\n",
    "inertia_values = []\n",
    "\n",
    "for i in range(2,15):\n",
    "    kmeans = KMeans(n_clusters=i, random_state=111)\n",
    "    y = kmeans.fit_predict(df1)\n",
    "    n_cluster.append(i)\n",
    "    inertia_values.append(kmeans.inertia_)\n",
    "\n",
    "fig, ax = plt.subplots()\n",
    "\n",
    "ax.plot(n_cluster, inertia_values)\n",
    "ax.set_title('Within cluster sum of squared distance vs cluster size')\n",
    "ax.set_xlabel('n Cluster')\n",
    "ax.set_ylabel('Sum of squared distance to cluster center')\n",
    "\n",
    "plt.show()"
   ]
  },
  {
   "cell_type": "markdown",
   "id": "a9b0d94f-d6d1-465b-939a-443f7c5a6b99",
   "metadata": {},
   "source": [
    "## K-Means"
   ]
  },
  {
   "cell_type": "code",
   "execution_count": 122,
   "id": "9bf010c4-ca2d-4f1e-9b84-54fd982bca6c",
   "metadata": {},
   "outputs": [],
   "source": [
    "kmeans = KMeans(n_clusters=3, random_state=222)\n",
    "y = kmeans.fit_predict(df1)"
   ]
  },
  {
   "cell_type": "markdown",
   "id": "40d6fa70-ed40-4f08-806e-e41781c86984",
   "metadata": {},
   "source": [
    "### K-Means Evaluation"
   ]
  },
  {
   "cell_type": "code",
   "execution_count": 124,
   "id": "6aab5c1d-0a2b-4806-a980-ccab4b348213",
   "metadata": {},
   "outputs": [
    {
     "data": {
      "image/png": "[encoded data removed]",
      "text/plain": [
       "<Figure size 432x288 with 1 Axes>"
      ]
     },
     "metadata": {
      "needs_background": "light"
     },
     "output_type": "display_data"
    }
   ],
   "source": [
    "# sc = silhouette_score(df1, y)\n",
    "# display(\"Silhouette score:\", sc)\n",
    "\n",
    "kmeans_pca = PCA(n_components=2)\n",
    "kmeans_df = df.copy()\n",
    "kmeans_df = kmeans_pca.fit_transform(kmeans_df)\n",
    "\n",
    "kmeans_df = pd.DataFrame(kmeans_df)\n",
    "kmeans_df['label'] = y\n",
    "\n",
    "cluster_1 = kmeans_df[kmeans_df['label'] == 0]\n",
    "cluster_2 = kmeans_df[kmeans_df['label'] == 1]\n",
    "cluster_3 = kmeans_df[kmeans_df['label'] == 2]\n",
    "\n",
    "fig, ax = plt.subplots()\n",
    "\n",
    "ax.scatter(cluster_1.iloc[:, 0], cluster_1.iloc[:, 1], color='r')\n",
    "ax.scatter(cluster_2.iloc[:, 0], cluster_2.iloc[:, 1], color='b')\n",
    "ax.scatter(cluster_3.iloc[:, 0], cluster_3.iloc[:, 1], color='g')\n",
    "ax.set_xlabel('PCA Feature 1')\n",
    "ax.set_ylabel('PCA Feature 2')\n",
    "ax.set_title('KMeans Clustering')\n",
    "\n",
    "plt.show()"
   ]
  },
  {
   "cell_type": "markdown",
   "id": "dba57591-1ad2-4d49-ad12-cb86b6917c13",
   "metadata": {},
   "source": [
    "## Hierarchical Agglomerative"
   ]
  },
  {
   "cell_type": "code",
   "execution_count": 33,
   "id": "dad43e24-e298-4f0a-8c4d-c512b0ad7c49",
   "metadata": {},
   "outputs": [],
   "source": [
    "from sklearn.cluster import AgglomerativeClustering"
   ]
  },
  {
   "cell_type": "code",
   "execution_count": 34,
   "id": "64a05f87-dba5-4ebd-899c-a4503ade945c",
   "metadata": {},
   "outputs": [
    {
     "name": "stdout",
     "output_type": "stream",
     "text": [
      "The average silhouette score is 0.5839334327316632\n"
     ]
    }
   ],
   "source": [
    "df1 = df.copy()\n",
    "df1 = df1.head(5000)\n",
    "\n",
    "agglomerative_clustering = AgglomerativeClustering(\n",
    "                                n_clusters=2,\n",
    "                                affinity='euclidean',\n",
    "                                linkage='ward')\n",
    "y = agglomerative_clustering.fit_predict(df1)\n",
    "sc = silhouette_score(df1, y)\n",
    "print('The average silhouette score is {score}'.format(score=sc))"
   ]
  },
  {
   "cell_type": "code",
   "execution_count": 35,
   "id": "ad27dc4d-30f3-4163-a3c7-babe1dc00435",
   "metadata": {},
   "outputs": [
    {
     "data": {
      "image/png": "[encoded data removed]",
      "text/plain": [
       "<Figure size 432x288 with 1 Axes>"
      ]
     },
     "metadata": {
      "needs_background": "light"
     },
     "output_type": "display_data"
    }
   ],
   "source": [
    "ac_pca = PCA(n_components=2)\n",
    "ac_df = df1.copy()\n",
    "ac_df = ac_pca.fit_transform(ac_df)\n",
    "\n",
    "ac_df = pd.DataFrame(ac_df)\n",
    "ac_df['label'] = y\n",
    "\n",
    "cluster_1 = ac_df[ac_df['label'] == 0]\n",
    "cluster_2 = ac_df[ac_df['label'] == 1]\n",
    "\n",
    "fig, ax = plt.subplots()\n",
    "\n",
    "ax.scatter(cluster_1.iloc[:, 0], cluster_1.iloc[:, 1], color='r')\n",
    "ax.scatter(cluster_2.iloc[:, 0], cluster_2.iloc[:, 1], color='b')\n",
    "ax.set_xlabel('PCA Feature 1')\n",
    "ax.set_ylabel('PCA Feature 2')\n",
    "ax.set_title('Agglomerative Clustering')\n",
    "\n",
    "plt.show()"
   ]
  },
  {
   "cell_type": "markdown",
   "id": "8713306d-cacb-42e2-93e1-ecac8f76159b",
   "metadata": {},
   "source": [
    "**visualisasi per 2 fitur utk tampilin semuanya"
   ]
  },
  {
   "cell_type": "markdown",
   "id": "33fa6862-adbe-4305-8517-912182baeb72",
   "metadata": {},
   "source": [
    "## DBSCAN"
   ]
  },
  {
   "cell_type": "code",
   "execution_count": 36,
   "id": "f1376d15-6e32-411b-bcb6-38a6d0bd4185",
   "metadata": {},
   "outputs": [],
   "source": [
    "from sklearn.cluster import DBSCAN"
   ]
  },
  {
   "cell_type": "code",
   "execution_count": 37,
   "id": "42039e3e-3199-468f-b858-b731b6f9579e",
   "metadata": {},
   "outputs": [],
   "source": [
    "df1 = df.copy()\n",
    "\n",
    "dbscan = DBSCAN(eps=0.5, metric='euclidean')\n",
    "y = dbscan.fit_predict(df1)\n",
    "#sc = silhouette_score(df1, y)\n",
    "#print(\"The average silhouette score is {score}\".format(score=sc))"
   ]
  }
 ],
 "metadata": {
  "kernelspec": {
   "display_name": "Python 3 (ipykernel)",
   "language": "python",
   "name": "python3"
  },
  "language_info": {
   "codemirror_mode": {
    "name": "ipython",
    "version": 3
   },
   "file_extension": ".py",
   "mimetype": "text/x-python",
   "name": "python",
   "nbconvert_exporter": "python",
   "pygments_lexer": "ipython3",
   "version": "3.8.10"
  },
  "toc-autonumbering": false,
  "toc-showcode": false,
  "toc-showmarkdowntxt": false,
  "toc-showtags": false
 },
 "nbformat": 4,
 "nbformat_minor": 5
}
