{
 "cells": [
  {
   "cell_type": "markdown",
   "id": "dfb1c250",
   "metadata": {},
   "source": [
    "# Sales Prediction"
   ]
  },
  {
   "cell_type": "markdown",
   "id": "f955e1b2",
   "metadata": {},
   "source": [
    "Using machine learning to help organization prepare to handle dynamic market demand. Organization may infer the prediction to establish rule, plan, or strategy to further strengthen market position."
   ]
  },
  {
   "cell_type": "markdown",
   "id": "7c3fb5a8",
   "metadata": {},
   "source": [
    "## Library Import and Configuration"
   ]
  },
  {
   "cell_type": "code",
   "execution_count": 1,
   "id": "4bc98f55",
   "metadata": {},
   "outputs": [],
   "source": [
    "import json\n",
    "import numpy as np\n",
    "import pandas as pd\n",
    "import matplotlib.pyplot as plt\n",
    "from sklearn.pipeline import make_pipeline\n",
    "\n",
    "from util.dbconn import DbConn"
   ]
  },
  {
   "cell_type": "code",
   "execution_count": 2,
   "id": "23f62c18",
   "metadata": {},
   "outputs": [],
   "source": [
    "WAREHOUSE_CONN = {\n",
    "    'user': 'postgres',\n",
    "    'password': 'qshOke46RvOg0',\n",
    "    'host': '10.128.0.2',\n",
    "    'port': '8084',\n",
    "    'dbname': 'postgres'\n",
    "}"
   ]
  },
  {
   "cell_type": "code",
   "execution_count": 3,
   "id": "4283cb4b",
   "metadata": {},
   "outputs": [],
   "source": [
    "postgres_conn = DbConn(WAREHOUSE_CONN).get_conn()"
   ]
  },
  {
   "cell_type": "markdown",
   "id": "e4cd79f3",
   "metadata": {},
   "source": [
    "## Data Overview"
   ]
  },
  {
   "cell_type": "code",
   "execution_count": 4,
   "id": "3beb5d98",
   "metadata": {},
   "outputs": [],
   "source": [
    "sql = \"\"\"SELECT \n",
    "\tdd.\"year\",\n",
    "\tdd.\"month\",\n",
    "\tdd.week_num_in_year,\n",
    "\tdd.\"date\",\n",
    "\tcount(DISTINCT fo.order_legacy_id) as count_order\n",
    "FROM \n",
    "\twarehouse.fact_order fo\n",
    "LEFT JOIN warehouse.date_dim dd ON\n",
    "\tfo.order_date = dd.date_id\n",
    "GROUP BY 1,2,3,4;\n",
    "\"\"\""
   ]
  },
  {
   "cell_type": "code",
   "execution_count": 5,
   "id": "b26073b1",
   "metadata": {},
   "outputs": [
    {
     "name": "stdout",
     "output_type": "stream",
     "text": [
      "<class 'pandas.core.frame.DataFrame'>\n",
      "RangeIndex: 634 entries, 0 to 633\n",
      "Data columns (total 5 columns):\n",
      " #   Column            Non-Null Count  Dtype\n",
      "---  ------            --------------  -----\n",
      " 0   year              634 non-null    int64\n",
      " 1   month             634 non-null    int64\n",
      " 2   week_num_in_year  634 non-null    int64\n",
      " 3   date              634 non-null    int64\n",
      " 4   count_order       634 non-null    int64\n",
      "dtypes: int64(5)\n",
      "memory usage: 24.9 KB\n"
     ]
    },
    {
     "data": {
      "text/plain": [
       "None"
      ]
     },
     "metadata": {},
     "output_type": "display_data"
    },
    {
     "data": {
      "text/html": [
       "<div>\n",
       "<style scoped>\n",
       "    .dataframe tbody tr th:only-of-type {\n",
       "        vertical-align: middle;\n",
       "    }\n",
       "\n",
       "    .dataframe tbody tr th {\n",
       "        vertical-align: top;\n",
       "    }\n",
       "\n",
       "    .dataframe thead th {\n",
       "        text-align: right;\n",
       "    }\n",
       "</style>\n",
       "<table border=\"1\" class=\"dataframe\">\n",
       "  <thead>\n",
       "    <tr style=\"text-align: right;\">\n",
       "      <th></th>\n",
       "      <th>year</th>\n",
       "      <th>month</th>\n",
       "      <th>week_num_in_year</th>\n",
       "      <th>date</th>\n",
       "      <th>count_order</th>\n",
       "    </tr>\n",
       "  </thead>\n",
       "  <tbody>\n",
       "    <tr>\n",
       "      <th>count</th>\n",
       "      <td>634.000000</td>\n",
       "      <td>634.000000</td>\n",
       "      <td>634.000000</td>\n",
       "      <td>634.000000</td>\n",
       "      <td>634.000000</td>\n",
       "    </tr>\n",
       "    <tr>\n",
       "      <th>mean</th>\n",
       "      <td>2017.383281</td>\n",
       "      <td>5.938486</td>\n",
       "      <td>24.501577</td>\n",
       "      <td>15.597792</td>\n",
       "      <td>156.847003</td>\n",
       "    </tr>\n",
       "    <tr>\n",
       "      <th>std</th>\n",
       "      <td>0.533051</td>\n",
       "      <td>3.214452</td>\n",
       "      <td>14.111411</td>\n",
       "      <td>8.768610</td>\n",
       "      <td>94.224817</td>\n",
       "    </tr>\n",
       "    <tr>\n",
       "      <th>min</th>\n",
       "      <td>2016.000000</td>\n",
       "      <td>1.000000</td>\n",
       "      <td>1.000000</td>\n",
       "      <td>1.000000</td>\n",
       "      <td>1.000000</td>\n",
       "    </tr>\n",
       "    <tr>\n",
       "      <th>25%</th>\n",
       "      <td>2017.000000</td>\n",
       "      <td>3.000000</td>\n",
       "      <td>13.000000</td>\n",
       "      <td>8.000000</td>\n",
       "      <td>96.000000</td>\n",
       "    </tr>\n",
       "    <tr>\n",
       "      <th>50%</th>\n",
       "      <td>2017.000000</td>\n",
       "      <td>6.000000</td>\n",
       "      <td>24.000000</td>\n",
       "      <td>15.500000</td>\n",
       "      <td>148.000000</td>\n",
       "    </tr>\n",
       "    <tr>\n",
       "      <th>75%</th>\n",
       "      <td>2018.000000</td>\n",
       "      <td>8.000000</td>\n",
       "      <td>35.000000</td>\n",
       "      <td>23.000000</td>\n",
       "      <td>215.750000</td>\n",
       "    </tr>\n",
       "    <tr>\n",
       "      <th>max</th>\n",
       "      <td>2018.000000</td>\n",
       "      <td>12.000000</td>\n",
       "      <td>53.000000</td>\n",
       "      <td>31.000000</td>\n",
       "      <td>1176.000000</td>\n",
       "    </tr>\n",
       "  </tbody>\n",
       "</table>\n",
       "</div>"
      ],
      "text/plain": [
       "              year       month  week_num_in_year        date  count_order\n",
       "count   634.000000  634.000000        634.000000  634.000000   634.000000\n",
       "mean   2017.383281    5.938486         24.501577   15.597792   156.847003\n",
       "std       0.533051    3.214452         14.111411    8.768610    94.224817\n",
       "min    2016.000000    1.000000          1.000000    1.000000     1.000000\n",
       "25%    2017.000000    3.000000         13.000000    8.000000    96.000000\n",
       "50%    2017.000000    6.000000         24.000000   15.500000   148.000000\n",
       "75%    2018.000000    8.000000         35.000000   23.000000   215.750000\n",
       "max    2018.000000   12.000000         53.000000   31.000000  1176.000000"
      ]
     },
     "metadata": {},
     "output_type": "display_data"
    },
    {
     "data": {
      "text/html": [
       "<div>\n",
       "<style scoped>\n",
       "    .dataframe tbody tr th:only-of-type {\n",
       "        vertical-align: middle;\n",
       "    }\n",
       "\n",
       "    .dataframe tbody tr th {\n",
       "        vertical-align: top;\n",
       "    }\n",
       "\n",
       "    .dataframe thead th {\n",
       "        text-align: right;\n",
       "    }\n",
       "</style>\n",
       "<table border=\"1\" class=\"dataframe\">\n",
       "  <thead>\n",
       "    <tr style=\"text-align: right;\">\n",
       "      <th></th>\n",
       "      <th>year</th>\n",
       "      <th>month</th>\n",
       "      <th>week_num_in_year</th>\n",
       "      <th>date</th>\n",
       "      <th>count_order</th>\n",
       "    </tr>\n",
       "  </thead>\n",
       "  <tbody>\n",
       "    <tr>\n",
       "      <th>0</th>\n",
       "      <td>2016</td>\n",
       "      <td>9</td>\n",
       "      <td>36</td>\n",
       "      <td>4</td>\n",
       "      <td>1</td>\n",
       "    </tr>\n",
       "    <tr>\n",
       "      <th>1</th>\n",
       "      <td>2016</td>\n",
       "      <td>9</td>\n",
       "      <td>37</td>\n",
       "      <td>5</td>\n",
       "      <td>1</td>\n",
       "    </tr>\n",
       "    <tr>\n",
       "      <th>2</th>\n",
       "      <td>2016</td>\n",
       "      <td>9</td>\n",
       "      <td>38</td>\n",
       "      <td>13</td>\n",
       "      <td>1</td>\n",
       "    </tr>\n",
       "    <tr>\n",
       "      <th>3</th>\n",
       "      <td>2016</td>\n",
       "      <td>9</td>\n",
       "      <td>38</td>\n",
       "      <td>15</td>\n",
       "      <td>1</td>\n",
       "    </tr>\n",
       "    <tr>\n",
       "      <th>4</th>\n",
       "      <td>2016</td>\n",
       "      <td>10</td>\n",
       "      <td>40</td>\n",
       "      <td>2</td>\n",
       "      <td>1</td>\n",
       "    </tr>\n",
       "  </tbody>\n",
       "</table>\n",
       "</div>"
      ],
      "text/plain": [
       "   year  month  week_num_in_year  date  count_order\n",
       "0  2016      9                36     4            1\n",
       "1  2016      9                37     5            1\n",
       "2  2016      9                38    13            1\n",
       "3  2016      9                38    15            1\n",
       "4  2016     10                40     2            1"
      ]
     },
     "metadata": {},
     "output_type": "display_data"
    }
   ],
   "source": [
    "df = pd.read_sql(sql=sql, con=postgres_conn)\n",
    "\n",
    "display(df.info())\n",
    "display(df.describe())\n",
    "display(df.head(5))"
   ]
  },
  {
   "cell_type": "markdown",
   "id": "c94f3904",
   "metadata": {},
   "source": [
    "### Check Null Values"
   ]
  },
  {
   "cell_type": "code",
   "execution_count": 6,
   "id": "74cf5632",
   "metadata": {},
   "outputs": [
    {
     "data": {
      "text/plain": [
       "year                0\n",
       "month               0\n",
       "week_num_in_year    0\n",
       "date                0\n",
       "count_order         0\n",
       "dtype: int64"
      ]
     },
     "execution_count": 6,
     "metadata": {},
     "output_type": "execute_result"
    }
   ],
   "source": [
    "df.isnull().sum()"
   ]
  },
  {
   "cell_type": "markdown",
   "id": "3208ed17",
   "metadata": {},
   "source": [
    "## Exploratory Data Analysis"
   ]
  },
  {
   "cell_type": "code",
   "execution_count": 7,
   "id": "8eed57e0",
   "metadata": {},
   "outputs": [
    {
     "data": {
      "image/png": "[encoded data removed]",
      "text/plain": [
       "<Figure size 432x288 with 1 Axes>"
      ]
     },
     "metadata": {
      "needs_background": "light"
     },
     "output_type": "display_data"
    },
    {
     "data": {
      "text/html": [
       "<div>\n",
       "<style scoped>\n",
       "    .dataframe tbody tr th:only-of-type {\n",
       "        vertical-align: middle;\n",
       "    }\n",
       "\n",
       "    .dataframe tbody tr th {\n",
       "        vertical-align: top;\n",
       "    }\n",
       "\n",
       "    .dataframe thead th {\n",
       "        text-align: right;\n",
       "    }\n",
       "</style>\n",
       "<table border=\"1\" class=\"dataframe\">\n",
       "  <thead>\n",
       "    <tr style=\"text-align: right;\">\n",
       "      <th></th>\n",
       "      <th>year</th>\n",
       "      <th>count_order</th>\n",
       "    </tr>\n",
       "  </thead>\n",
       "  <tbody>\n",
       "    <tr>\n",
       "      <th>0</th>\n",
       "      <td>2016</td>\n",
       "      <td>15</td>\n",
       "    </tr>\n",
       "    <tr>\n",
       "      <th>1</th>\n",
       "      <td>2017</td>\n",
       "      <td>361</td>\n",
       "    </tr>\n",
       "    <tr>\n",
       "      <th>2</th>\n",
       "      <td>2018</td>\n",
       "      <td>258</td>\n",
       "    </tr>\n",
       "  </tbody>\n",
       "</table>\n",
       "</div>"
      ],
      "text/plain": [
       "   year  count_order\n",
       "0  2016           15\n",
       "1  2017          361\n",
       "2  2018          258"
      ]
     },
     "metadata": {},
     "output_type": "display_data"
    }
   ],
   "source": [
    "fig, ax = plt.subplots()\n",
    "\n",
    "_df_temp = df.loc[:, ['year', 'count_order']].groupby('year', as_index=False).count()\n",
    "\n",
    "ax.bar(_df_temp['year'], _df_temp['count_order'])\n",
    "ax.set_title('Order by Year')\n",
    "ax.set_xlabel('Year')\n",
    "ax.set_ylabel('Order Frequency')\n",
    "\n",
    "plt.show()\n",
    "display(_df_temp.head(15))"
   ]
  },
  {
   "cell_type": "code",
   "execution_count": 8,
   "id": "d467abde",
   "metadata": {},
   "outputs": [
    {
     "data": {
      "image/png": "[encoded data removed]",
      "text/plain": [
       "<Figure size 432x288 with 1 Axes>"
      ]
     },
     "metadata": {
      "needs_background": "light"
     },
     "output_type": "display_data"
    },
    {
     "data": {
      "text/html": [
       "<div>\n",
       "<style scoped>\n",
       "    .dataframe tbody tr th:only-of-type {\n",
       "        vertical-align: middle;\n",
       "    }\n",
       "\n",
       "    .dataframe tbody tr th {\n",
       "        vertical-align: top;\n",
       "    }\n",
       "\n",
       "    .dataframe thead th {\n",
       "        text-align: right;\n",
       "    }\n",
       "</style>\n",
       "<table border=\"1\" class=\"dataframe\">\n",
       "  <thead>\n",
       "    <tr style=\"text-align: right;\">\n",
       "      <th></th>\n",
       "      <th>year</th>\n",
       "      <th>month</th>\n",
       "      <th>count_order</th>\n",
       "    </tr>\n",
       "  </thead>\n",
       "  <tbody>\n",
       "    <tr>\n",
       "      <th>0</th>\n",
       "      <td>2016</td>\n",
       "      <td>9</td>\n",
       "      <td>4</td>\n",
       "    </tr>\n",
       "    <tr>\n",
       "      <th>1</th>\n",
       "      <td>2016</td>\n",
       "      <td>10</td>\n",
       "      <td>10</td>\n",
       "    </tr>\n",
       "    <tr>\n",
       "      <th>2</th>\n",
       "      <td>2016</td>\n",
       "      <td>12</td>\n",
       "      <td>1</td>\n",
       "    </tr>\n",
       "    <tr>\n",
       "      <th>3</th>\n",
       "      <td>2017</td>\n",
       "      <td>1</td>\n",
       "      <td>27</td>\n",
       "    </tr>\n",
       "    <tr>\n",
       "      <th>4</th>\n",
       "      <td>2017</td>\n",
       "      <td>2</td>\n",
       "      <td>28</td>\n",
       "    </tr>\n",
       "    <tr>\n",
       "      <th>5</th>\n",
       "      <td>2017</td>\n",
       "      <td>3</td>\n",
       "      <td>31</td>\n",
       "    </tr>\n",
       "    <tr>\n",
       "      <th>6</th>\n",
       "      <td>2017</td>\n",
       "      <td>4</td>\n",
       "      <td>30</td>\n",
       "    </tr>\n",
       "    <tr>\n",
       "      <th>7</th>\n",
       "      <td>2017</td>\n",
       "      <td>5</td>\n",
       "      <td>31</td>\n",
       "    </tr>\n",
       "    <tr>\n",
       "      <th>8</th>\n",
       "      <td>2017</td>\n",
       "      <td>6</td>\n",
       "      <td>30</td>\n",
       "    </tr>\n",
       "    <tr>\n",
       "      <th>9</th>\n",
       "      <td>2017</td>\n",
       "      <td>7</td>\n",
       "      <td>31</td>\n",
       "    </tr>\n",
       "    <tr>\n",
       "      <th>10</th>\n",
       "      <td>2017</td>\n",
       "      <td>8</td>\n",
       "      <td>31</td>\n",
       "    </tr>\n",
       "    <tr>\n",
       "      <th>11</th>\n",
       "      <td>2017</td>\n",
       "      <td>9</td>\n",
       "      <td>30</td>\n",
       "    </tr>\n",
       "    <tr>\n",
       "      <th>12</th>\n",
       "      <td>2017</td>\n",
       "      <td>10</td>\n",
       "      <td>31</td>\n",
       "    </tr>\n",
       "    <tr>\n",
       "      <th>13</th>\n",
       "      <td>2017</td>\n",
       "      <td>11</td>\n",
       "      <td>30</td>\n",
       "    </tr>\n",
       "    <tr>\n",
       "      <th>14</th>\n",
       "      <td>2017</td>\n",
       "      <td>12</td>\n",
       "      <td>31</td>\n",
       "    </tr>\n",
       "  </tbody>\n",
       "</table>\n",
       "</div>"
      ],
      "text/plain": [
       "    year  month  count_order\n",
       "0   2016      9            4\n",
       "1   2016     10           10\n",
       "2   2016     12            1\n",
       "3   2017      1           27\n",
       "4   2017      2           28\n",
       "5   2017      3           31\n",
       "6   2017      4           30\n",
       "7   2017      5           31\n",
       "8   2017      6           30\n",
       "9   2017      7           31\n",
       "10  2017      8           31\n",
       "11  2017      9           30\n",
       "12  2017     10           31\n",
       "13  2017     11           30\n",
       "14  2017     12           31"
      ]
     },
     "metadata": {},
     "output_type": "display_data"
    }
   ],
   "source": [
    "fig, ax = plt.subplots()\n",
    "\n",
    "_df_temp = df.loc[:, ['year', 'month', 'count_order']] \\\n",
    "            .groupby(by=['year', 'month'], as_index=False) \\\n",
    "            .count()\n",
    "\n",
    "ax.bar(_df_temp['month'], _df_temp['count_order'])\n",
    "ax.set_title('Order by Month')\n",
    "ax.set_xlabel('Month')\n",
    "ax.set_ylabel('Order Frequency')\n",
    "\n",
    "plt.show()\n",
    "display(_df_temp.head(15))"
   ]
  },
  {
   "cell_type": "code",
   "execution_count": 9,
   "id": "f7317565",
   "metadata": {},
   "outputs": [
    {
     "data": {
      "image/png": "[encoded data removed]",
      "text/plain": [
       "<Figure size 432x288 with 1 Axes>"
      ]
     },
     "metadata": {
      "needs_background": "light"
     },
     "output_type": "display_data"
    },
    {
     "data": {
      "text/html": [
       "<div>\n",
       "<style scoped>\n",
       "    .dataframe tbody tr th:only-of-type {\n",
       "        vertical-align: middle;\n",
       "    }\n",
       "\n",
       "    .dataframe tbody tr th {\n",
       "        vertical-align: top;\n",
       "    }\n",
       "\n",
       "    .dataframe thead th {\n",
       "        text-align: right;\n",
       "    }\n",
       "</style>\n",
       "<table border=\"1\" class=\"dataframe\">\n",
       "  <thead>\n",
       "    <tr style=\"text-align: right;\">\n",
       "      <th></th>\n",
       "      <th>week_num_in_year</th>\n",
       "      <th>count_order</th>\n",
       "    </tr>\n",
       "  </thead>\n",
       "  <tbody>\n",
       "    <tr>\n",
       "      <th>0</th>\n",
       "      <td>1</td>\n",
       "      <td>7</td>\n",
       "    </tr>\n",
       "    <tr>\n",
       "      <th>1</th>\n",
       "      <td>2</td>\n",
       "      <td>11</td>\n",
       "    </tr>\n",
       "    <tr>\n",
       "      <th>2</th>\n",
       "      <td>3</td>\n",
       "      <td>14</td>\n",
       "    </tr>\n",
       "    <tr>\n",
       "      <th>3</th>\n",
       "      <td>4</td>\n",
       "      <td>14</td>\n",
       "    </tr>\n",
       "    <tr>\n",
       "      <th>4</th>\n",
       "      <td>5</td>\n",
       "      <td>14</td>\n",
       "    </tr>\n",
       "    <tr>\n",
       "      <th>5</th>\n",
       "      <td>6</td>\n",
       "      <td>14</td>\n",
       "    </tr>\n",
       "    <tr>\n",
       "      <th>6</th>\n",
       "      <td>7</td>\n",
       "      <td>14</td>\n",
       "    </tr>\n",
       "    <tr>\n",
       "      <th>7</th>\n",
       "      <td>8</td>\n",
       "      <td>14</td>\n",
       "    </tr>\n",
       "    <tr>\n",
       "      <th>8</th>\n",
       "      <td>9</td>\n",
       "      <td>14</td>\n",
       "    </tr>\n",
       "    <tr>\n",
       "      <th>9</th>\n",
       "      <td>10</td>\n",
       "      <td>14</td>\n",
       "    </tr>\n",
       "    <tr>\n",
       "      <th>10</th>\n",
       "      <td>11</td>\n",
       "      <td>14</td>\n",
       "    </tr>\n",
       "    <tr>\n",
       "      <th>11</th>\n",
       "      <td>12</td>\n",
       "      <td>14</td>\n",
       "    </tr>\n",
       "    <tr>\n",
       "      <th>12</th>\n",
       "      <td>13</td>\n",
       "      <td>14</td>\n",
       "    </tr>\n",
       "    <tr>\n",
       "      <th>13</th>\n",
       "      <td>14</td>\n",
       "      <td>14</td>\n",
       "    </tr>\n",
       "    <tr>\n",
       "      <th>14</th>\n",
       "      <td>15</td>\n",
       "      <td>14</td>\n",
       "    </tr>\n",
       "  </tbody>\n",
       "</table>\n",
       "</div>"
      ],
      "text/plain": [
       "    week_num_in_year  count_order\n",
       "0                  1            7\n",
       "1                  2           11\n",
       "2                  3           14\n",
       "3                  4           14\n",
       "4                  5           14\n",
       "5                  6           14\n",
       "6                  7           14\n",
       "7                  8           14\n",
       "8                  9           14\n",
       "9                 10           14\n",
       "10                11           14\n",
       "11                12           14\n",
       "12                13           14\n",
       "13                14           14\n",
       "14                15           14"
      ]
     },
     "metadata": {},
     "output_type": "display_data"
    }
   ],
   "source": [
    "fig, ax = plt.subplots()\n",
    "\n",
    "_df_temp = df.loc[:, ['week_num_in_year', 'count_order']] \\\n",
    "            .groupby(by='week_num_in_year', as_index=False) \\\n",
    "            .count()\n",
    "\n",
    "ax.bar(_df_temp['week_num_in_year'], _df_temp['count_order'])\n",
    "ax.set_title('Order by Week in Year')\n",
    "ax.set_xlabel('Week in Year')\n",
    "ax.set_ylabel('Order Frequency')\n",
    "\n",
    "plt.show()\n",
    "display(_df_temp.head(15))"
   ]
  },
  {
   "cell_type": "code",
   "execution_count": 10,
   "id": "985b408c",
   "metadata": {},
   "outputs": [],
   "source": [
    "model_df = df.copy()"
   ]
  },
  {
   "cell_type": "markdown",
   "id": "983181d7",
   "metadata": {},
   "source": [
    "## Data Preprocessing"
   ]
  },
  {
   "cell_type": "code",
   "execution_count": 11,
   "id": "6a477a2f",
   "metadata": {},
   "outputs": [],
   "source": [
    "from sklearn.preprocessing import Normalizer\n",
    "normalizer = Normalizer(norm='l2')"
   ]
  },
  {
   "cell_type": "markdown",
   "id": "102dead0",
   "metadata": {},
   "source": [
    "## Naive Model"
   ]
  },
  {
   "cell_type": "code",
   "execution_count": 12,
   "id": "1501a3d5",
   "metadata": {},
   "outputs": [],
   "source": [
    "from sklearn.metrics import median_absolute_error, mean_absolute_error, mean_squared_error"
   ]
  },
  {
   "cell_type": "code",
   "execution_count": 13,
   "id": "d936745e",
   "metadata": {},
   "outputs": [
    {
     "name": "stdout",
     "output_type": "stream",
     "text": [
      "8864.3125541104\n"
     ]
    }
   ],
   "source": [
    "y = model_df.loc[:, 'count_order']\n",
    "# Set to predict the mean\n",
    "y_pred = [y.mean() for i in range(0, len(y))]\n",
    "\n",
    "mse = mean_squared_error(y, y_pred)\n",
    "print(mse)"
   ]
  },
  {
   "cell_type": "markdown",
   "id": "74e1033e",
   "metadata": {},
   "source": [
    "## MLP Regressor"
   ]
  },
  {
   "cell_type": "code",
   "execution_count": 14,
   "id": "2b3599da",
   "metadata": {},
   "outputs": [],
   "source": [
    "from sklearn.neural_network import MLPRegressor\n",
    "from sklearn.model_selection import TimeSeriesSplit\n",
    "from sklearn.pipeline import make_pipeline"
   ]
  },
  {
   "cell_type": "code",
   "execution_count": 15,
   "id": "e7c9f16d",
   "metadata": {},
   "outputs": [],
   "source": [
    "X = model_df.loc[:, ['year', 'month', 'week_num_in_year', 'date']].to_numpy()\n",
    "y = model_df.loc[:, 'count_order'].to_numpy()"
   ]
  },
  {
   "cell_type": "markdown",
   "id": "e5e49c64",
   "metadata": {},
   "source": [
    "### Hyperparameter Tuning"
   ]
  },
  {
   "cell_type": "code",
   "execution_count": 16,
   "id": "6f567d54",
   "metadata": {
    "jupyter": {
     "source_hidden": true
    }
   },
   "outputs": [],
   "source": [
    "# hidden_layer_sizes = [(100,), (100,30), (100, 30, 10)]\n",
    "# activations = ['identity', 'logistic', 'tanh', 'relu']\n",
    "# solvers = ['lbfgs', 'sgd', 'adam']\n",
    "# learning_rate_sgd = ['constant', 'invscaling', 'adaptive']\n",
    "# learning_rate_inits = [0.001, 0.003, 0.005, 0.01, 0.03, 0.1]\n",
    "# tol = [0.0001, 0.001, 0.005, 0.01]\n",
    "\n",
    "# def evaluate_mlpr_ht(X, mlpr):\n",
    "#     tscv = TimeSeriesSplit()\n",
    "#     errors = []\n",
    "    \n",
    "#     normalizer = Normalizer(norm='l2')\n",
    "#     model = make_pipeline(normalizer, mlpr)\n",
    "\n",
    "#     for train_index, test_index in tscv.split(X):\n",
    "#         X_train, X_test = X[train_index], X[test_index]\n",
    "#         y_train, y_test = y[train_index], y[test_index]\n",
    "\n",
    "#         model.fit(X_train, y_train)\n",
    "#         y_pred = model.predict(X_test)\n",
    "#         mse = mean_squared_error(y_test, y_pred)\n",
    "#         errors.append(mse)\n",
    "\n",
    "#     return sum(errors)/len(errors)\n",
    "\n",
    "# results = []\n",
    "\n",
    "# for hl in hidden_layer_sizes:\n",
    "#     mlpr = MLPRegressor(hidden_layer_sizes=hl, max_iter=1000)\n",
    "#     error = evaluate_mlpr_ht(X, mlpr)\n",
    "#     results.append({\n",
    "#         'hidden_layer_size': hl,\n",
    "#         'error': error\n",
    "#     })\n",
    "\n",
    "# for act in activations:\n",
    "#     mlpr = MLPRegressor(activation=act, max_iter=1000)\n",
    "#     error = evaluate_mlpr_ht(X, mlpr)\n",
    "#     results.append({\n",
    "#         'activation': act,\n",
    "#         'error': error\n",
    "#     })\n",
    "\n",
    "# for slv in solvers:\n",
    "#     mlpr = MLPRegressor(solver=slv, max_iter=1000)\n",
    "#     error = evaluate_mlpr_ht(X, mlpr)\n",
    "#     results.append({\n",
    "#         'solver': slv,\n",
    "#         'error': error\n",
    "#     })\n",
    "\n",
    "# for lr in learning_rate_sgd:\n",
    "#     for lri in learning_rate_inits:\n",
    "#         mlpr = MLPRegressor(learning_rate=lr,\n",
    "#                           learning_rate_init=lri,\n",
    "#                           solver='sgd',\n",
    "#                           max_iter=1000)\n",
    "#         error = evaluate_mlpr_ht(X, mlpr)\n",
    "#         results.append({\n",
    "#             'learning_rate': lr,\n",
    "#             'learning_rate_init': lri,\n",
    "#             'error': error\n",
    "#         })\n",
    "\n",
    "# for t in tol:\n",
    "#     mlpr = MLPRegressor(tol=t, max_iter=1000)\n",
    "#     error = evaluate_mlpr_ht(X, mlpr)\n",
    "#     results.append({\n",
    "#         'tol': t,\n",
    "#         'error': error\n",
    "#     })\n",
    "\n",
    "# print(json.dumps(results, indent=4))"
   ]
  },
  {
   "cell_type": "code",
   "execution_count": 17,
   "id": "92fcc796",
   "metadata": {},
   "outputs": [
    {
     "name": "stderr",
     "output_type": "stream",
     "text": [
      "/opt/conda/lib/python3.7/site-packages/sklearn/neural_network/_multilayer_perceptron.py:617: ConvergenceWarning: Stochastic Optimizer: Maximum iterations (200) reached and the optimization hasn't converged yet.\n",
      "  % self.max_iter, ConvergenceWarning)\n",
      "/opt/conda/lib/python3.7/site-packages/sklearn/neural_network/_multilayer_perceptron.py:617: ConvergenceWarning: Stochastic Optimizer: Maximum iterations (200) reached and the optimization hasn't converged yet.\n",
      "  % self.max_iter, ConvergenceWarning)\n",
      "/opt/conda/lib/python3.7/site-packages/sklearn/neural_network/_multilayer_perceptron.py:617: ConvergenceWarning: Stochastic Optimizer: Maximum iterations (200) reached and the optimization hasn't converged yet.\n",
      "  % self.max_iter, ConvergenceWarning)\n",
      "/opt/conda/lib/python3.7/site-packages/sklearn/neural_network/_multilayer_perceptron.py:617: ConvergenceWarning: Stochastic Optimizer: Maximum iterations (200) reached and the optimization hasn't converged yet.\n",
      "  % self.max_iter, ConvergenceWarning)\n"
     ]
    },
    {
     "name": "stdout",
     "output_type": "stream",
     "text": [
      "27787.295533729397\n"
     ]
    },
    {
     "name": "stderr",
     "output_type": "stream",
     "text": [
      "/opt/conda/lib/python3.7/site-packages/sklearn/neural_network/_multilayer_perceptron.py:617: ConvergenceWarning: Stochastic Optimizer: Maximum iterations (200) reached and the optimization hasn't converged yet.\n",
      "  % self.max_iter, ConvergenceWarning)\n"
     ]
    }
   ],
   "source": [
    "tscv = TimeSeriesSplit()\n",
    "\n",
    "errors = []\n",
    "\n",
    "mlpr = MLPRegressor()\n",
    "model = make_pipeline(normalizer, mlpr)\n",
    "\n",
    "for train_index, test_index in tscv.split(X):\n",
    "    X_train, X_test = X[train_index], X[test_index]\n",
    "    y_train, y_test = y[train_index], y[test_index]\n",
    "    \n",
    "    model.fit(X_train, y_train)\n",
    "    y_pred = model.predict(X_test)\n",
    "    mse = mean_squared_error(y_test, y_pred)\n",
    "    errors.append(mse)\n",
    "    \n",
    "print(sum(errors)/len(errors))"
   ]
  },
  {
   "cell_type": "code",
   "execution_count": 18,
   "id": "47a8fae9",
   "metadata": {},
   "outputs": [],
   "source": [
    "## DO NOT DELETE\n",
    "# mlpr = MLPRegressor(\n",
    "#             hidden_layer_sizes=(100,30),\n",
    "#             activation='relu',\n",
    "#             solver='lbfgs',\n",
    "#             learning_rate='constant',\n",
    "#             learning_rate_init=0.001,\n",
    "#             max_iter=1000)"
   ]
  },
  {
   "cell_type": "markdown",
   "id": "4147a577",
   "metadata": {},
   "source": [
    "### Default Parameter"
   ]
  },
  {
   "cell_type": "code",
   "execution_count": 19,
   "id": "bdc373b2",
   "metadata": {},
   "outputs": [],
   "source": [
    "def evaluate_mlpr(y_actual, y_pred):\n",
    "    med_ae = median_absolute_error(y_actual, y_pred)\n",
    "    mae = mean_absolute_error(y_actual, y_pred)\n",
    "    mse = mean_squared_error(y_actual, y_pred)\n",
    "    rmse = mean_squared_error(y_actual, y_pred, squared=False)\n",
    "    \n",
    "    return {\n",
    "        'Median Absolute Error': med_ae,\n",
    "        'Mean Absolute Error': mae,\n",
    "        'Mean Squared Error': mse,\n",
    "        'Root Mean Squared Error': rmse\n",
    "    }"
   ]
  },
  {
   "cell_type": "code",
   "execution_count": 20,
   "id": "9173374c",
   "metadata": {},
   "outputs": [
    {
     "name": "stderr",
     "output_type": "stream",
     "text": [
      "/opt/conda/lib/python3.7/site-packages/sklearn/neural_network/_multilayer_perceptron.py:617: ConvergenceWarning: Stochastic Optimizer: Maximum iterations (200) reached and the optimization hasn't converged yet.\n",
      "  % self.max_iter, ConvergenceWarning)\n",
      "/opt/conda/lib/python3.7/site-packages/sklearn/neural_network/_multilayer_perceptron.py:617: ConvergenceWarning: Stochastic Optimizer: Maximum iterations (200) reached and the optimization hasn't converged yet.\n",
      "  % self.max_iter, ConvergenceWarning)\n",
      "/opt/conda/lib/python3.7/site-packages/sklearn/neural_network/_multilayer_perceptron.py:617: ConvergenceWarning: Stochastic Optimizer: Maximum iterations (200) reached and the optimization hasn't converged yet.\n",
      "  % self.max_iter, ConvergenceWarning)\n",
      "/opt/conda/lib/python3.7/site-packages/sklearn/neural_network/_multilayer_perceptron.py:617: ConvergenceWarning: Stochastic Optimizer: Maximum iterations (200) reached and the optimization hasn't converged yet.\n",
      "  % self.max_iter, ConvergenceWarning)\n"
     ]
    },
    {
     "name": "stdout",
     "output_type": "stream",
     "text": [
      "[\n",
      "    {\n",
      "        \"Median Absolute Error\": 104.1814634514001,\n",
      "        \"Mean Absolute Error\": 103.15420174134582,\n",
      "        \"Mean Squared Error\": 11553.39888812055,\n",
      "        \"Root Mean Squared Error\": 107.48673819648891\n",
      "    },\n",
      "    {\n",
      "        \"Median Absolute Error\": 114.72543903899235,\n",
      "        \"Mean Absolute Error\": 113.78901011725593,\n",
      "        \"Mean Squared Error\": 13706.99569601009,\n",
      "        \"Root Mean Squared Error\": 117.07687942548729\n",
      "    },\n",
      "    {\n",
      "        \"Median Absolute Error\": 189.82566775282243,\n",
      "        \"Mean Absolute Error\": 200.80428550125683,\n",
      "        \"Mean Squared Error\": 53739.71056061379,\n",
      "        \"Root Mean Squared Error\": 231.8182705496135\n",
      "    },\n",
      "    {\n",
      "        \"Median Absolute Error\": 178.71454230893877,\n",
      "        \"Mean Absolute Error\": 174.32565207797128,\n",
      "        \"Mean Squared Error\": 33940.887116153004,\n",
      "        \"Root Mean Squared Error\": 184.23052710165328\n",
      "    },\n",
      "    {\n",
      "        \"Median Absolute Error\": 122.57270780432046,\n",
      "        \"Mean Absolute Error\": 130.03756705771556,\n",
      "        \"Mean Squared Error\": 21344.405983667697,\n",
      "        \"Root Mean Squared Error\": 146.0972483781529\n",
      "    }\n",
      "]\n"
     ]
    },
    {
     "name": "stderr",
     "output_type": "stream",
     "text": [
      "/opt/conda/lib/python3.7/site-packages/sklearn/neural_network/_multilayer_perceptron.py:617: ConvergenceWarning: Stochastic Optimizer: Maximum iterations (200) reached and the optimization hasn't converged yet.\n",
      "  % self.max_iter, ConvergenceWarning)\n"
     ]
    }
   ],
   "source": [
    "tscv = TimeSeriesSplit()\n",
    "\n",
    "errors = []\n",
    "\n",
    "mlpr = MLPRegressor()\n",
    "model = make_pipeline(normalizer, mlpr)\n",
    "\n",
    "for train_index, test_index in tscv.split(X):\n",
    "    X_train, X_test = X[train_index], X[test_index]\n",
    "    y_train, y_test = y[train_index], y[test_index]\n",
    "    \n",
    "    model.fit(X_train, y_train)\n",
    "    y_pred = model.predict(X_test)\n",
    "    errors.append(evaluate_mlpr(y_test, y_pred))\n",
    "    \n",
    "print(json.dumps(errors, indent=4))"
   ]
  },
  {
   "cell_type": "markdown",
   "id": "17230b1f",
   "metadata": {},
   "source": [
    "### Final Model"
   ]
  },
  {
   "cell_type": "code",
   "execution_count": 21,
   "id": "1139a3f7",
   "metadata": {},
   "outputs": [
    {
     "name": "stdout",
     "output_type": "stream",
     "text": [
      "[\n",
      "    {\n",
      "        \"Median Absolute Error\": 51.688594701446775,\n",
      "        \"Mean Absolute Error\": 51.57743029370292,\n",
      "        \"Mean Squared Error\": 3480.956428564425,\n",
      "        \"Root Mean Squared Error\": 58.9996307493905\n",
      "    },\n",
      "    {\n",
      "        \"Median Absolute Error\": 56.13217712935773,\n",
      "        \"Mean Absolute Error\": 55.19710621896661,\n",
      "        \"Mean Squared Error\": 3805.8220299322807,\n",
      "        \"Root Mean Squared Error\": 61.69134485430092\n",
      "    },\n",
      "    {\n",
      "        \"Median Absolute Error\": 111.69993417707192,\n",
      "        \"Mean Absolute Error\": 125.19181109178413,\n",
      "        \"Mean Squared Error\": 28482.710285887195,\n",
      "        \"Root Mean Squared Error\": 168.76821467885236\n",
      "    },\n",
      "    {\n",
      "        \"Median Absolute Error\": 87.44600232775647,\n",
      "        \"Mean Absolute Error\": 87.4673514058917,\n",
      "        \"Mean Squared Error\": 10444.110860613337,\n",
      "        \"Root Mean Squared Error\": 102.19643271960787\n",
      "    },\n",
      "    {\n",
      "        \"Median Absolute Error\": 88.30911590392319,\n",
      "        \"Mean Absolute Error\": 88.59764260099607,\n",
      "        \"Mean Squared Error\": 10826.777020015157,\n",
      "        \"Root Mean Squared Error\": 104.05179969618572\n",
      "    }\n",
      "]\n"
     ]
    }
   ],
   "source": [
    "tscv = TimeSeriesSplit()\n",
    "\n",
    "errors = []\n",
    "\n",
    "mlpr = MLPRegressor(max_iter=1000, activation='identity',\n",
    "                   solver='sgd', learning_rate='constant',\n",
    "                   tol=0.005)\n",
    "model = make_pipeline(normalizer, mlpr)\n",
    "\n",
    "for train_index, test_index in tscv.split(X):\n",
    "    X_train, X_test = X[train_index], X[test_index]\n",
    "    y_train, y_test = y[train_index], y[test_index]\n",
    "    \n",
    "    model.fit(X_train, y_train)\n",
    "    y_pred = model.predict(X_test)\n",
    "    errors.append(evaluate_mlpr(y_test, y_pred))\n",
    "    \n",
    "print(json.dumps(errors, indent=4))"
   ]
  },
  {
   "cell_type": "markdown",
   "id": "3672fe13",
   "metadata": {},
   "source": [
    "## Support Vector Regression"
   ]
  },
  {
   "cell_type": "code",
   "execution_count": 22,
   "id": "6c97f616",
   "metadata": {},
   "outputs": [],
   "source": [
    "from sklearn.svm import LinearSVR"
   ]
  },
  {
   "cell_type": "code",
   "execution_count": 23,
   "id": "008e76df",
   "metadata": {},
   "outputs": [],
   "source": [
    "X = model_df.loc[:, ['year', 'month', 'week_num_in_year', 'date']].to_numpy()\n",
    "y = model_df.loc[:, 'count_order'].to_numpy()"
   ]
  },
  {
   "cell_type": "markdown",
   "id": "3d66be08",
   "metadata": {},
   "source": [
    "### Default Parameter"
   ]
  },
  {
   "cell_type": "code",
   "execution_count": 24,
   "id": "9dd84328",
   "metadata": {},
   "outputs": [],
   "source": [
    "def _tscv(X, estimator):\n",
    "    tscv = TimeSeriesSplit()\n",
    "\n",
    "    errors = []\n",
    "    \n",
    "    model = make_pipeline(normalizer, estimator)\n",
    "\n",
    "    for train_index, test_index in tscv.split(X):\n",
    "        X_train, X_test = X[train_index], X[test_index]\n",
    "        y_train, y_test = y[train_index], y[test_index]\n",
    "\n",
    "        model.fit(X_train, y_train)\n",
    "        y_pred = model.predict(X_test)\n",
    "        errors.append(evaluate_mlpr(y_test, y_pred))\n",
    "\n",
    "    print(json.dumps(errors[-1], indent=4))"
   ]
  },
  {
   "cell_type": "code",
   "execution_count": 25,
   "id": "0d80f1d9",
   "metadata": {},
   "outputs": [
    {
     "name": "stdout",
     "output_type": "stream",
     "text": [
      "{\n",
      "    \"Median Absolute Error\": 113.00107252665174,\n",
      "    \"Mean Absolute Error\": 99.51471372721342,\n",
      "    \"Mean Squared Error\": 12769.841503462432,\n",
      "    \"Root Mean Squared Error\": 113.00372340530392\n",
      "}\n"
     ]
    }
   ],
   "source": [
    "svr = LinearSVR()\n",
    "\n",
    "_tscv(X, svr)"
   ]
  },
  {
   "cell_type": "markdown",
   "id": "9cd108d8",
   "metadata": {},
   "source": [
    "### Final Model"
   ]
  },
  {
   "cell_type": "code",
   "execution_count": 26,
   "id": "cbeb2207",
   "metadata": {},
   "outputs": [
    {
     "name": "stdout",
     "output_type": "stream",
     "text": [
      "{\n",
      "    \"Median Absolute Error\": 112.99726078020024,\n",
      "    \"Mean Absolute Error\": 99.51296247811756,\n",
      "    \"Mean Squared Error\": 12769.451409352692,\n",
      "    \"Root Mean Squared Error\": 113.00199736886375\n",
      "}\n"
     ]
    }
   ],
   "source": [
    "final_svr = LinearSVR(tol=1e-4, max_iter=100000)\n",
    "\n",
    "_tscv(X, final_svr)"
   ]
  },
  {
   "cell_type": "markdown",
   "id": "d7e3c02d",
   "metadata": {},
   "source": [
    "## SGD Regressor"
   ]
  },
  {
   "cell_type": "code",
   "execution_count": 27,
   "id": "9b597c1c",
   "metadata": {},
   "outputs": [],
   "source": [
    "from sklearn.linear_model import SGDRegressor\n",
    "from sklearn.preprocessing import StandardScaler"
   ]
  },
  {
   "cell_type": "code",
   "execution_count": 28,
   "id": "a02c2e30",
   "metadata": {},
   "outputs": [],
   "source": [
    "X = model_df.loc[:, ['year', 'month', 'week_num_in_year', 'date']].to_numpy()\n",
    "y = model_df.loc[:, 'count_order'].to_numpy()"
   ]
  },
  {
   "cell_type": "markdown",
   "id": "aa7c329f",
   "metadata": {},
   "source": [
    "### Default Parameter"
   ]
  },
  {
   "cell_type": "code",
   "execution_count": 29,
   "id": "36e0220d",
   "metadata": {},
   "outputs": [
    {
     "name": "stdout",
     "output_type": "stream",
     "text": [
      "{\n",
      "    \"Median Absolute Error\": 90.45067934304655,\n",
      "    \"Mean Absolute Error\": 89.26589142417114,\n",
      "    \"Mean Squared Error\": 10929.250711213512,\n",
      "    \"Root Mean Squared Error\": 104.5430567336421\n",
      "}\n"
     ]
    }
   ],
   "source": [
    "sgdr = SGDRegressor()\n",
    "\n",
    "_tscv(X, sgdr)"
   ]
  },
  {
   "cell_type": "markdown",
   "id": "ddad1c72",
   "metadata": {},
   "source": [
    "### Final Model"
   ]
  },
  {
   "cell_type": "code",
   "execution_count": 30,
   "id": "03321d27",
   "metadata": {},
   "outputs": [
    {
     "name": "stdout",
     "output_type": "stream",
     "text": [
      "{\n",
      "    \"Median Absolute Error\": 17815532.075214386,\n",
      "    \"Mean Absolute Error\": 19660941.866964977,\n",
      "    \"Mean Squared Error\": 428264904455173.56,\n",
      "    \"Root Mean Squared Error\": 20694562.195300814\n",
      "}\n"
     ]
    }
   ],
   "source": [
    "sgdr = SGDRegressor(\n",
    "            loss='squared_loss',\n",
    "            penalty='l2',\n",
    "            eta0=0.01,\n",
    "            alpha=0.001,\n",
    "            learning_rate='optimal',\n",
    "            tol=1e-2,\n",
    "            max_iter=100000)\n",
    "\n",
    "_tscv(X, sgdr)"
   ]
  }
 ],
 "metadata": {
  "environment": {
   "name": "common-cpu.m76",
   "type": "gcloud",
   "uri": "gcr.io/deeplearning-platform-release/base-cpu:m76"
  },
  "kernelspec": {
   "display_name": "Python 3",
   "language": "python",
   "name": "python3"
  },
  "language_info": {
   "codemirror_mode": {
    "name": "ipython",
    "version": 3
   },
   "file_extension": ".py",
   "mimetype": "text/x-python",
   "name": "python",
   "nbconvert_exporter": "python",
   "pygments_lexer": "ipython3",
   "version": "3.7.10"
  }
 },
 "nbformat": 4,
 "nbformat_minor": 5
}
