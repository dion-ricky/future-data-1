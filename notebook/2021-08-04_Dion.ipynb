{
 "cells": [
  {
   "cell_type": "code",
   "execution_count": 1,
   "id": "6b641d76",
   "metadata": {},
   "outputs": [],
   "source": [
    "import numpy as np\n",
    "import pandas as pd\n",
    "import matplotlib.pyplot as plt\n",
    "from sklearn.pipeline import make_pipeline\n",
    "\n",
    "from util.dbconn import DbConn"
   ]
  },
  {
   "cell_type": "code",
   "execution_count": 2,
   "id": "a4d8f2b8",
   "metadata": {},
   "outputs": [],
   "source": [
    "WAREHOUSE_CONN = {\n",
    "    'user': 'postgres',\n",
    "    'password': 'qshOke46RvOg0',\n",
    "    'host': 'localhost',\n",
    "    'port': '8084',\n",
    "    'dbname': 'warehouse'\n",
    "}"
   ]
  },
  {
   "cell_type": "code",
   "execution_count": 3,
   "id": "75b1ee55",
   "metadata": {},
   "outputs": [],
   "source": [
    "postgres_conn = DbConn(WAREHOUSE_CONN).get_conn()"
   ]
  },
  {
   "cell_type": "code",
   "execution_count": 4,
   "id": "353507dd",
   "metadata": {},
   "outputs": [],
   "source": [
    "sql = \"\"\"WITH order_date AS (\n",
    "\tSELECT \n",
    "\t\tod.order_key,\n",
    "\t\tod.order_date,\n",
    "\t\tdd.date_id\n",
    "\tFROM \n",
    "\t\torder_dim od\n",
    "\tLEFT JOIN date_dim dd ON\n",
    "\t\tDATE(od.order_date) = dd.full_date\n",
    "),\n",
    "fact_order AS (\n",
    "SELECT \n",
    "\tdd.\"year\",\n",
    "\tdd.quarter,\n",
    "\tdd.\"month\",\n",
    "    dd.\"date\",\n",
    "\tcount(DISTINCT od.order_key) AS count_order\n",
    "FROM \n",
    "\torder_dim od \n",
    "LEFT JOIN order_date odt ON\n",
    "\tod.order_date = odt.order_date\n",
    "LEFT JOIN date_dim dd ON\n",
    "\todt.date_id = dd.date_id \n",
    "GROUP BY dd.\"year\", ROLLUP(dd.quarter, dd.\"month\", dd.\"date\")\n",
    ")\n",
    "SELECT \n",
    "\t*\n",
    "FROM \n",
    "\tfact_order fo\n",
    "WHERE fo.quarter IS NOT NULL AND \n",
    "\t\tfo.\"month\" IS NOT NULL AND\n",
    "        fo.\"date\" IS NOT NULL;\n",
    "\"\"\""
   ]
  },
  {
   "cell_type": "code",
   "execution_count": 5,
   "id": "25ca24b0",
   "metadata": {},
   "outputs": [
    {
     "name": "stdout",
     "output_type": "stream",
     "text": [
      "<class 'pandas.core.frame.DataFrame'>\n",
      "RangeIndex: 634 entries, 0 to 633\n",
      "Data columns (total 5 columns):\n",
      " #   Column       Non-Null Count  Dtype\n",
      "---  ------       --------------  -----\n",
      " 0   year         634 non-null    int64\n",
      " 1   quarter      634 non-null    int64\n",
      " 2   month        634 non-null    int64\n",
      " 3   date         634 non-null    int64\n",
      " 4   count_order  634 non-null    int64\n",
      "dtypes: int64(5)\n",
      "memory usage: 24.9 KB\n"
     ]
    },
    {
     "data": {
      "text/plain": [
       "None"
      ]
     },
     "metadata": {},
     "output_type": "display_data"
    },
    {
     "data": {
      "text/html": [
       "<div>\n",
       "<style scoped>\n",
       "    .dataframe tbody tr th:only-of-type {\n",
       "        vertical-align: middle;\n",
       "    }\n",
       "\n",
       "    .dataframe tbody tr th {\n",
       "        vertical-align: top;\n",
       "    }\n",
       "\n",
       "    .dataframe thead th {\n",
       "        text-align: right;\n",
       "    }\n",
       "</style>\n",
       "<table border=\"1\" class=\"dataframe\">\n",
       "  <thead>\n",
       "    <tr style=\"text-align: right;\">\n",
       "      <th></th>\n",
       "      <th>year</th>\n",
       "      <th>quarter</th>\n",
       "      <th>month</th>\n",
       "      <th>date</th>\n",
       "      <th>count_order</th>\n",
       "    </tr>\n",
       "  </thead>\n",
       "  <tbody>\n",
       "    <tr>\n",
       "      <th>count</th>\n",
       "      <td>634.000000</td>\n",
       "      <td>634.000000</td>\n",
       "      <td>634.000000</td>\n",
       "      <td>634.000000</td>\n",
       "      <td>634.000000</td>\n",
       "    </tr>\n",
       "    <tr>\n",
       "      <th>mean</th>\n",
       "      <td>2017.383281</td>\n",
       "      <td>2.326498</td>\n",
       "      <td>5.938486</td>\n",
       "      <td>15.597792</td>\n",
       "      <td>156.847003</td>\n",
       "    </tr>\n",
       "    <tr>\n",
       "      <th>std</th>\n",
       "      <td>0.533051</td>\n",
       "      <td>1.055651</td>\n",
       "      <td>3.214452</td>\n",
       "      <td>8.768610</td>\n",
       "      <td>94.224817</td>\n",
       "    </tr>\n",
       "    <tr>\n",
       "      <th>min</th>\n",
       "      <td>2016.000000</td>\n",
       "      <td>1.000000</td>\n",
       "      <td>1.000000</td>\n",
       "      <td>1.000000</td>\n",
       "      <td>1.000000</td>\n",
       "    </tr>\n",
       "    <tr>\n",
       "      <th>25%</th>\n",
       "      <td>2017.000000</td>\n",
       "      <td>1.000000</td>\n",
       "      <td>3.000000</td>\n",
       "      <td>8.000000</td>\n",
       "      <td>96.000000</td>\n",
       "    </tr>\n",
       "    <tr>\n",
       "      <th>50%</th>\n",
       "      <td>2017.000000</td>\n",
       "      <td>2.000000</td>\n",
       "      <td>6.000000</td>\n",
       "      <td>15.500000</td>\n",
       "      <td>148.000000</td>\n",
       "    </tr>\n",
       "    <tr>\n",
       "      <th>75%</th>\n",
       "      <td>2018.000000</td>\n",
       "      <td>3.000000</td>\n",
       "      <td>8.000000</td>\n",
       "      <td>23.000000</td>\n",
       "      <td>215.750000</td>\n",
       "    </tr>\n",
       "    <tr>\n",
       "      <th>max</th>\n",
       "      <td>2018.000000</td>\n",
       "      <td>4.000000</td>\n",
       "      <td>12.000000</td>\n",
       "      <td>31.000000</td>\n",
       "      <td>1176.000000</td>\n",
       "    </tr>\n",
       "  </tbody>\n",
       "</table>\n",
       "</div>"
      ],
      "text/plain": [
       "              year     quarter       month        date  count_order\n",
       "count   634.000000  634.000000  634.000000  634.000000   634.000000\n",
       "mean   2017.383281    2.326498    5.938486   15.597792   156.847003\n",
       "std       0.533051    1.055651    3.214452    8.768610    94.224817\n",
       "min    2016.000000    1.000000    1.000000    1.000000     1.000000\n",
       "25%    2017.000000    1.000000    3.000000    8.000000    96.000000\n",
       "50%    2017.000000    2.000000    6.000000   15.500000   148.000000\n",
       "75%    2018.000000    3.000000    8.000000   23.000000   215.750000\n",
       "max    2018.000000    4.000000   12.000000   31.000000  1176.000000"
      ]
     },
     "metadata": {},
     "output_type": "display_data"
    },
    {
     "data": {
      "text/html": [
       "<div>\n",
       "<style scoped>\n",
       "    .dataframe tbody tr th:only-of-type {\n",
       "        vertical-align: middle;\n",
       "    }\n",
       "\n",
       "    .dataframe tbody tr th {\n",
       "        vertical-align: top;\n",
       "    }\n",
       "\n",
       "    .dataframe thead th {\n",
       "        text-align: right;\n",
       "    }\n",
       "</style>\n",
       "<table border=\"1\" class=\"dataframe\">\n",
       "  <thead>\n",
       "    <tr style=\"text-align: right;\">\n",
       "      <th></th>\n",
       "      <th>year</th>\n",
       "      <th>quarter</th>\n",
       "      <th>month</th>\n",
       "      <th>date</th>\n",
       "      <th>count_order</th>\n",
       "    </tr>\n",
       "  </thead>\n",
       "  <tbody>\n",
       "    <tr>\n",
       "      <th>0</th>\n",
       "      <td>2016</td>\n",
       "      <td>3</td>\n",
       "      <td>9</td>\n",
       "      <td>4</td>\n",
       "      <td>1</td>\n",
       "    </tr>\n",
       "    <tr>\n",
       "      <th>1</th>\n",
       "      <td>2016</td>\n",
       "      <td>3</td>\n",
       "      <td>9</td>\n",
       "      <td>5</td>\n",
       "      <td>1</td>\n",
       "    </tr>\n",
       "    <tr>\n",
       "      <th>2</th>\n",
       "      <td>2016</td>\n",
       "      <td>3</td>\n",
       "      <td>9</td>\n",
       "      <td>13</td>\n",
       "      <td>1</td>\n",
       "    </tr>\n",
       "    <tr>\n",
       "      <th>3</th>\n",
       "      <td>2016</td>\n",
       "      <td>3</td>\n",
       "      <td>9</td>\n",
       "      <td>15</td>\n",
       "      <td>1</td>\n",
       "    </tr>\n",
       "    <tr>\n",
       "      <th>4</th>\n",
       "      <td>2016</td>\n",
       "      <td>4</td>\n",
       "      <td>10</td>\n",
       "      <td>2</td>\n",
       "      <td>1</td>\n",
       "    </tr>\n",
       "  </tbody>\n",
       "</table>\n",
       "</div>"
      ],
      "text/plain": [
       "   year  quarter  month  date  count_order\n",
       "0  2016        3      9     4            1\n",
       "1  2016        3      9     5            1\n",
       "2  2016        3      9    13            1\n",
       "3  2016        3      9    15            1\n",
       "4  2016        4     10     2            1"
      ]
     },
     "metadata": {},
     "output_type": "display_data"
    }
   ],
   "source": [
    "df = pd.read_sql(sql=sql, con=postgres_conn)\n",
    "\n",
    "display(df.info())\n",
    "display(df.describe())\n",
    "display(df.head(5))"
   ]
  },
  {
   "cell_type": "code",
   "execution_count": 6,
   "id": "0bd065c4",
   "metadata": {},
   "outputs": [],
   "source": [
    "def shift(data, n_in=1, n_out=1, dropna=True):\n",
    "    \"\"\"\n",
    "    Arguments:\n",
    "        data: Sequence of observations as DataFrame or Numpy Array.\n",
    "        n_in: Number of lag observations as input.\n",
    "        n_out: Number of observations as output.\n",
    "        dropna: Boolean whether to drop rows with NaN values.\n",
    "    Returns:\n",
    "        df: Pandas DataFrame\n",
    "    \"\"\"\n",
    "    var = range(0, data.shape[0]) if isinstance(data, np.ndarray) else \\\n",
    "            data.columns if isinstance(data, pd.DataFrame) else None\n",
    "    \n",
    "    if var is None:\n",
    "        raise Exception('Expected pandas.DataFrame or numpy.ndarray got {}'.format(type(data)))\n",
    "    \n",
    "    df = pd.DataFrame(data)\n",
    "    cols, names = [], []\n",
    "    \n",
    "    for i in range(n_in, 0, -1):\n",
    "        cols.append(df.shift(i))\n",
    "        names += [('{n}(t-{i})'.format(n=v, i=i)) for v in var]\n",
    "    \n",
    "    for i in range(0, n_out):\n",
    "        cols.append(df.shift(i))\n",
    "        if i == 0:\n",
    "            names += [('{n}(t)'.format(n=v)) for v in var]\n",
    "        else:\n",
    "            names += [('{n}(t+{i})'.format(n=v, i=i)) for v in var]\n",
    "    \n",
    "    agg = pd.concat(cols, axis=1)\n",
    "    agg.columns = names\n",
    "    \n",
    "    if dropna:\n",
    "        agg.dropna(inplace=True)\n",
    "    \n",
    "    return agg"
   ]
  },
  {
   "cell_type": "code",
   "execution_count": 7,
   "id": "60151297",
   "metadata": {},
   "outputs": [],
   "source": [
    "t = df.loc[:, ['count_order']]"
   ]
  },
  {
   "cell_type": "markdown",
   "id": "f2bffeb0",
   "metadata": {},
   "source": [
    "fiturnya pakai tanggal, bulan, tahun, hari, minggu ke-,"
   ]
  },
  {
   "cell_type": "code",
   "execution_count": 8,
   "id": "60c15b44",
   "metadata": {},
   "outputs": [
    {
     "data": {
      "text/html": [
       "<div>\n",
       "<style scoped>\n",
       "    .dataframe tbody tr th:only-of-type {\n",
       "        vertical-align: middle;\n",
       "    }\n",
       "\n",
       "    .dataframe tbody tr th {\n",
       "        vertical-align: top;\n",
       "    }\n",
       "\n",
       "    .dataframe thead th {\n",
       "        text-align: right;\n",
       "    }\n",
       "</style>\n",
       "<table border=\"1\" class=\"dataframe\">\n",
       "  <thead>\n",
       "    <tr style=\"text-align: right;\">\n",
       "      <th></th>\n",
       "      <th>count_order(t-2)</th>\n",
       "      <th>count_order(t-1)</th>\n",
       "      <th>count_order(t)</th>\n",
       "    </tr>\n",
       "  </thead>\n",
       "  <tbody>\n",
       "    <tr>\n",
       "      <th>2</th>\n",
       "      <td>1.0</td>\n",
       "      <td>1.0</td>\n",
       "      <td>1</td>\n",
       "    </tr>\n",
       "    <tr>\n",
       "      <th>3</th>\n",
       "      <td>1.0</td>\n",
       "      <td>1.0</td>\n",
       "      <td>1</td>\n",
       "    </tr>\n",
       "    <tr>\n",
       "      <th>4</th>\n",
       "      <td>1.0</td>\n",
       "      <td>1.0</td>\n",
       "      <td>1</td>\n",
       "    </tr>\n",
       "    <tr>\n",
       "      <th>5</th>\n",
       "      <td>1.0</td>\n",
       "      <td>1.0</td>\n",
       "      <td>8</td>\n",
       "    </tr>\n",
       "    <tr>\n",
       "      <th>6</th>\n",
       "      <td>1.0</td>\n",
       "      <td>8.0</td>\n",
       "      <td>63</td>\n",
       "    </tr>\n",
       "    <tr>\n",
       "      <th>...</th>\n",
       "      <td>...</td>\n",
       "      <td>...</td>\n",
       "      <td>...</td>\n",
       "    </tr>\n",
       "    <tr>\n",
       "      <th>629</th>\n",
       "      <td>1.0</td>\n",
       "      <td>1.0</td>\n",
       "      <td>1</td>\n",
       "    </tr>\n",
       "    <tr>\n",
       "      <th>630</th>\n",
       "      <td>1.0</td>\n",
       "      <td>1.0</td>\n",
       "      <td>1</td>\n",
       "    </tr>\n",
       "    <tr>\n",
       "      <th>631</th>\n",
       "      <td>1.0</td>\n",
       "      <td>1.0</td>\n",
       "      <td>1</td>\n",
       "    </tr>\n",
       "    <tr>\n",
       "      <th>632</th>\n",
       "      <td>1.0</td>\n",
       "      <td>1.0</td>\n",
       "      <td>1</td>\n",
       "    </tr>\n",
       "    <tr>\n",
       "      <th>633</th>\n",
       "      <td>1.0</td>\n",
       "      <td>1.0</td>\n",
       "      <td>1</td>\n",
       "    </tr>\n",
       "  </tbody>\n",
       "</table>\n",
       "<p>632 rows × 3 columns</p>\n",
       "</div>"
      ],
      "text/plain": [
       "     count_order(t-2)  count_order(t-1)  count_order(t)\n",
       "2                 1.0               1.0               1\n",
       "3                 1.0               1.0               1\n",
       "4                 1.0               1.0               1\n",
       "5                 1.0               1.0               8\n",
       "6                 1.0               8.0              63\n",
       "..                ...               ...             ...\n",
       "629               1.0               1.0               1\n",
       "630               1.0               1.0               1\n",
       "631               1.0               1.0               1\n",
       "632               1.0               1.0               1\n",
       "633               1.0               1.0               1\n",
       "\n",
       "[632 rows x 3 columns]"
      ]
     },
     "execution_count": 8,
     "metadata": {},
     "output_type": "execute_result"
    }
   ],
   "source": [
    "t0 = shift(t, 2, 1)\n",
    "t0"
   ]
  },
  {
   "cell_type": "code",
   "execution_count": 9,
   "id": "06285b23",
   "metadata": {},
   "outputs": [],
   "source": [
    "t1 = t0.copy()\n",
    "t1['id'] = t1.index\n",
    "t1 = t1.loc[:, ['id', 'count_order(t)']] \\\n",
    "        .groupby('count_order(t)', as_index=False).count()"
   ]
  },
  {
   "cell_type": "code",
   "execution_count": 10,
   "id": "4d682ad6",
   "metadata": {},
   "outputs": [
    {
     "data": {
      "text/html": [
       "<div>\n",
       "<style scoped>\n",
       "    .dataframe tbody tr th:only-of-type {\n",
       "        vertical-align: middle;\n",
       "    }\n",
       "\n",
       "    .dataframe tbody tr th {\n",
       "        vertical-align: top;\n",
       "    }\n",
       "\n",
       "    .dataframe thead th {\n",
       "        text-align: right;\n",
       "    }\n",
       "</style>\n",
       "<table border=\"1\" class=\"dataframe\">\n",
       "  <thead>\n",
       "    <tr style=\"text-align: right;\">\n",
       "      <th></th>\n",
       "      <th>count_order(t)</th>\n",
       "      <th>count_id</th>\n",
       "    </tr>\n",
       "  </thead>\n",
       "  <tbody>\n",
       "    <tr>\n",
       "      <th>0</th>\n",
       "      <td>1</td>\n",
       "      <td>19</td>\n",
       "    </tr>\n",
       "    <tr>\n",
       "      <th>1</th>\n",
       "      <td>3</td>\n",
       "      <td>1</td>\n",
       "    </tr>\n",
       "    <tr>\n",
       "      <th>2</th>\n",
       "      <td>4</td>\n",
       "      <td>4</td>\n",
       "    </tr>\n",
       "    <tr>\n",
       "      <th>3</th>\n",
       "      <td>5</td>\n",
       "      <td>1</td>\n",
       "    </tr>\n",
       "    <tr>\n",
       "      <th>4</th>\n",
       "      <td>6</td>\n",
       "      <td>2</td>\n",
       "    </tr>\n",
       "    <tr>\n",
       "      <th>...</th>\n",
       "      <td>...</td>\n",
       "      <td>...</td>\n",
       "    </tr>\n",
       "    <tr>\n",
       "      <th>267</th>\n",
       "      <td>380</td>\n",
       "      <td>1</td>\n",
       "    </tr>\n",
       "    <tr>\n",
       "      <th>268</th>\n",
       "      <td>391</td>\n",
       "      <td>1</td>\n",
       "    </tr>\n",
       "    <tr>\n",
       "      <th>269</th>\n",
       "      <td>403</td>\n",
       "      <td>1</td>\n",
       "    </tr>\n",
       "    <tr>\n",
       "      <th>270</th>\n",
       "      <td>499</td>\n",
       "      <td>1</td>\n",
       "    </tr>\n",
       "    <tr>\n",
       "      <th>271</th>\n",
       "      <td>1176</td>\n",
       "      <td>1</td>\n",
       "    </tr>\n",
       "  </tbody>\n",
       "</table>\n",
       "<p>272 rows × 2 columns</p>\n",
       "</div>"
      ],
      "text/plain": [
       "     count_order(t)  count_id\n",
       "0                 1        19\n",
       "1                 3         1\n",
       "2                 4         4\n",
       "3                 5         1\n",
       "4                 6         2\n",
       "..              ...       ...\n",
       "267             380         1\n",
       "268             391         1\n",
       "269             403         1\n",
       "270             499         1\n",
       "271            1176         1\n",
       "\n",
       "[272 rows x 2 columns]"
      ]
     },
     "execution_count": 10,
     "metadata": {},
     "output_type": "execute_result"
    }
   ],
   "source": [
    "t1.columns = ['count_order(t)', 'count_id']\n",
    "t1"
   ]
  },
  {
   "cell_type": "code",
   "execution_count": 11,
   "id": "4b713cba",
   "metadata": {},
   "outputs": [
    {
     "data": {
      "image/png": "[encoded data removed]",
      "text/plain": [
       "<Figure size 432x288 with 1 Axes>"
      ]
     },
     "metadata": {
      "needs_background": "light"
     },
     "output_type": "display_data"
    }
   ],
   "source": [
    "fig, ax = plt.subplots()\n",
    "\n",
    "ax.bar(t1['count_order(t)'], t1['count_id'])\n",
    "ax.set_title('Distribution of Order per Day')\n",
    "ax.set_xlabel('Order')\n",
    "ax.set_ylabel('Count')\n",
    "\n",
    "plt.show()"
   ]
  },
  {
   "cell_type": "code",
   "execution_count": 12,
   "id": "ec99c98c",
   "metadata": {},
   "outputs": [
    {
     "data": {
      "text/html": [
       "<div>\n",
       "<style scoped>\n",
       "    .dataframe tbody tr th:only-of-type {\n",
       "        vertical-align: middle;\n",
       "    }\n",
       "\n",
       "    .dataframe tbody tr th {\n",
       "        vertical-align: top;\n",
       "    }\n",
       "\n",
       "    .dataframe thead th {\n",
       "        text-align: right;\n",
       "    }\n",
       "</style>\n",
       "<table border=\"1\" class=\"dataframe\">\n",
       "  <thead>\n",
       "    <tr style=\"text-align: right;\">\n",
       "      <th></th>\n",
       "      <th>count_order(t-2)</th>\n",
       "      <th>count_order(t-1)</th>\n",
       "      <th>count_order(t)</th>\n",
       "    </tr>\n",
       "  </thead>\n",
       "  <tbody>\n",
       "    <tr>\n",
       "      <th>2</th>\n",
       "      <td>1.0</td>\n",
       "      <td>1.0</td>\n",
       "      <td>1</td>\n",
       "    </tr>\n",
       "    <tr>\n",
       "      <th>3</th>\n",
       "      <td>1.0</td>\n",
       "      <td>1.0</td>\n",
       "      <td>1</td>\n",
       "    </tr>\n",
       "    <tr>\n",
       "      <th>4</th>\n",
       "      <td>1.0</td>\n",
       "      <td>1.0</td>\n",
       "      <td>1</td>\n",
       "    </tr>\n",
       "    <tr>\n",
       "      <th>5</th>\n",
       "      <td>1.0</td>\n",
       "      <td>1.0</td>\n",
       "      <td>8</td>\n",
       "    </tr>\n",
       "    <tr>\n",
       "      <th>6</th>\n",
       "      <td>1.0</td>\n",
       "      <td>8.0</td>\n",
       "      <td>63</td>\n",
       "    </tr>\n",
       "    <tr>\n",
       "      <th>...</th>\n",
       "      <td>...</td>\n",
       "      <td>...</td>\n",
       "      <td>...</td>\n",
       "    </tr>\n",
       "    <tr>\n",
       "      <th>629</th>\n",
       "      <td>1.0</td>\n",
       "      <td>1.0</td>\n",
       "      <td>1</td>\n",
       "    </tr>\n",
       "    <tr>\n",
       "      <th>630</th>\n",
       "      <td>1.0</td>\n",
       "      <td>1.0</td>\n",
       "      <td>1</td>\n",
       "    </tr>\n",
       "    <tr>\n",
       "      <th>631</th>\n",
       "      <td>1.0</td>\n",
       "      <td>1.0</td>\n",
       "      <td>1</td>\n",
       "    </tr>\n",
       "    <tr>\n",
       "      <th>632</th>\n",
       "      <td>1.0</td>\n",
       "      <td>1.0</td>\n",
       "      <td>1</td>\n",
       "    </tr>\n",
       "    <tr>\n",
       "      <th>633</th>\n",
       "      <td>1.0</td>\n",
       "      <td>1.0</td>\n",
       "      <td>1</td>\n",
       "    </tr>\n",
       "  </tbody>\n",
       "</table>\n",
       "<p>631 rows × 3 columns</p>\n",
       "</div>"
      ],
      "text/plain": [
       "     count_order(t-2)  count_order(t-1)  count_order(t)\n",
       "2                 1.0               1.0               1\n",
       "3                 1.0               1.0               1\n",
       "4                 1.0               1.0               1\n",
       "5                 1.0               1.0               8\n",
       "6                 1.0               8.0              63\n",
       "..                ...               ...             ...\n",
       "629               1.0               1.0               1\n",
       "630               1.0               1.0               1\n",
       "631               1.0               1.0               1\n",
       "632               1.0               1.0               1\n",
       "633               1.0               1.0               1\n",
       "\n",
       "[631 rows x 3 columns]"
      ]
     },
     "execution_count": 12,
     "metadata": {},
     "output_type": "execute_result"
    }
   ],
   "source": [
    "t_ = t0[t0['count_order(t)'] < 1176]\n",
    "t_"
   ]
  },
  {
   "cell_type": "markdown",
   "id": "93f5a214",
   "metadata": {},
   "source": [
    "## MLP Regressor"
   ]
  },
  {
   "cell_type": "code",
   "execution_count": 13,
   "id": "6d9a9ad3",
   "metadata": {},
   "outputs": [],
   "source": [
    "from sklearn.neural_network import MLPRegressor\n",
    "from sklearn.metrics import median_absolute_error, mean_absolute_error\n",
    "from sklearn.model_selection import train_test_split"
   ]
  },
  {
   "cell_type": "markdown",
   "id": "e6c4acab",
   "metadata": {},
   "source": [
    "splitnya jangan random<br>\n",
    "cek overfit"
   ]
  },
  {
   "cell_type": "code",
   "execution_count": 14,
   "id": "3aa440ac",
   "metadata": {},
   "outputs": [],
   "source": [
    "X = t_[['count_order(t-2)', 'count_order(t-1)']]\n",
    "y = t_['count_order(t)']\n",
    "X_train, X_test, y_train, y_test = train_test_split(X, y, test_size=0.1, random_state=1)"
   ]
  },
  {
   "cell_type": "code",
   "execution_count": 15,
   "id": "b2602511",
   "metadata": {},
   "outputs": [],
   "source": [
    "mlpr = MLPRegressor(\n",
    "            hidden_layer_sizes=(100,30),\n",
    "            activation='relu',\n",
    "            solver='lbfgs',\n",
    "            learning_rate='constant',\n",
    "            learning_rate_init=0.001,\n",
    "            max_iter=1000)"
   ]
  },
  {
   "cell_type": "code",
   "execution_count": 16,
   "id": "73356444",
   "metadata": {},
   "outputs": [
    {
     "data": {
      "text/plain": [
       "MLPRegressor(hidden_layer_sizes=(100, 30), max_iter=1000, solver='lbfgs')"
      ]
     },
     "execution_count": 16,
     "metadata": {},
     "output_type": "execute_result"
    }
   ],
   "source": [
    "mlpr.fit(X_train, y_train)"
   ]
  },
  {
   "cell_type": "code",
   "execution_count": 17,
   "id": "841426c6",
   "metadata": {},
   "outputs": [],
   "source": [
    "y_pred = mlpr.predict(X_test)"
   ]
  },
  {
   "cell_type": "markdown",
   "id": "c43965b0",
   "metadata": {},
   "source": [
    "### Evaluation"
   ]
  },
  {
   "cell_type": "code",
   "execution_count": 18,
   "id": "7f89179d",
   "metadata": {},
   "outputs": [],
   "source": [
    "med_ae = median_absolute_error(y_test, y_pred)\n",
    "mae = mean_absolute_error(y_test, y_pred)"
   ]
  },
  {
   "cell_type": "code",
   "execution_count": 19,
   "id": "feb875a3",
   "metadata": {},
   "outputs": [
    {
     "data": {
      "text/plain": [
       "16.79058156949563"
      ]
     },
     "execution_count": 19,
     "metadata": {},
     "output_type": "execute_result"
    }
   ],
   "source": [
    "med_ae"
   ]
  },
  {
   "cell_type": "code",
   "execution_count": 20,
   "id": "e7ffe3c6",
   "metadata": {},
   "outputs": [
    {
     "data": {
      "text/plain": [
       "24.27077343734721"
      ]
     },
     "execution_count": 20,
     "metadata": {},
     "output_type": "execute_result"
    }
   ],
   "source": [
    "mae"
   ]
  },
  {
   "cell_type": "markdown",
   "id": "e702c321",
   "metadata": {},
   "source": [
    "## Support Vector Regression"
   ]
  },
  {
   "cell_type": "code",
   "execution_count": 21,
   "id": "861aabe9",
   "metadata": {},
   "outputs": [],
   "source": [
    "from sklearn.svm import LinearSVR"
   ]
  },
  {
   "cell_type": "code",
   "execution_count": 22,
   "id": "94fa7b96",
   "metadata": {},
   "outputs": [
    {
     "data": {
      "text/plain": [
       "LinearSVR(max_iter=100000)"
      ]
     },
     "execution_count": 22,
     "metadata": {},
     "output_type": "execute_result"
    }
   ],
   "source": [
    "linear_svr = LinearSVR(tol=1e-4, max_iter=100000)\n",
    "linear_svr.fit(X_train, y_train)"
   ]
  },
  {
   "cell_type": "code",
   "execution_count": 23,
   "id": "d656fd90",
   "metadata": {},
   "outputs": [],
   "source": [
    "y_pred = linear_svr.predict(X_test)"
   ]
  },
  {
   "cell_type": "code",
   "execution_count": 24,
   "id": "30856e2b",
   "metadata": {},
   "outputs": [],
   "source": [
    "med_ae = median_absolute_error(y_test, y_pred)\n",
    "mae = mean_absolute_error(y_test, y_pred)"
   ]
  },
  {
   "cell_type": "code",
   "execution_count": 25,
   "id": "afcf8b4e",
   "metadata": {},
   "outputs": [
    {
     "data": {
      "text/plain": [
       "13.780323020809135"
      ]
     },
     "execution_count": 25,
     "metadata": {},
     "output_type": "execute_result"
    }
   ],
   "source": [
    "med_ae"
   ]
  },
  {
   "cell_type": "code",
   "execution_count": 26,
   "id": "889bcdec",
   "metadata": {},
   "outputs": [
    {
     "data": {
      "text/plain": [
       "23.01582441286608"
      ]
     },
     "execution_count": 26,
     "metadata": {},
     "output_type": "execute_result"
    }
   ],
   "source": [
    "mae"
   ]
  },
  {
   "cell_type": "markdown",
   "id": "845cdf8a",
   "metadata": {},
   "source": [
    "## SGD Regressor"
   ]
  },
  {
   "cell_type": "code",
   "execution_count": 27,
   "id": "47b9da24",
   "metadata": {},
   "outputs": [],
   "source": [
    "from sklearn.linear_model import SGDRegressor\n",
    "from sklearn.preprocessing import StandardScaler"
   ]
  },
  {
   "cell_type": "code",
   "execution_count": 28,
   "id": "89059bf5",
   "metadata": {},
   "outputs": [
    {
     "data": {
      "text/plain": [
       "Pipeline(steps=[('standardscaler', StandardScaler()),\n",
       "                ('sgdregressor',\n",
       "                 SGDRegressor(alpha=0.001, learning_rate='optimal',\n",
       "                              max_iter=100000, tol=0.01))])"
      ]
     },
     "execution_count": 28,
     "metadata": {},
     "output_type": "execute_result"
    }
   ],
   "source": [
    "sgdr = SGDRegressor(\n",
    "            loss='squared_loss',\n",
    "            penalty='l2',\n",
    "            eta0=0.01,\n",
    "            alpha=0.001,\n",
    "            learning_rate='optimal',\n",
    "            tol=1e-2,\n",
    "            max_iter=100000)\n",
    "\n",
    "pipeline = make_pipeline(StandardScaler(), sgdr)\n",
    "pipeline.fit(X_train, y_train)"
   ]
  },
  {
   "cell_type": "code",
   "execution_count": 29,
   "id": "93a1cd7f",
   "metadata": {},
   "outputs": [],
   "source": [
    "y_pred = pipeline.predict(X_test)"
   ]
  },
  {
   "cell_type": "code",
   "execution_count": 30,
   "id": "c633310c",
   "metadata": {},
   "outputs": [],
   "source": [
    "med_ae = median_absolute_error(y_test, y_pred)\n",
    "mae = mean_absolute_error(y_test, y_pred)"
   ]
  },
  {
   "cell_type": "code",
   "execution_count": 31,
   "id": "fdca5c95",
   "metadata": {},
   "outputs": [
    {
     "data": {
      "text/plain": [
       "17.03359028854485"
      ]
     },
     "execution_count": 31,
     "metadata": {},
     "output_type": "execute_result"
    }
   ],
   "source": [
    "med_ae"
   ]
  },
  {
   "cell_type": "code",
   "execution_count": 32,
   "id": "84bfdbb1",
   "metadata": {},
   "outputs": [
    {
     "data": {
      "text/plain": [
       "25.987496215847166"
      ]
     },
     "execution_count": 32,
     "metadata": {},
     "output_type": "execute_result"
    }
   ],
   "source": [
    "mae"
   ]
  }
 ],
 "metadata": {
  "environment": {
   "name": "common-cpu.m76",
   "type": "gcloud",
   "uri": "gcr.io/deeplearning-platform-release/base-cpu:m76"
  },
  "kernelspec": {
   "display_name": "Python 3 (ipykernel)",
   "language": "python",
   "name": "python3"
  },
  "language_info": {
   "codemirror_mode": {
    "name": "ipython",
    "version": 3
   },
   "file_extension": ".py",
   "mimetype": "text/x-python",
   "name": "python",
   "nbconvert_exporter": "python",
   "pygments_lexer": "ipython3",
   "version": "3.8.10"
  }
 },
 "nbformat": 4,
 "nbformat_minor": 5
}
