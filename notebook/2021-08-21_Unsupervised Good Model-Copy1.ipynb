{
 "cells": [
  {
   "cell_type": "markdown",
   "id": "dd657561",
   "metadata": {},
   "source": [
    "# Customer RFM Segmentation\n",
    "Customer segmentation used to target shipping cost voucher receiver candidate. As stated on my analysis before, the use of voucher doesn't seem to have any effect on user's satisfaction. However, this strategy may be able to increase user retention. Since the majority of users only order at most 2 times in the span of 2 years this is a severe problem for the ecommerce. Therefore a strategy needed to be laid out to increase user transaction frequency and monetary value."
   ]
  },
  {
   "cell_type": "markdown",
   "id": "b2c09f3d",
   "metadata": {},
   "source": [
    "## Free Shipping Voucher Strategy\n",
    "Shipping cost voucher will be awarded to customer which has lower transaction frequency but relatively higher monetary value. Not only that, but customer will be able to use the voucher only after it fulfill some conditions such as minimum transaction value, applied only to Official Store, or on certain occassion or date."
   ]
  },
  {
   "cell_type": "markdown",
   "id": "62640e2d",
   "metadata": {
    "tags": []
   },
   "source": [
    "## Library Import and Configuration"
   ]
  },
  {
   "cell_type": "code",
   "execution_count": 1,
   "id": "b98ae690",
   "metadata": {},
   "outputs": [],
   "source": [
    "import json\n",
    "import numpy as np\n",
    "import pandas as pd\n",
    "import matplotlib.pyplot as plt\n",
    "from sklearn.decomposition import PCA\n",
    "from sklearn.metrics import silhouette_score\n",
    "\n",
    "# import postgres connection factory utility\n",
    "from util.dbconn import DbConn"
   ]
  },
  {
   "cell_type": "code",
   "execution_count": 2,
   "id": "ad7aef71",
   "metadata": {},
   "outputs": [],
   "source": [
    "WAREHOUSE_CONN = {\n",
    "    'user': 'postgres',\n",
    "    'password': 'qshOke46RvOg0',\n",
    "    'host': '10.182.0.3',\n",
    "    'port': '8084',\n",
    "    'dbname': 'postgres'\n",
    "}"
   ]
  },
  {
   "cell_type": "code",
   "execution_count": 3,
   "id": "5e966ea6",
   "metadata": {},
   "outputs": [],
   "source": [
    "postgres_conn = DbConn(WAREHOUSE_CONN).get_conn()"
   ]
  },
  {
   "cell_type": "markdown",
   "id": "a7eeaac8",
   "metadata": {},
   "source": [
    "## Data Overview"
   ]
  },
  {
   "cell_type": "code",
   "execution_count": 4,
   "id": "fd5dbda9",
   "metadata": {},
   "outputs": [
    {
     "name": "stdout",
     "output_type": "stream",
     "text": [
      "<class 'pandas.core.frame.DataFrame'>\n",
      "RangeIndex: 96097 entries, 0 to 96096\n",
      "Data columns (total 5 columns):\n",
      " #   Column               Non-Null Count  Dtype  \n",
      "---  ------               --------------  -----  \n",
      " 0   user_sk              96097 non-null  int64  \n",
      " 1   total_spending       94983 non-null  float64\n",
      " 2   total_shipping_cost  94983 non-null  float64\n",
      " 3   count_order          94990 non-null  float64\n",
      " 4   last_order_days      94990 non-null  float64\n",
      "dtypes: float64(4), int64(1)\n",
      "memory usage: 3.7 MB\n"
     ]
    },
    {
     "data": {
      "text/plain": [
       "None"
      ]
     },
     "metadata": {},
     "output_type": "display_data"
    },
    {
     "data": {
      "text/html": [
       "<div>\n",
       "<style scoped>\n",
       "    .dataframe tbody tr th:only-of-type {\n",
       "        vertical-align: middle;\n",
       "    }\n",
       "\n",
       "    .dataframe tbody tr th {\n",
       "        vertical-align: top;\n",
       "    }\n",
       "\n",
       "    .dataframe thead th {\n",
       "        text-align: right;\n",
       "    }\n",
       "</style>\n",
       "<table border=\"1\" class=\"dataframe\">\n",
       "  <thead>\n",
       "    <tr style=\"text-align: right;\">\n",
       "      <th></th>\n",
       "      <th>user_sk</th>\n",
       "      <th>total_spending</th>\n",
       "      <th>total_shipping_cost</th>\n",
       "      <th>count_order</th>\n",
       "      <th>last_order_days</th>\n",
       "    </tr>\n",
       "  </thead>\n",
       "  <tbody>\n",
       "    <tr>\n",
       "      <th>0</th>\n",
       "      <td>4</td>\n",
       "      <td>75900.0</td>\n",
       "      <td>15280.0</td>\n",
       "      <td>1.0</td>\n",
       "      <td>470.0</td>\n",
       "    </tr>\n",
       "    <tr>\n",
       "      <th>1</th>\n",
       "      <td>6</td>\n",
       "      <td>29990.0</td>\n",
       "      <td>16110.0</td>\n",
       "      <td>1.0</td>\n",
       "      <td>429.0</td>\n",
       "    </tr>\n",
       "    <tr>\n",
       "      <th>2</th>\n",
       "      <td>7</td>\n",
       "      <td>19990.0</td>\n",
       "      <td>7390.0</td>\n",
       "      <td>1.0</td>\n",
       "      <td>177.0</td>\n",
       "    </tr>\n",
       "    <tr>\n",
       "      <th>3</th>\n",
       "      <td>8</td>\n",
       "      <td>14990.0</td>\n",
       "      <td>7780.0</td>\n",
       "      <td>1.0</td>\n",
       "      <td>279.0</td>\n",
       "    </tr>\n",
       "    <tr>\n",
       "      <th>4</th>\n",
       "      <td>11</td>\n",
       "      <td>1200000.0</td>\n",
       "      <td>37810.0</td>\n",
       "      <td>1.0</td>\n",
       "      <td>415.0</td>\n",
       "    </tr>\n",
       "  </tbody>\n",
       "</table>\n",
       "</div>"
      ],
      "text/plain": [
       "   user_sk  total_spending  total_shipping_cost  count_order  last_order_days\n",
       "0        4         75900.0              15280.0          1.0            470.0\n",
       "1        6         29990.0              16110.0          1.0            429.0\n",
       "2        7         19990.0               7390.0          1.0            177.0\n",
       "3        8         14990.0               7780.0          1.0            279.0\n",
       "4       11       1200000.0              37810.0          1.0            415.0"
      ]
     },
     "metadata": {},
     "output_type": "display_data"
    },
    {
     "data": {
      "text/html": [
       "<div>\n",
       "<style scoped>\n",
       "    .dataframe tbody tr th:only-of-type {\n",
       "        vertical-align: middle;\n",
       "    }\n",
       "\n",
       "    .dataframe tbody tr th {\n",
       "        vertical-align: top;\n",
       "    }\n",
       "\n",
       "    .dataframe thead th {\n",
       "        text-align: right;\n",
       "    }\n",
       "</style>\n",
       "<table border=\"1\" class=\"dataframe\">\n",
       "  <thead>\n",
       "    <tr style=\"text-align: right;\">\n",
       "      <th></th>\n",
       "      <th>user_sk</th>\n",
       "      <th>total_spending</th>\n",
       "      <th>total_shipping_cost</th>\n",
       "      <th>count_order</th>\n",
       "      <th>last_order_days</th>\n",
       "    </tr>\n",
       "  </thead>\n",
       "  <tbody>\n",
       "    <tr>\n",
       "      <th>count</th>\n",
       "      <td>96097.000000</td>\n",
       "      <td>9.498300e+04</td>\n",
       "      <td>9.498300e+04</td>\n",
       "      <td>94990.000000</td>\n",
       "      <td>94990.000000</td>\n",
       "    </tr>\n",
       "    <tr>\n",
       "      <th>mean</th>\n",
       "      <td>48047.999990</td>\n",
       "      <td>1.420748e+05</td>\n",
       "      <td>2.359620e+04</td>\n",
       "      <td>1.033867</td>\n",
       "      <td>288.349479</td>\n",
       "    </tr>\n",
       "    <tr>\n",
       "      <th>std</th>\n",
       "      <td>27740.958764</td>\n",
       "      <td>2.160760e+05</td>\n",
       "      <td>2.287058e+04</td>\n",
       "      <td>0.210826</td>\n",
       "      <td>153.000542</td>\n",
       "    </tr>\n",
       "    <tr>\n",
       "      <th>min</th>\n",
       "      <td>-1.000000</td>\n",
       "      <td>8.500000e+02</td>\n",
       "      <td>0.000000e+00</td>\n",
       "      <td>1.000000</td>\n",
       "      <td>45.000000</td>\n",
       "    </tr>\n",
       "    <tr>\n",
       "      <th>25%</th>\n",
       "      <td>24024.000000</td>\n",
       "      <td>4.790000e+04</td>\n",
       "      <td>1.409000e+04</td>\n",
       "      <td>1.000000</td>\n",
       "      <td>164.000000</td>\n",
       "    </tr>\n",
       "    <tr>\n",
       "      <th>50%</th>\n",
       "      <td>48048.000000</td>\n",
       "      <td>8.989000e+04</td>\n",
       "      <td>1.760000e+04</td>\n",
       "      <td>1.000000</td>\n",
       "      <td>269.000000</td>\n",
       "    </tr>\n",
       "    <tr>\n",
       "      <th>75%</th>\n",
       "      <td>72072.000000</td>\n",
       "      <td>1.550000e+05</td>\n",
       "      <td>2.554000e+04</td>\n",
       "      <td>1.000000</td>\n",
       "      <td>397.000000</td>\n",
       "    </tr>\n",
       "    <tr>\n",
       "      <th>max</th>\n",
       "      <td>96096.000000</td>\n",
       "      <td>1.344000e+07</td>\n",
       "      <td>1.794960e+06</td>\n",
       "      <td>16.000000</td>\n",
       "      <td>774.000000</td>\n",
       "    </tr>\n",
       "  </tbody>\n",
       "</table>\n",
       "</div>"
      ],
      "text/plain": [
       "            user_sk  total_spending  total_shipping_cost   count_order  \\\n",
       "count  96097.000000    9.498300e+04         9.498300e+04  94990.000000   \n",
       "mean   48047.999990    1.420748e+05         2.359620e+04      1.033867   \n",
       "std    27740.958764    2.160760e+05         2.287058e+04      0.210826   \n",
       "min       -1.000000    8.500000e+02         0.000000e+00      1.000000   \n",
       "25%    24024.000000    4.790000e+04         1.409000e+04      1.000000   \n",
       "50%    48048.000000    8.989000e+04         1.760000e+04      1.000000   \n",
       "75%    72072.000000    1.550000e+05         2.554000e+04      1.000000   \n",
       "max    96096.000000    1.344000e+07         1.794960e+06     16.000000   \n",
       "\n",
       "       last_order_days  \n",
       "count     94990.000000  \n",
       "mean        288.349479  \n",
       "std         153.000542  \n",
       "min          45.000000  \n",
       "25%         164.000000  \n",
       "50%         269.000000  \n",
       "75%         397.000000  \n",
       "max         774.000000  "
      ]
     },
     "metadata": {},
     "output_type": "display_data"
    }
   ],
   "source": [
    "customer_rfm_query = \"\"\"SELECT \n",
    "\tud.user_sk,\n",
    "\tmcmv.total_spending,\n",
    "\tmcmv.total_shipping_cost,\n",
    "\tmcof.count_order,\n",
    "\tEXTRACT(epoch FROM mcr.last_order_interval/86400)::int8 AS last_order_days\n",
    "FROM \n",
    "\twarehouse.user_dim ud \n",
    "LEFT JOIN warehouse.mart_customer_monetary_value mcmv ON\n",
    "\tud.user_sk = mcmv.user_sk\n",
    "LEFT JOIN warehouse.mart_customer_order_frequency mcof ON\n",
    "\tud.user_sk = mcof.user_sk\n",
    "LEFT JOIN warehouse.mart_customer_recency mcr ON\n",
    "\tud.user_sk = mcr.user_sk;\"\"\"\n",
    "customer_rfm = pd.read_sql(customer_rfm_query, con=postgres_conn)\n",
    "display(customer_rfm.info())\n",
    "display(customer_rfm.head(5))\n",
    "display(customer_rfm.describe())"
   ]
  },
  {
   "cell_type": "markdown",
   "id": "f3a1218a",
   "metadata": {},
   "source": [
    "### Check for Null Value"
   ]
  },
  {
   "cell_type": "code",
   "execution_count": 5,
   "id": "a067e904",
   "metadata": {},
   "outputs": [
    {
     "data": {
      "text/plain": [
       "user_sk                   0\n",
       "total_spending         1114\n",
       "total_shipping_cost    1114\n",
       "count_order            1107\n",
       "last_order_days        1107\n",
       "dtype: int64"
      ]
     },
     "execution_count": 5,
     "metadata": {},
     "output_type": "execute_result"
    }
   ],
   "source": [
    "customer_rfm.isnull().sum()"
   ]
  },
  {
   "cell_type": "markdown",
   "id": "4b824c4a",
   "metadata": {},
   "source": [
    "## Exploratory Data Analysis"
   ]
  },
  {
   "cell_type": "markdown",
   "id": "7839033b",
   "metadata": {},
   "source": [
    "### Order Frequency"
   ]
  },
  {
   "cell_type": "code",
   "execution_count": 6,
   "id": "65ac68a3",
   "metadata": {},
   "outputs": [
    {
     "data": {
      "text/html": [
       "<div>\n",
       "<style scoped>\n",
       "    .dataframe tbody tr th:only-of-type {\n",
       "        vertical-align: middle;\n",
       "    }\n",
       "\n",
       "    .dataframe tbody tr th {\n",
       "        vertical-align: top;\n",
       "    }\n",
       "\n",
       "    .dataframe thead th {\n",
       "        text-align: right;\n",
       "    }\n",
       "</style>\n",
       "<table border=\"1\" class=\"dataframe\">\n",
       "  <thead>\n",
       "    <tr style=\"text-align: right;\">\n",
       "      <th></th>\n",
       "      <th>count_order</th>\n",
       "      <th>user_sk</th>\n",
       "    </tr>\n",
       "  </thead>\n",
       "  <tbody>\n",
       "    <tr>\n",
       "      <th>0</th>\n",
       "      <td>1.0</td>\n",
       "      <td>92102</td>\n",
       "    </tr>\n",
       "    <tr>\n",
       "      <th>1</th>\n",
       "      <td>2.0</td>\n",
       "      <td>2652</td>\n",
       "    </tr>\n",
       "    <tr>\n",
       "      <th>2</th>\n",
       "      <td>3.0</td>\n",
       "      <td>188</td>\n",
       "    </tr>\n",
       "    <tr>\n",
       "      <th>3</th>\n",
       "      <td>4.0</td>\n",
       "      <td>29</td>\n",
       "    </tr>\n",
       "    <tr>\n",
       "      <th>4</th>\n",
       "      <td>5.0</td>\n",
       "      <td>9</td>\n",
       "    </tr>\n",
       "    <tr>\n",
       "      <th>5</th>\n",
       "      <td>6.0</td>\n",
       "      <td>5</td>\n",
       "    </tr>\n",
       "    <tr>\n",
       "      <th>6</th>\n",
       "      <td>7.0</td>\n",
       "      <td>3</td>\n",
       "    </tr>\n",
       "    <tr>\n",
       "      <th>7</th>\n",
       "      <td>9.0</td>\n",
       "      <td>1</td>\n",
       "    </tr>\n",
       "    <tr>\n",
       "      <th>8</th>\n",
       "      <td>16.0</td>\n",
       "      <td>1</td>\n",
       "    </tr>\n",
       "  </tbody>\n",
       "</table>\n",
       "</div>"
      ],
      "text/plain": [
       "   count_order  user_sk\n",
       "0          1.0    92102\n",
       "1          2.0     2652\n",
       "2          3.0      188\n",
       "3          4.0       29\n",
       "4          5.0        9\n",
       "5          6.0        5\n",
       "6          7.0        3\n",
       "7          9.0        1\n",
       "8         16.0        1"
      ]
     },
     "metadata": {},
     "output_type": "display_data"
    },
    {
     "data": {
      "image/png": "[encoded data removed]",
      "text/plain": [
       "<Figure size 432x288 with 1 Axes>"
      ]
     },
     "metadata": {
      "needs_background": "light"
     },
     "output_type": "display_data"
    }
   ],
   "source": [
    "fig, ax = plt.subplots()\n",
    "t1 = customer_rfm.loc[:, ['user_sk', 'count_order']] \\\n",
    "        .groupby('count_order', as_index=False).count()\n",
    "ax.bar(t1['count_order'], t1['user_sk'])\n",
    "ax.set_title('Order Frequency Count')\n",
    "ax.set_xlabel('Order Frequency')\n",
    "ax.set_ylabel('Order Count')\n",
    "\n",
    "display(t1)\n",
    "plt.show()"
   ]
  },
  {
   "cell_type": "markdown",
   "id": "72dc4da9",
   "metadata": {},
   "source": [
    "### Order Recency"
   ]
  },
  {
   "cell_type": "code",
   "execution_count": 7,
   "id": "0775c86a",
   "metadata": {},
   "outputs": [
    {
     "data": {
      "image/png": "[encoded data removed]",
      "text/plain": [
       "<Figure size 432x288 with 1 Axes>"
      ]
     },
     "metadata": {
      "needs_background": "light"
     },
     "output_type": "display_data"
    },
    {
     "data": {
      "text/html": [
       "<div>\n",
       "<style scoped>\n",
       "    .dataframe tbody tr th:only-of-type {\n",
       "        vertical-align: middle;\n",
       "    }\n",
       "\n",
       "    .dataframe tbody tr th {\n",
       "        vertical-align: top;\n",
       "    }\n",
       "\n",
       "    .dataframe thead th {\n",
       "        text-align: right;\n",
       "    }\n",
       "</style>\n",
       "<table border=\"1\" class=\"dataframe\">\n",
       "  <thead>\n",
       "    <tr style=\"text-align: right;\">\n",
       "      <th></th>\n",
       "      <th>days_since_last_order</th>\n",
       "      <th>count_order</th>\n",
       "    </tr>\n",
       "  </thead>\n",
       "  <tbody>\n",
       "    <tr>\n",
       "      <th>0</th>\n",
       "      <td>45.0</td>\n",
       "      <td>1</td>\n",
       "    </tr>\n",
       "    <tr>\n",
       "      <th>1</th>\n",
       "      <td>50.0</td>\n",
       "      <td>11</td>\n",
       "    </tr>\n",
       "    <tr>\n",
       "      <th>2</th>\n",
       "      <td>51.0</td>\n",
       "      <td>39</td>\n",
       "    </tr>\n",
       "    <tr>\n",
       "      <th>3</th>\n",
       "      <td>52.0</td>\n",
       "      <td>66</td>\n",
       "    </tr>\n",
       "    <tr>\n",
       "      <th>4</th>\n",
       "      <td>53.0</td>\n",
       "      <td>73</td>\n",
       "    </tr>\n",
       "    <tr>\n",
       "      <th>5</th>\n",
       "      <td>54.0</td>\n",
       "      <td>69</td>\n",
       "    </tr>\n",
       "    <tr>\n",
       "      <th>6</th>\n",
       "      <td>55.0</td>\n",
       "      <td>96</td>\n",
       "    </tr>\n",
       "    <tr>\n",
       "      <th>7</th>\n",
       "      <td>56.0</td>\n",
       "      <td>142</td>\n",
       "    </tr>\n",
       "    <tr>\n",
       "      <th>8</th>\n",
       "      <td>57.0</td>\n",
       "      <td>184</td>\n",
       "    </tr>\n",
       "    <tr>\n",
       "      <th>9</th>\n",
       "      <td>58.0</td>\n",
       "      <td>239</td>\n",
       "    </tr>\n",
       "    <tr>\n",
       "      <th>10</th>\n",
       "      <td>59.0</td>\n",
       "      <td>252</td>\n",
       "    </tr>\n",
       "    <tr>\n",
       "      <th>11</th>\n",
       "      <td>60.0</td>\n",
       "      <td>202</td>\n",
       "    </tr>\n",
       "    <tr>\n",
       "      <th>12</th>\n",
       "      <td>61.0</td>\n",
       "      <td>195</td>\n",
       "    </tr>\n",
       "    <tr>\n",
       "      <th>13</th>\n",
       "      <td>62.0</td>\n",
       "      <td>251</td>\n",
       "    </tr>\n",
       "    <tr>\n",
       "      <th>14</th>\n",
       "      <td>63.0</td>\n",
       "      <td>315</td>\n",
       "    </tr>\n",
       "  </tbody>\n",
       "</table>\n",
       "</div>"
      ],
      "text/plain": [
       "    days_since_last_order  count_order\n",
       "0                    45.0            1\n",
       "1                    50.0           11\n",
       "2                    51.0           39\n",
       "3                    52.0           66\n",
       "4                    53.0           73\n",
       "5                    54.0           69\n",
       "6                    55.0           96\n",
       "7                    56.0          142\n",
       "8                    57.0          184\n",
       "9                    58.0          239\n",
       "10                   59.0          252\n",
       "11                   60.0          202\n",
       "12                   61.0          195\n",
       "13                   62.0          251\n",
       "14                   63.0          315"
      ]
     },
     "metadata": {},
     "output_type": "display_data"
    }
   ],
   "source": [
    "fig, ax = plt.subplots()\n",
    "t1 = customer_rfm.loc[:, ['user_sk', 'last_order_days']] \\\n",
    "        .groupby('last_order_days', as_index=False).count()\n",
    "ax.bar(t1['last_order_days'], t1['user_sk'])\n",
    "ax.set_title('Days Since Last Order Distribution')\n",
    "ax.set_xlabel('Last Order Days')\n",
    "ax.set_ylabel('Order Count')\n",
    "\n",
    "plt.show()\n",
    "t1.columns = ['days_since_last_order', 'count_order']\n",
    "display(t1.head(15))"
   ]
  },
  {
   "cell_type": "markdown",
   "id": "970d015d",
   "metadata": {},
   "source": [
    "### Monetary Value"
   ]
  },
  {
   "cell_type": "code",
   "execution_count": 8,
   "id": "c64cd538",
   "metadata": {},
   "outputs": [
    {
     "data": {
      "text/html": [
       "<div>\n",
       "<style scoped>\n",
       "    .dataframe tbody tr th:only-of-type {\n",
       "        vertical-align: middle;\n",
       "    }\n",
       "\n",
       "    .dataframe tbody tr th {\n",
       "        vertical-align: top;\n",
       "    }\n",
       "\n",
       "    .dataframe thead th {\n",
       "        text-align: right;\n",
       "    }\n",
       "</style>\n",
       "<table border=\"1\" class=\"dataframe\">\n",
       "  <thead>\n",
       "    <tr style=\"text-align: right;\">\n",
       "      <th></th>\n",
       "      <th>user_sk</th>\n",
       "      <th>total_spending</th>\n",
       "      <th>total_shipping_cost</th>\n",
       "      <th>count_order</th>\n",
       "      <th>last_order_days</th>\n",
       "    </tr>\n",
       "  </thead>\n",
       "  <tbody>\n",
       "    <tr>\n",
       "      <th>0</th>\n",
       "      <td>4</td>\n",
       "      <td>75900.0</td>\n",
       "      <td>15280.0</td>\n",
       "      <td>1.0</td>\n",
       "      <td>470.0</td>\n",
       "    </tr>\n",
       "    <tr>\n",
       "      <th>1</th>\n",
       "      <td>6</td>\n",
       "      <td>29990.0</td>\n",
       "      <td>16110.0</td>\n",
       "      <td>1.0</td>\n",
       "      <td>429.0</td>\n",
       "    </tr>\n",
       "    <tr>\n",
       "      <th>2</th>\n",
       "      <td>7</td>\n",
       "      <td>19990.0</td>\n",
       "      <td>7390.0</td>\n",
       "      <td>1.0</td>\n",
       "      <td>177.0</td>\n",
       "    </tr>\n",
       "    <tr>\n",
       "      <th>3</th>\n",
       "      <td>8</td>\n",
       "      <td>14990.0</td>\n",
       "      <td>7780.0</td>\n",
       "      <td>1.0</td>\n",
       "      <td>279.0</td>\n",
       "    </tr>\n",
       "    <tr>\n",
       "      <th>4</th>\n",
       "      <td>11</td>\n",
       "      <td>1200000.0</td>\n",
       "      <td>37810.0</td>\n",
       "      <td>1.0</td>\n",
       "      <td>415.0</td>\n",
       "    </tr>\n",
       "    <tr>\n",
       "      <th>...</th>\n",
       "      <td>...</td>\n",
       "      <td>...</td>\n",
       "      <td>...</td>\n",
       "      <td>...</td>\n",
       "      <td>...</td>\n",
       "    </tr>\n",
       "    <tr>\n",
       "      <th>96092</th>\n",
       "      <td>96091</td>\n",
       "      <td>29000.0</td>\n",
       "      <td>15100.0</td>\n",
       "      <td>1.0</td>\n",
       "      <td>276.0</td>\n",
       "    </tr>\n",
       "    <tr>\n",
       "      <th>96093</th>\n",
       "      <td>96092</td>\n",
       "      <td>299900.0</td>\n",
       "      <td>14400.0</td>\n",
       "      <td>1.0</td>\n",
       "      <td>62.0</td>\n",
       "    </tr>\n",
       "    <tr>\n",
       "      <th>96094</th>\n",
       "      <td>96093</td>\n",
       "      <td>208000.0</td>\n",
       "      <td>39510.0</td>\n",
       "      <td>1.0</td>\n",
       "      <td>156.0</td>\n",
       "    </tr>\n",
       "    <tr>\n",
       "      <th>96095</th>\n",
       "      <td>96095</td>\n",
       "      <td>969990.0</td>\n",
       "      <td>51250.0</td>\n",
       "      <td>1.0</td>\n",
       "      <td>472.0</td>\n",
       "    </tr>\n",
       "    <tr>\n",
       "      <th>96096</th>\n",
       "      <td>96096</td>\n",
       "      <td>99000.0</td>\n",
       "      <td>22620.0</td>\n",
       "      <td>1.0</td>\n",
       "      <td>75.0</td>\n",
       "    </tr>\n",
       "  </tbody>\n",
       "</table>\n",
       "<p>96097 rows × 5 columns</p>\n",
       "</div>"
      ],
      "text/plain": [
       "       user_sk  total_spending  total_shipping_cost  count_order  \\\n",
       "0            4         75900.0              15280.0          1.0   \n",
       "1            6         29990.0              16110.0          1.0   \n",
       "2            7         19990.0               7390.0          1.0   \n",
       "3            8         14990.0               7780.0          1.0   \n",
       "4           11       1200000.0              37810.0          1.0   \n",
       "...        ...             ...                  ...          ...   \n",
       "96092    96091         29000.0              15100.0          1.0   \n",
       "96093    96092        299900.0              14400.0          1.0   \n",
       "96094    96093        208000.0              39510.0          1.0   \n",
       "96095    96095        969990.0              51250.0          1.0   \n",
       "96096    96096         99000.0              22620.0          1.0   \n",
       "\n",
       "       last_order_days  \n",
       "0                470.0  \n",
       "1                429.0  \n",
       "2                177.0  \n",
       "3                279.0  \n",
       "4                415.0  \n",
       "...                ...  \n",
       "96092            276.0  \n",
       "96093             62.0  \n",
       "96094            156.0  \n",
       "96095            472.0  \n",
       "96096             75.0  \n",
       "\n",
       "[96097 rows x 5 columns]"
      ]
     },
     "execution_count": 8,
     "metadata": {},
     "output_type": "execute_result"
    }
   ],
   "source": [
    "customer_rfm"
   ]
  },
  {
   "cell_type": "code",
   "execution_count": 9,
   "id": "c5d82881",
   "metadata": {
    "tags": []
   },
   "outputs": [
    {
     "data": {
      "image/png": "[encoded data removed]",
      "text/plain": [
       "<Figure size 432x288 with 1 Axes>"
      ]
     },
     "metadata": {
      "needs_background": "light"
     },
     "output_type": "display_data"
    }
   ],
   "source": [
    "fig, ax = plt.subplots()\n",
    "\n",
    "ax.hist(customer_rfm['total_spending'], bins=100)\n",
    "ax.set_title('Customer Monetary Value')\n",
    "ax.set_xlabel('Total Spending')\n",
    "ax.set_ylabel('Count')\n",
    "\n",
    "plt.show()"
   ]
  },
  {
   "cell_type": "code",
   "execution_count": 10,
   "id": "9f290b66",
   "metadata": {
    "tags": []
   },
   "outputs": [
    {
     "data": {
      "text/html": [
       "<div>\n",
       "<style scoped>\n",
       "    .dataframe tbody tr th:only-of-type {\n",
       "        vertical-align: middle;\n",
       "    }\n",
       "\n",
       "    .dataframe tbody tr th {\n",
       "        vertical-align: top;\n",
       "    }\n",
       "\n",
       "    .dataframe thead th {\n",
       "        text-align: right;\n",
       "    }\n",
       "</style>\n",
       "<table border=\"1\" class=\"dataframe\">\n",
       "  <thead>\n",
       "    <tr style=\"text-align: right;\">\n",
       "      <th></th>\n",
       "      <th>monetary_value</th>\n",
       "      <th>user_sk</th>\n",
       "    </tr>\n",
       "  </thead>\n",
       "  <tbody>\n",
       "    <tr>\n",
       "      <th>0</th>\n",
       "      <td>0.0</td>\n",
       "      <td>966</td>\n",
       "    </tr>\n",
       "    <tr>\n",
       "      <th>1</th>\n",
       "      <td>1.0</td>\n",
       "      <td>934</td>\n",
       "    </tr>\n",
       "    <tr>\n",
       "      <th>2</th>\n",
       "      <td>2.0</td>\n",
       "      <td>1048</td>\n",
       "    </tr>\n",
       "    <tr>\n",
       "      <th>3</th>\n",
       "      <td>3.0</td>\n",
       "      <td>865</td>\n",
       "    </tr>\n",
       "    <tr>\n",
       "      <th>4</th>\n",
       "      <td>4.0</td>\n",
       "      <td>948</td>\n",
       "    </tr>\n",
       "    <tr>\n",
       "      <th>...</th>\n",
       "      <td>...</td>\n",
       "      <td>...</td>\n",
       "    </tr>\n",
       "    <tr>\n",
       "      <th>93</th>\n",
       "      <td>93.0</td>\n",
       "      <td>951</td>\n",
       "    </tr>\n",
       "    <tr>\n",
       "      <th>94</th>\n",
       "      <td>94.0</td>\n",
       "      <td>940</td>\n",
       "    </tr>\n",
       "    <tr>\n",
       "      <th>95</th>\n",
       "      <td>95.0</td>\n",
       "      <td>953</td>\n",
       "    </tr>\n",
       "    <tr>\n",
       "      <th>96</th>\n",
       "      <td>96.0</td>\n",
       "      <td>947</td>\n",
       "    </tr>\n",
       "    <tr>\n",
       "      <th>97</th>\n",
       "      <td>97.0</td>\n",
       "      <td>949</td>\n",
       "    </tr>\n",
       "  </tbody>\n",
       "</table>\n",
       "<p>98 rows × 2 columns</p>\n",
       "</div>"
      ],
      "text/plain": [
       "    monetary_value  user_sk\n",
       "0              0.0      966\n",
       "1              1.0      934\n",
       "2              2.0     1048\n",
       "3              3.0      865\n",
       "4              4.0      948\n",
       "..             ...      ...\n",
       "93            93.0      951\n",
       "94            94.0      940\n",
       "95            95.0      953\n",
       "96            96.0      947\n",
       "97            97.0      949\n",
       "\n",
       "[98 rows x 2 columns]"
      ]
     },
     "metadata": {},
     "output_type": "display_data"
    },
    {
     "data": {
      "image/png": "[encoded data removed]",
      "text/plain": [
       "<Figure size 432x288 with 1 Axes>"
      ]
     },
     "metadata": {
      "needs_background": "light"
     },
     "output_type": "display_data"
    }
   ],
   "source": [
    "fig, ax = plt.subplots()\n",
    "\n",
    "t0 = customer_rfm.copy()\n",
    "\n",
    "t0['monetary_value'] = pd.qcut(customer_rfm['total_spending'], q=100, labels=False, duplicates='drop')\n",
    "t1 = t0.loc[:, ['user_sk', 'monetary_value']] \\\n",
    "        .groupby('monetary_value', as_index=False).count()\n",
    "ax.bar(t1['monetary_value'], t1['user_sk'])\n",
    "ax.set_title('Monetary Value')\n",
    "ax.set_xlabel('Total Spending')\n",
    "ax.set_ylabel('User Count')\n",
    "\n",
    "display(t1)\n",
    "plt.show()"
   ]
  },
  {
   "cell_type": "markdown",
   "id": "4fff2e08",
   "metadata": {},
   "source": [
    "## Baseline Model\n",
    "Manually assigned RFM score based on percentile.\n",
    "<table>\n",
    "    <tr>\n",
    "        <th>Recency</th>\n",
    "        <th>Frequency</th>\n",
    "        <th>Monetary</th>\n",
    "    </tr>\n",
    "    <tr>\n",
    "        <td>R-Tier-1 (most recent)</td>\n",
    "        <td>F-Tier-1 (most frequent)</td>\n",
    "        <td>M-Tier-1 (highest spend)</td>\n",
    "    </tr>\n",
    "    <tr>\n",
    "        <td>R-Tier-2</td>\n",
    "        <td>F-Tier-2</td>\n",
    "        <td>M-Tier-2</td>\n",
    "    </tr>\n",
    "    <tr>\n",
    "        <td>R-Tier-3</td>\n",
    "        <td>F-Tier-3</td>\n",
    "        <td>M-Tier-3</td>\n",
    "    </tr>\n",
    "    <tr>\n",
    "        <td>R-Tier-4 (least recent)</td>\n",
    "        <td>F-Tier-4 (least frequent)</td>\n",
    "        <td>M-Tier-4 (lowest spend)</td>\n",
    "    </tr>\n",
    "</table>\n",
    "Reiterating the goals again, the strategy prefer customer which has lower frequency but relatively higher monetary value. Below are the segment name assignment based on customer RFM score:<br>\n",
    "<table>\n",
    "<thead>\n",
    "  <tr>\n",
    "    <th>R</th>\n",
    "    <th>F</th>\n",
    "    <th>M</th>\n",
    "    <th>Customer Segment</th>\n",
    "  </tr>\n",
    "</thead>\n",
    "<tbody>\n",
    "  <tr>\n",
    "    <td>1-2</td>\n",
    "    <td>1-4</td>\n",
    "    <td>1-2</td>\n",
    "    <td>High-spending Active Customer **</td>\n",
    "  </tr>\n",
    "  <tr>\n",
    "    <td>1-2</td>\n",
    "    <td>1-4</td>\n",
    "    <td>3-4</td>\n",
    "    <td>Low-spending Active Customer *</td>\n",
    "  </tr>\n",
    "  <tr>\n",
    "    <td>3-4</td>\n",
    "    <td>1-4</td>\n",
    "    <td>1-2</td>\n",
    "    <td>Churned High-spending Customer **</td>\n",
    "  </tr>\n",
    "  <tr>\n",
    "    <td>3-4</td>\n",
    "    <td>1-4</td>\n",
    "    <td>3-4</td>\n",
    "    <td>Churned Low-spending Customer *</td>\n",
    "  </tr>\n",
    "</tbody>\n",
    "</table>\n",
    "<b>Note:</b><br>\n",
    "** The best candidate to receive free shipping voucher is marked with double asterisk<br>\n",
    "* The second best candidate is marked with single asterisk"
   ]
  },
  {
   "cell_type": "code",
   "execution_count": 11,
   "id": "fc729c28",
   "metadata": {
    "tags": []
   },
   "outputs": [
    {
     "name": "stdout",
     "output_type": "stream",
     "text": [
      "<class 'pandas.core.frame.DataFrame'>\n",
      "RangeIndex: 96097 entries, 0 to 96096\n",
      "Data columns (total 5 columns):\n",
      " #   Column               Non-Null Count  Dtype  \n",
      "---  ------               --------------  -----  \n",
      " 0   user_sk              96097 non-null  int64  \n",
      " 1   total_spending       94983 non-null  float64\n",
      " 2   total_shipping_cost  94983 non-null  float64\n",
      " 3   count_order          94990 non-null  float64\n",
      " 4   last_order_days      94990 non-null  float64\n",
      "dtypes: float64(4), int64(1)\n",
      "memory usage: 3.7 MB\n"
     ]
    }
   ],
   "source": [
    "rfm = customer_rfm.copy()\n",
    "rfm.info()"
   ]
  },
  {
   "cell_type": "markdown",
   "id": "c8191c33",
   "metadata": {},
   "source": [
    "### Drop Null Values"
   ]
  },
  {
   "cell_type": "code",
   "execution_count": 12,
   "id": "97d1e2ac",
   "metadata": {},
   "outputs": [
    {
     "data": {
      "text/plain": [
       "user_sk                0\n",
       "total_spending         0\n",
       "total_shipping_cost    0\n",
       "count_order            0\n",
       "last_order_days        0\n",
       "dtype: int64"
      ]
     },
     "execution_count": 12,
     "metadata": {},
     "output_type": "execute_result"
    }
   ],
   "source": [
    "rfm = rfm.dropna()\n",
    "rfm.isnull().sum()"
   ]
  },
  {
   "cell_type": "markdown",
   "id": "b9bcc69d",
   "metadata": {},
   "source": [
    "## Assign RFM Tier"
   ]
  },
  {
   "cell_type": "markdown",
   "id": "76c93e38",
   "metadata": {},
   "source": [
    "### Recency Tier"
   ]
  },
  {
   "cell_type": "code",
   "execution_count": 13,
   "id": "cce58d35",
   "metadata": {
    "tags": []
   },
   "outputs": [
    {
     "data": {
      "text/html": [
       "<div>\n",
       "<style scoped>\n",
       "    .dataframe tbody tr th:only-of-type {\n",
       "        vertical-align: middle;\n",
       "    }\n",
       "\n",
       "    .dataframe tbody tr th {\n",
       "        vertical-align: top;\n",
       "    }\n",
       "\n",
       "    .dataframe thead th {\n",
       "        text-align: right;\n",
       "    }\n",
       "</style>\n",
       "<table border=\"1\" class=\"dataframe\">\n",
       "  <thead>\n",
       "    <tr style=\"text-align: right;\">\n",
       "      <th></th>\n",
       "      <th>recency_tier</th>\n",
       "      <th>user_sk</th>\n",
       "    </tr>\n",
       "  </thead>\n",
       "  <tbody>\n",
       "    <tr>\n",
       "      <th>0</th>\n",
       "      <td>1</td>\n",
       "      <td>23796</td>\n",
       "    </tr>\n",
       "    <tr>\n",
       "      <th>1</th>\n",
       "      <td>2</td>\n",
       "      <td>23815</td>\n",
       "    </tr>\n",
       "    <tr>\n",
       "      <th>2</th>\n",
       "      <td>3</td>\n",
       "      <td>23645</td>\n",
       "    </tr>\n",
       "    <tr>\n",
       "      <th>3</th>\n",
       "      <td>4</td>\n",
       "      <td>23727</td>\n",
       "    </tr>\n",
       "  </tbody>\n",
       "</table>\n",
       "</div>"
      ],
      "text/plain": [
       "  recency_tier  user_sk\n",
       "0            1    23796\n",
       "1            2    23815\n",
       "2            3    23645\n",
       "3            4    23727"
      ]
     },
     "metadata": {},
     "output_type": "display_data"
    },
    {
     "data": {
      "image/png": "[encoded data removed]",
      "text/plain": [
       "<Figure size 432x288 with 1 Axes>"
      ]
     },
     "metadata": {
      "needs_background": "light"
     },
     "output_type": "display_data"
    }
   ],
   "source": [
    "rfm['recency_tier'] = pd.qcut(rfm['last_order_days'], q=4, labels=range(1, 5))\n",
    "\n",
    "fig, ax = plt.subplots()\n",
    "\n",
    "t1 = rfm.loc[:, ['user_sk', 'recency_tier']] \\\n",
    "        .groupby('recency_tier', as_index=False).count()\n",
    "ax.bar(t1['recency_tier'], t1['user_sk'])\n",
    "ax.set_title('Customer Recency Tier')\n",
    "ax.set_xlabel('Recency Tier')\n",
    "ax.set_ylabel('Count')\n",
    "\n",
    "display(t1)\n",
    "plt.show()"
   ]
  },
  {
   "cell_type": "markdown",
   "id": "8cc6e451",
   "metadata": {},
   "source": [
    "### Frequency Tier"
   ]
  },
  {
   "cell_type": "code",
   "execution_count": 14,
   "id": "a1262c50",
   "metadata": {},
   "outputs": [
    {
     "data": {
      "text/html": [
       "<div>\n",
       "<style scoped>\n",
       "    .dataframe tbody tr th:only-of-type {\n",
       "        vertical-align: middle;\n",
       "    }\n",
       "\n",
       "    .dataframe tbody tr th {\n",
       "        vertical-align: top;\n",
       "    }\n",
       "\n",
       "    .dataframe thead th {\n",
       "        text-align: right;\n",
       "    }\n",
       "</style>\n",
       "<table border=\"1\" class=\"dataframe\">\n",
       "  <thead>\n",
       "    <tr style=\"text-align: right;\">\n",
       "      <th></th>\n",
       "      <th>frequency_tier</th>\n",
       "      <th>user_sk</th>\n",
       "    </tr>\n",
       "  </thead>\n",
       "  <tbody>\n",
       "    <tr>\n",
       "      <th>0</th>\n",
       "      <td>1</td>\n",
       "      <td>19</td>\n",
       "    </tr>\n",
       "    <tr>\n",
       "      <th>1</th>\n",
       "      <td>2</td>\n",
       "      <td>217</td>\n",
       "    </tr>\n",
       "    <tr>\n",
       "      <th>2</th>\n",
       "      <td>3</td>\n",
       "      <td>2652</td>\n",
       "    </tr>\n",
       "    <tr>\n",
       "      <th>3</th>\n",
       "      <td>4</td>\n",
       "      <td>92095</td>\n",
       "    </tr>\n",
       "  </tbody>\n",
       "</table>\n",
       "</div>"
      ],
      "text/plain": [
       "   frequency_tier  user_sk\n",
       "0               1       19\n",
       "1               2      217\n",
       "2               3     2652\n",
       "3               4    92095"
      ]
     },
     "metadata": {},
     "output_type": "display_data"
    },
    {
     "data": {
      "image/png": "[encoded data removed]",
      "text/plain": [
       "<Figure size 432x288 with 1 Axes>"
      ]
     },
     "metadata": {
      "needs_background": "light"
     },
     "output_type": "display_data"
    }
   ],
   "source": [
    "rfm.loc[(rfm['count_order'] >= 5) & (rfm['count_order'] <= 16), 'frequency_tier'] = 1\n",
    "rfm.loc[(rfm['count_order'] >= 3) & (rfm['count_order'] <= 4), 'frequency_tier'] = 2\n",
    "rfm.loc[rfm['count_order'] == 2, 'frequency_tier'] = 3\n",
    "rfm.loc[rfm['count_order'] == 1, 'frequency_tier'] = 4\n",
    "\n",
    "rfm['frequency_tier'] = rfm['frequency_tier'].astype('int')\n",
    "\n",
    "fig, ax = plt.subplots()\n",
    "\n",
    "t1 = rfm.loc[:, ['user_sk', 'frequency_tier']] \\\n",
    "        .groupby('frequency_tier', as_index=False).count()\n",
    "ax.bar(t1['frequency_tier'], t1['user_sk'])\n",
    "ax.set_title('Customer Frequency Tier')\n",
    "ax.set_xlabel('Frequency Tier')\n",
    "ax.set_ylabel('Count')\n",
    "\n",
    "display(t1)\n",
    "plt.show()"
   ]
  },
  {
   "cell_type": "markdown",
   "id": "4f51bbfc",
   "metadata": {},
   "source": [
    "### Monetary Tier"
   ]
  },
  {
   "cell_type": "code",
   "execution_count": 15,
   "id": "caff1a61",
   "metadata": {
    "tags": []
   },
   "outputs": [
    {
     "data": {
      "text/html": [
       "<div>\n",
       "<style scoped>\n",
       "    .dataframe tbody tr th:only-of-type {\n",
       "        vertical-align: middle;\n",
       "    }\n",
       "\n",
       "    .dataframe tbody tr th {\n",
       "        vertical-align: top;\n",
       "    }\n",
       "\n",
       "    .dataframe thead th {\n",
       "        text-align: right;\n",
       "    }\n",
       "</style>\n",
       "<table border=\"1\" class=\"dataframe\">\n",
       "  <thead>\n",
       "    <tr style=\"text-align: right;\">\n",
       "      <th></th>\n",
       "      <th>monetary_tier</th>\n",
       "      <th>user_sk</th>\n",
       "    </tr>\n",
       "  </thead>\n",
       "  <tbody>\n",
       "    <tr>\n",
       "      <th>0</th>\n",
       "      <td>4</td>\n",
       "      <td>23878</td>\n",
       "    </tr>\n",
       "    <tr>\n",
       "      <th>1</th>\n",
       "      <td>3</td>\n",
       "      <td>23617</td>\n",
       "    </tr>\n",
       "    <tr>\n",
       "      <th>2</th>\n",
       "      <td>2</td>\n",
       "      <td>23797</td>\n",
       "    </tr>\n",
       "    <tr>\n",
       "      <th>3</th>\n",
       "      <td>1</td>\n",
       "      <td>23691</td>\n",
       "    </tr>\n",
       "  </tbody>\n",
       "</table>\n",
       "</div>"
      ],
      "text/plain": [
       "  monetary_tier  user_sk\n",
       "0             4    23878\n",
       "1             3    23617\n",
       "2             2    23797\n",
       "3             1    23691"
      ]
     },
     "metadata": {},
     "output_type": "display_data"
    },
    {
     "data": {
      "image/png": "[encoded data removed]",
      "text/plain": [
       "<Figure size 432x288 with 1 Axes>"
      ]
     },
     "metadata": {
      "needs_background": "light"
     },
     "output_type": "display_data"
    }
   ],
   "source": [
    "# cek pake selain pd.cut\n",
    "rfm['monetary_tier'] = pd.qcut(rfm['total_spending'], q=4, labels=range(4, 0, -1))\n",
    "\n",
    "fig, ax = plt.subplots()\n",
    "\n",
    "t1 = rfm.loc[:, ['user_sk', 'monetary_tier']] \\\n",
    "        .groupby('monetary_tier', as_index=False).count()\n",
    "ax.bar(t1['monetary_tier'], t1['user_sk'])\n",
    "ax.set_title('Customer Monetary Tier')\n",
    "ax.set_xlabel('Monetary Tier')\n",
    "ax.set_ylabel('Count')\n",
    "\n",
    "display(t1)\n",
    "plt.show()"
   ]
  },
  {
   "cell_type": "code",
   "execution_count": 16,
   "id": "0d493c4c",
   "metadata": {
    "tags": []
   },
   "outputs": [
    {
     "name": "stdout",
     "output_type": "stream",
     "text": [
      "<class 'pandas.core.frame.DataFrame'>\n",
      "Int64Index: 94983 entries, 0 to 96096\n",
      "Data columns (total 8 columns):\n",
      " #   Column               Non-Null Count  Dtype   \n",
      "---  ------               --------------  -----   \n",
      " 0   user_sk              94983 non-null  int64   \n",
      " 1   total_spending       94983 non-null  float64 \n",
      " 2   total_shipping_cost  94983 non-null  float64 \n",
      " 3   count_order          94983 non-null  float64 \n",
      " 4   last_order_days      94983 non-null  float64 \n",
      " 5   recency_tier         94983 non-null  category\n",
      " 6   frequency_tier       94983 non-null  int64   \n",
      " 7   monetary_tier        94983 non-null  category\n",
      "dtypes: category(2), float64(4), int64(2)\n",
      "memory usage: 5.3 MB\n"
     ]
    }
   ],
   "source": [
    "rfm.info()"
   ]
  },
  {
   "cell_type": "markdown",
   "id": "61782795",
   "metadata": {},
   "source": [
    "## Distribution of RFM Tier"
   ]
  },
  {
   "cell_type": "code",
   "execution_count": 17,
   "id": "30dff737",
   "metadata": {},
   "outputs": [
    {
     "data": {
      "image/png": "[encoded data removed]",
      "text/plain": [
       "<Figure size 432x288 with 1 Axes>"
      ]
     },
     "metadata": {
      "needs_background": "light"
     },
     "output_type": "display_data"
    }
   ],
   "source": [
    "rfm_scatter = rfm.copy()\n",
    "\n",
    "fig = plt.figure()\n",
    "ax = fig.add_subplot(111, projection='3d')\n",
    "\n",
    "xs = rfm_scatter.loc[:, 'frequency_tier']\n",
    "ys = rfm_scatter.loc[:, 'monetary_tier']\n",
    "zs = rfm_scatter.loc[:, 'recency_tier']\n",
    "\n",
    "ax.scatter(xs, ys, zs, c='darkviolet')\n",
    "\n",
    "ax.set_xlabel('\\nfrequency_tier', linespacing=2.0)\n",
    "ax.set_ylabel('\\nmonetary_tier', linespacing=2.0)\n",
    "ax.set_zlabel('\\nrecency_tier', linespacing=2.0)\n",
    "\n",
    "plt.show()"
   ]
  },
  {
   "cell_type": "code",
   "execution_count": 18,
   "id": "79670774",
   "metadata": {},
   "outputs": [
    {
     "data": {
      "image/png": "[encoded data removed]",
      "text/plain": [
       "<Figure size 360x1080 with 3 Axes>"
      ]
     },
     "metadata": {
      "needs_background": "light"
     },
     "output_type": "display_data"
    }
   ],
   "source": [
    "tt1 = rfm.copy()\n",
    "tt1['frequency_tier'] = tt1.apply(lambda row: row['frequency_tier']+(np.random.rand()*0.3), axis=1)\n",
    "tt1['monetary_tier'] = tt1.apply(lambda row: row['monetary_tier']+(np.random.rand()*0.3), axis=1)\n",
    "tt1['recency_tier'] = tt1.apply(lambda row: row['recency_tier']+(np.random.rand()*0.3), axis=1)\n",
    "\n",
    "t = ['frequency_tier', 'monetary_tier', 'recency_tier']\n",
    "c = []\n",
    "f = []\n",
    "\n",
    "for i in range(0, len(t)):\n",
    "    for j in range(0, len(t)):\n",
    "        t0 = t[i]\n",
    "        t1 = t[j]\n",
    "        \n",
    "        if t0 == t1:\n",
    "            continue\n",
    "        \n",
    "        if [t0, t1] in c:\n",
    "            continue\n",
    "        else:\n",
    "            f.append([t0, t1])\n",
    "            c.append([t0, t1])\n",
    "            c.append([t1, t0])\n",
    "\n",
    "fig, axs = plt.subplots(len(f), 1)\n",
    "fig.set_size_inches(5, 15, forward=True)\n",
    "\n",
    "for i in range(0, len(f)):\n",
    "    ax = axs[i]\n",
    "    ax.scatter(tt1[f[i][0]], tt1[f[i][1]], alpha=0.2, c='darkviolet')\n",
    "    ax.set_title('{} vs {}'.format(f[i][0], f[i][1]))\n",
    "    ax.set_xlabel(f[i][0])\n",
    "    ax.set_ylabel(f[i][1])\n",
    "\n",
    "plt.tight_layout()\n",
    "plt.show()"
   ]
  },
  {
   "cell_type": "markdown",
   "id": "28643066",
   "metadata": {},
   "source": [
    "## Customer Segmentation"
   ]
  },
  {
   "cell_type": "markdown",
   "id": "c90e65e9",
   "metadata": {},
   "source": [
    "### High Spending Active Customer"
   ]
  },
  {
   "cell_type": "code",
   "execution_count": 19,
   "id": "a04ad79b",
   "metadata": {
    "tags": []
   },
   "outputs": [
    {
     "data": {
      "text/html": [
       "<div>\n",
       "<style scoped>\n",
       "    .dataframe tbody tr th:only-of-type {\n",
       "        vertical-align: middle;\n",
       "    }\n",
       "\n",
       "    .dataframe tbody tr th {\n",
       "        vertical-align: top;\n",
       "    }\n",
       "\n",
       "    .dataframe thead th {\n",
       "        text-align: right;\n",
       "    }\n",
       "</style>\n",
       "<table border=\"1\" class=\"dataframe\">\n",
       "  <thead>\n",
       "    <tr style=\"text-align: right;\">\n",
       "      <th></th>\n",
       "      <th>user_sk</th>\n",
       "      <th>total_spending</th>\n",
       "      <th>total_shipping_cost</th>\n",
       "      <th>count_order</th>\n",
       "      <th>last_order_days</th>\n",
       "      <th>recency_tier</th>\n",
       "      <th>frequency_tier</th>\n",
       "      <th>monetary_tier</th>\n",
       "    </tr>\n",
       "  </thead>\n",
       "  <tbody>\n",
       "    <tr>\n",
       "      <th>9</th>\n",
       "      <td>39</td>\n",
       "      <td>115000.0</td>\n",
       "      <td>15690.0</td>\n",
       "      <td>1.0</td>\n",
       "      <td>206.0</td>\n",
       "      <td>2</td>\n",
       "      <td>4</td>\n",
       "      <td>2</td>\n",
       "    </tr>\n",
       "    <tr>\n",
       "      <th>11</th>\n",
       "      <td>45</td>\n",
       "      <td>274000.0</td>\n",
       "      <td>33310.0</td>\n",
       "      <td>1.0</td>\n",
       "      <td>157.0</td>\n",
       "      <td>1</td>\n",
       "      <td>4</td>\n",
       "      <td>1</td>\n",
       "    </tr>\n",
       "    <tr>\n",
       "      <th>13</th>\n",
       "      <td>55</td>\n",
       "      <td>524900.0</td>\n",
       "      <td>17760.0</td>\n",
       "      <td>1.0</td>\n",
       "      <td>169.0</td>\n",
       "      <td>2</td>\n",
       "      <td>4</td>\n",
       "      <td>1</td>\n",
       "    </tr>\n",
       "    <tr>\n",
       "      <th>20</th>\n",
       "      <td>81</td>\n",
       "      <td>522500.0</td>\n",
       "      <td>26530.0</td>\n",
       "      <td>1.0</td>\n",
       "      <td>260.0</td>\n",
       "      <td>2</td>\n",
       "      <td>4</td>\n",
       "      <td>1</td>\n",
       "    </tr>\n",
       "    <tr>\n",
       "      <th>39</th>\n",
       "      <td>155</td>\n",
       "      <td>569900.0</td>\n",
       "      <td>60540.0</td>\n",
       "      <td>1.0</td>\n",
       "      <td>135.0</td>\n",
       "      <td>1</td>\n",
       "      <td>4</td>\n",
       "      <td>1</td>\n",
       "    </tr>\n",
       "    <tr>\n",
       "      <th>45</th>\n",
       "      <td>193</td>\n",
       "      <td>449000.0</td>\n",
       "      <td>84450.0</td>\n",
       "      <td>1.0</td>\n",
       "      <td>71.0</td>\n",
       "      <td>1</td>\n",
       "      <td>4</td>\n",
       "      <td>1</td>\n",
       "    </tr>\n",
       "    <tr>\n",
       "      <th>47</th>\n",
       "      <td>203</td>\n",
       "      <td>314900.0</td>\n",
       "      <td>14860.0</td>\n",
       "      <td>1.0</td>\n",
       "      <td>112.0</td>\n",
       "      <td>1</td>\n",
       "      <td>4</td>\n",
       "      <td>1</td>\n",
       "    </tr>\n",
       "    <tr>\n",
       "      <th>51</th>\n",
       "      <td>210</td>\n",
       "      <td>110320.0</td>\n",
       "      <td>8030.0</td>\n",
       "      <td>1.0</td>\n",
       "      <td>121.0</td>\n",
       "      <td>1</td>\n",
       "      <td>4</td>\n",
       "      <td>2</td>\n",
       "    </tr>\n",
       "    <tr>\n",
       "      <th>52</th>\n",
       "      <td>215</td>\n",
       "      <td>249990.0</td>\n",
       "      <td>14050.0</td>\n",
       "      <td>1.0</td>\n",
       "      <td>83.0</td>\n",
       "      <td>1</td>\n",
       "      <td>4</td>\n",
       "      <td>1</td>\n",
       "    </tr>\n",
       "    <tr>\n",
       "      <th>54</th>\n",
       "      <td>224</td>\n",
       "      <td>199900.0</td>\n",
       "      <td>13700.0</td>\n",
       "      <td>1.0</td>\n",
       "      <td>66.0</td>\n",
       "      <td>1</td>\n",
       "      <td>4</td>\n",
       "      <td>1</td>\n",
       "    </tr>\n",
       "  </tbody>\n",
       "</table>\n",
       "</div>"
      ],
      "text/plain": [
       "    user_sk  total_spending  total_shipping_cost  count_order  \\\n",
       "9        39        115000.0              15690.0          1.0   \n",
       "11       45        274000.0              33310.0          1.0   \n",
       "13       55        524900.0              17760.0          1.0   \n",
       "20       81        522500.0              26530.0          1.0   \n",
       "39      155        569900.0              60540.0          1.0   \n",
       "45      193        449000.0              84450.0          1.0   \n",
       "47      203        314900.0              14860.0          1.0   \n",
       "51      210        110320.0               8030.0          1.0   \n",
       "52      215        249990.0              14050.0          1.0   \n",
       "54      224        199900.0              13700.0          1.0   \n",
       "\n",
       "    last_order_days recency_tier  frequency_tier monetary_tier  \n",
       "9             206.0            2               4             2  \n",
       "11            157.0            1               4             1  \n",
       "13            169.0            2               4             1  \n",
       "20            260.0            2               4             1  \n",
       "39            135.0            1               4             1  \n",
       "45             71.0            1               4             1  \n",
       "47            112.0            1               4             1  \n",
       "51            121.0            1               4             2  \n",
       "52             83.0            1               4             1  \n",
       "54             66.0            1               4             1  "
      ]
     },
     "metadata": {},
     "output_type": "display_data"
    },
    {
     "data": {
      "text/plain": [
       "(24043, 8)"
      ]
     },
     "metadata": {},
     "output_type": "display_data"
    }
   ],
   "source": [
    "high_spending_active_cust_cond = \\\n",
    "    (rfm['recency_tier'] <= 2) \\\n",
    "    & (rfm['monetary_tier'] >= 2)\n",
    "\n",
    "high_spending_active_cust = rfm[high_spending_active_cust_cond]\n",
    "display(high_spending_active_cust.head(10))\n",
    "display(high_spending_active_cust.shape)\n",
    "\n",
    "rfm.loc[high_spending_active_cust_cond, 'customer_segment'] = 'hsac'"
   ]
  },
  {
   "cell_type": "markdown",
   "id": "bbaec8b4",
   "metadata": {},
   "source": [
    "### Low Spending Active Customer"
   ]
  },
  {
   "cell_type": "code",
   "execution_count": 20,
   "id": "2b19be44",
   "metadata": {
    "tags": []
   },
   "outputs": [
    {
     "data": {
      "text/html": [
       "<div>\n",
       "<style scoped>\n",
       "    .dataframe tbody tr th:only-of-type {\n",
       "        vertical-align: middle;\n",
       "    }\n",
       "\n",
       "    .dataframe tbody tr th {\n",
       "        vertical-align: top;\n",
       "    }\n",
       "\n",
       "    .dataframe thead th {\n",
       "        text-align: right;\n",
       "    }\n",
       "</style>\n",
       "<table border=\"1\" class=\"dataframe\">\n",
       "  <thead>\n",
       "    <tr style=\"text-align: right;\">\n",
       "      <th></th>\n",
       "      <th>user_sk</th>\n",
       "      <th>total_spending</th>\n",
       "      <th>total_shipping_cost</th>\n",
       "      <th>count_order</th>\n",
       "      <th>last_order_days</th>\n",
       "      <th>recency_tier</th>\n",
       "      <th>frequency_tier</th>\n",
       "      <th>monetary_tier</th>\n",
       "      <th>customer_segment</th>\n",
       "    </tr>\n",
       "  </thead>\n",
       "  <tbody>\n",
       "    <tr>\n",
       "      <th>2</th>\n",
       "      <td>7</td>\n",
       "      <td>19990.0</td>\n",
       "      <td>7390.0</td>\n",
       "      <td>1.0</td>\n",
       "      <td>177.0</td>\n",
       "      <td>2</td>\n",
       "      <td>4</td>\n",
       "      <td>4</td>\n",
       "      <td>NaN</td>\n",
       "    </tr>\n",
       "    <tr>\n",
       "      <th>8</th>\n",
       "      <td>31</td>\n",
       "      <td>54000.0</td>\n",
       "      <td>16630.0</td>\n",
       "      <td>1.0</td>\n",
       "      <td>248.0</td>\n",
       "      <td>2</td>\n",
       "      <td>4</td>\n",
       "      <td>3</td>\n",
       "      <td>NaN</td>\n",
       "    </tr>\n",
       "    <tr>\n",
       "      <th>14</th>\n",
       "      <td>58</td>\n",
       "      <td>67990.0</td>\n",
       "      <td>19820.0</td>\n",
       "      <td>1.0</td>\n",
       "      <td>213.0</td>\n",
       "      <td>2</td>\n",
       "      <td>4</td>\n",
       "      <td>3</td>\n",
       "      <td>NaN</td>\n",
       "    </tr>\n",
       "    <tr>\n",
       "      <th>15</th>\n",
       "      <td>65</td>\n",
       "      <td>62000.0</td>\n",
       "      <td>18010.0</td>\n",
       "      <td>1.0</td>\n",
       "      <td>167.0</td>\n",
       "      <td>2</td>\n",
       "      <td>4</td>\n",
       "      <td>3</td>\n",
       "      <td>NaN</td>\n",
       "    </tr>\n",
       "    <tr>\n",
       "      <th>16</th>\n",
       "      <td>67</td>\n",
       "      <td>69900.0</td>\n",
       "      <td>12430.0</td>\n",
       "      <td>1.0</td>\n",
       "      <td>153.0</td>\n",
       "      <td>1</td>\n",
       "      <td>4</td>\n",
       "      <td>3</td>\n",
       "      <td>NaN</td>\n",
       "    </tr>\n",
       "    <tr>\n",
       "      <th>21</th>\n",
       "      <td>86</td>\n",
       "      <td>28990.0</td>\n",
       "      <td>18300.0</td>\n",
       "      <td>1.0</td>\n",
       "      <td>128.0</td>\n",
       "      <td>1</td>\n",
       "      <td>4</td>\n",
       "      <td>4</td>\n",
       "      <td>NaN</td>\n",
       "    </tr>\n",
       "    <tr>\n",
       "      <th>30</th>\n",
       "      <td>129</td>\n",
       "      <td>13650.0</td>\n",
       "      <td>7390.0</td>\n",
       "      <td>1.0</td>\n",
       "      <td>222.0</td>\n",
       "      <td>2</td>\n",
       "      <td>4</td>\n",
       "      <td>4</td>\n",
       "      <td>NaN</td>\n",
       "    </tr>\n",
       "    <tr>\n",
       "      <th>31</th>\n",
       "      <td>131</td>\n",
       "      <td>63990.0</td>\n",
       "      <td>18030.0</td>\n",
       "      <td>1.0</td>\n",
       "      <td>165.0</td>\n",
       "      <td>2</td>\n",
       "      <td>4</td>\n",
       "      <td>3</td>\n",
       "      <td>NaN</td>\n",
       "    </tr>\n",
       "    <tr>\n",
       "      <th>32</th>\n",
       "      <td>134</td>\n",
       "      <td>87900.0</td>\n",
       "      <td>17870.0</td>\n",
       "      <td>1.0</td>\n",
       "      <td>228.0</td>\n",
       "      <td>2</td>\n",
       "      <td>4</td>\n",
       "      <td>3</td>\n",
       "      <td>NaN</td>\n",
       "    </tr>\n",
       "    <tr>\n",
       "      <th>42</th>\n",
       "      <td>176</td>\n",
       "      <td>23990.0</td>\n",
       "      <td>15270.0</td>\n",
       "      <td>1.0</td>\n",
       "      <td>100.0</td>\n",
       "      <td>1</td>\n",
       "      <td>4</td>\n",
       "      <td>4</td>\n",
       "      <td>NaN</td>\n",
       "    </tr>\n",
       "  </tbody>\n",
       "</table>\n",
       "</div>"
      ],
      "text/plain": [
       "    user_sk  total_spending  total_shipping_cost  count_order  \\\n",
       "2         7         19990.0               7390.0          1.0   \n",
       "8        31         54000.0              16630.0          1.0   \n",
       "14       58         67990.0              19820.0          1.0   \n",
       "15       65         62000.0              18010.0          1.0   \n",
       "16       67         69900.0              12430.0          1.0   \n",
       "21       86         28990.0              18300.0          1.0   \n",
       "30      129         13650.0               7390.0          1.0   \n",
       "31      131         63990.0              18030.0          1.0   \n",
       "32      134         87900.0              17870.0          1.0   \n",
       "42      176         23990.0              15270.0          1.0   \n",
       "\n",
       "    last_order_days recency_tier  frequency_tier monetary_tier  \\\n",
       "2             177.0            2               4             4   \n",
       "8             248.0            2               4             3   \n",
       "14            213.0            2               4             3   \n",
       "15            167.0            2               4             3   \n",
       "16            153.0            1               4             3   \n",
       "21            128.0            1               4             4   \n",
       "30            222.0            2               4             4   \n",
       "31            165.0            2               4             3   \n",
       "32            228.0            2               4             3   \n",
       "42            100.0            1               4             4   \n",
       "\n",
       "   customer_segment  \n",
       "2               NaN  \n",
       "8               NaN  \n",
       "14              NaN  \n",
       "15              NaN  \n",
       "16              NaN  \n",
       "21              NaN  \n",
       "30              NaN  \n",
       "31              NaN  \n",
       "32              NaN  \n",
       "42              NaN  "
      ]
     },
     "metadata": {},
     "output_type": "display_data"
    },
    {
     "data": {
      "text/plain": [
       "(23568, 9)"
      ]
     },
     "metadata": {},
     "output_type": "display_data"
    }
   ],
   "source": [
    "low_spending_active_cust_cond = \\\n",
    "    (rfm['recency_tier'] <= 2) \\\n",
    "    & (rfm['monetary_tier'] <= 3)\n",
    "\n",
    "low_spending_active_cust = rfm[low_spending_active_cust_cond]\n",
    "display(low_spending_active_cust.head(10))\n",
    "display(low_spending_active_cust.shape)\n",
    "\n",
    "rfm.loc[low_spending_active_cust_cond, 'customer_segment'] = 'lsac'"
   ]
  },
  {
   "cell_type": "markdown",
   "id": "2933844f",
   "metadata": {},
   "source": [
    "### Churned High Spending Customer"
   ]
  },
  {
   "cell_type": "code",
   "execution_count": 21,
   "id": "55e41486",
   "metadata": {
    "tags": []
   },
   "outputs": [
    {
     "data": {
      "text/html": [
       "<div>\n",
       "<style scoped>\n",
       "    .dataframe tbody tr th:only-of-type {\n",
       "        vertical-align: middle;\n",
       "    }\n",
       "\n",
       "    .dataframe tbody tr th {\n",
       "        vertical-align: top;\n",
       "    }\n",
       "\n",
       "    .dataframe thead th {\n",
       "        text-align: right;\n",
       "    }\n",
       "</style>\n",
       "<table border=\"1\" class=\"dataframe\">\n",
       "  <thead>\n",
       "    <tr style=\"text-align: right;\">\n",
       "      <th></th>\n",
       "      <th>user_sk</th>\n",
       "      <th>total_spending</th>\n",
       "      <th>total_shipping_cost</th>\n",
       "      <th>count_order</th>\n",
       "      <th>last_order_days</th>\n",
       "      <th>recency_tier</th>\n",
       "      <th>frequency_tier</th>\n",
       "      <th>monetary_tier</th>\n",
       "      <th>customer_segment</th>\n",
       "    </tr>\n",
       "  </thead>\n",
       "  <tbody>\n",
       "    <tr>\n",
       "      <th>4</th>\n",
       "      <td>11</td>\n",
       "      <td>1200000.0</td>\n",
       "      <td>37810.0</td>\n",
       "      <td>1.0</td>\n",
       "      <td>415.0</td>\n",
       "      <td>4</td>\n",
       "      <td>4</td>\n",
       "      <td>1</td>\n",
       "      <td>NaN</td>\n",
       "    </tr>\n",
       "    <tr>\n",
       "      <th>5</th>\n",
       "      <td>13</td>\n",
       "      <td>119900.0</td>\n",
       "      <td>23160.0</td>\n",
       "      <td>1.0</td>\n",
       "      <td>322.0</td>\n",
       "      <td>3</td>\n",
       "      <td>4</td>\n",
       "      <td>2</td>\n",
       "      <td>NaN</td>\n",
       "    </tr>\n",
       "    <tr>\n",
       "      <th>6</th>\n",
       "      <td>18</td>\n",
       "      <td>210000.0</td>\n",
       "      <td>28020.0</td>\n",
       "      <td>1.0</td>\n",
       "      <td>278.0</td>\n",
       "      <td>3</td>\n",
       "      <td>4</td>\n",
       "      <td>1</td>\n",
       "      <td>NaN</td>\n",
       "    </tr>\n",
       "    <tr>\n",
       "      <th>7</th>\n",
       "      <td>24</td>\n",
       "      <td>109990.0</td>\n",
       "      <td>17510.0</td>\n",
       "      <td>1.0</td>\n",
       "      <td>622.0</td>\n",
       "      <td>4</td>\n",
       "      <td>4</td>\n",
       "      <td>2</td>\n",
       "      <td>NaN</td>\n",
       "    </tr>\n",
       "    <tr>\n",
       "      <th>12</th>\n",
       "      <td>53</td>\n",
       "      <td>131170.0</td>\n",
       "      <td>13260.0</td>\n",
       "      <td>1.0</td>\n",
       "      <td>500.0</td>\n",
       "      <td>4</td>\n",
       "      <td>4</td>\n",
       "      <td>2</td>\n",
       "      <td>NaN</td>\n",
       "    </tr>\n",
       "    <tr>\n",
       "      <th>17</th>\n",
       "      <td>71</td>\n",
       "      <td>107000.0</td>\n",
       "      <td>12250.0</td>\n",
       "      <td>1.0</td>\n",
       "      <td>282.0</td>\n",
       "      <td>3</td>\n",
       "      <td>4</td>\n",
       "      <td>2</td>\n",
       "      <td>NaN</td>\n",
       "    </tr>\n",
       "    <tr>\n",
       "      <th>18</th>\n",
       "      <td>73</td>\n",
       "      <td>169990.0</td>\n",
       "      <td>16400.0</td>\n",
       "      <td>1.0</td>\n",
       "      <td>570.0</td>\n",
       "      <td>4</td>\n",
       "      <td>4</td>\n",
       "      <td>1</td>\n",
       "      <td>NaN</td>\n",
       "    </tr>\n",
       "    <tr>\n",
       "      <th>19</th>\n",
       "      <td>79</td>\n",
       "      <td>140900.0</td>\n",
       "      <td>26270.0</td>\n",
       "      <td>1.0</td>\n",
       "      <td>525.0</td>\n",
       "      <td>4</td>\n",
       "      <td>4</td>\n",
       "      <td>2</td>\n",
       "      <td>NaN</td>\n",
       "    </tr>\n",
       "    <tr>\n",
       "      <th>22</th>\n",
       "      <td>91</td>\n",
       "      <td>209990.0</td>\n",
       "      <td>53480.0</td>\n",
       "      <td>1.0</td>\n",
       "      <td>470.0</td>\n",
       "      <td>4</td>\n",
       "      <td>4</td>\n",
       "      <td>1</td>\n",
       "      <td>NaN</td>\n",
       "    </tr>\n",
       "    <tr>\n",
       "      <th>23</th>\n",
       "      <td>93</td>\n",
       "      <td>173420.0</td>\n",
       "      <td>27750.0</td>\n",
       "      <td>1.0</td>\n",
       "      <td>421.0</td>\n",
       "      <td>4</td>\n",
       "      <td>4</td>\n",
       "      <td>1</td>\n",
       "      <td>NaN</td>\n",
       "    </tr>\n",
       "  </tbody>\n",
       "</table>\n",
       "</div>"
      ],
      "text/plain": [
       "    user_sk  total_spending  total_shipping_cost  count_order  \\\n",
       "4        11       1200000.0              37810.0          1.0   \n",
       "5        13        119900.0              23160.0          1.0   \n",
       "6        18        210000.0              28020.0          1.0   \n",
       "7        24        109990.0              17510.0          1.0   \n",
       "12       53        131170.0              13260.0          1.0   \n",
       "17       71        107000.0              12250.0          1.0   \n",
       "18       73        169990.0              16400.0          1.0   \n",
       "19       79        140900.0              26270.0          1.0   \n",
       "22       91        209990.0              53480.0          1.0   \n",
       "23       93        173420.0              27750.0          1.0   \n",
       "\n",
       "    last_order_days recency_tier  frequency_tier monetary_tier  \\\n",
       "4             415.0            4               4             1   \n",
       "5             322.0            3               4             2   \n",
       "6             278.0            3               4             1   \n",
       "7             622.0            4               4             2   \n",
       "12            500.0            4               4             2   \n",
       "17            282.0            3               4             2   \n",
       "18            570.0            4               4             1   \n",
       "19            525.0            4               4             2   \n",
       "22            470.0            4               4             1   \n",
       "23            421.0            4               4             1   \n",
       "\n",
       "   customer_segment  \n",
       "4               NaN  \n",
       "5               NaN  \n",
       "6               NaN  \n",
       "7               NaN  \n",
       "12              NaN  \n",
       "17              NaN  \n",
       "18              NaN  \n",
       "19              NaN  \n",
       "22              NaN  \n",
       "23              NaN  "
      ]
     },
     "metadata": {},
     "output_type": "display_data"
    },
    {
     "data": {
      "text/plain": [
       "(23445, 9)"
      ]
     },
     "metadata": {},
     "output_type": "display_data"
    }
   ],
   "source": [
    "churned_high_spending_cust_cond = \\\n",
    "    (rfm['recency_tier'] >= 3) \\\n",
    "    & (rfm['monetary_tier'] >= 2)\n",
    "\n",
    "churned_high_spending_cust = rfm[churned_high_spending_cust_cond]\n",
    "display(churned_high_spending_cust.head(10))\n",
    "display(churned_high_spending_cust.shape)\n",
    "\n",
    "rfm.loc[churned_high_spending_cust_cond, 'customer_segment'] = 'chsc'"
   ]
  },
  {
   "cell_type": "markdown",
   "id": "06040b6f",
   "metadata": {},
   "source": [
    "### Churned Low Spending Customer"
   ]
  },
  {
   "cell_type": "code",
   "execution_count": 22,
   "id": "7ce1a3e2",
   "metadata": {
    "tags": []
   },
   "outputs": [
    {
     "data": {
      "text/html": [
       "<div>\n",
       "<style scoped>\n",
       "    .dataframe tbody tr th:only-of-type {\n",
       "        vertical-align: middle;\n",
       "    }\n",
       "\n",
       "    .dataframe tbody tr th {\n",
       "        vertical-align: top;\n",
       "    }\n",
       "\n",
       "    .dataframe thead th {\n",
       "        text-align: right;\n",
       "    }\n",
       "</style>\n",
       "<table border=\"1\" class=\"dataframe\">\n",
       "  <thead>\n",
       "    <tr style=\"text-align: right;\">\n",
       "      <th></th>\n",
       "      <th>user_sk</th>\n",
       "      <th>total_spending</th>\n",
       "      <th>total_shipping_cost</th>\n",
       "      <th>count_order</th>\n",
       "      <th>last_order_days</th>\n",
       "      <th>recency_tier</th>\n",
       "      <th>frequency_tier</th>\n",
       "      <th>monetary_tier</th>\n",
       "      <th>customer_segment</th>\n",
       "    </tr>\n",
       "  </thead>\n",
       "  <tbody>\n",
       "    <tr>\n",
       "      <th>0</th>\n",
       "      <td>4</td>\n",
       "      <td>75900.0</td>\n",
       "      <td>15280.0</td>\n",
       "      <td>1.0</td>\n",
       "      <td>470.0</td>\n",
       "      <td>4</td>\n",
       "      <td>4</td>\n",
       "      <td>3</td>\n",
       "      <td>NaN</td>\n",
       "    </tr>\n",
       "    <tr>\n",
       "      <th>1</th>\n",
       "      <td>6</td>\n",
       "      <td>29990.0</td>\n",
       "      <td>16110.0</td>\n",
       "      <td>1.0</td>\n",
       "      <td>429.0</td>\n",
       "      <td>4</td>\n",
       "      <td>4</td>\n",
       "      <td>4</td>\n",
       "      <td>NaN</td>\n",
       "    </tr>\n",
       "    <tr>\n",
       "      <th>3</th>\n",
       "      <td>8</td>\n",
       "      <td>14990.0</td>\n",
       "      <td>7780.0</td>\n",
       "      <td>1.0</td>\n",
       "      <td>279.0</td>\n",
       "      <td>3</td>\n",
       "      <td>4</td>\n",
       "      <td>4</td>\n",
       "      <td>NaN</td>\n",
       "    </tr>\n",
       "    <tr>\n",
       "      <th>10</th>\n",
       "      <td>42</td>\n",
       "      <td>25900.0</td>\n",
       "      <td>25630.0</td>\n",
       "      <td>1.0</td>\n",
       "      <td>359.0</td>\n",
       "      <td>3</td>\n",
       "      <td>4</td>\n",
       "      <td>4</td>\n",
       "      <td>NaN</td>\n",
       "    </tr>\n",
       "    <tr>\n",
       "      <th>25</th>\n",
       "      <td>102</td>\n",
       "      <td>31000.0</td>\n",
       "      <td>20400.0</td>\n",
       "      <td>1.0</td>\n",
       "      <td>553.0</td>\n",
       "      <td>4</td>\n",
       "      <td>4</td>\n",
       "      <td>4</td>\n",
       "      <td>NaN</td>\n",
       "    </tr>\n",
       "    <tr>\n",
       "      <th>26</th>\n",
       "      <td>108</td>\n",
       "      <td>51920.0</td>\n",
       "      <td>12700.0</td>\n",
       "      <td>1.0</td>\n",
       "      <td>421.0</td>\n",
       "      <td>4</td>\n",
       "      <td>4</td>\n",
       "      <td>3</td>\n",
       "      <td>NaN</td>\n",
       "    </tr>\n",
       "    <tr>\n",
       "      <th>27</th>\n",
       "      <td>114</td>\n",
       "      <td>26900.0</td>\n",
       "      <td>15100.0</td>\n",
       "      <td>1.0</td>\n",
       "      <td>420.0</td>\n",
       "      <td>4</td>\n",
       "      <td>4</td>\n",
       "      <td>4</td>\n",
       "      <td>NaN</td>\n",
       "    </tr>\n",
       "    <tr>\n",
       "      <th>33</th>\n",
       "      <td>137</td>\n",
       "      <td>25600.0</td>\n",
       "      <td>16110.0</td>\n",
       "      <td>1.0</td>\n",
       "      <td>384.0</td>\n",
       "      <td>3</td>\n",
       "      <td>4</td>\n",
       "      <td>4</td>\n",
       "      <td>NaN</td>\n",
       "    </tr>\n",
       "    <tr>\n",
       "      <th>36</th>\n",
       "      <td>148</td>\n",
       "      <td>89000.0</td>\n",
       "      <td>17870.0</td>\n",
       "      <td>1.0</td>\n",
       "      <td>291.0</td>\n",
       "      <td>3</td>\n",
       "      <td>4</td>\n",
       "      <td>3</td>\n",
       "      <td>NaN</td>\n",
       "    </tr>\n",
       "    <tr>\n",
       "      <th>41</th>\n",
       "      <td>166</td>\n",
       "      <td>39900.0</td>\n",
       "      <td>15100.0</td>\n",
       "      <td>1.0</td>\n",
       "      <td>526.0</td>\n",
       "      <td>4</td>\n",
       "      <td>4</td>\n",
       "      <td>4</td>\n",
       "      <td>NaN</td>\n",
       "    </tr>\n",
       "  </tbody>\n",
       "</table>\n",
       "</div>"
      ],
      "text/plain": [
       "    user_sk  total_spending  total_shipping_cost  count_order  \\\n",
       "0         4         75900.0              15280.0          1.0   \n",
       "1         6         29990.0              16110.0          1.0   \n",
       "3         8         14990.0               7780.0          1.0   \n",
       "10       42         25900.0              25630.0          1.0   \n",
       "25      102         31000.0              20400.0          1.0   \n",
       "26      108         51920.0              12700.0          1.0   \n",
       "27      114         26900.0              15100.0          1.0   \n",
       "33      137         25600.0              16110.0          1.0   \n",
       "36      148         89000.0              17870.0          1.0   \n",
       "41      166         39900.0              15100.0          1.0   \n",
       "\n",
       "    last_order_days recency_tier  frequency_tier monetary_tier  \\\n",
       "0             470.0            4               4             3   \n",
       "1             429.0            4               4             4   \n",
       "3             279.0            3               4             4   \n",
       "10            359.0            3               4             4   \n",
       "25            553.0            4               4             4   \n",
       "26            421.0            4               4             3   \n",
       "27            420.0            4               4             4   \n",
       "33            384.0            3               4             4   \n",
       "36            291.0            3               4             3   \n",
       "41            526.0            4               4             4   \n",
       "\n",
       "   customer_segment  \n",
       "0               NaN  \n",
       "1               NaN  \n",
       "3               NaN  \n",
       "10              NaN  \n",
       "25              NaN  \n",
       "26              NaN  \n",
       "27              NaN  \n",
       "33              NaN  \n",
       "36              NaN  \n",
       "41              NaN  "
      ]
     },
     "metadata": {},
     "output_type": "display_data"
    },
    {
     "data": {
      "text/plain": [
       "(23927, 9)"
      ]
     },
     "metadata": {},
     "output_type": "display_data"
    }
   ],
   "source": [
    "churned_low_spending_cust_cond = \\\n",
    "    (rfm['recency_tier'] >= 3) \\\n",
    "    & (rfm['monetary_tier'] <= 3)\n",
    "\n",
    "churned_low_spending_cust = rfm[churned_low_spending_cust_cond]\n",
    "display(churned_low_spending_cust.head(10))\n",
    "display(churned_low_spending_cust.shape)\n",
    "\n",
    "rfm.loc[churned_low_spending_cust_cond, 'customer_segment'] = 'clsc'"
   ]
  },
  {
   "cell_type": "markdown",
   "id": "a056dc90",
   "metadata": {},
   "source": [
    "### Check Segment For All Customer"
   ]
  },
  {
   "cell_type": "markdown",
   "id": "770bf29e",
   "metadata": {},
   "source": [
    "Make sure all customer is segmented"
   ]
  },
  {
   "cell_type": "code",
   "execution_count": 23,
   "id": "1ad4cddc",
   "metadata": {},
   "outputs": [
    {
     "data": {
      "text/plain": [
       "user_sk                0\n",
       "total_spending         0\n",
       "total_shipping_cost    0\n",
       "count_order            0\n",
       "last_order_days        0\n",
       "recency_tier           0\n",
       "frequency_tier         0\n",
       "monetary_tier          0\n",
       "customer_segment       0\n",
       "dtype: int64"
      ]
     },
     "execution_count": 23,
     "metadata": {},
     "output_type": "execute_result"
    }
   ],
   "source": [
    "rfm.isnull().sum()"
   ]
  },
  {
   "cell_type": "markdown",
   "id": "f14c10f0",
   "metadata": {},
   "source": [
    "### Base Model Cluster Result"
   ]
  },
  {
   "cell_type": "code",
   "execution_count": 24,
   "id": "11d99323",
   "metadata": {
    "tags": []
   },
   "outputs": [],
   "source": [
    "rfm['recency_tier'] = pd.factorize(rfm['recency_tier'], sort=True)[0] + 1\n",
    "rfm['monetary_tier'] = 4 - rfm['monetary_tier'].astype('category').cat.codes"
   ]
  },
  {
   "cell_type": "code",
   "execution_count": 25,
   "id": "be3cfc7b",
   "metadata": {},
   "outputs": [],
   "source": [
    "def enc_cust_segment(row):\n",
    "    segment = ['hsac', 'lsac', 'chsc', 'clsc']\n",
    "    return segment.index(row['customer_segment'])\n",
    "\n",
    "rfm['customer_segment_code'] = rfm.apply(lambda row: enc_cust_segment(row), axis=1)"
   ]
  },
  {
   "cell_type": "code",
   "execution_count": 26,
   "id": "9b0b80dc",
   "metadata": {},
   "outputs": [
    {
     "data": {
      "image/png": "[encoded data removed]",
      "text/plain": [
       "<Figure size 432x288 with 1 Axes>"
      ]
     },
     "metadata": {
      "needs_background": "light"
     },
     "output_type": "display_data"
    }
   ],
   "source": [
    "base_df = rfm.copy()\n",
    "\n",
    "fig = plt.figure()\n",
    "ax = fig.add_subplot(111, projection='3d')\n",
    "\n",
    "xs = base_df.loc[:, 'last_order_days']\n",
    "ys = base_df.loc[:, 'count_order']\n",
    "zs = base_df.loc[:, 'total_spending']\n",
    "y = base_df.loc[:, 'customer_segment_code']\n",
    "\n",
    "axscatter = ax.scatter(xs, ys, zs, c=y, cmap='gist_rainbow')\n",
    "\n",
    "# produce a legend with the unique colors from the scatter\n",
    "legend1 = ax.legend(*axscatter.legend_elements(),\n",
    "                    bbox_to_anchor=(1.4, -0.1),\n",
    "                    loc='lower right', title=\"Clusters\")\n",
    "ax.add_artist(legend1)\n",
    "\n",
    "ax.set_xlabel('\\nlast_order_days', linespacing=2.0)\n",
    "ax.set_ylabel('\\ncount_order', linespacing=2.0)\n",
    "ax.set_zlabel('\\ntotal_spending', linespacing=3.1)\n",
    "\n",
    "plt.show()"
   ]
  },
  {
   "cell_type": "code",
   "execution_count": 27,
   "id": "deb95f3f",
   "metadata": {
    "tags": []
   },
   "outputs": [
    {
     "data": {
      "image/png": "[encoded data removed]",
      "text/plain": [
       "<Figure size 360x1080 with 3 Axes>"
      ]
     },
     "metadata": {
      "needs_background": "light"
     },
     "output_type": "display_data"
    }
   ],
   "source": [
    "def add_random_noise(s, noise_strength=0.5):\n",
    "    np.random.seed(np.random.randint(1, len(s)))\n",
    "    noise = [np.random.rand() * (np.random.rand() * noise_strength) for i in range(0, len(s))]\n",
    "    s = s + noise\n",
    "    return s\n",
    "\n",
    "rfm_t = rfm.copy()\n",
    "\n",
    "colors = ['darkviolet', 'limegreen', 'b', 'orange']\n",
    "segment = ['hsac', 'lsac', 'chsc', 'clsc']\n",
    "\n",
    "t = ['last_order_days', 'count_order', 'total_spending']\n",
    "c = []\n",
    "f = []\n",
    "\n",
    "for i in range(0, len(t)):\n",
    "    for j in range(0, len(t)):\n",
    "        t0 = t[i]\n",
    "        t1 = t[j]\n",
    "        \n",
    "        if t0 == t1:\n",
    "            continue\n",
    "        \n",
    "        if [t0, t1] in c:\n",
    "            continue\n",
    "        else:\n",
    "            f.append([t0, t1])\n",
    "            c.append([t0, t1])\n",
    "            c.append([t1, t0])\n",
    "\n",
    "fig, axs = plt.subplots(len(f), 1)\n",
    "fig.set_size_inches(5, 15, forward=True)\n",
    "\n",
    "for i in range(0, len(f)):\n",
    "    for j in segment:\n",
    "        ax = axs[i]\n",
    "        _ttt = rfm_t[rfm_t['customer_segment'] == j]\n",
    "        axscatter = ax.scatter(rfm_t[f[i][0]], rfm_t[f[i][1]], alpha=0.2, c=y, cmap='gist_rainbow')\n",
    "\n",
    "        # produce a legend with the unique colors from the scatter\n",
    "        legend1 = ax.legend(*axscatter.legend_elements(), title=\"Clusters\")\n",
    "        ax.add_artist(legend1)\n",
    "        \n",
    "        ax.set_title('{} vs {}'.format(f[i][0], f[i][1]))\n",
    "        ax.set_xlabel(f[i][0])\n",
    "        ax.set_ylabel(f[i][1])\n",
    "\n",
    "plt.tight_layout()\n",
    "plt.show()"
   ]
  },
  {
   "cell_type": "markdown",
   "id": "c34a4bea",
   "metadata": {},
   "source": [
    "### Baseline Model Evaluation"
   ]
  },
  {
   "cell_type": "code",
   "execution_count": 28,
   "id": "fcc0a541",
   "metadata": {},
   "outputs": [],
   "source": [
    "rfm_eval = rfm.loc[:, ['recency_tier', 'frequency_tier', 'monetary_tier', 'customer_segment']]\n",
    "\n",
    "rfm_eval.loc[rfm_eval['customer_segment'] == 'hsac', 'customer_segment_code'] = 0\n",
    "rfm_eval.loc[rfm_eval['customer_segment'] == 'lsac', 'customer_segment_code'] = 1\n",
    "rfm_eval.loc[rfm_eval['customer_segment'] == 'chsc', 'customer_segment_code'] = 2\n",
    "rfm_eval.loc[rfm_eval['customer_segment'] == 'clsc', 'customer_segment_code'] = 3\n",
    "\n",
    "# silhouette_score(rfm_eval.loc[:, ['recency_tier', 'frequency_tier', 'monetary_tier']], \\\n",
    "#                  rfm_eval.loc[:, 'customer_segment_code'])"
   ]
  },
  {
   "cell_type": "markdown",
   "id": "4a9942dc",
   "metadata": {},
   "source": [
    "## Data Preprocessing"
   ]
  },
  {
   "cell_type": "code",
   "execution_count": 29,
   "id": "c6900136",
   "metadata": {},
   "outputs": [],
   "source": [
    "from sklearn.preprocessing import MinMaxScaler\n",
    "from sklearn.preprocessing import Normalizer"
   ]
  },
  {
   "cell_type": "code",
   "execution_count": 30,
   "id": "b1bb9ea3",
   "metadata": {},
   "outputs": [],
   "source": [
    "df = customer_rfm.copy()\n",
    "df = df.loc[:, ['last_order_days', 'count_order', 'total_spending']]\n",
    "df = df.dropna()"
   ]
  },
  {
   "cell_type": "code",
   "execution_count": 31,
   "id": "eaa4e2fe",
   "metadata": {},
   "outputs": [],
   "source": [
    "minmax = MinMaxScaler()\n",
    "df = pd.DataFrame(minmax.fit_transform(df))\n",
    "df.columns = ['last_order_days', 'count_order', 'total_spending']"
   ]
  },
  {
   "cell_type": "code",
   "execution_count": 32,
   "id": "2e26df62",
   "metadata": {},
   "outputs": [
    {
     "data": {
      "text/html": [
       "<div>\n",
       "<style scoped>\n",
       "    .dataframe tbody tr th:only-of-type {\n",
       "        vertical-align: middle;\n",
       "    }\n",
       "\n",
       "    .dataframe tbody tr th {\n",
       "        vertical-align: top;\n",
       "    }\n",
       "\n",
       "    .dataframe thead th {\n",
       "        text-align: right;\n",
       "    }\n",
       "</style>\n",
       "<table border=\"1\" class=\"dataframe\">\n",
       "  <thead>\n",
       "    <tr style=\"text-align: right;\">\n",
       "      <th></th>\n",
       "      <th>last_order_days</th>\n",
       "      <th>count_order</th>\n",
       "      <th>total_spending</th>\n",
       "    </tr>\n",
       "  </thead>\n",
       "  <tbody>\n",
       "    <tr>\n",
       "      <th>0</th>\n",
       "      <td>0.582990</td>\n",
       "      <td>0.0</td>\n",
       "      <td>0.005584</td>\n",
       "    </tr>\n",
       "    <tr>\n",
       "      <th>1</th>\n",
       "      <td>0.526749</td>\n",
       "      <td>0.0</td>\n",
       "      <td>0.002168</td>\n",
       "    </tr>\n",
       "    <tr>\n",
       "      <th>2</th>\n",
       "      <td>0.181070</td>\n",
       "      <td>0.0</td>\n",
       "      <td>0.001424</td>\n",
       "    </tr>\n",
       "    <tr>\n",
       "      <th>3</th>\n",
       "      <td>0.320988</td>\n",
       "      <td>0.0</td>\n",
       "      <td>0.001052</td>\n",
       "    </tr>\n",
       "    <tr>\n",
       "      <th>4</th>\n",
       "      <td>0.507545</td>\n",
       "      <td>0.0</td>\n",
       "      <td>0.089228</td>\n",
       "    </tr>\n",
       "    <tr>\n",
       "      <th>5</th>\n",
       "      <td>0.379973</td>\n",
       "      <td>0.0</td>\n",
       "      <td>0.008858</td>\n",
       "    </tr>\n",
       "    <tr>\n",
       "      <th>6</th>\n",
       "      <td>0.319616</td>\n",
       "      <td>0.0</td>\n",
       "      <td>0.015563</td>\n",
       "    </tr>\n",
       "    <tr>\n",
       "      <th>7</th>\n",
       "      <td>0.791495</td>\n",
       "      <td>0.0</td>\n",
       "      <td>0.008121</td>\n",
       "    </tr>\n",
       "    <tr>\n",
       "      <th>8</th>\n",
       "      <td>0.278464</td>\n",
       "      <td>0.0</td>\n",
       "      <td>0.003955</td>\n",
       "    </tr>\n",
       "    <tr>\n",
       "      <th>9</th>\n",
       "      <td>0.220850</td>\n",
       "      <td>0.0</td>\n",
       "      <td>0.008494</td>\n",
       "    </tr>\n",
       "  </tbody>\n",
       "</table>\n",
       "</div>"
      ],
      "text/plain": [
       "   last_order_days  count_order  total_spending\n",
       "0         0.582990          0.0        0.005584\n",
       "1         0.526749          0.0        0.002168\n",
       "2         0.181070          0.0        0.001424\n",
       "3         0.320988          0.0        0.001052\n",
       "4         0.507545          0.0        0.089228\n",
       "5         0.379973          0.0        0.008858\n",
       "6         0.319616          0.0        0.015563\n",
       "7         0.791495          0.0        0.008121\n",
       "8         0.278464          0.0        0.003955\n",
       "9         0.220850          0.0        0.008494"
      ]
     },
     "metadata": {},
     "output_type": "display_data"
    }
   ],
   "source": [
    "display(df.head(10))"
   ]
  },
  {
   "cell_type": "markdown",
   "id": "9d1dfff7",
   "metadata": {},
   "source": [
    "## K-Means"
   ]
  },
  {
   "cell_type": "markdown",
   "id": "4978a21b",
   "metadata": {},
   "source": [
    "### Using Elbow Method to Get Optimum n-cluster"
   ]
  },
  {
   "cell_type": "code",
   "execution_count": 33,
   "id": "72352491",
   "metadata": {},
   "outputs": [],
   "source": [
    "from sklearn.cluster import KMeans"
   ]
  },
  {
   "cell_type": "code",
   "execution_count": 34,
   "id": "c426912e",
   "metadata": {},
   "outputs": [
    {
     "data": {
      "image/png": "[encoded data removed]",
      "text/plain": [
       "<Figure size 432x288 with 1 Axes>"
      ]
     },
     "metadata": {
      "needs_background": "light"
     },
     "output_type": "display_data"
    }
   ],
   "source": [
    "df1 = df.copy()\n",
    "\n",
    "n_cluster = []\n",
    "inertia_values = []\n",
    "\n",
    "for i in range(2,7):\n",
    "    kmeans = KMeans(n_clusters=i, random_state=111)\n",
    "    y = kmeans.fit_predict(df1)\n",
    "    n_cluster.append(i)\n",
    "    inertia_values.append(kmeans.inertia_)\n",
    "\n",
    "fig, ax = plt.subplots()\n",
    "\n",
    "ax.plot(n_cluster, inertia_values)\n",
    "ax.set_title('Within cluster sum of squared distance vs cluster size')\n",
    "ax.set_xlabel('n Cluster')\n",
    "ax.set_ylabel('Sum of squared distance to cluster center')\n",
    "\n",
    "plt.show()"
   ]
  },
  {
   "cell_type": "markdown",
   "id": "4b053b0a",
   "metadata": {},
   "source": [
    "### Training Model"
   ]
  },
  {
   "cell_type": "code",
   "execution_count": 35,
   "id": "1443c8e4",
   "metadata": {},
   "outputs": [],
   "source": [
    "kmeans = KMeans(n_clusters=4, init='k-means++', tol=0.03)\n",
    "y = kmeans.fit_predict(df1)"
   ]
  },
  {
   "cell_type": "markdown",
   "id": "15316892",
   "metadata": {},
   "source": [
    "### K-Means Evaluation"
   ]
  },
  {
   "cell_type": "code",
   "execution_count": 36,
   "id": "ef9e6917",
   "metadata": {},
   "outputs": [
    {
     "data": {
      "text/plain": [
       "0.5315968184820405"
      ]
     },
     "execution_count": 36,
     "metadata": {},
     "output_type": "execute_result"
    }
   ],
   "source": [
    "sc = silhouette_score(df1, y)\n",
    "sc"
   ]
  },
  {
   "cell_type": "code",
   "execution_count": 37,
   "id": "938b1c26",
   "metadata": {},
   "outputs": [
    {
     "data": {
      "text/plain": [
       "371.5356365174138"
      ]
     },
     "execution_count": 37,
     "metadata": {},
     "output_type": "execute_result"
    }
   ],
   "source": [
    "kmeans.inertia_"
   ]
  },
  {
   "cell_type": "code",
   "execution_count": 38,
   "id": "d785fe0c",
   "metadata": {},
   "outputs": [
    {
     "data": {
      "image/png": "[encoded data removed]",
      "text/plain": [
       "<Figure size 432x288 with 1 Axes>"
      ]
     },
     "metadata": {
      "needs_background": "light"
     },
     "output_type": "display_data"
    }
   ],
   "source": [
    "kmeans_df = df.copy()\n",
    "\n",
    "fig = plt.figure()\n",
    "ax = fig.add_subplot(111, projection='3d')\n",
    "\n",
    "xs = kmeans_df.loc[:, 'last_order_days']\n",
    "ys = kmeans_df.loc[:, 'count_order']\n",
    "zs = kmeans_df.loc[:, 'total_spending']\n",
    "axscatter = ax.scatter(xs, ys, zs, c=y, cmap='gist_rainbow')\n",
    "\n",
    "# produce a legend with the unique colors from the scatter\n",
    "legend1 = ax.legend(*axscatter.legend_elements(),\n",
    "                    bbox_to_anchor=(1.4, -0.1),\n",
    "                    loc='lower right', title=\"Clusters\")\n",
    "ax.add_artist(legend1)\n",
    "\n",
    "ax.set_title('K-Means Clustering Result')\n",
    "ax.set_xlabel('\\nlast_order_days', linespacing=2.3)\n",
    "ax.set_ylabel('\\ncount_order', linespacing=2.3)\n",
    "ax.set_zlabel('\\ntotal_spending', linespacing=2.3)\n",
    "\n",
    "plt.show()"
   ]
  },
  {
   "cell_type": "code",
   "execution_count": 39,
   "id": "ac3ee21a",
   "metadata": {},
   "outputs": [
    {
     "data": {
      "image/png": "[encoded data removed]",
      "text/plain": [
       "<Figure size 432x288 with 1 Axes>"
      ]
     },
     "metadata": {
      "needs_background": "light"
     },
     "output_type": "display_data"
    }
   ],
   "source": [
    "fig, ax = plt.subplots()\n",
    "\n",
    "xs2 = kmeans_df.loc[:, 'count_order']\n",
    "ys2 = kmeans_df.loc[:, 'total_spending']\n",
    "axscatter = ax.scatter(xs2, ys2, c=y, cmap='gist_rainbow')\n",
    "\n",
    "# produce a legend with the unique colors from the scatter\n",
    "legend1 = ax.legend(*axscatter.legend_elements(), title=\"Clusters\")\n",
    "ax.add_artist(legend1)\n",
    "\n",
    "ax.set_title('K-Means Clustering Result')\n",
    "ax.set_xlabel('count_order')\n",
    "ax.set_ylabel('total_spending')\n",
    "\n",
    "plt.show()"
   ]
  },
  {
   "cell_type": "markdown",
   "id": "56d76b2c",
   "metadata": {},
   "source": [
    "## Remove Similar Feature Values"
   ]
  },
  {
   "cell_type": "code",
   "execution_count": 33,
   "id": "b439f41c",
   "metadata": {},
   "outputs": [],
   "source": [
    "_df = df.copy()"
   ]
  },
  {
   "cell_type": "code",
   "execution_count": 34,
   "id": "c7a07872",
   "metadata": {},
   "outputs": [],
   "source": [
    "def encode(row):\n",
    "    return \"{:.5f}{:.5f}{:.5f}\".format(\n",
    "            row['last_order_days'],\n",
    "            row['count_order'],\n",
    "            row['total_spending'])"
   ]
  },
  {
   "cell_type": "code",
   "execution_count": 35,
   "id": "89e21228",
   "metadata": {},
   "outputs": [],
   "source": [
    "_df['_val'] = _df.apply(lambda row: encode(row), axis=1)"
   ]
  },
  {
   "cell_type": "code",
   "execution_count": 36,
   "id": "18e34fab",
   "metadata": {},
   "outputs": [],
   "source": [
    "_df1 = _df.drop_duplicates(subset=['_val'])\n",
    "_df1.info()"
   ]
  },
  {
   "cell_type": "markdown",
   "id": "174d2fe9",
   "metadata": {},
   "source": [
    "## K-Medoids"
   ]
  },
  {
   "cell_type": "code",
   "execution_count": 37,
   "id": "8fdbc25a",
   "metadata": {
    "tags": []
   },
   "outputs": [],
   "source": [
    "from sklearn_extra.cluster import KMedoids"
   ]
  },
  {
   "cell_type": "code",
   "execution_count": 38,
   "id": "8596936c",
   "metadata": {},
   "outputs": [
    {
     "name": "stdout",
     "output_type": "stream",
     "text": [
      "<class 'pandas.core.frame.DataFrame'>\n",
      "Int64Index: 66883 entries, 0 to 94981\n",
      "Data columns (total 3 columns):\n",
      " #   Column           Non-Null Count  Dtype  \n",
      "---  ------           --------------  -----  \n",
      " 0   last_order_days  66883 non-null  float64\n",
      " 1   count_order      66883 non-null  float64\n",
      " 2   total_spending   66883 non-null  float64\n",
      "dtypes: float64(3)\n",
      "memory usage: 2.0 MB\n"
     ]
    }
   ],
   "source": [
    "_df1 = _df.loc[:, ['last_order_days', 'count_order', 'total_spending']]\n",
    "_df1.info()"
   ]
  },
  {
   "cell_type": "code",
   "execution_count": 46,
   "id": "b783cc18",
   "metadata": {},
   "outputs": [],
   "source": [
    "# n_cluster = []\n",
    "# inertia_values = []\n",
    "\n",
    "# for i in range(3,8):\n",
    "#     kmedoids = KMedoids(n_clusters=i, random_state=111)\n",
    "#     y = kmedoids.fit_predict(_df1)\n",
    "#     n_cluster.append(i)\n",
    "#     inertia_values.append(kmedoids.inertia_)\n",
    "\n",
    "# fig, ax = plt.subplots()\n",
    "\n",
    "# ax.plot(n_cluster, inertia_values)\n",
    "# ax.set_title('Within cluster sum of squared distance vs cluster size')\n",
    "# ax.set_xlabel('n Cluster')\n",
    "# ax.set_ylabel('Sum of squared distance to cluster center')\n",
    "\n",
    "# plt.show()"
   ]
  },
  {
   "cell_type": "markdown",
   "id": "b754fb23",
   "metadata": {},
   "source": [
    "### Training Model"
   ]
  },
  {
   "cell_type": "code",
   "execution_count": 47,
   "id": "32acc8aa",
   "metadata": {},
   "outputs": [],
   "source": [
    "kmedoids = KMedoids(n_clusters=6, metric='euclidean', init='k-medoids++', method='alternate')\n",
    "y = kmedoids.fit_predict(_df1)"
   ]
  },
  {
   "cell_type": "markdown",
   "id": "2e7f85e4",
   "metadata": {},
   "source": [
    "### K-Medoids Evaluation"
   ]
  },
  {
   "cell_type": "code",
   "execution_count": 48,
   "id": "55ac68e3",
   "metadata": {},
   "outputs": [
    {
     "data": {
      "text/plain": [
       "0.49506468514115015"
      ]
     },
     "execution_count": 48,
     "metadata": {},
     "output_type": "execute_result"
    }
   ],
   "source": [
    "sc = silhouette_score(_df1, y, metric='euclidean')\n",
    "sc"
   ]
  },
  {
   "cell_type": "code",
   "execution_count": 49,
   "id": "5419e566",
   "metadata": {},
   "outputs": [
    {
     "data": {
      "text/plain": [
       "2646.8061981907686"
      ]
     },
     "execution_count": 49,
     "metadata": {},
     "output_type": "execute_result"
    }
   ],
   "source": [
    "kmedoids.inertia_"
   ]
  },
  {
   "cell_type": "code",
   "execution_count": 50,
   "id": "145f768a",
   "metadata": {},
   "outputs": [
    {
     "data": {
      "image/png": "[encoded data removed]",
      "text/plain": [
       "<Figure size 432x288 with 1 Axes>"
      ]
     },
     "metadata": {
      "needs_background": "light"
     },
     "output_type": "display_data"
    }
   ],
   "source": [
    "kmedoids_df = _df1.copy()\n",
    "\n",
    "fig = plt.figure()\n",
    "ax = fig.add_subplot(111, projection='3d')\n",
    "\n",
    "xs = kmedoids_df.loc[:, 'last_order_days']\n",
    "ys = kmedoids_df.loc[:, 'count_order']\n",
    "zs = kmedoids_df.loc[:, 'total_spending']\n",
    "axscatter = ax.scatter(xs, ys, zs, c=y, cmap='gist_rainbow')\n",
    "\n",
    "# produce a legend with the unique colors from the scatter\n",
    "legend1 = ax.legend(*axscatter.legend_elements(),\n",
    "                    bbox_to_anchor=(1.4, -0.1),\n",
    "                    loc='lower right', title=\"Clusters\")\n",
    "ax.add_artist(legend1)\n",
    "\n",
    "ax.set_title('K-Medoids Clustering Result')\n",
    "ax.set_xlabel('\\nlast_order_days', linespacing=2.3)\n",
    "ax.set_ylabel('\\ncount_order', linespacing=2.3)\n",
    "ax.set_zlabel('\\ntotal_spending', linespacing=2.3)\n",
    "\n",
    "plt.show()"
   ]
  },
  {
   "cell_type": "code",
   "execution_count": 51,
   "id": "8fc1b2fa",
   "metadata": {},
   "outputs": [
    {
     "data": {
      "image/png": "[encoded data removed]",
      "text/plain": [
       "<Figure size 432x288 with 1 Axes>"
      ]
     },
     "metadata": {
      "needs_background": "light"
     },
     "output_type": "display_data"
    }
   ],
   "source": [
    "fig, ax = plt.subplots()\n",
    "\n",
    "xs2 = kmedoids_df.loc[:, 'count_order']\n",
    "ys2 = kmedoids_df.loc[:, 'total_spending']\n",
    "axscatter = ax.scatter(xs2, ys2, c=y, cmap='gist_rainbow')\n",
    "\n",
    "# produce a legend with the unique colors from the scatter\n",
    "legend1 = ax.legend(*axscatter.legend_elements(), title=\"Clusters\")\n",
    "ax.add_artist(legend1)\n",
    "\n",
    "ax.set_title('K-Medoids Clustering Result')\n",
    "ax.set_xlabel('count_order')\n",
    "ax.set_ylabel('total_spending')\n",
    "\n",
    "plt.show()"
   ]
  },
  {
   "cell_type": "markdown",
   "id": "e5f289b4",
   "metadata": {},
   "source": [
    "## Hierarchical Clustering"
   ]
  },
  {
   "cell_type": "markdown",
   "id": "943c61b6",
   "metadata": {},
   "source": [
    "### Remove Similar Feature Values custom for HC"
   ]
  },
  {
   "cell_type": "code",
   "execution_count": 33,
   "id": "dd21ca9f",
   "metadata": {},
   "outputs": [],
   "source": [
    "_df = df.copy()"
   ]
  },
  {
   "cell_type": "code",
   "execution_count": 34,
   "id": "9c08cc38",
   "metadata": {},
   "outputs": [],
   "source": [
    "def encode(row):\n",
    "    return \"{:.3f}{:.3f}{:.3f}\".format(\n",
    "            row['last_order_days'],\n",
    "            row['count_order'],\n",
    "            row['total_spending'])"
   ]
  },
  {
   "cell_type": "code",
   "execution_count": 35,
   "id": "0174b655",
   "metadata": {},
   "outputs": [],
   "source": [
    "_df['_val'] = _df.apply(lambda row: encode(row), axis=1)"
   ]
  },
  {
   "cell_type": "code",
   "execution_count": 36,
   "id": "5723ccee",
   "metadata": {},
   "outputs": [],
   "source": [
    "_df1 = _df.drop_duplicates(subset=['_val'])"
   ]
  },
  {
   "cell_type": "code",
   "execution_count": 37,
   "id": "47e7d72f",
   "metadata": {},
   "outputs": [
    {
     "name": "stdout",
     "output_type": "stream",
     "text": [
      "<class 'pandas.core.frame.DataFrame'>\n",
      "Int64Index: 20250 entries, 0 to 94981\n",
      "Data columns (total 3 columns):\n",
      " #   Column           Non-Null Count  Dtype  \n",
      "---  ------           --------------  -----  \n",
      " 0   last_order_days  20250 non-null  float64\n",
      " 1   count_order      20250 non-null  float64\n",
      " 2   total_spending   20250 non-null  float64\n",
      "dtypes: float64(3)\n",
      "memory usage: 632.8 KB\n"
     ]
    }
   ],
   "source": [
    "_df1 = _df1.loc[:, ['last_order_days', 'count_order', 'total_spending']]\n",
    "_df1.info()"
   ]
  },
  {
   "cell_type": "code",
   "execution_count": 38,
   "id": "7fb85376",
   "metadata": {},
   "outputs": [],
   "source": [
    "from scipy.cluster.hierarchy import dendrogram, linkage\n",
    "from scipy.cluster.hierarchy import fcluster\n",
    "from scipy.cluster.hierarchy import cophenet\n",
    "from scipy.spatial.distance import pdist"
   ]
  },
  {
   "cell_type": "code",
   "execution_count": 39,
   "id": "66aca3fa",
   "metadata": {},
   "outputs": [],
   "source": [
    "_df2 = _df1.copy()\n",
    "_df2 = _df1.loc[:, ['last_order_days', 'count_order', 'total_spending']]\n",
    "X = _df2.to_numpy()"
   ]
  },
  {
   "cell_type": "code",
   "execution_count": 40,
   "id": "26f56386",
   "metadata": {},
   "outputs": [
    {
     "data": {
      "text/plain": [
       "(20250, 3)"
      ]
     },
     "execution_count": 40,
     "metadata": {},
     "output_type": "execute_result"
    }
   ],
   "source": [
    "X.shape"
   ]
  },
  {
   "cell_type": "markdown",
   "id": "b6fec4b8",
   "metadata": {},
   "source": [
    "### Training Model"
   ]
  },
  {
   "cell_type": "code",
   "execution_count": 41,
   "id": "a20c152a",
   "metadata": {},
   "outputs": [],
   "source": [
    "Z = linkage(X, method='median', metric='euclidean')"
   ]
  },
  {
   "cell_type": "code",
   "execution_count": 42,
   "id": "cab0f355",
   "metadata": {},
   "outputs": [
    {
     "data": {
      "text/plain": [
       "0.6690720309498501"
      ]
     },
     "execution_count": 42,
     "metadata": {},
     "output_type": "execute_result"
    }
   ],
   "source": [
    "c, coph_dists = cophenet(Z, pdist(X, metric='euclidean'))\n",
    "c"
   ]
  },
  {
   "cell_type": "code",
   "execution_count": 43,
   "id": "9eccce89",
   "metadata": {},
   "outputs": [
    {
     "data": {
      "image/png": "[encoded data removed]",
      "text/plain": [
       "<Figure size 432x288 with 1 Axes>"
      ]
     },
     "metadata": {
      "needs_background": "light"
     },
     "output_type": "display_data"
    }
   ],
   "source": [
    "plt.title('Hierarchical Clustering Dendrogram')\n",
    "plt.xlabel('sample index')\n",
    "plt.ylabel('distance')\n",
    "dendrogram(\n",
    "    Z,\n",
    "    truncate_mode='lastp',\n",
    "    p=12,\n",
    "    leaf_rotation=90.,  # rotates the x axis labels\n",
    "    leaf_font_size=12.,  # font size for the x axis labels\n",
    "    show_contracted=True,\n",
    ")\n",
    "plt.show()"
   ]
  },
  {
   "cell_type": "code",
   "execution_count": 44,
   "id": "2a285558",
   "metadata": {},
   "outputs": [],
   "source": [
    "def fancy_dendrogram(*args, **kwargs):\n",
    "    max_d = kwargs.pop('max_d', None)\n",
    "    if max_d and 'color_threshold' not in kwargs:\n",
    "        kwargs['color_threshold'] = max_d\n",
    "    annotate_above = kwargs.pop('annotate_above', 0)\n",
    "\n",
    "    ddata = dendrogram(*args, **kwargs)\n",
    "\n",
    "    if not kwargs.get('no_plot', False):\n",
    "        plt.title('Hierarchical Clustering Dendrogram (truncated)')\n",
    "        plt.xlabel('sample index or (cluster size)')\n",
    "        plt.ylabel('distance')\n",
    "        for i, d, c in zip(ddata['icoord'], ddata['dcoord'], ddata['color_list']):\n",
    "            x = 0.5 * sum(i[1:3])\n",
    "            y = d[1]\n",
    "            if y > annotate_above:\n",
    "                plt.plot(x, y, 'o', c=c)\n",
    "                plt.annotate(\"%.3g\" % y, (x, y), xytext=(0, -5),\n",
    "                             textcoords='offset points',\n",
    "                             va='top', ha='center')\n",
    "        if max_d:\n",
    "            plt.axhline(y=max_d, c='k')\n",
    "    return ddata"
   ]
  },
  {
   "cell_type": "code",
   "execution_count": 45,
   "id": "27527cf4",
   "metadata": {},
   "outputs": [
    {
     "data": {
      "image/png": "[encoded data removed]",
      "text/plain": [
       "<Figure size 432x288 with 1 Axes>"
      ]
     },
     "metadata": {
      "needs_background": "light"
     },
     "output_type": "display_data"
    }
   ],
   "source": [
    "fancy_dendrogram(\n",
    "    Z,\n",
    "    truncate_mode='lastp',\n",
    "    p=12,\n",
    "    leaf_rotation=90.,\n",
    "    leaf_font_size=12.,\n",
    "    show_contracted=True,\n",
    "    annotate_above=10,  # useful in small plots so annotations don't overlap\n",
    ")\n",
    "plt.show()"
   ]
  },
  {
   "cell_type": "code",
   "execution_count": 46,
   "id": "dcc0d806",
   "metadata": {},
   "outputs": [
    {
     "data": {
      "image/png": "[encoded data removed]",
      "text/plain": [
       "<Figure size 432x288 with 1 Axes>"
      ]
     },
     "metadata": {
      "needs_background": "light"
     },
     "output_type": "display_data"
    }
   ],
   "source": [
    "fancy_dendrogram(\n",
    "    Z,\n",
    "    truncate_mode='lastp',\n",
    "    p=12,\n",
    "    leaf_rotation=90.,\n",
    "    leaf_font_size=12.,\n",
    "    show_contracted=True,\n",
    "    annotate_above=10,\n",
    "    max_d=0.35,  # plot a horizontal cut-off line\n",
    ")\n",
    "plt.show()"
   ]
  },
  {
   "cell_type": "code",
   "execution_count": 47,
   "id": "74c350e0",
   "metadata": {},
   "outputs": [
    {
     "data": {
      "text/plain": [
       "array([4, 4, 4, ..., 4, 3, 4], dtype=int32)"
      ]
     },
     "execution_count": 47,
     "metadata": {},
     "output_type": "execute_result"
    }
   ],
   "source": [
    "from scipy.cluster.hierarchy import fcluster\n",
    "max_d = 0.35\n",
    "clusters = fcluster(Z, max_d, criterion='distance')\n",
    "clusters"
   ]
  },
  {
   "cell_type": "code",
   "execution_count": 48,
   "id": "161ad6ff",
   "metadata": {},
   "outputs": [
    {
     "data": {
      "image/png": "[encoded data removed]",
      "text/plain": [
       "<Figure size 432x288 with 1 Axes>"
      ]
     },
     "metadata": {
      "needs_background": "light"
     },
     "output_type": "display_data"
    }
   ],
   "source": [
    "fig = plt.figure()\n",
    "ax = fig.add_subplot(111, projection='3d')\n",
    "\n",
    "axscatter = ax.scatter(X[:,0], X[:,1], X[:,2], c=clusters, cmap='gist_rainbow')\n",
    "\n",
    "# produce a legend with the unique colors from the scatter\n",
    "legend1 = ax.legend(*axscatter.legend_elements(),\n",
    "                    bbox_to_anchor=(1.4, -0.1),\n",
    "                    loc='lower right', title=\"Clusters\")\n",
    "ax.add_artist(legend1)\n",
    "\n",
    "ax.set_title('Hierarchical Clustering Result')\n",
    "ax.set_xlabel('\\nlast_order_days', linespacing=2.0)\n",
    "ax.set_ylabel('\\ncount_order', linespacing=2.0)\n",
    "ax.set_zlabel('\\ntotal_spending', linespacing=2.0)\n",
    "\n",
    "plt.show()"
   ]
  },
  {
   "cell_type": "code",
   "execution_count": 49,
   "id": "b907d5b3",
   "metadata": {},
   "outputs": [
    {
     "data": {
      "image/png": "[encoded data removed]",
      "text/plain": [
       "<Figure size 432x288 with 1 Axes>"
      ]
     },
     "metadata": {
      "needs_background": "light"
     },
     "output_type": "display_data"
    }
   ],
   "source": [
    "fig, ax = plt.subplots()\n",
    "\n",
    "axscatter = ax.scatter(X[:,0], X[:,2], c=clusters, cmap='gist_rainbow')\n",
    "\n",
    "# produce a legend with the unique colors from the scatter\n",
    "legend1 = ax.legend(*axscatter.legend_elements(), title=\"Clusters\")\n",
    "ax.add_artist(legend1)\n",
    "\n",
    "ax.set_title('Hierarchical Clustering Result')\n",
    "ax.set_xlabel('count_order')\n",
    "ax.set_ylabel('total_spending')\n",
    "\n",
    "plt.show()"
   ]
  },
  {
   "cell_type": "code",
   "execution_count": 50,
   "id": "297391c4",
   "metadata": {},
   "outputs": [
    {
     "data": {
      "text/plain": [
       "0.31170166663590493"
      ]
     },
     "execution_count": 50,
     "metadata": {},
     "output_type": "execute_result"
    }
   ],
   "source": [
    "sc = silhouette_score(X, clusters, metric='euclidean')\n",
    "sc"
   ]
  },
  {
   "cell_type": "code",
   "execution_count": 69,
   "id": "52c595ed",
   "metadata": {},
   "outputs": [],
   "source": [
    "def summarize_cluster_result(original_df):\n",
    "    before_dedup = original_df.copy()\n",
    "    after_dedup = before_dedup.drop_duplicates(subset=['_val'])\n",
    "    after_dedup.loc[:, 'cluster'] = clusters\n",
    "    \n",
    "    before_dedup_clusters = []\n",
    "\n",
    "    for _, row in before_dedup.iterrows():\n",
    "        _v = \"{:.3f}{:.3f}{:.3f}\".format(\n",
    "                row['last_order_days'],\n",
    "                row['count_order'],\n",
    "                row['total_spending'])\n",
    "        cluster = after_dedup[after_dedup[\"_val\"] == _v].iloc[0, 4]\n",
    "        before_dedup_clusters.append(cluster)\n",
    "\n",
    "    final_df = df.copy()\n",
    "    final_df.loc[:, 'cluster'] = before_dedup_clusters\n",
    "    final_df.loc[:, 'id'] = final_df.index\n",
    "    \n",
    "    summarize_clusters = final_df.loc[:, ['id', 'cluster']] \\\n",
    "                            .groupby('cluster', as_index=False).count()\n",
    "    return summarize_clusters"
   ]
  },
  {
   "cell_type": "code",
   "execution_count": 70,
   "id": "de3a7527",
   "metadata": {},
   "outputs": [],
   "source": [
    "summarize_clusters = summarize_cluster_result(_df)"
   ]
  },
  {
   "cell_type": "markdown",
   "id": "f098fe20",
   "metadata": {},
   "source": [
    "### With max_d of 0.05"
   ]
  },
  {
   "cell_type": "code",
   "execution_count": null,
   "id": "882ea34b",
   "metadata": {},
   "outputs": [],
   "source": [
    "fancy_dendrogram(\n",
    "    Z,\n",
    "    truncate_mode='lastp',\n",
    "    p=12,\n",
    "    leaf_rotation=90.,\n",
    "    leaf_font_size=12.,\n",
    "    show_contracted=True,\n",
    "    annotate_above=10,\n",
    "    max_d=0.85,  # plot a horizontal cut-off line\n",
    ")\n",
    "plt.show()"
   ]
  },
  {
   "cell_type": "code",
   "execution_count": null,
   "id": "9f6b9254",
   "metadata": {},
   "outputs": [],
   "source": [
    "from scipy.cluster.hierarchy import fcluster\n",
    "max_d = 0.85\n",
    "clusters = fcluster(Z, max_d, criterion='distance')\n",
    "clusters"
   ]
  },
  {
   "cell_type": "code",
   "execution_count": null,
   "id": "aed7f3aa",
   "metadata": {},
   "outputs": [],
   "source": [
    "fig = plt.figure()\n",
    "ax = fig.add_subplot(111, projection='3d')\n",
    "\n",
    "axscatter = ax.scatter(X[:,0], X[:,1], X[:,2], c=clusters, cmap='gist_rainbow')\n",
    "\n",
    "# produce a legend with the unique colors from the scatter\n",
    "legend1 = ax.legend(*axscatter.legend_elements(),\n",
    "                    bbox_to_anchor=(1.4, -0.1),\n",
    "                    loc='lower right', title=\"Clusters\")\n",
    "ax.add_artist(legend1)\n",
    "\n",
    "ax.set_title('Hierarchical Clustering Result')\n",
    "ax.set_xlabel('\\nlast_order_days', linespacing=2.0)\n",
    "ax.set_ylabel('\\ncount_order', linespacing=2.0)\n",
    "ax.set_zlabel('\\ntotal_spending', linespacing=2.0)\n",
    "\n",
    "plt.show()"
   ]
  },
  {
   "cell_type": "code",
   "execution_count": null,
   "id": "fcea206b",
   "metadata": {},
   "outputs": [],
   "source": [
    "fig, ax = plt.subplots()\n",
    "\n",
    "axscatter = ax.scatter(X[:,0], X[:,2], c=clusters, cmap='gist_rainbow')\n",
    "\n",
    "# produce a legend with the unique colors from the scatter\n",
    "legend1 = ax.legend(*axscatter.legend_elements(), title=\"Clusters\")\n",
    "ax.add_artist(legend1)\n",
    "\n",
    "ax.set_title('Hierarchical Clustering Result')\n",
    "ax.set_xlabel('count_order')\n",
    "ax.set_ylabel('total_spending')\n",
    "\n",
    "plt.show()"
   ]
  },
  {
   "cell_type": "markdown",
   "id": "87b084fc",
   "metadata": {},
   "source": [
    "### Hierarchical Clustering Evaluation"
   ]
  },
  {
   "cell_type": "code",
   "execution_count": null,
   "id": "a4116ccc",
   "metadata": {},
   "outputs": [],
   "source": [
    "sc = silhouette_score(X, clusters, metric='euclidean')\n",
    "sc"
   ]
  }
 ],
 "metadata": {
  "environment": {
   "name": "common-cpu.m78",
   "type": "gcloud",
   "uri": "gcr.io/deeplearning-platform-release/base-cpu:m78"
  },
  "kernelspec": {
   "display_name": "Python 3",
   "language": "python",
   "name": "python3"
  },
  "language_info": {
   "codemirror_mode": {
    "name": "ipython",
    "version": 3
   },
   "file_extension": ".py",
   "mimetype": "text/x-python",
   "name": "python",
   "nbconvert_exporter": "python",
   "pygments_lexer": "ipython3",
   "version": "3.7.10"
  },
  "metadata": {
   "interpreter": {
    "hash": "0d8c79cc0ea28e50b778542a6847c2b9bbd6ab54e304fdb2a541bbf9346a32c2"
   }
  }
 },
 "nbformat": 4,
 "nbformat_minor": 5
}
